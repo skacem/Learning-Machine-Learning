{
 "cells": [
  {
   "cell_type": "markdown",
   "id": "b9b567e9-4b06-48c2-94a2-e1dbc8b7a6fc",
   "metadata": {},
   "source": [
    "# Decision Tree: Classification\n",
    "\n",
    "We will use the `DecisionTreeClassifier` estimator from the scikit-learn `tree` module. This estimator will construct, by default, a tree from a training data set. This estimator accepts a number of hyperparameters, including: `criterion`, `max_depth`, `min_samples_split`, `min_samples_leaf`, `max_features`, etc..."
   ]
  },
  {
   "cell_type": "code",
   "execution_count": 1,
   "id": "68db26c8-3c45-4803-a44e-b6bc75da6ecf",
   "metadata": {},
   "outputs": [],
   "source": [
    "# Standard imports\n",
    "import numpy as np\n",
    "import pandas as pd\n",
    "import matplotlib.pyplot as plt\n",
    "import seaborn as sns\n",
    "import warnings"
   ]
  },
  {
   "cell_type": "code",
   "execution_count": 2,
   "id": "b85e2627-537c-464b-b8c5-afa04fd86486",
   "metadata": {},
   "outputs": [],
   "source": [
    "# Set up Notebook\n",
    "%matplotlib inline\n",
    "warnings.filterwarnings('ignore')\n",
    "sns.set_style('white')"
   ]
  },
  {
   "cell_type": "code",
   "execution_count": 3,
   "id": "5f6f331a-06bb-4b46-b7c0-e497ca2ef065",
   "metadata": {},
   "outputs": [],
   "source": [
    "# Notebook specific imports\n",
    "from sklearn.tree import DecisionTreeClassifier\n",
    "from sklearn.metrics import classification_report"
   ]
  },
  {
   "cell_type": "markdown",
   "id": "e8fe7249-4e15-417f-9efc-fc554cb17bee",
   "metadata": {},
   "source": [
    "We can now apply the Decision Tree algorithm to the Iris data to create a classification model. The basic approach is simple, and follows the standard scikit-learn estimator philosophy:\n",
    "\n",
    "1. Import our estimator, `DecisionTreeClassifier`.\n",
    "2. Create the estimator and specify the appropriate hyperparameters.\n",
    "3. Fit the model to the training data, note that we have to load the Iris data, split the data into training and testing sets, and scale all data by first normalizing the training data. Although this last step is not required for a decision tree.\n",
    "4. Predict new classes with our trained model (or in the simple demonstration below, generate a performance metric via the `score` method).\n",
    "\n",
    "These steps are demonstrated in the following code cells:"
   ]
  },
  {
   "cell_type": "code",
   "execution_count": null,
   "id": "58f2b1e1-a7c1-4ab8-8485-0cc70cd83ff7",
   "metadata": {},
   "outputs": [],
   "source": []
  }
 ],
 "metadata": {
  "kernelspec": {
   "display_name": "Python 3",
   "language": "python",
   "name": "python3"
  },
  "language_info": {
   "codemirror_mode": {
    "name": "ipython",
    "version": 3
   },
   "file_extension": ".py",
   "mimetype": "text/x-python",
   "name": "python",
   "nbconvert_exporter": "python",
   "pygments_lexer": "ipython3",
   "version": "3.6.13"
  }
 },
 "nbformat": 4,
 "nbformat_minor": 5
}
