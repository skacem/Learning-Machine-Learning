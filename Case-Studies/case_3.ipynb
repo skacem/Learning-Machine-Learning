{
 "cells": [
  {
   "cell_type": "markdown",
   "id": "e637f474-58ea-459c-99a3-b6ab771c931c",
   "metadata": {},
   "source": [
    "# Employee Retention Prediction\n",
    "\n",
    "## Understand the problem statement and  business case\n",
    "\n",
    "Recruiting and retaining the right employees is a challenging task that requires capital, time and expertise [1](https://toggl.com/blog/cost-of-hiring-an-employee):\n",
    "\n",
    "* An average company loses anywhere between 1% and 2.5% of their total revenue on the time it takes to bring a new hire up to speed. \n",
    "* Hiring a new employee in SME costs an average of \\\\$4100 with around 52 days to fill  a position.\n",
    "* It costs around \\\\$300 per month to advertise a single job position on one of the major job boards"
   ]
  },
  {
   "cell_type": "code",
   "execution_count": null,
   "id": "63cecf72-15e9-4e55-9571-a57788fd899f",
   "metadata": {},
   "outputs": [],
   "source": []
  }
 ],
 "metadata": {
  "kernelspec": {
   "display_name": "Python 3 (ipykernel)",
   "language": "python",
   "name": "python3"
  },
  "language_info": {
   "codemirror_mode": {
    "name": "ipython",
    "version": 3
   },
   "file_extension": ".py",
   "mimetype": "text/x-python",
   "name": "python",
   "nbconvert_exporter": "python",
   "pygments_lexer": "ipython3",
   "version": "3.9.7"
  }
 },
 "nbformat": 4,
 "nbformat_minor": 5
}
