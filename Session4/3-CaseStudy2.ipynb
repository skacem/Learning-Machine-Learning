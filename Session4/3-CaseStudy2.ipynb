{
 "cells": [
  {
   "cell_type": "markdown",
   "id": "4e0963df-3704-4993-8291-76fc7ec9f71f",
   "metadata": {},
   "source": [
    "# Case Study: Tips Data\n",
    "\n",
    "O-ring data was informative but with a small number of features and instances. This data set has 224 instances and seven features."
   ]
  },
  {
   "cell_type": "code",
   "execution_count": 2,
   "id": "018419fe-5a9c-4eee-9985-329a539ec64c",
   "metadata": {},
   "outputs": [],
   "source": [
    "# Standard imports\n",
    "import pandas as pd\n",
    "import numpy as np\n",
    "import matplotlib.pyplot as plt\n",
    "import seaborn as sns\n",
    "import warnings\n"
   ]
  },
  {
   "cell_type": "code",
   "execution_count": 3,
   "id": "014d7b4c-f14b-472e-9624-6c3acafe6982",
   "metadata": {},
   "outputs": [],
   "source": [
    "# Set up Notebook\n",
    "\n",
    "%matplotlib inline\n",
    "# We do this to ignore several specific warnings\n",
    "warnings.filterwarnings(\"ignore\")\n",
    "\n",
    "# deactivate jedi for faster autocomplete\n",
    "%config Completer.use_jedi = False\n",
    "\n",
    "# plot styles\n",
    "sns.set(style=\"white\")"
   ]
  },
  {
   "cell_type": "code",
   "execution_count": 4,
   "id": "ba56f896-9c51-41a0-87c0-9b303b8054df",
   "metadata": {},
   "outputs": [
    {
     "data": {
      "text/html": [
       "<div>\n",
       "<style scoped>\n",
       "    .dataframe tbody tr th:only-of-type {\n",
       "        vertical-align: middle;\n",
       "    }\n",
       "\n",
       "    .dataframe tbody tr th {\n",
       "        vertical-align: top;\n",
       "    }\n",
       "\n",
       "    .dataframe thead th {\n",
       "        text-align: right;\n",
       "    }\n",
       "</style>\n",
       "<table border=\"1\" class=\"dataframe\">\n",
       "  <thead>\n",
       "    <tr style=\"text-align: right;\">\n",
       "      <th></th>\n",
       "      <th>total_bill</th>\n",
       "      <th>tip</th>\n",
       "      <th>sex</th>\n",
       "      <th>smoker</th>\n",
       "      <th>day</th>\n",
       "      <th>time</th>\n",
       "      <th>size</th>\n",
       "    </tr>\n",
       "  </thead>\n",
       "  <tbody>\n",
       "    <tr>\n",
       "      <th>94</th>\n",
       "      <td>22.75</td>\n",
       "      <td>3.25</td>\n",
       "      <td>Female</td>\n",
       "      <td>No</td>\n",
       "      <td>Fri</td>\n",
       "      <td>Dinner</td>\n",
       "      <td>2</td>\n",
       "    </tr>\n",
       "    <tr>\n",
       "      <th>51</th>\n",
       "      <td>10.29</td>\n",
       "      <td>2.60</td>\n",
       "      <td>Female</td>\n",
       "      <td>No</td>\n",
       "      <td>Sun</td>\n",
       "      <td>Dinner</td>\n",
       "      <td>2</td>\n",
       "    </tr>\n",
       "    <tr>\n",
       "      <th>177</th>\n",
       "      <td>14.48</td>\n",
       "      <td>2.00</td>\n",
       "      <td>Male</td>\n",
       "      <td>Yes</td>\n",
       "      <td>Sun</td>\n",
       "      <td>Dinner</td>\n",
       "      <td>2</td>\n",
       "    </tr>\n",
       "    <tr>\n",
       "      <th>71</th>\n",
       "      <td>17.07</td>\n",
       "      <td>3.00</td>\n",
       "      <td>Female</td>\n",
       "      <td>No</td>\n",
       "      <td>Sat</td>\n",
       "      <td>Dinner</td>\n",
       "      <td>3</td>\n",
       "    </tr>\n",
       "    <tr>\n",
       "      <th>198</th>\n",
       "      <td>13.00</td>\n",
       "      <td>2.00</td>\n",
       "      <td>Female</td>\n",
       "      <td>Yes</td>\n",
       "      <td>Thur</td>\n",
       "      <td>Lunch</td>\n",
       "      <td>2</td>\n",
       "    </tr>\n",
       "  </tbody>\n",
       "</table>\n",
       "</div>"
      ],
      "text/plain": [
       "     total_bill   tip     sex smoker   day    time  size\n",
       "94        22.75  3.25  Female     No   Fri  Dinner     2\n",
       "51        10.29  2.60  Female     No   Sun  Dinner     2\n",
       "177       14.48  2.00    Male    Yes   Sun  Dinner     2\n",
       "71        17.07  3.00  Female     No   Sat  Dinner     3\n",
       "198       13.00  2.00  Female    Yes  Thur   Lunch     2"
      ]
     },
     "execution_count": 4,
     "metadata": {},
     "output_type": "execute_result"
    }
   ],
   "source": [
    "# Load tips data set\n",
    "tdf = sns.load_dataset('tips')\n",
    "\n",
    "# Display several random rows\n",
    "tdf.sample(5)"
   ]
  },
  {
   "cell_type": "markdown",
   "id": "d71f88a5-cbcf-4d1f-ba5e-b14b1f8e12d9",
   "metadata": {},
   "source": [
    "To perform regression on the numeric features, we need both the numerical features and a target feature.\n",
    "\n",
    "In this example, we will predict if a patron is a smoker or not based solely on the tree numerical features. "
   ]
  },
  {
   "cell_type": "markdown",
   "id": "7551e4c5-614a-45d1-b4af-0a941a8760fc",
   "metadata": {},
   "source": [
    "First we start by by extracting the numerical features into a new df (for the independent variables):"
   ]
  },
  {
   "cell_type": "code",
   "execution_count": 5,
   "id": "0b7ec4d6-e131-4a73-af31-1302f5a85ae1",
   "metadata": {},
   "outputs": [
    {
     "data": {
      "text/plain": [
       "0.0    151\n",
       "1.0     93\n",
       "Name: smoker, dtype: int64"
      ]
     },
     "execution_count": 5,
     "metadata": {},
     "output_type": "execute_result"
    }
   ],
   "source": [
    "# Extract dependent variable:\n",
    "labels = (tdf.smoker == 'Yes').astype(float)\n",
    "labels.value_counts()"
   ]
  },
  {
   "cell_type": "code",
   "execution_count": 6,
   "id": "c6fc4d56-797a-4a54-9dad-469b9469b2fb",
   "metadata": {},
   "outputs": [
    {
     "data": {
      "text/html": [
       "<div>\n",
       "<style scoped>\n",
       "    .dataframe tbody tr th:only-of-type {\n",
       "        vertical-align: middle;\n",
       "    }\n",
       "\n",
       "    .dataframe tbody tr th {\n",
       "        vertical-align: top;\n",
       "    }\n",
       "\n",
       "    .dataframe thead th {\n",
       "        text-align: right;\n",
       "    }\n",
       "</style>\n",
       "<table border=\"1\" class=\"dataframe\">\n",
       "  <thead>\n",
       "    <tr style=\"text-align: right;\">\n",
       "      <th></th>\n",
       "      <th>total_bill</th>\n",
       "      <th>tip</th>\n",
       "      <th>size</th>\n",
       "    </tr>\n",
       "  </thead>\n",
       "  <tbody>\n",
       "    <tr>\n",
       "      <th>15</th>\n",
       "      <td>21.58</td>\n",
       "      <td>3.92</td>\n",
       "      <td>2</td>\n",
       "    </tr>\n",
       "    <tr>\n",
       "      <th>240</th>\n",
       "      <td>27.18</td>\n",
       "      <td>2.00</td>\n",
       "      <td>2</td>\n",
       "    </tr>\n",
       "    <tr>\n",
       "      <th>153</th>\n",
       "      <td>24.55</td>\n",
       "      <td>2.00</td>\n",
       "      <td>4</td>\n",
       "    </tr>\n",
       "    <tr>\n",
       "      <th>134</th>\n",
       "      <td>18.26</td>\n",
       "      <td>3.25</td>\n",
       "      <td>2</td>\n",
       "    </tr>\n",
       "    <tr>\n",
       "      <th>206</th>\n",
       "      <td>26.59</td>\n",
       "      <td>3.41</td>\n",
       "      <td>3</td>\n",
       "    </tr>\n",
       "  </tbody>\n",
       "</table>\n",
       "</div>"
      ],
      "text/plain": [
       "     total_bill   tip  size\n",
       "15        21.58  3.92     2\n",
       "240       27.18  2.00     2\n",
       "153       24.55  2.00     4\n",
       "134       18.26  3.25     2\n",
       "206       26.59  3.41     3"
      ]
     },
     "execution_count": 6,
     "metadata": {},
     "output_type": "execute_result"
    }
   ],
   "source": [
    "# Extract numerical features as a df\n",
    "numerical = ['total_bill', 'tip', 'size']\n",
    "num_data = tdf[numerical]\n",
    "num_data.sample(5)"
   ]
  },
  {
   "cell_type": "markdown",
   "id": "df827f5a-f37e-4ca3-a6de-be9e7f7417fd",
   "metadata": {},
   "source": [
    "Given the independent and dependent variables, we are ready to construct our logistic regression model.\n",
    "\n",
    "First we need to separate the data into training and testing sets. This requires reshaping our `labels` array to be properly sized for the sicket-learn library estimators: (N, 1) numpy array, where N is `len(array)`:"
   ]
  },
  {
   "cell_type": "code",
   "execution_count": 7,
   "id": "468c6aa4-623b-46c0-94c5-90eb3d0b6e12",
   "metadata": {},
   "outputs": [],
   "source": [
    "# import sklearn training-test split function:\n",
    "from sklearn.model_selection import train_test_split\n",
    "\n",
    "# set the ratio of blind testing:\n",
    "frac = 0.25\n",
    "\n",
    "# Reshapte the label array:\n",
    "labels = labels.values.reshape(-1, 1)"
   ]
  },
  {
   "cell_type": "code",
   "execution_count": 8,
   "id": "7b594a27-b683-43b7-aa8f-17788ae6e154",
   "metadata": {},
   "outputs": [],
   "source": [
    "# create test/train splits:\n",
    "ind_train, ind_test, dep_train, dep_test = train_test_split(num_data,\n",
    "                                                           labels,\n",
    "                                                           stratify=labels,\n",
    "                                                           test_size=frac,\n",
    "                                                           random_state=23)"
   ]
  },
  {
   "cell_type": "code",
   "execution_count": 9,
   "id": "efe68633-8021-47b3-9656-fc0042cf71b6",
   "metadata": {},
   "outputs": [],
   "source": [
    "from sklearn.linear_model import LogisticRegression\n",
    "\n",
    "# create and fit a new LR model\n",
    "tips_model = LogisticRegression(C=1E6)\n",
    "tips_model.fit(ind_train, dep_train)\n",
    "\n",
    "# predict values\n",
    "predicted = tips_model.predict(ind_test)"
   ]
  },
  {
   "cell_type": "code",
   "execution_count": 10,
   "id": "5980f633-3b49-4e7b-bed9-b51ca86579ce",
   "metadata": {},
   "outputs": [
    {
     "name": "stdout",
     "output_type": "stream",
     "text": [
      "Smoker [Numeric only] classification score = 62.30%\n",
      "              precision    recall  f1-score   support\n",
      "\n",
      "         0.0       0.64      0.92      0.75        38\n",
      "         1.0       0.50      0.13      0.21        23\n",
      "\n",
      "    accuracy                           0.62        61\n",
      "   macro avg       0.57      0.53      0.48        61\n",
      "weighted avg       0.58      0.62      0.55        61\n",
      "\n"
     ]
    }
   ],
   "source": [
    "from sklearn.metrics import accuracy_score, classification_report\n",
    "\n",
    "score = 100.0 * accuracy_score(dep_test, predicted)\n",
    "print(f'Smoker [Numeric only] classification score = {score:4.2f}%')\n",
    "print(classification_report(dep_test, predicted))"
   ]
  },
  {
   "cell_type": "code",
   "execution_count": 11,
   "id": "2ffa5215-56e5-4ee0-a60d-a9c2a9b644bc",
   "metadata": {},
   "outputs": [
    {
     "data": {
      "image/png": "[encoded data removed]",
      "text/plain": [
       "<Figure size 432x288 with 2 Axes>"
      ]
     },
     "metadata": {},
     "output_type": "display_data"
    }
   ],
   "source": [
    "import mlplots as ml\n",
    "ml.confusion(dep_test.reshape(dep_test.shape[0]), \n",
    "             predicted, ['No', 'Yes'], 2, 'Smoker Classification [Numeric only]')"
   ]
  },
  {
   "cell_type": "markdown",
   "id": "265d6e10-bcdc-47cd-b8e1-09e991c9e205",
   "metadata": {},
   "source": [
    "In this simple example, our model provides a reasonable performance, except for the excess _false negatives_ where we over predict non-smokers to be smokers. While there are several techniques we could explore to improve the performance of this simple model, the easiest will be to include additional features in our model. This will require including categorical features in our model."
   ]
  },
  {
   "cell_type": "markdown",
   "id": "da52fe9c-e7cd-420d-a6ee-a2b3355e44ce",
   "metadata": {},
   "source": [
    "## LR: Categorical Features\n",
    "\n",
    "Admittedly, our attempt to predict whether a patron is a smoker or not, based solely on the data in the _tips_ data set, is ambitious. Even if the model fails to perform sufficiently well, we may gain insight into our data and the relationship between the features."
   ]
  },
  {
   "cell_type": "markdown",
   "id": "f5fee334-c7f7-43ff-bcc4-89ec7569076f",
   "metadata": {},
   "source": [
    "As a result, we now transition to include categorical features in the model. To accomplish this we need to transform the single categorical feature into multiple features that correspond to the different values available to each categorical feature. In the linear regression notebook, this was performed by using the `LabelBinarizer` in the scikit-learn library.\n",
    "\n",
    "Here we will use a different approach; the pandas library provides a `get_dummies` method that creates a new DataFrame from the categorical features in an existing DataFrame. A dummy feature is a binary feature that takes a value of `0` or `1` "
   ]
  },
  {
   "cell_type": "code",
   "execution_count": 12,
   "id": "2f3cc3db-c463-4cab-8a0e-68effcf5044c",
   "metadata": {},
   "outputs": [
    {
     "data": {
      "text/html": [
       "<div>\n",
       "<style scoped>\n",
       "    .dataframe tbody tr th:only-of-type {\n",
       "        vertical-align: middle;\n",
       "    }\n",
       "\n",
       "    .dataframe tbody tr th {\n",
       "        vertical-align: top;\n",
       "    }\n",
       "\n",
       "    .dataframe thead th {\n",
       "        text-align: right;\n",
       "    }\n",
       "</style>\n",
       "<table border=\"1\" class=\"dataframe\">\n",
       "  <thead>\n",
       "    <tr style=\"text-align: right;\">\n",
       "      <th></th>\n",
       "      <th>sex_Male</th>\n",
       "      <th>sex_Female</th>\n",
       "      <th>day_Thur</th>\n",
       "      <th>day_Fri</th>\n",
       "      <th>day_Sat</th>\n",
       "      <th>day_Sun</th>\n",
       "      <th>time_Lunch</th>\n",
       "      <th>time_Dinner</th>\n",
       "    </tr>\n",
       "  </thead>\n",
       "  <tbody>\n",
       "    <tr>\n",
       "      <th>159</th>\n",
       "      <td>1</td>\n",
       "      <td>0</td>\n",
       "      <td>0</td>\n",
       "      <td>0</td>\n",
       "      <td>0</td>\n",
       "      <td>1</td>\n",
       "      <td>0</td>\n",
       "      <td>1</td>\n",
       "    </tr>\n",
       "    <tr>\n",
       "      <th>237</th>\n",
       "      <td>1</td>\n",
       "      <td>0</td>\n",
       "      <td>0</td>\n",
       "      <td>0</td>\n",
       "      <td>1</td>\n",
       "      <td>0</td>\n",
       "      <td>0</td>\n",
       "      <td>1</td>\n",
       "    </tr>\n",
       "    <tr>\n",
       "      <th>37</th>\n",
       "      <td>0</td>\n",
       "      <td>1</td>\n",
       "      <td>0</td>\n",
       "      <td>0</td>\n",
       "      <td>1</td>\n",
       "      <td>0</td>\n",
       "      <td>0</td>\n",
       "      <td>1</td>\n",
       "    </tr>\n",
       "    <tr>\n",
       "      <th>232</th>\n",
       "      <td>1</td>\n",
       "      <td>0</td>\n",
       "      <td>0</td>\n",
       "      <td>0</td>\n",
       "      <td>1</td>\n",
       "      <td>0</td>\n",
       "      <td>0</td>\n",
       "      <td>1</td>\n",
       "    </tr>\n",
       "    <tr>\n",
       "      <th>205</th>\n",
       "      <td>0</td>\n",
       "      <td>1</td>\n",
       "      <td>1</td>\n",
       "      <td>0</td>\n",
       "      <td>0</td>\n",
       "      <td>0</td>\n",
       "      <td>1</td>\n",
       "      <td>0</td>\n",
       "    </tr>\n",
       "  </tbody>\n",
       "</table>\n",
       "</div>"
      ],
      "text/plain": [
       "     sex_Male  sex_Female  day_Thur  day_Fri  day_Sat  day_Sun  time_Lunch  \\\n",
       "159         1           0         0        0        0        1           0   \n",
       "237         1           0         0        0        1        0           0   \n",
       "37          0           1         0        0        1        0           0   \n",
       "232         1           0         0        0        1        0           0   \n",
       "205         0           1         1        0        0        0           1   \n",
       "\n",
       "     time_Dinner  \n",
       "159            1  \n",
       "237            1  \n",
       "37             1  \n",
       "232            1  \n",
       "205            0  "
      ]
     },
     "execution_count": 12,
     "metadata": {},
     "output_type": "execute_result"
    }
   ],
   "source": [
    "categorical = ['sex', 'day', 'time']\n",
    "\n",
    "cat_data = pd.get_dummies(tdf[categorical])\n",
    "cat_data.sample(5)"
   ]
  },
  {
   "cell_type": "code",
   "execution_count": 13,
   "id": "bffd2f4d-0774-48f5-b3f9-e9bbf7cf217a",
   "metadata": {},
   "outputs": [
    {
     "name": "stdout",
     "output_type": "stream",
     "text": [
      "<class 'pandas.core.frame.DataFrame'>\n",
      "RangeIndex: 244 entries, 0 to 243\n",
      "Data columns (total 7 columns):\n",
      " #   Column      Non-Null Count  Dtype   \n",
      "---  ------      --------------  -----   \n",
      " 0   total_bill  244 non-null    float64 \n",
      " 1   tip         244 non-null    float64 \n",
      " 2   sex         244 non-null    category\n",
      " 3   smoker      244 non-null    category\n",
      " 4   day         244 non-null    category\n",
      " 5   time        244 non-null    category\n",
      " 6   size        244 non-null    int64   \n",
      "dtypes: category(4), float64(2), int64(1)\n",
      "memory usage: 7.3 KB\n"
     ]
    }
   ],
   "source": [
    "tdf.info()"
   ]
  },
  {
   "cell_type": "code",
   "execution_count": 14,
   "id": "15367a47-131f-4ac4-a2f4-1c493c2f40d8",
   "metadata": {},
   "outputs": [
    {
     "name": "stdout",
     "output_type": "stream",
     "text": [
      "Smoker [Numeric & Categoric] classification score = 72.13%\n",
      "              precision    recall  f1-score   support\n",
      "\n",
      "         0.0       0.75      0.90      0.82        42\n",
      "         1.0       0.60      0.32      0.41        19\n",
      "\n",
      "    accuracy                           0.72        61\n",
      "   macro avg       0.67      0.61      0.62        61\n",
      "weighted avg       0.70      0.72      0.69        61\n",
      "\n"
     ]
    }
   ],
   "source": [
    "# Join numerical and categorical features\n",
    "# into new DataFrame\n",
    "features = pd.concat([num_data, cat_data], axis=1)\n",
    "\n",
    "# Create test/train splits for independent and dependent data\n",
    "ind_train, ind_test, dep_train, dep_test \\\n",
    "    = train_test_split(features, labels, test_size=frac, random_state=23)\n",
    "\n",
    "# Fit a new model to new data\n",
    "tips_model.fit(ind_train, dep_train)\n",
    "\n",
    "# Predict on test data\n",
    "predicted = tips_model.predict(ind_test)\n",
    "\n",
    "# Generate and display different evaluation metrics\n",
    "score = 100.0 * accuracy_score(dep_test, predicted)\n",
    "print(f'Smoker [Numeric & Categoric] classification score = {score:4.2f}%')\n",
    "print(classification_report(dep_test, predicted))"
   ]
  },
  {
   "cell_type": "code",
   "execution_count": 15,
   "id": "8eb73215-1df8-41eb-9d59-a778dcd4c3f9",
   "metadata": {},
   "outputs": [
    {
     "data": {
      "image/png": "[encoded data removed]",
      "text/plain": [
       "<Figure size 432x288 with 2 Axes>"
      ]
     },
     "metadata": {},
     "output_type": "display_data"
    }
   ],
   "source": [
    "ml.confusion(dep_test.reshape(dep_test.shape[0]), \n",
    "             predicted, ['No', 'Yes'], 2, 'Smoker Classification [Numeric & Categoric]')"
   ]
  },
  {
   "cell_type": "markdown",
   "id": "1242422f-25cd-4578-97fd-26440284bc64",
   "metadata": {},
   "source": [
    "We can display the coefficients of our logistic regression model to understand which features contribute the most to future predictions. Simply put, the higher a coefficient, the more important that corresponding feature. In addition, a positive coefficient contributes towards a positive classification, while a negative coefficient contributes in the opposite manner, in this case non-smoker."
   ]
  },
  {
   "cell_type": "code",
   "execution_count": 16,
   "id": "fcc978ad-2311-480d-8fa4-19977ebb7a74",
   "metadata": {},
   "outputs": [
    {
     "name": "stdout",
     "output_type": "stream",
     "text": [
      " 0.07 * total_bill\n",
      "-0.09 * tip\n",
      "-0.59 * size\n",
      " 0.29 * sex_Male\n",
      " 0.51 * sex_Female\n",
      "-5.57 * day_Thur\n",
      " 2.99 * day_Fri\n",
      " 2.05 * day_Sat\n",
      " 1.33 * day_Sun\n",
      " 3.92 * time_Lunch\n",
      "-3.12 * time_Dinner\n"
     ]
    }
   ],
   "source": [
    "# Display coefficients for different features\n",
    "for c, f in zip(tips_model.coef_[0], features.columns.values):\n",
    "    print(f'{c:5.2f} * {f}')"
   ]
  },
  {
   "cell_type": "markdown",
   "id": "42849cdb-9a73-485b-ad89-cdb79d4b44c6",
   "metadata": {},
   "source": [
    "Quite interesting results. Recall that we are trying to predict if a patron is a smoker or not, thus a positive classification would indicate the patron is predicted to be a smoker.  \n",
    "1. First, our model indicates that more patrons at lunch are smokers as opposed to dinner.\n",
    "2. Second, more smokers are predicted on Friday, while more non-smokers are predicted on Thursday\n",
    "3. as the size of the group increases, the model predicts fewer smokers.\n",
    "\n",
    "Whether these model insights make sense or not is a matter for debate; however, this does demonstrate one of the important results of logistic regression, we end up with a parametric model that we can explore for insights."
   ]
  },
  {
   "cell_type": "markdown",
   "id": "4985efb6-1a3a-455d-844f-453c999cab58",
   "metadata": {},
   "source": [
    "---\n",
    "\n",
    "## Formula-Based Method\n",
    "\n",
    "### Using `statsmodels`\n",
    "\n",
    "Machine learning estimators in the scikit-learn library operate on Numpy arrays. However, we can construct a pandas DF from our data, and use the formula interface to the statsmodels module regression estimator to construct a logistic regression model."
   ]
  },
  {
   "cell_type": "code",
   "execution_count": 17,
   "id": "9b78fb82-20d2-4017-96a0-f9e44c36e9cd",
   "metadata": {},
   "outputs": [
    {
     "data": {
      "text/html": [
       "<div>\n",
       "<style scoped>\n",
       "    .dataframe tbody tr th:only-of-type {\n",
       "        vertical-align: middle;\n",
       "    }\n",
       "\n",
       "    .dataframe tbody tr th {\n",
       "        vertical-align: top;\n",
       "    }\n",
       "\n",
       "    .dataframe thead th {\n",
       "        text-align: right;\n",
       "    }\n",
       "</style>\n",
       "<table border=\"1\" class=\"dataframe\">\n",
       "  <thead>\n",
       "    <tr style=\"text-align: right;\">\n",
       "      <th></th>\n",
       "      <th>total_bill</th>\n",
       "      <th>tip</th>\n",
       "      <th>sex</th>\n",
       "      <th>smoker</th>\n",
       "      <th>day</th>\n",
       "      <th>time</th>\n",
       "      <th>size</th>\n",
       "      <th>label</th>\n",
       "    </tr>\n",
       "  </thead>\n",
       "  <tbody>\n",
       "    <tr>\n",
       "      <th>118</th>\n",
       "      <td>12.43</td>\n",
       "      <td>1.8</td>\n",
       "      <td>Female</td>\n",
       "      <td>No</td>\n",
       "      <td>Thur</td>\n",
       "      <td>Lunch</td>\n",
       "      <td>2</td>\n",
       "      <td>0.0</td>\n",
       "    </tr>\n",
       "    <tr>\n",
       "      <th>161</th>\n",
       "      <td>12.66</td>\n",
       "      <td>2.5</td>\n",
       "      <td>Male</td>\n",
       "      <td>No</td>\n",
       "      <td>Sun</td>\n",
       "      <td>Dinner</td>\n",
       "      <td>2</td>\n",
       "      <td>0.0</td>\n",
       "    </tr>\n",
       "    <tr>\n",
       "      <th>212</th>\n",
       "      <td>48.33</td>\n",
       "      <td>9.0</td>\n",
       "      <td>Male</td>\n",
       "      <td>No</td>\n",
       "      <td>Sat</td>\n",
       "      <td>Dinner</td>\n",
       "      <td>4</td>\n",
       "      <td>0.0</td>\n",
       "    </tr>\n",
       "    <tr>\n",
       "      <th>140</th>\n",
       "      <td>17.47</td>\n",
       "      <td>3.5</td>\n",
       "      <td>Female</td>\n",
       "      <td>No</td>\n",
       "      <td>Thur</td>\n",
       "      <td>Lunch</td>\n",
       "      <td>2</td>\n",
       "      <td>0.0</td>\n",
       "    </tr>\n",
       "    <tr>\n",
       "      <th>46</th>\n",
       "      <td>22.23</td>\n",
       "      <td>5.0</td>\n",
       "      <td>Male</td>\n",
       "      <td>No</td>\n",
       "      <td>Sun</td>\n",
       "      <td>Dinner</td>\n",
       "      <td>2</td>\n",
       "      <td>0.0</td>\n",
       "    </tr>\n",
       "  </tbody>\n",
       "</table>\n",
       "</div>"
      ],
      "text/plain": [
       "     total_bill  tip     sex smoker   day    time  size  label\n",
       "118       12.43  1.8  Female     No  Thur   Lunch     2    0.0\n",
       "161       12.66  2.5    Male     No   Sun  Dinner     2    0.0\n",
       "212       48.33  9.0    Male     No   Sat  Dinner     4    0.0\n",
       "140       17.47  3.5  Female     No  Thur   Lunch     2    0.0\n",
       "46        22.23  5.0    Male     No   Sun  Dinner     2    0.0"
      ]
     },
     "execution_count": 17,
     "metadata": {},
     "output_type": "execute_result"
    }
   ],
   "source": [
    "# Generate new feature in our DF for the label\n",
    "tdf['label'] = (tdf['smoker'] == 'Yes').astype(float)\n",
    "tdf.sample(5)"
   ]
  },
  {
   "cell_type": "code",
   "execution_count": 18,
   "id": "af44d5c9-f2f3-4ea5-be5f-7fd71bf21450",
   "metadata": {},
   "outputs": [
    {
     "name": "stdout",
     "output_type": "stream",
     "text": [
      "Optimization terminated successfully.\n",
      "         Current function value: 0.632211\n",
      "         Iterations 5\n"
     ]
    },
    {
     "data": {
      "text/html": [
       "<table class=\"simpletable\">\n",
       "<caption>Logit Regression Results</caption>\n",
       "<tr>\n",
       "  <th>Dep. Variable:</th>         <td>label</td>      <th>  No. Observations:  </th>  <td>   244</td> \n",
       "</tr>\n",
       "<tr>\n",
       "  <th>Model:</th>                 <td>Logit</td>      <th>  Df Residuals:      </th>  <td>   240</td> \n",
       "</tr>\n",
       "<tr>\n",
       "  <th>Method:</th>                 <td>MLE</td>       <th>  Df Model:          </th>  <td>     3</td> \n",
       "</tr>\n",
       "<tr>\n",
       "  <th>Date:</th>            <td>Sun, 30 May 2021</td> <th>  Pseudo R-squ.:     </th>  <td>0.04877</td>\n",
       "</tr>\n",
       "<tr>\n",
       "  <th>Time:</th>                <td>02:30:47</td>     <th>  Log-Likelihood:    </th> <td> -154.26</td>\n",
       "</tr>\n",
       "<tr>\n",
       "  <th>converged:</th>             <td>True</td>       <th>  LL-Null:           </th> <td> -162.17</td>\n",
       "</tr>\n",
       "<tr>\n",
       "  <th>Covariance Type:</th>     <td>nonrobust</td>    <th>  LLR p-value:       </th> <td>0.001236</td>\n",
       "</tr>\n",
       "</table>\n",
       "<table class=\"simpletable\">\n",
       "<tr>\n",
       "       <td></td>         <th>coef</th>     <th>std err</th>      <th>z</th>      <th>P>|z|</th>  <th>[0.025</th>    <th>0.975]</th>  \n",
       "</tr>\n",
       "<tr>\n",
       "  <th>Intercept</th>  <td>    0.0903</td> <td>    0.434</td> <td>    0.208</td> <td> 0.835</td> <td>   -0.759</td> <td>    0.940</td>\n",
       "</tr>\n",
       "<tr>\n",
       "  <th>total_bill</th> <td>    0.0712</td> <td>    0.024</td> <td>    2.982</td> <td> 0.003</td> <td>    0.024</td> <td>    0.118</td>\n",
       "</tr>\n",
       "<tr>\n",
       "  <th>tip</th>        <td>   -0.0846</td> <td>    0.137</td> <td>   -0.616</td> <td> 0.538</td> <td>   -0.354</td> <td>    0.184</td>\n",
       "</tr>\n",
       "<tr>\n",
       "  <th>size</th>       <td>   -0.6866</td> <td>    0.206</td> <td>   -3.335</td> <td> 0.001</td> <td>   -1.090</td> <td>   -0.283</td>\n",
       "</tr>\n",
       "</table>"
      ],
      "text/plain": [
       "<class 'statsmodels.iolib.summary.Summary'>\n",
       "\"\"\"\n",
       "                           Logit Regression Results                           \n",
       "==============================================================================\n",
       "Dep. Variable:                  label   No. Observations:                  244\n",
       "Model:                          Logit   Df Residuals:                      240\n",
       "Method:                           MLE   Df Model:                            3\n",
       "Date:                Sun, 30 May 2021   Pseudo R-squ.:                 0.04877\n",
       "Time:                        02:30:47   Log-Likelihood:                -154.26\n",
       "converged:                       True   LL-Null:                       -162.17\n",
       "Covariance Type:            nonrobust   LLR p-value:                  0.001236\n",
       "==============================================================================\n",
       "                 coef    std err          z      P>|z|      [0.025      0.975]\n",
       "------------------------------------------------------------------------------\n",
       "Intercept      0.0903      0.434      0.208      0.835      -0.759       0.940\n",
       "total_bill     0.0712      0.024      2.982      0.003       0.024       0.118\n",
       "tip           -0.0846      0.137     -0.616      0.538      -0.354       0.184\n",
       "size          -0.6866      0.206     -3.335      0.001      -1.090      -0.283\n",
       "==============================================================================\n",
       "\"\"\""
      ]
     },
     "execution_count": 18,
     "metadata": {},
     "output_type": "execute_result"
    }
   ],
   "source": [
    "import statsmodels.api as sm\n",
    "from statsmodels.formula.api import logit\n",
    "\n",
    "# Implement simple regression: Result ~ Input\n",
    "sts_model = logit('label ~ total_bill + tip + size', data=tdf).fit()\n",
    "\n",
    "# Display summary of model and fit parameters\n",
    "sts_model.summary()"
   ]
  },
  {
   "cell_type": "markdown",
   "id": "32a3f8c4-19fa-4c65-ab9e-23a89cecd5ef",
   "metadata": {},
   "source": [
    "The displayed fit coefficient results agree, to a degree, with our earlier results. The total_bill and tips features show a small impact on our predicted result, while the size is negatively correlated with a positive prediction"
   ]
  },
  {
   "cell_type": "code",
   "execution_count": 19,
   "id": "ffa36808-e3d8-4d75-9bfb-0188955298be",
   "metadata": {},
   "outputs": [
    {
     "data": {
      "text/plain": [
       "array([[140.,  11.],\n",
       "       [ 72.,  21.]])"
      ]
     },
     "execution_count": 19,
     "metadata": {},
     "output_type": "execute_result"
    }
   ],
   "source": [
    "# Display confusion matrix\n",
    "sts_model.pred_table()"
   ]
  },
  {
   "cell_type": "markdown",
   "id": "f6d65043-d605-4375-8d42-df40b1c570aa",
   "metadata": {},
   "source": [
    "### Using `scikit-learn`\n",
    "\n",
    "We can also employ a formula-based approach with the scikit-learn library by using the `patsy` module to construct NumPy matrices from a formula. \n",
    "\n",
    "Since we have already constructed our DF with both numeric, categorical, and label features, we can simply supply a formula to the `patsy` library to generate the desired NumPy matrices.\n",
    "\n",
    "To indicate to the `patsy` module that a feature is categroical, we use: `C(feature)`. Then `dmatrices` function takes this formula and the supplied data and returns two dataframes: `x` for the independent variables and `y` for the dependent variable.  We need also to reshape the `y`, or label DataFrame, to work with the scikit-learn library estimators."
   ]
  },
  {
   "cell_type": "code",
   "execution_count": 20,
   "id": "a798ff01-a654-440f-bd67-75b9591a9aa7",
   "metadata": {},
   "outputs": [
    {
     "data": {
      "text/html": [
       "<div>\n",
       "<style scoped>\n",
       "    .dataframe tbody tr th:only-of-type {\n",
       "        vertical-align: middle;\n",
       "    }\n",
       "\n",
       "    .dataframe tbody tr th {\n",
       "        vertical-align: top;\n",
       "    }\n",
       "\n",
       "    .dataframe thead th {\n",
       "        text-align: right;\n",
       "    }\n",
       "</style>\n",
       "<table border=\"1\" class=\"dataframe\">\n",
       "  <thead>\n",
       "    <tr style=\"text-align: right;\">\n",
       "      <th></th>\n",
       "      <th>Intercept</th>\n",
       "      <th>C(sex)[T.Female]</th>\n",
       "      <th>C(day)[T.Fri]</th>\n",
       "      <th>C(day)[T.Sat]</th>\n",
       "      <th>C(day)[T.Sun]</th>\n",
       "      <th>C(time)[T.Dinner]</th>\n",
       "      <th>total_bill</th>\n",
       "      <th>tip</th>\n",
       "      <th>size</th>\n",
       "    </tr>\n",
       "  </thead>\n",
       "  <tbody>\n",
       "    <tr>\n",
       "      <th>87</th>\n",
       "      <td>1.0</td>\n",
       "      <td>0.0</td>\n",
       "      <td>0.0</td>\n",
       "      <td>0.0</td>\n",
       "      <td>0.0</td>\n",
       "      <td>0.0</td>\n",
       "      <td>18.28</td>\n",
       "      <td>4.00</td>\n",
       "      <td>2.0</td>\n",
       "    </tr>\n",
       "    <tr>\n",
       "      <th>233</th>\n",
       "      <td>1.0</td>\n",
       "      <td>0.0</td>\n",
       "      <td>0.0</td>\n",
       "      <td>1.0</td>\n",
       "      <td>0.0</td>\n",
       "      <td>1.0</td>\n",
       "      <td>10.77</td>\n",
       "      <td>1.47</td>\n",
       "      <td>2.0</td>\n",
       "    </tr>\n",
       "    <tr>\n",
       "      <th>74</th>\n",
       "      <td>1.0</td>\n",
       "      <td>1.0</td>\n",
       "      <td>0.0</td>\n",
       "      <td>1.0</td>\n",
       "      <td>0.0</td>\n",
       "      <td>1.0</td>\n",
       "      <td>14.73</td>\n",
       "      <td>2.20</td>\n",
       "      <td>2.0</td>\n",
       "    </tr>\n",
       "    <tr>\n",
       "      <th>127</th>\n",
       "      <td>1.0</td>\n",
       "      <td>1.0</td>\n",
       "      <td>0.0</td>\n",
       "      <td>0.0</td>\n",
       "      <td>0.0</td>\n",
       "      <td>0.0</td>\n",
       "      <td>14.52</td>\n",
       "      <td>2.00</td>\n",
       "      <td>2.0</td>\n",
       "    </tr>\n",
       "    <tr>\n",
       "      <th>52</th>\n",
       "      <td>1.0</td>\n",
       "      <td>1.0</td>\n",
       "      <td>0.0</td>\n",
       "      <td>0.0</td>\n",
       "      <td>1.0</td>\n",
       "      <td>1.0</td>\n",
       "      <td>34.81</td>\n",
       "      <td>5.20</td>\n",
       "      <td>4.0</td>\n",
       "    </tr>\n",
       "  </tbody>\n",
       "</table>\n",
       "</div>"
      ],
      "text/plain": [
       "     Intercept  C(sex)[T.Female]  C(day)[T.Fri]  C(day)[T.Sat]  C(day)[T.Sun]  \\\n",
       "87         1.0               0.0            0.0            0.0            0.0   \n",
       "233        1.0               0.0            0.0            1.0            0.0   \n",
       "74         1.0               1.0            0.0            1.0            0.0   \n",
       "127        1.0               1.0            0.0            0.0            0.0   \n",
       "52         1.0               1.0            0.0            0.0            1.0   \n",
       "\n",
       "     C(time)[T.Dinner]  total_bill   tip  size  \n",
       "87                 0.0       18.28  4.00   2.0  \n",
       "233                1.0       10.77  1.47   2.0  \n",
       "74                 1.0       14.73  2.20   2.0  \n",
       "127                0.0       14.52  2.00   2.0  \n",
       "52                 1.0       34.81  5.20   4.0  "
      ]
     },
     "execution_count": 20,
     "metadata": {},
     "output_type": "execute_result"
    }
   ],
   "source": [
    "import patsy as pts\n",
    "\n",
    "y, x = pts.dmatrices('label ~ total_bill+tip+size+C(sex)+C(day)+C(time)',\n",
    "                     data=tdf, return_type='dataframe')\n",
    "\n",
    "# y needs to be a 1D array for scikit learn\n",
    "y = np.ravel(y)\n",
    "x.sample(5)"
   ]
  },
  {
   "cell_type": "markdown",
   "id": "97215d3a-889f-4872-885f-0241fab6a4e9",
   "metadata": {},
   "source": [
    "Two important points to notice with `x`:\n",
    "1. `patsy` automatically created the dummy, or binarized, features for our categorical features\n",
    "2. patsy also dropped one option for each categorical feature. \n",
    "\n",
    "The second point is done to generate more robust results (something we probably should have been doing earlier). If we regress across all possible categorical options, we have introduced unnecessary correlations between our features. That is because if we have $n$ categorical features, we only need $n - 1$ dummy features to fully map all options.  \n",
    "☞ This is known as multicollinearity, and can lead to problems with convergence. To avoid this, you should always drop one dummy feature!\n",
    "\n",
    "We have, for example, explicitly excluded using `day=Thur` as a predictor. Thus, _Thursday_ is our reference category, for the `day` categorical features. Likewise, _Male_ is the reference category for the `sex` feature, and _Lunch_ is the reference category for the `time` feature. Later, when we quantify the impact of one feature on the prediction, the measurements will be with respect to this reference category.\n",
    "\n",
    "---\n",
    "Given these two DataFrames, we can construct an estimator, fit the training data, and predict on our test data"
   ]
  },
  {
   "cell_type": "code",
   "execution_count": 21,
   "id": "60ae3ddb-89aa-400c-bfe5-7642a6579971",
   "metadata": {},
   "outputs": [
    {
     "name": "stdout",
     "output_type": "stream",
     "text": [
      "Smoker [Numeric & Categoric] classification score = 72.13%\n",
      "              precision    recall  f1-score   support\n",
      "\n",
      "         0.0       0.75      0.90      0.82        42\n",
      "         1.0       0.60      0.32      0.41        19\n",
      "\n",
      "    accuracy                           0.72        61\n",
      "   macro avg       0.67      0.61      0.62        61\n",
      "weighted avg       0.70      0.72      0.69        61\n",
      "\n"
     ]
    }
   ],
   "source": [
    "# Predict on test data\n",
    "predicted = tips_model.predict(ind_test)\n",
    "\n",
    "# Generate and display different evaluation metrics\n",
    "score = 100.0 * accuracy_score(dep_test, predicted)\n",
    "print(f'Smoker [Numeric & Categoric] classification score = {score:4.2f}%')\n",
    "print(classification_report(dep_test, predicted))"
   ]
  },
  {
   "cell_type": "markdown",
   "id": "238b71df-6924-4c96-8c29-dbaeb15e9641",
   "metadata": {},
   "source": [
    "Here are again the definitions of the above scores:\n",
    "\n",
    "| | | |\n",
    "| -- | -- | -- |\n",
    "| Precision |  Positive Predictive Value | $\\frac{TP}{TP + FP}$ |\n",
    "| Accuracy |   | $\\frac{TP + TN}{TP  + TN + FP + FN}$ |\n",
    "| Recall (Sensitivity) |  True Positive Rate | $\\frac{TP}{TP + FN}$ |\n",
    "| F1-score ($F_1$)|  Harmonic mean of Precision and Recall | $\\frac{2TP}{2TP + FN + FP}$ |\n",
    "| Specificity |  True Negative Rate | $\\frac{TN}{TN + FP}$ |\n",
    "| False Positive Rate (Fall Out)|  FPR | $\\frac{FP}{FP + TN}$ |\n",
    "| False Discovery Rate |  FDR | $\\frac{FP}{FP + TP}$ |\n",
    "\n"
   ]
  },
  {
   "cell_type": "markdown",
   "id": "93bfb8e3-1eaa-4c8a-a64d-18674d2ade72",
   "metadata": {},
   "source": [
    "where\n",
    "\n",
    "|  | |\n",
    "| --- |--- |\n",
    "| True  Negative (**TN**)| False Positive (**FP**)|\n",
    "| False Negative (**FN**)| True Positive (**TP**)|"
   ]
  },
  {
   "cell_type": "code",
   "execution_count": 23,
   "id": "2c2ca5fc-19b0-4fe6-9ddd-ed269fa6db25",
   "metadata": {},
   "outputs": [
    {
     "data": {
      "image/png": "[encoded data removed]",
      "text/plain": [
       "<Figure size 432x288 with 2 Axes>"
      ]
     },
     "metadata": {},
     "output_type": "display_data"
    }
   ],
   "source": [
    "# Display confusion matrix\n",
    "ml.confusion(dep_test.reshape(dep_test.shape[0]), \n",
    "             predicted, ['No', 'Yes'], 2, 'Smoker Classification [Numeric & Categoric]')"
   ]
  },
  {
   "cell_type": "markdown",
   "id": "84446ab6-64dc-4f36-9393-58976318acb2",
   "metadata": {},
   "source": [
    "The confusion matrix indicates that the biggest problem our model faces is the prediction of false negatives."
   ]
  },
  {
   "cell_type": "markdown",
   "id": "7e26c8e7-1f1f-4428-87bd-fd907fb1e57c",
   "metadata": {},
   "source": [
    "## Marginal Effects\n",
    "\n",
    "One challenge when building a logistic model with multiple independent features is understanding the _true_ effect of any one independent feature. To estimate these effects, one can compute the _marginal effects_, which quantifies the impact one feature has on the prediction while the other features are held constant.\n",
    "\n",
    "Formally this is done by taking the partial derivative of the model with respect to the feature of interest, but we can compute them directly by using the `get_margeff` function from the statsmodels library. The following code cell demonstrates this by calling this method on the logistic regression model `sts_model` that we previously constructed by using the statsmodels library."
   ]
  },
  {
   "cell_type": "code",
   "execution_count": 24,
   "id": "c767fc39-352d-409e-bd26-beeac372f9cd",
   "metadata": {},
   "outputs": [
    {
     "name": "stdout",
     "output_type": "stream",
     "text": [
      "        Logit Marginal Effects       \n",
      "=====================================\n",
      "Dep. Variable:                  label\n",
      "Method:                          dydx\n",
      "At:                           overall\n",
      "==============================================================================\n",
      "                dy/dx    std err          z      P>|z|      [0.025      0.975]\n",
      "------------------------------------------------------------------------------\n",
      "total_bill     0.0157      0.005      3.203      0.001       0.006       0.025\n",
      "tip           -0.0187      0.030     -0.618      0.537      -0.078       0.041\n",
      "size          -0.1518      0.042     -3.638      0.000      -0.234      -0.070\n",
      "==============================================================================\n"
     ]
    }
   ],
   "source": [
    "# Move this to text as an aside\n",
    "mfx = sts_model.get_margeff()\n",
    "print(mfx.summary())"
   ]
  },
  {
   "cell_type": "markdown",
   "id": "1a43579a-cf04-4561-a0b4-22cb88892dc8",
   "metadata": {},
   "source": [
    "The results displayed agree with what we saw earlier in the fit coefficients, namely that the `total_bill` and `tips` features do not strongly relate to a prediction. For example, a unit change in the `total_bill` feature will induce a change of 0.0157 in the prediction. Of these three features, the `size` has the largest impact at -0.1518, which once again indicates that a smaller `size` feature suggests a higher chance of a smoker, since that marginal effect is negative."
   ]
  },
  {
   "cell_type": "markdown",
   "id": "6b23b569-4c54-4402-8412-1d00a57b9367",
   "metadata": {},
   "source": [
    "---\n",
    "We could ask if we see this effect in descriptive statistics. The next two Code cells present the descriptive statistics for the original data split by the `smoker` feature."
   ]
  },
  {
   "cell_type": "code",
   "execution_count": 25,
   "id": "de9258c5-f8d8-4657-9f86-4995a21c4ded",
   "metadata": {},
   "outputs": [
    {
     "data": {
      "text/html": [
       "<div>\n",
       "<style scoped>\n",
       "    .dataframe tbody tr th:only-of-type {\n",
       "        vertical-align: middle;\n",
       "    }\n",
       "\n",
       "    .dataframe tbody tr th {\n",
       "        vertical-align: top;\n",
       "    }\n",
       "\n",
       "    .dataframe thead th {\n",
       "        text-align: right;\n",
       "    }\n",
       "</style>\n",
       "<table border=\"1\" class=\"dataframe\">\n",
       "  <thead>\n",
       "    <tr style=\"text-align: right;\">\n",
       "      <th></th>\n",
       "      <th>total_bill</th>\n",
       "      <th>tip</th>\n",
       "      <th>size</th>\n",
       "      <th>label</th>\n",
       "    </tr>\n",
       "  </thead>\n",
       "  <tbody>\n",
       "    <tr>\n",
       "      <th>count</th>\n",
       "      <td>93.000000</td>\n",
       "      <td>93.000000</td>\n",
       "      <td>93.000000</td>\n",
       "      <td>93.0</td>\n",
       "    </tr>\n",
       "    <tr>\n",
       "      <th>mean</th>\n",
       "      <td>20.756344</td>\n",
       "      <td>3.008710</td>\n",
       "      <td>2.408602</td>\n",
       "      <td>1.0</td>\n",
       "    </tr>\n",
       "    <tr>\n",
       "      <th>std</th>\n",
       "      <td>9.832154</td>\n",
       "      <td>1.401468</td>\n",
       "      <td>0.810751</td>\n",
       "      <td>0.0</td>\n",
       "    </tr>\n",
       "    <tr>\n",
       "      <th>min</th>\n",
       "      <td>3.070000</td>\n",
       "      <td>1.000000</td>\n",
       "      <td>1.000000</td>\n",
       "      <td>1.0</td>\n",
       "    </tr>\n",
       "    <tr>\n",
       "      <th>25%</th>\n",
       "      <td>13.420000</td>\n",
       "      <td>2.000000</td>\n",
       "      <td>2.000000</td>\n",
       "      <td>1.0</td>\n",
       "    </tr>\n",
       "    <tr>\n",
       "      <th>50%</th>\n",
       "      <td>17.920000</td>\n",
       "      <td>3.000000</td>\n",
       "      <td>2.000000</td>\n",
       "      <td>1.0</td>\n",
       "    </tr>\n",
       "    <tr>\n",
       "      <th>75%</th>\n",
       "      <td>26.860000</td>\n",
       "      <td>3.680000</td>\n",
       "      <td>3.000000</td>\n",
       "      <td>1.0</td>\n",
       "    </tr>\n",
       "    <tr>\n",
       "      <th>max</th>\n",
       "      <td>50.810000</td>\n",
       "      <td>10.000000</td>\n",
       "      <td>5.000000</td>\n",
       "      <td>1.0</td>\n",
       "    </tr>\n",
       "  </tbody>\n",
       "</table>\n",
       "</div>"
      ],
      "text/plain": [
       "       total_bill        tip       size  label\n",
       "count   93.000000  93.000000  93.000000   93.0\n",
       "mean    20.756344   3.008710   2.408602    1.0\n",
       "std      9.832154   1.401468   0.810751    0.0\n",
       "min      3.070000   1.000000   1.000000    1.0\n",
       "25%     13.420000   2.000000   2.000000    1.0\n",
       "50%     17.920000   3.000000   2.000000    1.0\n",
       "75%     26.860000   3.680000   3.000000    1.0\n",
       "max     50.810000  10.000000   5.000000    1.0"
      ]
     },
     "execution_count": 25,
     "metadata": {},
     "output_type": "execute_result"
    }
   ],
   "source": [
    "# Smoker descriptive statistics\n",
    "tdf[tdf['smoker'] == 'Yes'].describe()"
   ]
  },
  {
   "cell_type": "markdown",
   "id": "2f7b9c6e-d722-48df-b54f-c0b0acb51ec9",
   "metadata": {},
   "source": [
    "From this, we see that smokers do tend to be in smaller groups and give slightly smaller tips. However, to fully quantify this interpretation would require employing hypothesis testing."
   ]
  },
  {
   "cell_type": "markdown",
   "id": "04cbf956-b1f8-49f4-8542-d1fb40f406bb",
   "metadata": {},
   "source": [
    "---\n",
    "## Odds Ratio\n",
    "\n",
    "While marginal effect works well for numeric features, we can't take the derivative of a categorical, or discrete feature. Thus, we can also compute the _odds ratio_ to determine the association between the presence or absence of two features.\n",
    "\n",
    "To compute an odds ratio, we hold one categorical value fixed, which is the reference group. This reference category was determined earlier when we held one categorical option out of the fit. Thus, when we calculate an odds ratio for the female instances, it is done with respect to the `sex=male` reference group.\n",
    "\n",
    "We can use the odds ratio to determine the association, for example, between the `day` feature and the `time` feature, in order to determine if there is a relationship between these two features and the likelihood a patron is a smoker. The value of the odds ratio indicates how much more likely a patron is to be a smoker. We can also compute confidence intervals around these values to quantify the degrees of uncertainty associated with this ratio."
   ]
  },
  {
   "cell_type": "markdown",
   "id": "7506eba7-cac5-4762-8583-80e007197724",
   "metadata": {},
   "source": [
    "We first perform a logistic regression using all three numeric and categorical features on the full data set, and display a summary of the results:"
   ]
  },
  {
   "cell_type": "code",
   "execution_count": 26,
   "id": "1f35ed05-3b92-4cfc-9ddd-13825f7eba45",
   "metadata": {},
   "outputs": [
    {
     "name": "stdout",
     "output_type": "stream",
     "text": [
      "Optimization terminated successfully.\n",
      "         Current function value: 0.584335\n",
      "         Iterations 6\n"
     ]
    },
    {
     "data": {
      "text/html": [
       "<table class=\"simpletable\">\n",
       "<caption>Logit Regression Results</caption>\n",
       "<tr>\n",
       "  <th>Dep. Variable:</th>         <td>label</td>      <th>  No. Observations:  </th>  <td>   244</td>  \n",
       "</tr>\n",
       "<tr>\n",
       "  <th>Model:</th>                 <td>Logit</td>      <th>  Df Residuals:      </th>  <td>   235</td>  \n",
       "</tr>\n",
       "<tr>\n",
       "  <th>Method:</th>                 <td>MLE</td>       <th>  Df Model:          </th>  <td>     8</td>  \n",
       "</tr>\n",
       "<tr>\n",
       "  <th>Date:</th>            <td>Sun, 30 May 2021</td> <th>  Pseudo R-squ.:     </th>  <td>0.1208</td>  \n",
       "</tr>\n",
       "<tr>\n",
       "  <th>Time:</th>                <td>11:25:53</td>     <th>  Log-Likelihood:    </th> <td> -142.58</td> \n",
       "</tr>\n",
       "<tr>\n",
       "  <th>converged:</th>             <td>True</td>       <th>  LL-Null:           </th> <td> -162.17</td> \n",
       "</tr>\n",
       "<tr>\n",
       "  <th>Covariance Type:</th>     <td>nonrobust</td>    <th>  LLR p-value:       </th> <td>4.550e-06</td>\n",
       "</tr>\n",
       "</table>\n",
       "<table class=\"simpletable\">\n",
       "<tr>\n",
       "          <td></td>             <th>coef</th>     <th>std err</th>      <th>z</th>      <th>P>|z|</th>  <th>[0.025</th>    <th>0.975]</th>  \n",
       "</tr>\n",
       "<tr>\n",
       "  <th>Intercept</th>         <td>   -0.5777</td> <td>    0.538</td> <td>   -1.074</td> <td> 0.283</td> <td>   -1.632</td> <td>    0.477</td>\n",
       "</tr>\n",
       "<tr>\n",
       "  <th>C(sex)[T.Female]</th>  <td>   -0.0242</td> <td>    0.311</td> <td>   -0.078</td> <td> 0.938</td> <td>   -0.634</td> <td>    0.586</td>\n",
       "</tr>\n",
       "<tr>\n",
       "  <th>C(day)[T.Fri]</th>     <td>    3.0240</td> <td>    1.107</td> <td>    2.731</td> <td> 0.006</td> <td>    0.853</td> <td>    5.195</td>\n",
       "</tr>\n",
       "<tr>\n",
       "  <th>C(day)[T.Sat]</th>     <td>    2.0200</td> <td>    1.261</td> <td>    1.602</td> <td> 0.109</td> <td>   -0.451</td> <td>    4.492</td>\n",
       "</tr>\n",
       "<tr>\n",
       "  <th>C(day)[T.Sun]</th>     <td>    1.0578</td> <td>    1.274</td> <td>    0.830</td> <td> 0.406</td> <td>   -1.439</td> <td>    3.554</td>\n",
       "</tr>\n",
       "<tr>\n",
       "  <th>C(time)[T.Dinner]</th> <td>   -1.2317</td> <td>    1.219</td> <td>   -1.010</td> <td> 0.312</td> <td>   -3.621</td> <td>    1.158</td>\n",
       "</tr>\n",
       "<tr>\n",
       "  <th>total_bill</th>        <td>    0.0723</td> <td>    0.025</td> <td>    2.898</td> <td> 0.004</td> <td>    0.023</td> <td>    0.121</td>\n",
       "</tr>\n",
       "<tr>\n",
       "  <th>tip</th>               <td>   -0.0903</td> <td>    0.144</td> <td>   -0.627</td> <td> 0.531</td> <td>   -0.373</td> <td>    0.192</td>\n",
       "</tr>\n",
       "<tr>\n",
       "  <th>size</th>              <td>   -0.5874</td> <td>    0.214</td> <td>   -2.750</td> <td> 0.006</td> <td>   -1.006</td> <td>   -0.169</td>\n",
       "</tr>\n",
       "</table>"
      ],
      "text/plain": [
       "<class 'statsmodels.iolib.summary.Summary'>\n",
       "\"\"\"\n",
       "                           Logit Regression Results                           \n",
       "==============================================================================\n",
       "Dep. Variable:                  label   No. Observations:                  244\n",
       "Model:                          Logit   Df Residuals:                      235\n",
       "Method:                           MLE   Df Model:                            8\n",
       "Date:                Sun, 30 May 2021   Pseudo R-squ.:                  0.1208\n",
       "Time:                        11:25:53   Log-Likelihood:                -142.58\n",
       "converged:                       True   LL-Null:                       -162.17\n",
       "Covariance Type:            nonrobust   LLR p-value:                 4.550e-06\n",
       "=====================================================================================\n",
       "                        coef    std err          z      P>|z|      [0.025      0.975]\n",
       "-------------------------------------------------------------------------------------\n",
       "Intercept            -0.5777      0.538     -1.074      0.283      -1.632       0.477\n",
       "C(sex)[T.Female]     -0.0242      0.311     -0.078      0.938      -0.634       0.586\n",
       "C(day)[T.Fri]         3.0240      1.107      2.731      0.006       0.853       5.195\n",
       "C(day)[T.Sat]         2.0200      1.261      1.602      0.109      -0.451       4.492\n",
       "C(day)[T.Sun]         1.0578      1.274      0.830      0.406      -1.439       3.554\n",
       "C(time)[T.Dinner]    -1.2317      1.219     -1.010      0.312      -3.621       1.158\n",
       "total_bill            0.0723      0.025      2.898      0.004       0.023       0.121\n",
       "tip                  -0.0903      0.144     -0.627      0.531      -0.373       0.192\n",
       "size                 -0.5874      0.214     -2.750      0.006      -1.006      -0.169\n",
       "=====================================================================================\n",
       "\"\"\""
      ]
     },
     "execution_count": 26,
     "metadata": {},
     "output_type": "execute_result"
    }
   ],
   "source": [
    "# Implement simple regression: Result ~ Input\n",
    "sts_c_model = logit('label ~ total_bill + tip + size + C(sex) + C(day) + C(time)', \n",
    "                    data=tdf).fit()\n",
    "\n",
    "# Display model fit results\n",
    "sts_c_model.summary()"
   ]
  },
  {
   "cell_type": "markdown",
   "id": "3f5b6574-ef7b-49f8-90a9-6b09acb400e3",
   "metadata": {},
   "source": [
    "Next, we compute the odds ratio and confidence intervals for the different features, which is done for our logistic model by using the exponential function"
   ]
  },
  {
   "cell_type": "code",
   "execution_count": 27,
   "id": "dba7d180-8b56-4760-99e8-e6d656392897",
   "metadata": {},
   "outputs": [
    {
     "name": "stdout",
     "output_type": "stream",
     "text": [
      "                       2.5%       97.5%         OR\n",
      "Intercept          0.195529    1.610648   0.561185\n",
      "C(sex)[T.Female]   0.530437    1.796312   0.976131\n",
      "C(day)[T.Fri]      2.347570  180.306787  20.573836\n",
      "C(day)[T.Sat]      0.636695   89.259933   7.538655\n",
      "C(day)[T.Sun]      0.237217   34.969570   2.880171\n",
      "C(time)[T.Dinner]  0.026750    3.183206   0.291804\n",
      "total_bill         1.023657    1.128765   1.074927\n",
      "tip                0.688984    1.211680   0.913689\n",
      "size               0.365666    0.844746   0.555783\n"
     ]
    }
   ],
   "source": [
    "# Odds ratios and 95% CI\n",
    "ci = sts_c_model.conf_int()\n",
    "ci['OR'] = sts_c_model.params\n",
    "ci.columns = ['2.5%', '97.5%', 'OR']\n",
    "print(np.exp(ci))"
   ]
  },
  {
   "cell_type": "markdown",
   "id": "673dc5df-22af-439c-aa39-fc9dfb27b038",
   "metadata": {},
   "source": [
    "The results above indicate that `day=Fri` and `day=Sat` are important, which is also borne out by the fit coefficients."
   ]
  }
 ],
 "metadata": {
  "kernelspec": {
   "display_name": "Python 3",
   "language": "python",
   "name": "python3"
  },
  "language_info": {
   "codemirror_mode": {
    "name": "ipython",
    "version": 3
   },
   "file_extension": ".py",
   "mimetype": "text/x-python",
   "name": "python",
   "nbconvert_exporter": "python",
   "pygments_lexer": "ipython3",
   "version": "3.6.13"
  }
 },
 "nbformat": 4,
 "nbformat_minor": 5
}
