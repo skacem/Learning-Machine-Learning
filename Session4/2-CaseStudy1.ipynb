{
 "cells": [
  {
   "cell_type": "markdown",
   "id": "b2c2db00-54b4-44ee-a387-76b5f7962bbc",
   "metadata": {},
   "source": [
    "## Case Study: The Challenger Disaster"
   ]
  },
  {
   "cell_type": "code",
   "execution_count": null,
   "id": "60c741e9-a0c5-4684-9f8b-d3e5dba8001e",
   "metadata": {},
   "outputs": [],
   "source": [
    "# Set up Notebook\n",
    "\n",
    "%matplotlib inline\n",
    "\n",
    "# Standard imports\n",
    "import pandas as pd\n",
    "import numpy as np\n",
    "import matplotlib.pyplot as plt\n",
    "import seaborn as sns\n",
    "\n",
    "# We do this to ignore several specific warnings\n",
    "import warnings\n",
    "warnings.filterwarnings(\"ignore\")\n",
    "\n",
    "sns.set(style=\"white\")"
   ]
  },
  {
   "cell_type": "markdown",
   "id": "42c70a33-8c72-4d5c-b091-96a49affbe85",
   "metadata": {},
   "source": [
    "### Logistic Modelling"
   ]
  },
  {
   "cell_type": "code",
   "execution_count": 7,
   "id": "cf84cb18-e626-4e47-b305-889202c7fd81",
   "metadata": {},
   "outputs": [
    {
     "data": {
      "text/html": [
       "<div>\n",
       "<style scoped>\n",
       "    .dataframe tbody tr th:only-of-type {\n",
       "        vertical-align: middle;\n",
       "    }\n",
       "\n",
       "    .dataframe tbody tr th {\n",
       "        vertical-align: top;\n",
       "    }\n",
       "\n",
       "    .dataframe thead th {\n",
       "        text-align: right;\n",
       "    }\n",
       "</style>\n",
       "<table border=\"1\" class=\"dataframe\">\n",
       "  <thead>\n",
       "    <tr style=\"text-align: right;\">\n",
       "      <th></th>\n",
       "      <th>Number</th>\n",
       "      <th>Number_TD</th>\n",
       "      <th>Temperature</th>\n",
       "      <th>Pressure</th>\n",
       "      <th>Order</th>\n",
       "    </tr>\n",
       "  </thead>\n",
       "  <tbody>\n",
       "    <tr>\n",
       "      <th>20</th>\n",
       "      <td>6</td>\n",
       "      <td>0</td>\n",
       "      <td>75</td>\n",
       "      <td>200</td>\n",
       "      <td>21</td>\n",
       "    </tr>\n",
       "    <tr>\n",
       "      <th>1</th>\n",
       "      <td>6</td>\n",
       "      <td>1</td>\n",
       "      <td>70</td>\n",
       "      <td>50</td>\n",
       "      <td>2</td>\n",
       "    </tr>\n",
       "    <tr>\n",
       "      <th>8</th>\n",
       "      <td>6</td>\n",
       "      <td>1</td>\n",
       "      <td>57</td>\n",
       "      <td>200</td>\n",
       "      <td>9</td>\n",
       "    </tr>\n",
       "    <tr>\n",
       "      <th>18</th>\n",
       "      <td>6</td>\n",
       "      <td>0</td>\n",
       "      <td>76</td>\n",
       "      <td>200</td>\n",
       "      <td>19</td>\n",
       "    </tr>\n",
       "    <tr>\n",
       "      <th>15</th>\n",
       "      <td>6</td>\n",
       "      <td>0</td>\n",
       "      <td>75</td>\n",
       "      <td>200</td>\n",
       "      <td>16</td>\n",
       "    </tr>\n",
       "  </tbody>\n",
       "</table>\n",
       "</div>"
      ],
      "text/plain": [
       "    Number  Number_TD  Temperature  Pressure  Order\n",
       "20       6          0           75       200     21\n",
       "1        6          1           70        50      2\n",
       "8        6          1           57       200      9\n",
       "18       6          0           76       200     19\n",
       "15       6          0           75       200     16"
      ]
     },
     "execution_count": 7,
     "metadata": {},
     "output_type": "execute_result"
    }
   ],
   "source": [
    "# Challenger disaster O-ring data\n",
    "\n",
    "# Feature names taken from UCI repository\n",
    "col_names = ['Number', 'Number_TD', 'Temperature', 'Pressure', 'Order']\n",
    "\n",
    "# Read in data, delimited by whitespace, use feature names\n",
    "cdata = pd.read_csv(\"../datasets/o-ring-erosion-only.data\", delim_whitespace=True, \n",
    "                    index_col=False, names=col_names)\n",
    "cdata.sample(5)"
   ]
  },
  {
   "cell_type": "code",
   "execution_count": 8,
   "id": "a89a10a8-40cb-4873-92e3-5c74eec00ad3",
   "metadata": {},
   "outputs": [
    {
     "data": {
      "text/html": [
       "<div>\n",
       "<style scoped>\n",
       "    .dataframe tbody tr th:only-of-type {\n",
       "        vertical-align: middle;\n",
       "    }\n",
       "\n",
       "    .dataframe tbody tr th {\n",
       "        vertical-align: top;\n",
       "    }\n",
       "\n",
       "    .dataframe thead th {\n",
       "        text-align: right;\n",
       "    }\n",
       "</style>\n",
       "<table border=\"1\" class=\"dataframe\">\n",
       "  <thead>\n",
       "    <tr style=\"text-align: right;\">\n",
       "      <th></th>\n",
       "      <th>Number</th>\n",
       "      <th>Number_TD</th>\n",
       "      <th>Temperature</th>\n",
       "      <th>Pressure</th>\n",
       "      <th>Order</th>\n",
       "    </tr>\n",
       "  </thead>\n",
       "  <tbody>\n",
       "    <tr>\n",
       "      <th>count</th>\n",
       "      <td>23.0</td>\n",
       "      <td>23.000000</td>\n",
       "      <td>23.000000</td>\n",
       "      <td>23.000000</td>\n",
       "      <td>23.00000</td>\n",
       "    </tr>\n",
       "    <tr>\n",
       "      <th>mean</th>\n",
       "      <td>6.0</td>\n",
       "      <td>0.304348</td>\n",
       "      <td>69.565217</td>\n",
       "      <td>152.173913</td>\n",
       "      <td>12.00000</td>\n",
       "    </tr>\n",
       "    <tr>\n",
       "      <th>std</th>\n",
       "      <td>0.0</td>\n",
       "      <td>0.558796</td>\n",
       "      <td>7.057080</td>\n",
       "      <td>68.221332</td>\n",
       "      <td>6.78233</td>\n",
       "    </tr>\n",
       "    <tr>\n",
       "      <th>min</th>\n",
       "      <td>6.0</td>\n",
       "      <td>0.000000</td>\n",
       "      <td>53.000000</td>\n",
       "      <td>50.000000</td>\n",
       "      <td>1.00000</td>\n",
       "    </tr>\n",
       "    <tr>\n",
       "      <th>25%</th>\n",
       "      <td>6.0</td>\n",
       "      <td>0.000000</td>\n",
       "      <td>67.000000</td>\n",
       "      <td>75.000000</td>\n",
       "      <td>6.50000</td>\n",
       "    </tr>\n",
       "    <tr>\n",
       "      <th>50%</th>\n",
       "      <td>6.0</td>\n",
       "      <td>0.000000</td>\n",
       "      <td>70.000000</td>\n",
       "      <td>200.000000</td>\n",
       "      <td>12.00000</td>\n",
       "    </tr>\n",
       "    <tr>\n",
       "      <th>75%</th>\n",
       "      <td>6.0</td>\n",
       "      <td>0.500000</td>\n",
       "      <td>75.000000</td>\n",
       "      <td>200.000000</td>\n",
       "      <td>17.50000</td>\n",
       "    </tr>\n",
       "    <tr>\n",
       "      <th>max</th>\n",
       "      <td>6.0</td>\n",
       "      <td>2.000000</td>\n",
       "      <td>81.000000</td>\n",
       "      <td>200.000000</td>\n",
       "      <td>23.00000</td>\n",
       "    </tr>\n",
       "  </tbody>\n",
       "</table>\n",
       "</div>"
      ],
      "text/plain": [
       "       Number  Number_TD  Temperature    Pressure     Order\n",
       "count    23.0  23.000000    23.000000   23.000000  23.00000\n",
       "mean      6.0   0.304348    69.565217  152.173913  12.00000\n",
       "std       0.0   0.558796     7.057080   68.221332   6.78233\n",
       "min       6.0   0.000000    53.000000   50.000000   1.00000\n",
       "25%       6.0   0.000000    67.000000   75.000000   6.50000\n",
       "50%       6.0   0.000000    70.000000  200.000000  12.00000\n",
       "75%       6.0   0.500000    75.000000  200.000000  17.50000\n",
       "max       6.0   2.000000    81.000000  200.000000  23.00000"
      ]
     },
     "execution_count": 8,
     "metadata": {},
     "output_type": "execute_result"
    }
   ],
   "source": [
    "# Descriptive statistics\n",
    "cdata.describe()"
   ]
  },
  {
   "cell_type": "markdown",
   "id": "73022963-4b99-47c5-860e-e188566dee54",
   "metadata": {},
   "source": [
    "From this summary description we can identify several points:\n",
    "1. there are 23 instances in this data set\n",
    "2. there are no missing values, since each feature has the same number in the `count` row and the `min` row _always contains a valid number_.\n",
    "3. the maximum value for the number of thermal distresses is two. \n",
    "\n",
    "---\n",
    "\n",
    "So let's take a look a the values in `Number_TD`:"
   ]
  },
  {
   "cell_type": "code",
   "execution_count": 9,
   "id": "5aff5d5c-c09c-426c-bc1e-650a4160b03e",
   "metadata": {},
   "outputs": [
    {
     "data": {
      "text/plain": [
       "0    17\n",
       "1     5\n",
       "2     1\n",
       "Name: Number_TD, dtype: int64"
      ]
     },
     "execution_count": 9,
     "metadata": {},
     "output_type": "execute_result"
    }
   ],
   "source": [
    "cdata.Number_TD.value_counts()"
   ]
  },
  {
   "cell_type": "markdown",
   "id": "04272c73-1be6-4f84-bdfb-aa755b1e752e",
   "metadata": {},
   "source": [
    "Only one instance has a non binary record. At this point we have three options:\n",
    "1. delete the instance,\n",
    "2. duplicate this instance so that two single failure instances exist in the data set, or\n",
    "3. change the instance to report only a single thermal distress.\n",
    "\n",
    "While any of these options might be valid from an algorithmic perspective, they differ from a modeling perspective:\n",
    "1. The first option would remove valuable data from our set, which is already small. This would also make our model less predictive since this was an actual failure, and we likely do not want to under predict failures, which could have devastating effects.\n",
    "2. duplicating this instance would be the same as having two separate launches at the same temperature. This could also be problematic, as it would overemphasize a failure at a given temperature.\n",
    "\n",
    "As a result, we will instead convert this instance to a single thermal distress. The reason in this case is that this measurement did find an instance of a thermal distress, and we are creating a model between temperature and the probability of a thermal failure.\n",
    "\n",
    "-----"
   ]
  },
  {
   "cell_type": "code",
   "execution_count": 10,
   "id": "67a259eb-3638-4022-85b3-e295722399e9",
   "metadata": {},
   "outputs": [],
   "source": [
    "# Modify instances with multiple thermal distresses\n",
    "cdata.loc[cdata['Number_TD'] > 1, 'Number_TD' ] = 1"
   ]
  },
  {
   "cell_type": "markdown",
   "id": "aa4af93d-2e3f-4f77-a74b-31927e282cb0",
   "metadata": {},
   "source": [
    "---\n",
    "Now that our data are prepared, we can model this data by using a logit function. To do this we will use the statsmodels module:"
   ]
  },
  {
   "cell_type": "code",
   "execution_count": 11,
   "id": "610b380c-fd9d-409d-877e-e15f862a0689",
   "metadata": {},
   "outputs": [],
   "source": [
    "import statsmodels.api as sm"
   ]
  },
  {
   "cell_type": "markdown",
   "id": "d6a9eda1-cd01-43b5-afe6-f3d6486bdd51",
   "metadata": {},
   "source": [
    "---\n",
    "Our first step is to construct our feature and label arrays. For the former, we extract the `Temperature` feature and explicitly add a constant term so that we start with a linear regression:"
   ]
  },
  {
   "cell_type": "code",
   "execution_count": 12,
   "id": "a5d0e6b3-1c0d-40d4-b35f-7de86244923a",
   "metadata": {},
   "outputs": [],
   "source": [
    "features = sm.add_constant(cdata['Temperature'], prepend=False)\n",
    "label = cdata['Number_TD']"
   ]
  },
  {
   "cell_type": "markdown",
   "id": "6c42277c-7b1d-415c-a077-c05c21ae23dc",
   "metadata": {},
   "source": [
    "Next, we create a logit estimator, and fit this estimator to the feature and label arrays:"
   ]
  },
  {
   "cell_type": "code",
   "execution_count": 17,
   "id": "f2f44fdb-95ff-4c88-93ee-03d63e4f994a",
   "metadata": {},
   "outputs": [
    {
     "name": "stdout",
     "output_type": "stream",
     "text": [
      "Optimization terminated successfully.\n",
      "         Current function value: 0.313604\n",
      "         Iterations 8\n",
      "\n",
      " Temperature    -0.366701\n",
      "const          23.774955\n",
      "dtype: float64\n"
     ]
    }
   ],
   "source": [
    "lgt_model = sm.Logit(label, features)\n",
    "lgt = lgt_model.fit()\n",
    "\n",
    "# Display the best fit intercept and slope:\n",
    "print('\\n', lgt.params)"
   ]
  },
  {
   "cell_type": "markdown",
   "id": "8dc21ebe-5c5f-4fba-a9da-ac1a44d8322f",
   "metadata": {
    "tags": []
   },
   "source": [
    "---\n",
    "We can now compare the newly generated logit model to the original data.\n",
    "\n",
    "Let's convert the logit model to a set of predictive values to compare with our data. This task is accomplished by generating a set of linearly spaced independent values spanning the temperature range of interest:"
   ]
  },
  {
   "cell_type": "code",
   "execution_count": 18,
   "id": "ba85df21-c145-44b4-aae1-966ca6367bda",
   "metadata": {},
   "outputs": [],
   "source": [
    "x = np.linspace(50, 85)"
   ]
  },
  {
   "cell_type": "markdown",
   "id": "55b32d78-1182-4d01-9065-f24b8ab4c2f4",
   "metadata": {},
   "source": [
    "Finally, we compute  the logistic function:"
   ]
  },
  {
   "cell_type": "code",
   "execution_count": 19,
   "id": "33734a66-fa4f-4938-aa12-451f709fdce7",
   "metadata": {},
   "outputs": [],
   "source": [
    "lgy = lgt.params['const'] + lgt.params['Temperature'] * x"
   ]
  },
  {
   "cell_type": "markdown",
   "id": "1bdf6cf5-283b-43b6-a03e-18d9400fef61",
   "metadata": {},
   "source": [
    "One last thing: we must substract our model from one, since it was trained to predict failures and not successes: 1 becomes 0 and 0 becomes 1"
   ]
  },
  {
   "cell_type": "code",
   "execution_count": 20,
   "id": "e4d45475-949a-4a5c-8185-419159b6c9ea",
   "metadata": {},
   "outputs": [],
   "source": [
    "# We subtract fit from one since in the data fail = 1.\n",
    "# A normal logit model is fail = 0\n",
    "y = 1 - 1.0 / (1.0 + np.exp(lgy))"
   ]
  },
  {
   "cell_type": "code",
   "execution_count": 25,
   "id": "f5748df9-39db-4589-86e9-c052921984ae",
   "metadata": {},
   "outputs": [
    {
     "data": {
      "image/png": "[encoded data removed]",
      "text/plain": [
       "<Figure size 720x432 with 1 Axes>"
      ]
     },
     "metadata": {},
     "output_type": "display_data"
    }
   ],
   "source": [
    "# Plots\n",
    "fig, ax = plt.subplots(figsize=(10, 6))\n",
    "plt.scatter(cdata['Temperature'], cdata['Number_TD'],\n",
    "            c='b', alpha = 0.5, label=f'Measured Data')\n",
    "ax.plot(x, y, c='g', alpha = 0.5, lw=2, linestyle='--', label='Model')\n",
    "\n",
    "ax.set_title('Logistic Fit', fontsize=18)\n",
    "ax.set_xlabel('Temperature (F)', fontsize=16)\n",
    "ax.set_ylabel('Probability of Failure', fontsize=16)\n",
    "ax.set_xlim(50, 85)\n",
    "ax.set_ylim(-0.05, 1.05)\n",
    "ax.legend(loc=7, fontsize=16)\n",
    "sns.despine(offset=5, trim=True)"
   ]
  },
  {
   "cell_type": "code",
   "execution_count": 23,
   "id": "465797ff-1a0c-4f4c-ac8d-3cebaf1599fb",
   "metadata": {},
   "outputs": [
    {
     "data": {
      "text/plain": [
       "[<matplotlib.lines.Line2D at 0x7fc763ab66d8>]"
      ]
     },
     "execution_count": 23,
     "metadata": {},
     "output_type": "execute_result"
    }
   ],
   "source": []
  },
  {
   "cell_type": "markdown",
   "id": "5c8a0e2f-211b-4996-8b6d-ad3c10c92bc8",
   "metadata": {},
   "source": [
    "-----\n",
    "\n",
    "Given a predictive model such as our computed logit model, we can also predict for new, unseen data. In this case, we can predict the probability of thermal failure for a given temperature. The following Code cell computes and displays these probabilities as a function of temperature. Note, that the temperature at launch during the Challenger disaster was 36 degrees Fahrenheit.\n",
    "\n",
    "-----"
   ]
  },
  {
   "cell_type": "code",
   "execution_count": 26,
   "id": "9baa11fe-f085-4974-8c9e-7f3931a31441",
   "metadata": {},
   "outputs": [
    {
     "name": "stdout",
     "output_type": "stream",
     "text": [
      "P(Fail) of O-Ring at 36 deg. = 1.00%\n",
      "P(Fail) of O-Ring at 58 deg. = 0.92%\n",
      "P(Fail) of O-Ring at 65 deg. = 0.48%\n",
      "P(Fail) of O-Ring at 72 deg. = 0.07%\n",
      "P(Fail) of O-Ring at 88 deg. = 0.00%\n"
     ]
    }
   ],
   "source": [
    "# Compute the probability of failure for different temperatures\n",
    "for t in [36, 58, 65, 72, 88]:\n",
    "    str = f'P(Fail) of O-Ring at {t} deg. = {lgt.predict([t, 1])[0]:4.2f}%'\n",
    "    print(str)"
   ]
  },
  {
   "cell_type": "markdown",
   "id": "464a36a6-b1c8-4f2e-8fa7-0d8dc8dd2fc9",
   "metadata": {},
   "source": [
    "---\n",
    "### Logistic Regression\n",
    "\n",
    "We can also compute a logistic regression to these data by using the scikit-learn library. In this case we will use the `LogisticRegression` estimatror.\n",
    "\n",
    "The estimator accepts a number of hyperparameters, of which the most important for our purposes include:\n",
    "- `C`: inverse of regulariztion strength\n",
    "- `class_weight`: weights to be applied to classes when performing regression, default is uniform\n",
    "- `penalty`: type of regularization to be applied, can be `l1` or `l2`\n",
    "- `fit_intercept`: specifies if a constant term should be included in the regression, the default is `True`\n",
    "- `random_state`: the seed used to initialize the random number generator, a constant value, that ensures reproducibility!\n",
    "\n",
    "To minimize the effects of regularization, we will introduce a high value for the C hyperparameter, which will reduce the impact of regularization on our model fit"
   ]
  },
  {
   "cell_type": "code",
   "execution_count": null,
   "id": "6fdb17e1-bbaf-41fc-bd60-19a18bbe337a",
   "metadata": {},
   "outputs": [],
   "source": [
    "from"
   ]
  }
 ],
 "metadata": {
  "kernelspec": {
   "display_name": "Python 3",
   "language": "python",
   "name": "python3"
  },
  "language_info": {
   "codemirror_mode": {
    "name": "ipython",
    "version": 3
   },
   "file_extension": ".py",
   "mimetype": "text/x-python",
   "name": "python",
   "nbconvert_exporter": "python",
   "pygments_lexer": "ipython3",
   "version": "3.6.13"
  }
 },
 "nbformat": 4,
 "nbformat_minor": 5
}
