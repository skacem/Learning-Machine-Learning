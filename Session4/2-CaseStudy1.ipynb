{
 "cells": [
  {
   "cell_type": "markdown",
   "id": "b2c2db00-54b4-44ee-a387-76b5f7962bbc",
   "metadata": {},
   "source": [
    "## Case Study: The Challenger Disaster"
   ]
  },
  {
   "cell_type": "code",
   "execution_count": 1,
   "id": "60c741e9-a0c5-4684-9f8b-d3e5dba8001e",
   "metadata": {},
   "outputs": [],
   "source": [
    "# Set up Notebook\n",
    "\n",
    "%matplotlib inline\n",
    "\n",
    "# Standard imports\n",
    "import pandas as pd\n",
    "import numpy as np\n",
    "import matplotlib.pyplot as plt\n",
    "import seaborn as sns\n",
    "\n",
    "# We do this to ignore several specific warnings\n",
    "import warnings\n",
    "warnings.filterwarnings(\"ignore\")\n",
    "\n",
    "sns.set(style=\"white\")"
   ]
  },
  {
   "cell_type": "markdown",
   "id": "42c70a33-8c72-4d5c-b091-96a49affbe85",
   "metadata": {},
   "source": [
    "### Logistic Modelling"
   ]
  },
  {
   "cell_type": "code",
   "execution_count": 2,
   "id": "cf84cb18-e626-4e47-b305-889202c7fd81",
   "metadata": {},
   "outputs": [
    {
     "data": {
      "text/html": [
       "<div>\n",
       "<style scoped>\n",
       "    .dataframe tbody tr th:only-of-type {\n",
       "        vertical-align: middle;\n",
       "    }\n",
       "\n",
       "    .dataframe tbody tr th {\n",
       "        vertical-align: top;\n",
       "    }\n",
       "\n",
       "    .dataframe thead th {\n",
       "        text-align: right;\n",
       "    }\n",
       "</style>\n",
       "<table border=\"1\" class=\"dataframe\">\n",
       "  <thead>\n",
       "    <tr style=\"text-align: right;\">\n",
       "      <th></th>\n",
       "      <th>Number</th>\n",
       "      <th>Number_TD</th>\n",
       "      <th>Temperature</th>\n",
       "      <th>Pressure</th>\n",
       "      <th>Order</th>\n",
       "    </tr>\n",
       "  </thead>\n",
       "  <tbody>\n",
       "    <tr>\n",
       "      <th>16</th>\n",
       "      <td>6</td>\n",
       "      <td>0</td>\n",
       "      <td>70</td>\n",
       "      <td>200</td>\n",
       "      <td>17</td>\n",
       "    </tr>\n",
       "    <tr>\n",
       "      <th>15</th>\n",
       "      <td>6</td>\n",
       "      <td>0</td>\n",
       "      <td>75</td>\n",
       "      <td>200</td>\n",
       "      <td>16</td>\n",
       "    </tr>\n",
       "    <tr>\n",
       "      <th>22</th>\n",
       "      <td>6</td>\n",
       "      <td>1</td>\n",
       "      <td>58</td>\n",
       "      <td>200</td>\n",
       "      <td>23</td>\n",
       "    </tr>\n",
       "    <tr>\n",
       "      <th>17</th>\n",
       "      <td>6</td>\n",
       "      <td>0</td>\n",
       "      <td>81</td>\n",
       "      <td>200</td>\n",
       "      <td>18</td>\n",
       "    </tr>\n",
       "    <tr>\n",
       "      <th>0</th>\n",
       "      <td>6</td>\n",
       "      <td>0</td>\n",
       "      <td>66</td>\n",
       "      <td>50</td>\n",
       "      <td>1</td>\n",
       "    </tr>\n",
       "  </tbody>\n",
       "</table>\n",
       "</div>"
      ],
      "text/plain": [
       "    Number  Number_TD  Temperature  Pressure  Order\n",
       "16       6          0           70       200     17\n",
       "15       6          0           75       200     16\n",
       "22       6          1           58       200     23\n",
       "17       6          0           81       200     18\n",
       "0        6          0           66        50      1"
      ]
     },
     "execution_count": 2,
     "metadata": {},
     "output_type": "execute_result"
    }
   ],
   "source": [
    "# Challenger disaster O-ring data\n",
    "\n",
    "# Feature names taken from UCI repository\n",
    "col_names = ['Number', 'Number_TD', 'Temperature', 'Pressure', 'Order']\n",
    "\n",
    "# Read in data, delimited by whitespace, use feature names\n",
    "cdata = pd.read_csv(\"../datasets/o-ring-erosion-only.data\", delim_whitespace=True, \n",
    "                    index_col=False, names=col_names)\n",
    "cdata.sample(5)"
   ]
  },
  {
   "cell_type": "code",
   "execution_count": 3,
   "id": "a89a10a8-40cb-4873-92e3-5c74eec00ad3",
   "metadata": {},
   "outputs": [
    {
     "data": {
      "text/html": [
       "<div>\n",
       "<style scoped>\n",
       "    .dataframe tbody tr th:only-of-type {\n",
       "        vertical-align: middle;\n",
       "    }\n",
       "\n",
       "    .dataframe tbody tr th {\n",
       "        vertical-align: top;\n",
       "    }\n",
       "\n",
       "    .dataframe thead th {\n",
       "        text-align: right;\n",
       "    }\n",
       "</style>\n",
       "<table border=\"1\" class=\"dataframe\">\n",
       "  <thead>\n",
       "    <tr style=\"text-align: right;\">\n",
       "      <th></th>\n",
       "      <th>Number</th>\n",
       "      <th>Number_TD</th>\n",
       "      <th>Temperature</th>\n",
       "      <th>Pressure</th>\n",
       "      <th>Order</th>\n",
       "    </tr>\n",
       "  </thead>\n",
       "  <tbody>\n",
       "    <tr>\n",
       "      <th>count</th>\n",
       "      <td>23.0</td>\n",
       "      <td>23.000000</td>\n",
       "      <td>23.000000</td>\n",
       "      <td>23.000000</td>\n",
       "      <td>23.00000</td>\n",
       "    </tr>\n",
       "    <tr>\n",
       "      <th>mean</th>\n",
       "      <td>6.0</td>\n",
       "      <td>0.304348</td>\n",
       "      <td>69.565217</td>\n",
       "      <td>152.173913</td>\n",
       "      <td>12.00000</td>\n",
       "    </tr>\n",
       "    <tr>\n",
       "      <th>std</th>\n",
       "      <td>0.0</td>\n",
       "      <td>0.558796</td>\n",
       "      <td>7.057080</td>\n",
       "      <td>68.221332</td>\n",
       "      <td>6.78233</td>\n",
       "    </tr>\n",
       "    <tr>\n",
       "      <th>min</th>\n",
       "      <td>6.0</td>\n",
       "      <td>0.000000</td>\n",
       "      <td>53.000000</td>\n",
       "      <td>50.000000</td>\n",
       "      <td>1.00000</td>\n",
       "    </tr>\n",
       "    <tr>\n",
       "      <th>25%</th>\n",
       "      <td>6.0</td>\n",
       "      <td>0.000000</td>\n",
       "      <td>67.000000</td>\n",
       "      <td>75.000000</td>\n",
       "      <td>6.50000</td>\n",
       "    </tr>\n",
       "    <tr>\n",
       "      <th>50%</th>\n",
       "      <td>6.0</td>\n",
       "      <td>0.000000</td>\n",
       "      <td>70.000000</td>\n",
       "      <td>200.000000</td>\n",
       "      <td>12.00000</td>\n",
       "    </tr>\n",
       "    <tr>\n",
       "      <th>75%</th>\n",
       "      <td>6.0</td>\n",
       "      <td>0.500000</td>\n",
       "      <td>75.000000</td>\n",
       "      <td>200.000000</td>\n",
       "      <td>17.50000</td>\n",
       "    </tr>\n",
       "    <tr>\n",
       "      <th>max</th>\n",
       "      <td>6.0</td>\n",
       "      <td>2.000000</td>\n",
       "      <td>81.000000</td>\n",
       "      <td>200.000000</td>\n",
       "      <td>23.00000</td>\n",
       "    </tr>\n",
       "  </tbody>\n",
       "</table>\n",
       "</div>"
      ],
      "text/plain": [
       "       Number  Number_TD  Temperature    Pressure     Order\n",
       "count    23.0  23.000000    23.000000   23.000000  23.00000\n",
       "mean      6.0   0.304348    69.565217  152.173913  12.00000\n",
       "std       0.0   0.558796     7.057080   68.221332   6.78233\n",
       "min       6.0   0.000000    53.000000   50.000000   1.00000\n",
       "25%       6.0   0.000000    67.000000   75.000000   6.50000\n",
       "50%       6.0   0.000000    70.000000  200.000000  12.00000\n",
       "75%       6.0   0.500000    75.000000  200.000000  17.50000\n",
       "max       6.0   2.000000    81.000000  200.000000  23.00000"
      ]
     },
     "execution_count": 3,
     "metadata": {},
     "output_type": "execute_result"
    }
   ],
   "source": [
    "# Descriptive statistics\n",
    "cdata.describe()"
   ]
  },
  {
   "cell_type": "markdown",
   "id": "73022963-4b99-47c5-860e-e188566dee54",
   "metadata": {},
   "source": [
    "From this summary description we can identify several points:\n",
    "1. there are 23 instances in this data set\n",
    "2. there are no missing values, since each feature has the same number in the `count` row and the `min` row _always contains a valid number_.\n",
    "3. the maximum value for the number of thermal distresses is two. \n",
    "\n",
    "---\n",
    "\n",
    "So let's take a look a the values in `Number_TD`:"
   ]
  },
  {
   "cell_type": "code",
   "execution_count": 4,
   "id": "5aff5d5c-c09c-426c-bc1e-650a4160b03e",
   "metadata": {},
   "outputs": [
    {
     "data": {
      "text/plain": [
       "0    17\n",
       "1     5\n",
       "2     1\n",
       "Name: Number_TD, dtype: int64"
      ]
     },
     "execution_count": 4,
     "metadata": {},
     "output_type": "execute_result"
    }
   ],
   "source": [
    "cdata.Number_TD.value_counts()"
   ]
  },
  {
   "cell_type": "markdown",
   "id": "04272c73-1be6-4f84-bdfb-aa755b1e752e",
   "metadata": {},
   "source": [
    "Only one instance has a non binary record. At this point we have three options:\n",
    "1. delete the instance,\n",
    "2. duplicate this instance so that two single failure instances exist in the data set, or\n",
    "3. change the instance to report only a single thermal distress.\n",
    "\n",
    "While any of these options might be valid from an algorithmic perspective, they differ from a modeling perspective:\n",
    "1. The first option would remove valuable data from our set, which is already small. This would also make our model less predictive since this was an actual failure, and we likely do not want to under predict failures, which could have devastating effects.\n",
    "2. duplicating this instance would be the same as having two separate launches at the same temperature. This could also be problematic, as it would overemphasize a failure at a given temperature.\n",
    "\n",
    "As a result, we will instead convert this instance to a single thermal distress. The reason in this case is that this measurement did find an instance of a thermal distress, and we are creating a model between temperature and the probability of a thermal failure.\n",
    "\n",
    "-----"
   ]
  },
  {
   "cell_type": "code",
   "execution_count": 5,
   "id": "67a259eb-3638-4022-85b3-e295722399e9",
   "metadata": {},
   "outputs": [],
   "source": [
    "# Modify instances with multiple thermal distresses\n",
    "cdata.loc[cdata['Number_TD'] > 1, 'Number_TD' ] = 1"
   ]
  },
  {
   "cell_type": "markdown",
   "id": "aa4af93d-2e3f-4f77-a74b-31927e282cb0",
   "metadata": {},
   "source": [
    "---\n",
    "Now that our data are prepared, we can model this data by using a logit function. To do this we will use the statsmodels module:"
   ]
  },
  {
   "cell_type": "code",
   "execution_count": 6,
   "id": "610b380c-fd9d-409d-877e-e15f862a0689",
   "metadata": {},
   "outputs": [],
   "source": [
    "import statsmodels.api as sm"
   ]
  },
  {
   "cell_type": "markdown",
   "id": "d6a9eda1-cd01-43b5-afe6-f3d6486bdd51",
   "metadata": {},
   "source": [
    "---\n",
    "Our first step is to construct our feature and label arrays. For the former, we extract the `Temperature` feature and explicitly add a constant term so that we start with a linear regression:"
   ]
  },
  {
   "cell_type": "code",
   "execution_count": 7,
   "id": "a5d0e6b3-1c0d-40d4-b35f-7de86244923a",
   "metadata": {},
   "outputs": [],
   "source": [
    "features = sm.add_constant(cdata['Temperature'], prepend=False)\n",
    "label = cdata['Number_TD']"
   ]
  },
  {
   "cell_type": "markdown",
   "id": "6c42277c-7b1d-415c-a077-c05c21ae23dc",
   "metadata": {},
   "source": [
    "Next, we create a logit estimator, and fit this estimator to the feature and label arrays:"
   ]
  },
  {
   "cell_type": "code",
   "execution_count": 8,
   "id": "f2f44fdb-95ff-4c88-93ee-03d63e4f994a",
   "metadata": {},
   "outputs": [
    {
     "name": "stdout",
     "output_type": "stream",
     "text": [
      "Optimization terminated successfully.\n",
      "         Current function value: 0.313604\n",
      "         Iterations 8\n",
      "\n",
      " Temperature    -0.366701\n",
      "const          23.774955\n",
      "dtype: float64\n"
     ]
    }
   ],
   "source": [
    "lgt_model = sm.Logit(label, features)\n",
    "lgt = lgt_model.fit()\n",
    "\n",
    "# Display the best fit intercept and slope:\n",
    "print('\\n', lgt.params)"
   ]
  },
  {
   "cell_type": "markdown",
   "id": "8dc21ebe-5c5f-4fba-a9da-ac1a44d8322f",
   "metadata": {
    "tags": []
   },
   "source": [
    "---\n",
    "We can now compare the newly generated logit model to the original data.\n",
    "\n",
    "Let's convert the logit model to a set of predictive values to compare with our data. This task is accomplished by generating a set of linearly spaced independent values spanning the temperature range of interest:"
   ]
  },
  {
   "cell_type": "code",
   "execution_count": 9,
   "id": "ba85df21-c145-44b4-aae1-966ca6367bda",
   "metadata": {},
   "outputs": [],
   "source": [
    "x = np.linspace(50, 85)"
   ]
  },
  {
   "cell_type": "markdown",
   "id": "55b32d78-1182-4d01-9065-f24b8ab4c2f4",
   "metadata": {},
   "source": [
    "Finally, we compute  the logistic function:"
   ]
  },
  {
   "cell_type": "code",
   "execution_count": 10,
   "id": "33734a66-fa4f-4938-aa12-451f709fdce7",
   "metadata": {},
   "outputs": [],
   "source": [
    "lgy = lgt.params['const'] + lgt.params['Temperature'] * x"
   ]
  },
  {
   "cell_type": "markdown",
   "id": "1bdf6cf5-283b-43b6-a03e-18d9400fef61",
   "metadata": {},
   "source": [
    "One last thing: we must substract our model from one, since it was trained to predict failures and not successes: 1 becomes 0 and 0 becomes 1"
   ]
  },
  {
   "cell_type": "code",
   "execution_count": 11,
   "id": "e4d45475-949a-4a5c-8185-419159b6c9ea",
   "metadata": {},
   "outputs": [],
   "source": [
    "# We subtract fit from one since in the data fail = 1.\n",
    "# A normal logit model is fail = 0\n",
    "y = 1 - 1.0 / (1.0 + np.exp(lgy))"
   ]
  },
  {
   "cell_type": "code",
   "execution_count": 12,
   "id": "f5748df9-39db-4589-86e9-c052921984ae",
   "metadata": {},
   "outputs": [
    {
     "data": {
      "image/png": "[encoded data removed]",
      "text/plain": [
       "<Figure size 720x432 with 1 Axes>"
      ]
     },
     "metadata": {},
     "output_type": "display_data"
    }
   ],
   "source": [
    "# Plots\n",
    "fig, ax = plt.subplots(figsize=(10, 6))\n",
    "plt.scatter(cdata['Temperature'], cdata['Number_TD'],\n",
    "            c='b', alpha = 0.5, label=f'Measured Data')\n",
    "ax.plot(x, y, c='g', alpha = 0.5, lw=2, linestyle='--', label='Model')\n",
    "\n",
    "ax.set_title('Logistic Fit', fontsize=18)\n",
    "ax.set_xlabel('Temperature (F)', fontsize=16)\n",
    "ax.set_ylabel('Probability of Failure', fontsize=16)\n",
    "ax.set_xlim(50, 85)\n",
    "ax.set_ylim(-0.05, 1.05)\n",
    "ax.legend(loc=7, fontsize=16)\n",
    "sns.despine(offset=5, trim=True)"
   ]
  },
  {
   "cell_type": "markdown",
   "id": "5c8a0e2f-211b-4996-8b6d-ad3c10c92bc8",
   "metadata": {},
   "source": [
    "-----\n",
    "\n",
    "Given a predictive model such as our computed logit model, we can also predict for new, unseen data. In this case, we can predict the probability of thermal failure for a given temperature. The following Code cell computes and displays these probabilities as a function of temperature. Note, that the temperature at launch during the Challenger disaster was 36 degrees Fahrenheit.\n",
    "\n",
    "-----"
   ]
  },
  {
   "cell_type": "code",
   "execution_count": 13,
   "id": "9baa11fe-f085-4974-8c9e-7f3931a31441",
   "metadata": {},
   "outputs": [
    {
     "name": "stdout",
     "output_type": "stream",
     "text": [
      "P(Fail) of O-Ring at 36 deg. = 1.00%\n",
      "P(Fail) of O-Ring at 58 deg. = 0.92%\n",
      "P(Fail) of O-Ring at 65 deg. = 0.48%\n",
      "P(Fail) of O-Ring at 72 deg. = 0.07%\n",
      "P(Fail) of O-Ring at 88 deg. = 0.00%\n"
     ]
    }
   ],
   "source": [
    "# Compute the probability of failure for different temperatures\n",
    "for t in [36, 58, 65, 72, 88]:\n",
    "    str = f'P(Fail) of O-Ring at {t} deg. = {lgt.predict([t, 1])[0]:4.2f}%'\n",
    "    print(str)"
   ]
  },
  {
   "cell_type": "markdown",
   "id": "464a36a6-b1c8-4f2e-8fa7-0d8dc8dd2fc9",
   "metadata": {},
   "source": [
    "---\n",
    "### Logistic Regression\n",
    "\n",
    "We can also compute a logistic regression to these data by using the scikit-learn library. In this case we will use the `LogisticRegression` estimatror.\n",
    "\n",
    "The estimator accepts a number of hyperparameters, of which the most important for our purposes include:\n",
    "- `C`: inverse of regulariztion strength\n",
    "- `class_weight`: weights to be applied to classes when performing regression, default is uniform\n",
    "- `penalty`: type of regularization to be applied, can be `l1` or `l2`\n",
    "- `fit_intercept`: specifies if a constant term should be included in the regression, the default is `True`\n",
    "- `random_state`: the seed used to initialize the random number generator, a constant value, that ensures reproducibility!\n",
    "\n",
    "To minimize the effects of regularization, we will introduce a high value for the C hyperparameter, which will reduce the impact of regularization on our model fit"
   ]
  },
  {
   "cell_type": "code",
   "execution_count": 14,
   "id": "6fdb17e1-bbaf-41fc-bd60-19a18bbe337a",
   "metadata": {},
   "outputs": [],
   "source": [
    "from sklearn.linear_model import LogisticRegression\n",
    "model = LogisticRegression(C=1E6)"
   ]
  },
  {
   "cell_type": "code",
   "execution_count": 26,
   "id": "ce5c8a3c-f266-4c9e-8d0f-cdcc6b1428ed",
   "metadata": {},
   "outputs": [],
   "source": [
    "from sklearn.model_selection import train_test_split\n",
    "features = cdata['Temperature'].values.reshape(23, 1)\n",
    "labels = cdata['Number_TD'].values.reshape(-1, 1)\n",
    "\n",
    "# Evaluate the model by splitting into train and test sets\n",
    "x_train, x_test, y_train, y_test = train_test_split(features, labels,\n",
    "                                                   test_size=0.4,\n",
    "                                                   stratify=labels,\n",
    "                                                   random_state=23)"
   ]
  },
  {
   "cell_type": "code",
   "execution_count": 27,
   "id": "ea79488c-8a65-4eab-8104-b5afcc726243",
   "metadata": {},
   "outputs": [],
   "source": [
    "# Fit a new model and predict on test data\n",
    "lr_model = model.fit(x_train, y_train)\n",
    "predicted = lr_model.predict(x_test)"
   ]
  },
  {
   "cell_type": "code",
   "execution_count": 28,
   "id": "27766c56-9110-4d72-b2d2-e48cb5cac5a7",
   "metadata": {},
   "outputs": [],
   "source": [
    "# Compute model values\n",
    "slope = lr_model.coef_[0][0]\n",
    "intercept = lr_model.intercept_[0]"
   ]
  },
  {
   "cell_type": "code",
   "execution_count": 41,
   "id": "e2fb81bd-d1f7-44e5-a51e-df768b870ef0",
   "metadata": {},
   "outputs": [
    {
     "data": {
      "text/plain": [
       "array([[-0.39976558]])"
      ]
     },
     "execution_count": 41,
     "metadata": {},
     "output_type": "execute_result"
    }
   ],
   "source": [
    "lr_model.coef_"
   ]
  },
  {
   "cell_type": "code",
   "execution_count": 29,
   "id": "83edd254-c50c-4b07-a1bd-f3d3151f1b52",
   "metadata": {},
   "outputs": [
    {
     "name": "stdout",
     "output_type": "stream",
     "text": [
      "LR Model Fit: 25.97 + -0.40 * Temperature\n"
     ]
    }
   ],
   "source": [
    "print(f'LR Model Fit: {intercept:4.2f} + {slope:4.2f} * Temperature')"
   ]
  },
  {
   "cell_type": "code",
   "execution_count": 30,
   "id": "5e0bb591-048b-4260-8a42-614150096807",
   "metadata": {},
   "outputs": [
    {
     "name": "stdout",
     "output_type": "stream",
     "text": [
      "[58] 1\n",
      "[67] 0\n",
      "[78] 0\n",
      "[53] 1\n",
      "[67] 0\n",
      "[70] 0\n",
      "[75] 0\n",
      "[70] 0\n",
      "[70] 0\n",
      "[76] 0\n"
     ]
    }
   ],
   "source": [
    "# Display data and predicted labels\n",
    "for data, label in zip(x_test, predicted):\n",
    "    print(data, label)"
   ]
  },
  {
   "cell_type": "markdown",
   "id": "a565ff4b-e845-4229-8230-80d50903c06b",
   "metadata": {},
   "source": [
    " ---\n",
    " We now use the scikit-learn library to compute and display performance metrics"
   ]
  },
  {
   "cell_type": "code",
   "execution_count": 31,
   "id": "ba2884bf-b9fa-435b-8a0a-3870fc7c1568",
   "metadata": {},
   "outputs": [
    {
     "name": "stdout",
     "output_type": "stream",
     "text": [
      "Logistic Regression [Challenger Data] Score = 90.0%\n",
      "\n",
      "              precision    recall  f1-score   support\n",
      "\n",
      "           0       0.88      1.00      0.93         7\n",
      "           1       1.00      0.67      0.80         3\n",
      "\n",
      "    accuracy                           0.90        10\n",
      "   macro avg       0.94      0.83      0.87        10\n",
      "weighted avg       0.91      0.90      0.89        10\n",
      "\n"
     ]
    }
   ],
   "source": [
    "from sklearn.metrics import accuracy_score, classification_report\n",
    "\n",
    "# Generate and display different evaluation metrics\n",
    "score = 100.0 * accuracy_score(y_test, predicted)\n",
    "print(f'Logistic Regression [Challenger Data] Score = {score:4.1f}%\\n')\n",
    "\n",
    "print(classification_report(y_test, predicted))"
   ]
  },
  {
   "cell_type": "code",
   "execution_count": 34,
   "id": "9dff1fd7-76fe-429b-a735-b9b466ef28bb",
   "metadata": {},
   "outputs": [
    {
     "data": {
      "image/png": "[encoded data removed]",
      "text/plain": [
       "<Figure size 432x288 with 2 Axes>"
      ]
     },
     "metadata": {},
     "output_type": "display_data"
    }
   ],
   "source": [
    "# Display confusion matrix for the binary classification\n",
    "# example by using our helper function\n",
    "\n",
    "import mlplots as ml\n",
    "\n",
    "ml.confusion(y_test.reshape(y_test.shape[0]), \n",
    "             predicted, ['No Failure', 'Failure'], 2, 'O-Ring Thermal Distress')"
   ]
  },
  {
   "cell_type": "markdown",
   "id": "28e5139c-ed9c-4df5-9c3d-fa6ff720f323",
   "metadata": {},
   "source": [
    "## Performance Metrics\n",
    "\n",
    "In a binary classification problem, like the O-ring classification task, we generate a confusion matrix that has four elements. In this case, we can explicitly label each element by its result, as shown in the following table:\n",
    "\n",
    "|  | |\n",
    "| --- |--- |\n",
    "| True  Negative (**TN**)| False Positive (**FP**)|\n",
    "| False Negative (**FN**)| True Positive (**TP**)|"
   ]
  },
  {
   "cell_type": "markdown",
   "id": "f7709ebf-fce7-40cd-b098-e3687a603df3",
   "metadata": {},
   "source": [
    "Note that in our O-ring example, a success was that the O-ring did not fail, which corresponded to a zero. Thus, we have the following results from our O-ring classification demonstration:\n",
    "\n",
    "- $TN = 7$\n",
    "- $FP = 0$\n",
    "- $FN = 1$\n",
    "- $TP = 2$\n",
    "\n",
    "This means that we correctly predicted seven launches would not have O-ring failures (**TN**), while two launches would have O-ring failures (**TP**). On the other hand, we incorrectly predicted that one launch would have an O-ring failure when it didn't (**FN**), but we did miss predicting any real failures (**FP**)."
   ]
  },
  {
   "cell_type": "markdown",
   "id": "c257e99b-6ffd-4a47-8374-4387a9780a71",
   "metadata": {},
   "source": [
    "We can, however, relate these four quantities to a number of standard performance metrics, including the precision, recall, and the F1-score, as shown in the following table.\n",
    "\n",
    "| | | |\n",
    "| -- | -- | -- |\n",
    "| Precision |  Positive Predictive Value | $\\frac{TP}{TP + FP}$ |\n",
    "| Accuracy |   | $\\frac{TP + TN}{TP  + TN + FP + FN}$ |\n",
    "| Recall (Sensitivity) |  True Positive Rate | $\\frac{TP}{TP + FN}$ |\n",
    "| F1-score ($F_1$)|  Harmonic mean of Precision and Recall | $\\frac{2TP}{2TP + FN + FP}$ |\n",
    "| Specificity |  True Negative Rate | $\\frac{TN}{TN + FP}$ |\n",
    "| False Positive Rate (Fall Out)|  FPR | $\\frac{FP}{FP + TN}$ |\n",
    "| False Discovery Rate |  FDR | $\\frac{FP}{FP + TP}$ |\n",
    "\n",
    "In addition to these performance metrics, we also have two commonly used terms that characterize classification mistakes.   \n",
    "  "
   ]
  },
  {
   "cell_type": "markdown",
   "id": "715fc5d6-8e91-4f6e-ba27-d282b594aa3a",
   "metadata": {},
   "source": [
    "Type I Error: False Positive: Predicting a condition is true when it is false, hence a _False Hit_.\n",
    "Type II Error: False Negative: Predicting a condition is false when it is true, a _Miss_."
   ]
  },
  {
   "cell_type": "code",
   "execution_count": 42,
   "id": "57cee960-41fa-4efc-b97b-278e03838988",
   "metadata": {},
   "outputs": [
    {
     "name": "stdout",
     "output_type": "stream",
     "text": [
      "Computed metrics from the confusion matrix\n",
      "------------------------------------------\n",
      "Precision   = 100.00%\n",
      "Accuracy    = 90.00%\n",
      "Recall      = 66.67%\n",
      "F1-score    = 80.00%\n"
     ]
    }
   ],
   "source": [
    "from sklearn.metrics import confusion_matrix\n",
    "tn, fp, fn, tp = confusion_matrix(y_test.reshape(y_test.shape[0]), \n",
    "                                  predicted).ravel()\n",
    "\n",
    "print('Computed metrics from the confusion matrix')\n",
    "print(42*'-')\n",
    "print(f'Precision   = {100.0 * tp/(tp + fp):5.2f}%')\n",
    "print(f'Accuracy    = {100.0 * (tp + tn)/(tp + tn + fp + fn):5.2f}%')\n",
    "print(f'Recall      = {100.0 * tp/(tp + fn):5.2f}%')\n",
    "print(f'F1-score    = {100.0 * 2 * tp/(2 * tp + fp + fn):5.2f}%')"
   ]
  },
  {
   "cell_type": "code",
   "execution_count": 43,
   "id": "4eb5ec2a-0a62-4d33-aa60-2a5634b9868e",
   "metadata": {},
   "outputs": [
    {
     "name": "stdout",
     "output_type": "stream",
     "text": [
      "Computed metrics from the scikit-learn module\n",
      "---------------------------------------------\n",
      "Precision   = 100.00%\n",
      "Accuracy    = 90.00%\n",
      "Recall      = 66.67%\n",
      "F1-score    = 80.00%\n"
     ]
    }
   ],
   "source": [
    "from sklearn.metrics import precision_score\n",
    "from sklearn.metrics import accuracy_score\n",
    "from sklearn.metrics import recall_score\n",
    "from sklearn.metrics import f1_score\n",
    "\n",
    "print('Computed metrics from the scikit-learn module')\n",
    "print(45*'-')\n",
    "print(f'Precision   = {100.0 * precision_score(y_test, predicted):5.2f}%')\n",
    "print(f'Accuracy    = {100.0 * accuracy_score(y_test, predicted):5.2f}%')\n",
    "print(f'Recall      = {100.0 * recall_score(y_test, predicted):5.2f}%')\n",
    "print(f'F1-score    = {100.0 * f1_score(y_test, predicted):5.2f}%')"
   ]
  },
  {
   "cell_type": "markdown",
   "id": "fcaf4e50-839b-469a-bf7f-f8d45a373b18",
   "metadata": {},
   "source": [
    "We now perform a visual comparison of our model and data"
   ]
  },
  {
   "cell_type": "code",
   "execution_count": 44,
   "id": "347f1437-345c-4481-9da1-c09829dd86fe",
   "metadata": {},
   "outputs": [
    {
     "data": {
      "image/png": "[encoded data removed]",
      "text/plain": [
       "<Figure size 720x432 with 1 Axes>"
      ]
     },
     "metadata": {},
     "output_type": "display_data"
    }
   ],
   "source": [
    "# Sample points\n",
    "x = np.linspace(50, 85)\n",
    "\n",
    "# Compute Model\n",
    "lgy = lr_model.intercept_[0] + lr_model.coef_[0][0] * x\n",
    "y = 1.0 - 1.0 / (1.0 + np.exp(lgy))\n",
    "\n",
    "# Predicted data\n",
    "y2 = lr_model.predict(x.reshape(x.shape[0], 1))\n",
    "\n",
    "# Make the plots\n",
    "fig, ax = plt.subplots(figsize=(10, 6))\n",
    "\n",
    "# Plot data and model\n",
    "plt.scatter(cdata['Temperature'], cdata['Number_TD'],\n",
    "            c='b', alpha = 0.4, label=f'Measured data')\n",
    "ax.plot(x, y, c='r', alpha = 0.25, lw=2, linestyle='--', label='Logistic regression model')\n",
    "ax.plot(x, y2, c='g', alpha = 0.25, lw=2, linestyle='--', label='Model predicted data')\n",
    "\n",
    "# Decorate plot appropriately\n",
    "ax.set_title('O-Ring Thermal Distress Classification', fontsize=18)\n",
    "ax.set_xlabel('Temperature (F)', fontsize=16)\n",
    "ax.set_ylabel('Probability of Failure', fontsize=16)\n",
    "ax.set_xlim(50, 85)\n",
    "ax.set_ylim(-0.05, 1.05)\n",
    "ax.legend(loc=7, fontsize=16)\n",
    "sns.despine(offset=5, trim=True)"
   ]
  },
  {
   "cell_type": "code",
   "execution_count": null,
   "id": "3dd6bde2-a2c6-4758-bdb6-d0dae59ebd6c",
   "metadata": {},
   "outputs": [],
   "source": []
  }
 ],
 "metadata": {
  "kernelspec": {
   "display_name": "Python 3",
   "language": "python",
   "name": "python3"
  },
  "language_info": {
   "codemirror_mode": {
    "name": "ipython",
    "version": 3
   },
   "file_extension": ".py",
   "mimetype": "text/x-python",
   "name": "python",
   "nbconvert_exporter": "python",
   "pygments_lexer": "ipython3",
   "version": "3.6.13"
  }
 },
 "nbformat": 4,
 "nbformat_minor": 5
}
