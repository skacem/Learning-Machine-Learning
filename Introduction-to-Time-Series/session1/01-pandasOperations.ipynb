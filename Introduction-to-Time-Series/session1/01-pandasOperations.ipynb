{
 "cells": [
  {
   "cell_type": "code",
   "execution_count": 1,
   "id": "f6845530-7ab4-4dc9-b307-5eee7a8efc64",
   "metadata": {},
   "outputs": [],
   "source": [
    "import pandas as pd\n",
    "import numpy as np\n",
    "import datetime"
   ]
  },
  {
   "cell_type": "code",
   "execution_count": 2,
   "id": "a0c8a1a1-3381-4e91-8614-7430d5b6be98",
   "metadata": {},
   "outputs": [],
   "source": [
    "data = {\n",
    "    'dogs': [12, 17, 5, 12, 1, 5],\n",
    "    'birds': [10, 7, 13, 2, 8, 19],\n",
    "    'cats': [4, 14, 8, 15, 11, 3]\n",
    "}"
   ]
  },
  {
   "cell_type": "code",
   "execution_count": 3,
   "id": "9323491a-35ac-43a3-b405-8793b5335cd2",
   "metadata": {},
   "outputs": [
    {
     "data": {
      "text/html": [
       "<div>\n",
       "<style scoped>\n",
       "    .dataframe tbody tr th:only-of-type {\n",
       "        vertical-align: middle;\n",
       "    }\n",
       "\n",
       "    .dataframe tbody tr th {\n",
       "        vertical-align: top;\n",
       "    }\n",
       "\n",
       "    .dataframe thead th {\n",
       "        text-align: right;\n",
       "    }\n",
       "</style>\n",
       "<table border=\"1\" class=\"dataframe\">\n",
       "  <thead>\n",
       "    <tr style=\"text-align: right;\">\n",
       "      <th></th>\n",
       "      <th>dogs</th>\n",
       "      <th>birds</th>\n",
       "      <th>cats</th>\n",
       "    </tr>\n",
       "  </thead>\n",
       "  <tbody>\n",
       "    <tr>\n",
       "      <th>0</th>\n",
       "      <td>12</td>\n",
       "      <td>10</td>\n",
       "      <td>4</td>\n",
       "    </tr>\n",
       "    <tr>\n",
       "      <th>1</th>\n",
       "      <td>17</td>\n",
       "      <td>7</td>\n",
       "      <td>14</td>\n",
       "    </tr>\n",
       "    <tr>\n",
       "      <th>2</th>\n",
       "      <td>5</td>\n",
       "      <td>13</td>\n",
       "      <td>8</td>\n",
       "    </tr>\n",
       "    <tr>\n",
       "      <th>3</th>\n",
       "      <td>12</td>\n",
       "      <td>2</td>\n",
       "      <td>15</td>\n",
       "    </tr>\n",
       "    <tr>\n",
       "      <th>4</th>\n",
       "      <td>1</td>\n",
       "      <td>8</td>\n",
       "      <td>11</td>\n",
       "    </tr>\n",
       "    <tr>\n",
       "      <th>5</th>\n",
       "      <td>5</td>\n",
       "      <td>19</td>\n",
       "      <td>3</td>\n",
       "    </tr>\n",
       "  </tbody>\n",
       "</table>\n",
       "</div>"
      ],
      "text/plain": [
       "   dogs  birds  cats\n",
       "0    12     10     4\n",
       "1    17      7    14\n",
       "2     5     13     8\n",
       "3    12      2    15\n",
       "4     1      8    11\n",
       "5     5     19     3"
      ]
     },
     "execution_count": 3,
     "metadata": {},
     "output_type": "execute_result"
    }
   ],
   "source": [
    "# Convert dictionary to a pandas df\n",
    "shelter = pd.DataFrame(data)\n",
    "shelter"
   ]
  },
  {
   "cell_type": "code",
   "execution_count": 4,
   "id": "1ecab8a6-b140-44d2-ab9c-d6dcfea3263e",
   "metadata": {},
   "outputs": [
    {
     "name": "stdout",
     "output_type": "stream",
     "text": [
      "<class 'pandas.core.frame.DataFrame'>\n",
      "RangeIndex: 6 entries, 0 to 5\n",
      "Data columns (total 3 columns):\n",
      " #   Column  Non-Null Count  Dtype\n",
      "---  ------  --------------  -----\n",
      " 0   dogs    6 non-null      int64\n",
      " 1   birds   6 non-null      int64\n",
      " 2   cats    6 non-null      int64\n",
      "dtypes: int64(3)\n",
      "memory usage: 272.0 bytes\n"
     ]
    }
   ],
   "source": [
    "shelter.info()"
   ]
  },
  {
   "cell_type": "code",
   "execution_count": 5,
   "id": "251bf957-eaff-405d-a6de-1ef13dbf4507",
   "metadata": {},
   "outputs": [
    {
     "data": {
      "text/html": [
       "<div>\n",
       "<style scoped>\n",
       "    .dataframe tbody tr th:only-of-type {\n",
       "        vertical-align: middle;\n",
       "    }\n",
       "\n",
       "    .dataframe tbody tr th {\n",
       "        vertical-align: top;\n",
       "    }\n",
       "\n",
       "    .dataframe thead th {\n",
       "        text-align: right;\n",
       "    }\n",
       "</style>\n",
       "<table border=\"1\" class=\"dataframe\">\n",
       "  <thead>\n",
       "    <tr style=\"text-align: right;\">\n",
       "      <th></th>\n",
       "      <th>dogs</th>\n",
       "      <th>birds</th>\n",
       "      <th>cats</th>\n",
       "    </tr>\n",
       "  </thead>\n",
       "  <tbody>\n",
       "    <tr>\n",
       "      <th>shelter0</th>\n",
       "      <td>12</td>\n",
       "      <td>10</td>\n",
       "      <td>4</td>\n",
       "    </tr>\n",
       "    <tr>\n",
       "      <th>shelter1</th>\n",
       "      <td>17</td>\n",
       "      <td>7</td>\n",
       "      <td>14</td>\n",
       "    </tr>\n",
       "    <tr>\n",
       "      <th>shelter2</th>\n",
       "      <td>5</td>\n",
       "      <td>13</td>\n",
       "      <td>8</td>\n",
       "    </tr>\n",
       "    <tr>\n",
       "      <th>shelter3</th>\n",
       "      <td>12</td>\n",
       "      <td>2</td>\n",
       "      <td>15</td>\n",
       "    </tr>\n",
       "    <tr>\n",
       "      <th>shelter4</th>\n",
       "      <td>1</td>\n",
       "      <td>8</td>\n",
       "      <td>11</td>\n",
       "    </tr>\n",
       "    <tr>\n",
       "      <th>shelter5</th>\n",
       "      <td>5</td>\n",
       "      <td>19</td>\n",
       "      <td>3</td>\n",
       "    </tr>\n",
       "  </tbody>\n",
       "</table>\n",
       "</div>"
      ],
      "text/plain": [
       "          dogs  birds  cats\n",
       "shelter0    12     10     4\n",
       "shelter1    17      7    14\n",
       "shelter2     5     13     8\n",
       "shelter3    12      2    15\n",
       "shelter4     1      8    11\n",
       "shelter5     5     19     3"
      ]
     },
     "execution_count": 5,
     "metadata": {},
     "output_type": "execute_result"
    }
   ],
   "source": [
    "# create a df with index names specified\n",
    "idx_names = ['shelter0', 'shelter1', 'shelter2', 'shelter3', 'shelter4', 'shelter5']\n",
    "shelter_indexname = pd.DataFrame(data, index=idx_names)\n",
    "shelter_indexname"
   ]
  },
  {
   "cell_type": "code",
   "execution_count": 6,
   "id": "aa02f880-c9de-4621-bdbc-7624d44a82fe",
   "metadata": {},
   "outputs": [
    {
     "data": {
      "text/plain": [
       "dogs     12\n",
       "birds     2\n",
       "cats     15\n",
       "Name: shelter3, dtype: int64"
      ]
     },
     "execution_count": 6,
     "metadata": {},
     "output_type": "execute_result"
    }
   ],
   "source": [
    "shelter_indexname.loc['shelter3']"
   ]
  },
  {
   "cell_type": "code",
   "execution_count": 7,
   "id": "cc92f2bf-fa3e-4076-88af-cd3542f04dd9",
   "metadata": {},
   "outputs": [
    {
     "data": {
      "text/plain": [
       "2"
      ]
     },
     "execution_count": 7,
     "metadata": {},
     "output_type": "execute_result"
    }
   ],
   "source": [
    "# select row and column, using loc[]\n",
    "shelter_indexname.loc['shelter3', 'birds']"
   ]
  },
  {
   "cell_type": "code",
   "execution_count": 8,
   "id": "63939954-cb01-4e51-abfb-a50366a14430",
   "metadata": {},
   "outputs": [
    {
     "data": {
      "text/html": [
       "<div>\n",
       "<style scoped>\n",
       "    .dataframe tbody tr th:only-of-type {\n",
       "        vertical-align: middle;\n",
       "    }\n",
       "\n",
       "    .dataframe tbody tr th {\n",
       "        vertical-align: top;\n",
       "    }\n",
       "\n",
       "    .dataframe thead th {\n",
       "        text-align: right;\n",
       "    }\n",
       "</style>\n",
       "<table border=\"1\" class=\"dataframe\">\n",
       "  <thead>\n",
       "    <tr style=\"text-align: right;\">\n",
       "      <th></th>\n",
       "      <th>dogs</th>\n",
       "      <th>birds</th>\n",
       "      <th>cats</th>\n",
       "    </tr>\n",
       "  </thead>\n",
       "  <tbody>\n",
       "    <tr>\n",
       "      <th>shelter2</th>\n",
       "      <td>5</td>\n",
       "      <td>13</td>\n",
       "      <td>8</td>\n",
       "    </tr>\n",
       "    <tr>\n",
       "      <th>shelter3</th>\n",
       "      <td>12</td>\n",
       "      <td>2</td>\n",
       "      <td>15</td>\n",
       "    </tr>\n",
       "    <tr>\n",
       "      <th>shelter4</th>\n",
       "      <td>1</td>\n",
       "      <td>8</td>\n",
       "      <td>11</td>\n",
       "    </tr>\n",
       "  </tbody>\n",
       "</table>\n",
       "</div>"
      ],
      "text/plain": [
       "          dogs  birds  cats\n",
       "shelter2     5     13     8\n",
       "shelter3    12      2    15\n",
       "shelter4     1      8    11"
      ]
     },
     "execution_count": 8,
     "metadata": {},
     "output_type": "execute_result"
    }
   ],
   "source": [
    "# slice by row, using positions, python way\n",
    "shelter_indexname[2:5]"
   ]
  },
  {
   "cell_type": "code",
   "execution_count": 9,
   "id": "0d427874-ec90-48ef-803b-ca61146e602c",
   "metadata": {},
   "outputs": [
    {
     "data": {
      "text/html": [
       "<div>\n",
       "<style scoped>\n",
       "    .dataframe tbody tr th:only-of-type {\n",
       "        vertical-align: middle;\n",
       "    }\n",
       "\n",
       "    .dataframe tbody tr th {\n",
       "        vertical-align: top;\n",
       "    }\n",
       "\n",
       "    .dataframe thead th {\n",
       "        text-align: right;\n",
       "    }\n",
       "</style>\n",
       "<table border=\"1\" class=\"dataframe\">\n",
       "  <thead>\n",
       "    <tr style=\"text-align: right;\">\n",
       "      <th></th>\n",
       "      <th>dogs</th>\n",
       "      <th>birds</th>\n",
       "      <th>cats</th>\n",
       "    </tr>\n",
       "  </thead>\n",
       "  <tbody>\n",
       "    <tr>\n",
       "      <th>shelter2</th>\n",
       "      <td>5</td>\n",
       "      <td>13</td>\n",
       "      <td>8</td>\n",
       "    </tr>\n",
       "    <tr>\n",
       "      <th>shelter3</th>\n",
       "      <td>12</td>\n",
       "      <td>2</td>\n",
       "      <td>15</td>\n",
       "    </tr>\n",
       "    <tr>\n",
       "      <th>shelter4</th>\n",
       "      <td>1</td>\n",
       "      <td>8</td>\n",
       "      <td>11</td>\n",
       "    </tr>\n",
       "  </tbody>\n",
       "</table>\n",
       "</div>"
      ],
      "text/plain": [
       "          dogs  birds  cats\n",
       "shelter2     5     13     8\n",
       "shelter3    12      2    15\n",
       "shelter4     1      8    11"
      ]
     },
     "execution_count": 9,
     "metadata": {},
     "output_type": "execute_result"
    }
   ],
   "source": [
    "shelter_indexname.iloc[2:5]"
   ]
  },
  {
   "cell_type": "code",
   "execution_count": 10,
   "id": "159dd4ae-336f-47bb-97ea-b631af26c0e8",
   "metadata": {},
   "outputs": [
    {
     "data": {
      "text/plain": [
       "shelter0    10\n",
       "shelter1     7\n",
       "shelter2    13\n",
       "shelter3     2\n",
       "shelter4     8\n",
       "shelter5    19\n",
       "Name: birds, dtype: int64"
      ]
     },
     "execution_count": 10,
     "metadata": {},
     "output_type": "execute_result"
    }
   ],
   "source": [
    "# Select multiple rows and columns with slice method\n",
    "shelter_indexname.iloc[:, 1]"
   ]
  },
  {
   "cell_type": "code",
   "execution_count": 11,
   "id": "57e93ca8-e6fb-426c-856b-f88103587312",
   "metadata": {},
   "outputs": [
    {
     "data": {
      "text/html": [
       "<div>\n",
       "<style scoped>\n",
       "    .dataframe tbody tr th:only-of-type {\n",
       "        vertical-align: middle;\n",
       "    }\n",
       "\n",
       "    .dataframe tbody tr th {\n",
       "        vertical-align: top;\n",
       "    }\n",
       "\n",
       "    .dataframe thead th {\n",
       "        text-align: right;\n",
       "    }\n",
       "</style>\n",
       "<table border=\"1\" class=\"dataframe\">\n",
       "  <thead>\n",
       "    <tr style=\"text-align: right;\">\n",
       "      <th></th>\n",
       "      <th>dogs</th>\n",
       "      <th>birds</th>\n",
       "    </tr>\n",
       "  </thead>\n",
       "  <tbody>\n",
       "    <tr>\n",
       "      <th>shelter2</th>\n",
       "      <td>5</td>\n",
       "      <td>13</td>\n",
       "    </tr>\n",
       "    <tr>\n",
       "      <th>shelter3</th>\n",
       "      <td>12</td>\n",
       "      <td>2</td>\n",
       "    </tr>\n",
       "    <tr>\n",
       "      <th>shelter4</th>\n",
       "      <td>1</td>\n",
       "      <td>8</td>\n",
       "    </tr>\n",
       "  </tbody>\n",
       "</table>\n",
       "</div>"
      ],
      "text/plain": [
       "          dogs  birds\n",
       "shelter2     5     13\n",
       "shelter3    12      2\n",
       "shelter4     1      8"
      ]
     },
     "execution_count": 11,
     "metadata": {},
     "output_type": "execute_result"
    }
   ],
   "source": [
    "shelter_indexname.iloc[2:5, 0:2]"
   ]
  },
  {
   "cell_type": "code",
   "execution_count": 12,
   "id": "105c9f11-0ac6-4309-9c2c-cb773799b14e",
   "metadata": {},
   "outputs": [
    {
     "data": {
      "text/html": [
       "<div>\n",
       "<style scoped>\n",
       "    .dataframe tbody tr th:only-of-type {\n",
       "        vertical-align: middle;\n",
       "    }\n",
       "\n",
       "    .dataframe tbody tr th {\n",
       "        vertical-align: top;\n",
       "    }\n",
       "\n",
       "    .dataframe thead th {\n",
       "        text-align: right;\n",
       "    }\n",
       "</style>\n",
       "<table border=\"1\" class=\"dataframe\">\n",
       "  <thead>\n",
       "    <tr style=\"text-align: right;\">\n",
       "      <th></th>\n",
       "      <th>dogs</th>\n",
       "      <th>cats</th>\n",
       "    </tr>\n",
       "  </thead>\n",
       "  <tbody>\n",
       "    <tr>\n",
       "      <th>shelter0</th>\n",
       "      <td>12</td>\n",
       "      <td>4</td>\n",
       "    </tr>\n",
       "    <tr>\n",
       "      <th>shelter1</th>\n",
       "      <td>17</td>\n",
       "      <td>14</td>\n",
       "    </tr>\n",
       "    <tr>\n",
       "      <th>shelter2</th>\n",
       "      <td>5</td>\n",
       "      <td>8</td>\n",
       "    </tr>\n",
       "    <tr>\n",
       "      <th>shelter3</th>\n",
       "      <td>12</td>\n",
       "      <td>15</td>\n",
       "    </tr>\n",
       "    <tr>\n",
       "      <th>shelter4</th>\n",
       "      <td>1</td>\n",
       "      <td>11</td>\n",
       "    </tr>\n",
       "    <tr>\n",
       "      <th>shelter5</th>\n",
       "      <td>5</td>\n",
       "      <td>3</td>\n",
       "    </tr>\n",
       "  </tbody>\n",
       "</table>\n",
       "</div>"
      ],
      "text/plain": [
       "          dogs  cats\n",
       "shelter0    12     4\n",
       "shelter1    17    14\n",
       "shelter2     5     8\n",
       "shelter3    12    15\n",
       "shelter4     1    11\n",
       "shelter5     5     3"
      ]
     },
     "execution_count": 12,
     "metadata": {},
     "output_type": "execute_result"
    }
   ],
   "source": [
    "# select multiple columns with brackets\n",
    "shelter_indexname[['dogs', 'cats']]"
   ]
  },
  {
   "cell_type": "code",
   "execution_count": 13,
   "id": "50e5484d-12b0-44c6-aa1b-c349c8e6b6f8",
   "metadata": {},
   "outputs": [
    {
     "data": {
      "text/plain": [
       "Index(['dogs', 'birds', 'cats'], dtype='object')"
      ]
     },
     "execution_count": 13,
     "metadata": {},
     "output_type": "execute_result"
    }
   ],
   "source": [
    "shelter_indexname.columns"
   ]
  },
  {
   "cell_type": "code",
   "execution_count": 14,
   "id": "c5e31bbb-abf0-4f5e-b93c-c0fa80642422",
   "metadata": {},
   "outputs": [
    {
     "data": {
      "text/html": [
       "<div>\n",
       "<style scoped>\n",
       "    .dataframe tbody tr th:only-of-type {\n",
       "        vertical-align: middle;\n",
       "    }\n",
       "\n",
       "    .dataframe tbody tr th {\n",
       "        vertical-align: top;\n",
       "    }\n",
       "\n",
       "    .dataframe thead th {\n",
       "        text-align: right;\n",
       "    }\n",
       "</style>\n",
       "<table border=\"1\" class=\"dataframe\">\n",
       "  <thead>\n",
       "    <tr style=\"text-align: right;\">\n",
       "      <th></th>\n",
       "      <th>dogs</th>\n",
       "      <th>birds</th>\n",
       "      <th>cats</th>\n",
       "    </tr>\n",
       "  </thead>\n",
       "  <tbody>\n",
       "    <tr>\n",
       "      <th>shelter5</th>\n",
       "      <td>5</td>\n",
       "      <td>19</td>\n",
       "      <td>3</td>\n",
       "    </tr>\n",
       "    <tr>\n",
       "      <th>shelter0</th>\n",
       "      <td>12</td>\n",
       "      <td>10</td>\n",
       "      <td>4</td>\n",
       "    </tr>\n",
       "    <tr>\n",
       "      <th>shelter2</th>\n",
       "      <td>5</td>\n",
       "      <td>13</td>\n",
       "      <td>8</td>\n",
       "    </tr>\n",
       "    <tr>\n",
       "      <th>shelter4</th>\n",
       "      <td>1</td>\n",
       "      <td>8</td>\n",
       "      <td>11</td>\n",
       "    </tr>\n",
       "    <tr>\n",
       "      <th>shelter1</th>\n",
       "      <td>17</td>\n",
       "      <td>7</td>\n",
       "      <td>14</td>\n",
       "    </tr>\n",
       "    <tr>\n",
       "      <th>shelter3</th>\n",
       "      <td>12</td>\n",
       "      <td>2</td>\n",
       "      <td>15</td>\n",
       "    </tr>\n",
       "  </tbody>\n",
       "</table>\n",
       "</div>"
      ],
      "text/plain": [
       "          dogs  birds  cats\n",
       "shelter5     5     19     3\n",
       "shelter0    12     10     4\n",
       "shelter2     5     13     8\n",
       "shelter4     1      8    11\n",
       "shelter1    17      7    14\n",
       "shelter3    12      2    15"
      ]
     },
     "execution_count": 14,
     "metadata": {},
     "output_type": "execute_result"
    }
   ],
   "source": [
    "shelter_indexname.sort_values(by='cats')"
   ]
  },
  {
   "cell_type": "code",
   "execution_count": 15,
   "id": "79b6b8a9-b86a-4424-b05b-4724cc029d6b",
   "metadata": {},
   "outputs": [
    {
     "data": {
      "text/html": [
       "<div>\n",
       "<style scoped>\n",
       "    .dataframe tbody tr th:only-of-type {\n",
       "        vertical-align: middle;\n",
       "    }\n",
       "\n",
       "    .dataframe tbody tr th {\n",
       "        vertical-align: top;\n",
       "    }\n",
       "\n",
       "    .dataframe thead th {\n",
       "        text-align: right;\n",
       "    }\n",
       "</style>\n",
       "<table border=\"1\" class=\"dataframe\">\n",
       "  <thead>\n",
       "    <tr style=\"text-align: right;\">\n",
       "      <th></th>\n",
       "      <th>dogs</th>\n",
       "      <th>birds</th>\n",
       "      <th>cats</th>\n",
       "    </tr>\n",
       "  </thead>\n",
       "  <tbody>\n",
       "    <tr>\n",
       "      <th>shelter0</th>\n",
       "      <td>204</td>\n",
       "      <td>80</td>\n",
       "      <td>92</td>\n",
       "    </tr>\n",
       "    <tr>\n",
       "      <th>shelter1</th>\n",
       "      <td>289</td>\n",
       "      <td>56</td>\n",
       "      <td>322</td>\n",
       "    </tr>\n",
       "    <tr>\n",
       "      <th>shelter2</th>\n",
       "      <td>85</td>\n",
       "      <td>104</td>\n",
       "      <td>184</td>\n",
       "    </tr>\n",
       "    <tr>\n",
       "      <th>shelter3</th>\n",
       "      <td>204</td>\n",
       "      <td>16</td>\n",
       "      <td>345</td>\n",
       "    </tr>\n",
       "    <tr>\n",
       "      <th>shelter4</th>\n",
       "      <td>17</td>\n",
       "      <td>64</td>\n",
       "      <td>253</td>\n",
       "    </tr>\n",
       "    <tr>\n",
       "      <th>shelter5</th>\n",
       "      <td>85</td>\n",
       "      <td>152</td>\n",
       "      <td>69</td>\n",
       "    </tr>\n",
       "  </tbody>\n",
       "</table>\n",
       "</div>"
      ],
      "text/plain": [
       "          dogs  birds  cats\n",
       "shelter0   204     80    92\n",
       "shelter1   289     56   322\n",
       "shelter2    85    104   184\n",
       "shelter3   204     16   345\n",
       "shelter4    17     64   253\n",
       "shelter5    85    152    69"
      ]
     },
     "execution_count": 15,
     "metadata": {},
     "output_type": "execute_result"
    }
   ],
   "source": [
    "# use of apply and lambda\n",
    "shelter_indexname['dogs'] = shelter_indexname['dogs'].apply(lambda x: x*17)\n",
    "shelter_indexname['birds'] = shelter_indexname['birds'].apply(lambda x: x*8)\n",
    "shelter_indexname['cats'] = shelter_indexname['cats'].apply(lambda x: x*23)\n",
    "shelter_indexname"
   ]
  },
  {
   "cell_type": "code",
   "execution_count": 16,
   "id": "0284ed13-006e-4d66-be71-9f23966d3b84",
   "metadata": {},
   "outputs": [
    {
     "data": {
      "text/html": [
       "<div>\n",
       "<style scoped>\n",
       "    .dataframe tbody tr th:only-of-type {\n",
       "        vertical-align: middle;\n",
       "    }\n",
       "\n",
       "    .dataframe tbody tr th {\n",
       "        vertical-align: top;\n",
       "    }\n",
       "\n",
       "    .dataframe thead th {\n",
       "        text-align: right;\n",
       "    }\n",
       "</style>\n",
       "<table border=\"1\" class=\"dataframe\">\n",
       "  <thead>\n",
       "    <tr style=\"text-align: right;\">\n",
       "      <th></th>\n",
       "      <th>dogs</th>\n",
       "      <th>birds</th>\n",
       "      <th>cats</th>\n",
       "    </tr>\n",
       "  </thead>\n",
       "  <tbody>\n",
       "    <tr>\n",
       "      <th>shelter0</th>\n",
       "      <td>NaN</td>\n",
       "      <td>NaN</td>\n",
       "      <td>NaN</td>\n",
       "    </tr>\n",
       "    <tr>\n",
       "      <th>shelter1</th>\n",
       "      <td>NaN</td>\n",
       "      <td>NaN</td>\n",
       "      <td>NaN</td>\n",
       "    </tr>\n",
       "    <tr>\n",
       "      <th>shelter2</th>\n",
       "      <td>NaN</td>\n",
       "      <td>NaN</td>\n",
       "      <td>NaN</td>\n",
       "    </tr>\n",
       "    <tr>\n",
       "      <th>shelter3</th>\n",
       "      <td>NaN</td>\n",
       "      <td>16.0</td>\n",
       "      <td>NaN</td>\n",
       "    </tr>\n",
       "    <tr>\n",
       "      <th>shelter4</th>\n",
       "      <td>17.0</td>\n",
       "      <td>NaN</td>\n",
       "      <td>NaN</td>\n",
       "    </tr>\n",
       "    <tr>\n",
       "      <th>shelter5</th>\n",
       "      <td>NaN</td>\n",
       "      <td>NaN</td>\n",
       "      <td>NaN</td>\n",
       "    </tr>\n",
       "  </tbody>\n",
       "</table>\n",
       "</div>"
      ],
      "text/plain": [
       "          dogs  birds  cats\n",
       "shelter0   NaN    NaN   NaN\n",
       "shelter1   NaN    NaN   NaN\n",
       "shelter2   NaN    NaN   NaN\n",
       "shelter3   NaN   16.0   NaN\n",
       "shelter4  17.0    NaN   NaN\n",
       "shelter5   NaN    NaN   NaN"
      ]
     },
     "execution_count": 16,
     "metadata": {},
     "output_type": "execute_result"
    }
   ],
   "source": [
    "# Use of filter with brackets\n",
    "results_filter = shelter_indexname[shelter_indexname < 50]\n",
    "results_filter"
   ]
  },
  {
   "cell_type": "code",
   "execution_count": 17,
   "id": "903927ff-84f9-4aca-9d8b-3a96e034af8b",
   "metadata": {},
   "outputs": [
    {
     "data": {
      "text/plain": [
       "884"
      ]
     },
     "execution_count": 17,
     "metadata": {},
     "output_type": "execute_result"
    }
   ],
   "source": [
    "shelter_indexname['dogs'].sum()"
   ]
  },
  {
   "cell_type": "code",
   "execution_count": 18,
   "id": "35e744e4-c067-4bd9-a8ec-8e42a71072da",
   "metadata": {},
   "outputs": [
    {
     "data": {
      "text/plain": [
       "dogs      884\n",
       "birds     472\n",
       "cats     1265\n",
       "dtype: int64"
      ]
     },
     "execution_count": 18,
     "metadata": {},
     "output_type": "execute_result"
    }
   ],
   "source": [
    "df_sum_column = shelter_indexname.apply(np.sum, axis=0)\n",
    "df_sum_column"
   ]
  },
  {
   "cell_type": "code",
   "execution_count": 19,
   "id": "aba36edf-7fa4-4b74-a5f8-d740a3da2ef3",
   "metadata": {},
   "outputs": [
    {
     "data": {
      "text/plain": [
       "shelter0    376\n",
       "shelter1    667\n",
       "shelter2    373\n",
       "shelter3    565\n",
       "shelter4    334\n",
       "shelter5    306\n",
       "dtype: int64"
      ]
     },
     "execution_count": 19,
     "metadata": {},
     "output_type": "execute_result"
    }
   ],
   "source": [
    "df_sum_row = shelter_indexname.apply(np.sum, axis=1)\n",
    "df_sum_row"
   ]
  },
  {
   "cell_type": "code",
   "execution_count": 20,
   "id": "fc964e8b-5037-42e7-aaca-f3a9637c4af2",
   "metadata": {},
   "outputs": [
    {
     "data": {
      "text/html": [
       "<div>\n",
       "<style scoped>\n",
       "    .dataframe tbody tr th:only-of-type {\n",
       "        vertical-align: middle;\n",
       "    }\n",
       "\n",
       "    .dataframe tbody tr th {\n",
       "        vertical-align: top;\n",
       "    }\n",
       "\n",
       "    .dataframe thead th {\n",
       "        text-align: right;\n",
       "    }\n",
       "</style>\n",
       "<table border=\"1\" class=\"dataframe\">\n",
       "  <thead>\n",
       "    <tr style=\"text-align: right;\">\n",
       "      <th></th>\n",
       "      <th>dogs</th>\n",
       "      <th>birds</th>\n",
       "      <th>cats</th>\n",
       "      <th>foster</th>\n",
       "    </tr>\n",
       "  </thead>\n",
       "  <tbody>\n",
       "    <tr>\n",
       "      <th>shelter0</th>\n",
       "      <td>204</td>\n",
       "      <td>80</td>\n",
       "      <td>92</td>\n",
       "      <td>True</td>\n",
       "    </tr>\n",
       "    <tr>\n",
       "      <th>shelter1</th>\n",
       "      <td>289</td>\n",
       "      <td>56</td>\n",
       "      <td>322</td>\n",
       "      <td>True</td>\n",
       "    </tr>\n",
       "    <tr>\n",
       "      <th>shelter2</th>\n",
       "      <td>85</td>\n",
       "      <td>104</td>\n",
       "      <td>184</td>\n",
       "      <td>False</td>\n",
       "    </tr>\n",
       "    <tr>\n",
       "      <th>shelter3</th>\n",
       "      <td>204</td>\n",
       "      <td>16</td>\n",
       "      <td>345</td>\n",
       "      <td>True</td>\n",
       "    </tr>\n",
       "    <tr>\n",
       "      <th>shelter4</th>\n",
       "      <td>17</td>\n",
       "      <td>64</td>\n",
       "      <td>253</td>\n",
       "      <td>False</td>\n",
       "    </tr>\n",
       "    <tr>\n",
       "      <th>shelter5</th>\n",
       "      <td>85</td>\n",
       "      <td>152</td>\n",
       "      <td>69</td>\n",
       "      <td>False</td>\n",
       "    </tr>\n",
       "  </tbody>\n",
       "</table>\n",
       "</div>"
      ],
      "text/plain": [
       "          dogs  birds  cats  foster\n",
       "shelter0   204     80    92    True\n",
       "shelter1   289     56   322    True\n",
       "shelter2    85    104   184   False\n",
       "shelter3   204     16   345    True\n",
       "shelter4    17     64   253   False\n",
       "shelter5    85    152    69   False"
      ]
     },
     "execution_count": 20,
     "metadata": {},
     "output_type": "execute_result"
    }
   ],
   "source": [
    "new_col = [True, True, False, True, False, False]\n",
    "shelter_indexname['foster'] = new_col\n",
    "shelter_indexname"
   ]
  },
  {
   "cell_type": "code",
   "execution_count": 21,
   "id": "714d823c-bdce-4d7f-a54d-2a1b21a0e951",
   "metadata": {},
   "outputs": [
    {
     "data": {
      "text/html": [
       "<div>\n",
       "<style scoped>\n",
       "    .dataframe tbody tr th:only-of-type {\n",
       "        vertical-align: middle;\n",
       "    }\n",
       "\n",
       "    .dataframe tbody tr th {\n",
       "        vertical-align: top;\n",
       "    }\n",
       "\n",
       "    .dataframe thead th {\n",
       "        text-align: right;\n",
       "    }\n",
       "</style>\n",
       "<table border=\"1\" class=\"dataframe\">\n",
       "  <thead>\n",
       "    <tr style=\"text-align: right;\">\n",
       "      <th></th>\n",
       "      <th>dogs</th>\n",
       "      <th>birds</th>\n",
       "      <th>cats</th>\n",
       "    </tr>\n",
       "    <tr>\n",
       "      <th>foster</th>\n",
       "      <th></th>\n",
       "      <th></th>\n",
       "      <th></th>\n",
       "    </tr>\n",
       "  </thead>\n",
       "  <tbody>\n",
       "    <tr>\n",
       "      <th>False</th>\n",
       "      <td>187</td>\n",
       "      <td>320</td>\n",
       "      <td>506</td>\n",
       "    </tr>\n",
       "    <tr>\n",
       "      <th>True</th>\n",
       "      <td>697</td>\n",
       "      <td>152</td>\n",
       "      <td>759</td>\n",
       "    </tr>\n",
       "  </tbody>\n",
       "</table>\n",
       "</div>"
      ],
      "text/plain": [
       "        dogs  birds  cats\n",
       "foster                   \n",
       "False    187    320   506\n",
       "True     697    152   759"
      ]
     },
     "execution_count": 21,
     "metadata": {},
     "output_type": "execute_result"
    }
   ],
   "source": [
    "shelter_indexname.groupby('foster').sum()"
   ]
  },
  {
   "cell_type": "markdown",
   "id": "e7c5088b-5db6-4e68-8dc6-31e8ccf7ebd7",
   "metadata": {},
   "source": [
    "# Basic Date Time Operations"
   ]
  },
  {
   "cell_type": "code",
   "execution_count": 22,
   "id": "8a1609f1-8ef4-4190-9c8e-674cb00e3913",
   "metadata": {},
   "outputs": [
    {
     "data": {
      "text/plain": [
       "DatetimeIndex(['2019-10-15', '2019-10-16', '2019-10-17', '2019-10-18',\n",
       "               '2019-10-19'],\n",
       "              dtype='datetime64[ns]', freq='D')"
      ]
     },
     "execution_count": 22,
     "metadata": {},
     "output_type": "execute_result"
    }
   ],
   "source": [
    "# Generate tie series information from various sources and formats\n",
    "date_var = pd.date_range('2019-10-15', periods=5, freq='D')\n",
    "date_var"
   ]
  },
  {
   "cell_type": "code",
   "execution_count": 23,
   "id": "405a2241-7bff-4bb3-a6b3-c05061f41ec9",
   "metadata": {},
   "outputs": [
    {
     "data": {
      "text/plain": [
       "DatetimeIndex(['2019-10-15 00:00:00+00:00', '2019-10-16 00:00:00+00:00',\n",
       "               '2019-10-17 00:00:00+00:00', '2019-10-18 00:00:00+00:00',\n",
       "               '2019-10-19 00:00:00+00:00'],\n",
       "              dtype='datetime64[ns, UTC]', freq='D')"
      ]
     },
     "execution_count": 23,
     "metadata": {},
     "output_type": "execute_result"
    }
   ],
   "source": [
    "# Manipulating and converting date times with time zone infomration\n",
    "date_var = date_var.tz_localize('UTC')\n",
    "date_var"
   ]
  },
  {
   "cell_type": "code",
   "execution_count": 24,
   "id": "c0161922-c929-4377-b537-c465adf0b213",
   "metadata": {},
   "outputs": [
    {
     "data": {
      "text/plain": [
       "2019-10-01    0\n",
       "2019-10-02    1\n",
       "2019-10-03    2\n",
       "2019-10-04    3\n",
       "2019-10-05    4\n",
       "2019-10-06    5\n",
       "2019-10-07    6\n",
       "Freq: D, dtype: int64"
      ]
     },
     "execution_count": 24,
     "metadata": {},
     "output_type": "execute_result"
    }
   ],
   "source": [
    "idx = pd.date_range('2019-10-01', periods=7, freq='D')\n",
    "ts = pd.Series(range(len(idx)), index=idx)\n",
    "ts"
   ]
  },
  {
   "cell_type": "code",
   "execution_count": 25,
   "id": "367f55fe-1aba-470f-8acc-851a3079c1c7",
   "metadata": {},
   "outputs": [
    {
     "data": {
      "text/plain": [
       "Timestamp('2019-07-15 00:00:00')"
      ]
     },
     "execution_count": 25,
     "metadata": {},
     "output_type": "execute_result"
    }
   ],
   "source": [
    "pd.Timestamp(datetime.datetime(2019, 7, 15))"
   ]
  },
  {
   "cell_type": "code",
   "execution_count": 26,
   "id": "3ee4e2d1-81d4-472e-bbc9-0ffcf8910dea",
   "metadata": {},
   "outputs": [
    {
     "data": {
      "text/plain": [
       "0   1979-09-22\n",
       "1          NaT\n",
       "dtype: datetime64[ns]"
      ]
     },
     "execution_count": 26,
     "metadata": {},
     "output_type": "execute_result"
    }
   ],
   "source": [
    "pd.to_datetime(pd.Series(['22-09-1979', None]), \n",
    "               errors = 'coerce', dayfirst=True)"
   ]
  },
  {
   "cell_type": "code",
   "execution_count": 27,
   "id": "bbdda10e-230e-41ac-8133-7c54debca313",
   "metadata": {},
   "outputs": [
    {
     "data": {
      "text/plain": [
       "0   2019-07-09\n",
       "1   2019-01-01\n",
       "2   2019-08-10\n",
       "3          NaT\n",
       "dtype: datetime64[ns]"
      ]
     },
     "execution_count": 27,
     "metadata": {},
     "output_type": "execute_result"
    }
   ],
   "source": [
    "pd.to_datetime(pd.Series(['Jul 09, 2019', '2019', '2019-08-10', None]), \n",
    "               errors = 'coerce')"
   ]
  },
  {
   "cell_type": "code",
   "execution_count": 28,
   "id": "e0300663-5289-4269-9427-bde2ead1bb36",
   "metadata": {},
   "outputs": [
    {
     "data": {
      "text/plain": [
       "Timestamp('2019-10-11 00:00:00')"
      ]
     },
     "execution_count": 28,
     "metadata": {},
     "output_type": "execute_result"
    }
   ],
   "source": [
    "# Providing a format argument\n",
    "pd.to_datetime('2019/10/11', format='%Y/%m/%d')"
   ]
  },
  {
   "cell_type": "code",
   "execution_count": 29,
   "id": "a50562cc-4e78-4bfe-9e49-7c94920ae540",
   "metadata": {},
   "outputs": [
    {
     "data": {
      "text/plain": [
       "Timestamp('2019-11-10 00:00:00')"
      ]
     },
     "execution_count": 29,
     "metadata": {},
     "output_type": "execute_result"
    }
   ],
   "source": [
    "pd.to_datetime('2019/10/11', format='%Y/%d/%m')"
   ]
  },
  {
   "cell_type": "code",
   "execution_count": 30,
   "id": "2f0acfd6-791e-4826-9a80-a906298444bb",
   "metadata": {},
   "outputs": [
    {
     "data": {
      "text/plain": [
       "0   2017-03-15 08:00:00\n",
       "1   2018-04-16 09:00:00\n",
       "2   2018-05-17 10:00:00\n",
       "dtype: datetime64[ns]"
      ]
     },
     "execution_count": 30,
     "metadata": {},
     "output_type": "execute_result"
    }
   ],
   "source": [
    "# You can also pass a DF of integer of string columns to assemble into\n",
    "# a series of timestamps\n",
    "df = pd.DataFrame({\n",
    "    'year': [2017, 2018, 2018],\n",
    "    'month': [3, 4, 5],\n",
    "    'day': [15, 16, 17],\n",
    "    'hour': [8, 9, 10]\n",
    "})\n",
    "pd.to_datetime(df)"
   ]
  },
  {
   "cell_type": "code",
   "execution_count": 31,
   "id": "0260648d-f13d-43f3-8e71-8eb7282487db",
   "metadata": {},
   "outputs": [
    {
     "data": {
      "text/html": [
       "<div>\n",
       "<style scoped>\n",
       "    .dataframe tbody tr th:only-of-type {\n",
       "        vertical-align: middle;\n",
       "    }\n",
       "\n",
       "    .dataframe tbody tr th {\n",
       "        vertical-align: top;\n",
       "    }\n",
       "\n",
       "    .dataframe thead th {\n",
       "        text-align: right;\n",
       "    }\n",
       "</style>\n",
       "<table border=\"1\" class=\"dataframe\">\n",
       "  <thead>\n",
       "    <tr style=\"text-align: right;\">\n",
       "      <th></th>\n",
       "      <th>year</th>\n",
       "      <th>month</th>\n",
       "      <th>day</th>\n",
       "      <th>hour</th>\n",
       "    </tr>\n",
       "  </thead>\n",
       "  <tbody>\n",
       "    <tr>\n",
       "      <th>0</th>\n",
       "      <td>2017</td>\n",
       "      <td>3</td>\n",
       "      <td>15</td>\n",
       "      <td>8</td>\n",
       "    </tr>\n",
       "    <tr>\n",
       "      <th>1</th>\n",
       "      <td>2018</td>\n",
       "      <td>4</td>\n",
       "      <td>16</td>\n",
       "      <td>9</td>\n",
       "    </tr>\n",
       "    <tr>\n",
       "      <th>2</th>\n",
       "      <td>2018</td>\n",
       "      <td>5</td>\n",
       "      <td>17</td>\n",
       "      <td>10</td>\n",
       "    </tr>\n",
       "  </tbody>\n",
       "</table>\n",
       "</div>"
      ],
      "text/plain": [
       "   year  month  day  hour\n",
       "0  2017      3   15     8\n",
       "1  2018      4   16     9\n",
       "2  2018      5   17    10"
      ]
     },
     "execution_count": 31,
     "metadata": {},
     "output_type": "execute_result"
    }
   ],
   "source": [
    "df"
   ]
  },
  {
   "cell_type": "code",
   "execution_count": 32,
   "id": "15d498ab-19f7-48ac-b921-b9c65c5e4726",
   "metadata": {},
   "outputs": [
    {
     "data": {
      "text/plain": [
       "0    2017\n",
       "1    2018\n",
       "2    2018\n",
       "Name: year, dtype: int64"
      ]
     },
     "execution_count": 32,
     "metadata": {},
     "output_type": "execute_result"
    }
   ],
   "source": [
    "df.year"
   ]
  },
  {
   "cell_type": "markdown",
   "id": "cfacf2a7-a5bf-4e95-bcc5-81c069147db8",
   "metadata": {},
   "source": [
    "# Getting Data"
   ]
  },
  {
   "cell_type": "code",
   "execution_count": 33,
   "id": "47715295-08a3-474d-ae12-9500cbaa2767",
   "metadata": {},
   "outputs": [],
   "source": [
    "import pandas_datareader\n",
    "from pandas_datareader import data\n",
    "import matplotlib.pyplot as plt"
   ]
  },
  {
   "cell_type": "code",
   "execution_count": 34,
   "id": "65da8a90-1b70-4dcc-af14-ff3a2415345e",
   "metadata": {},
   "outputs": [
    {
     "data": {
      "text/html": [
       "<div>\n",
       "<style scoped>\n",
       "    .dataframe tbody tr th:only-of-type {\n",
       "        vertical-align: middle;\n",
       "    }\n",
       "\n",
       "    .dataframe tbody tr th {\n",
       "        vertical-align: top;\n",
       "    }\n",
       "\n",
       "    .dataframe thead th {\n",
       "        text-align: right;\n",
       "    }\n",
       "</style>\n",
       "<table border=\"1\" class=\"dataframe\">\n",
       "  <thead>\n",
       "    <tr style=\"text-align: right;\">\n",
       "      <th></th>\n",
       "      <th>Adj Close</th>\n",
       "    </tr>\n",
       "    <tr>\n",
       "      <th>Date</th>\n",
       "      <th></th>\n",
       "    </tr>\n",
       "  </thead>\n",
       "  <tbody>\n",
       "    <tr>\n",
       "      <th>2011-05-02</th>\n",
       "      <td>33.884285</td>\n",
       "    </tr>\n",
       "    <tr>\n",
       "      <th>2011-05-03</th>\n",
       "      <td>33.034286</td>\n",
       "    </tr>\n",
       "    <tr>\n",
       "      <th>2011-05-04</th>\n",
       "      <td>32.741428</td>\n",
       "    </tr>\n",
       "    <tr>\n",
       "      <th>2011-05-05</th>\n",
       "      <td>32.901428</td>\n",
       "    </tr>\n",
       "    <tr>\n",
       "      <th>2011-05-06</th>\n",
       "      <td>32.781429</td>\n",
       "    </tr>\n",
       "  </tbody>\n",
       "</table>\n",
       "</div>"
      ],
      "text/plain": [
       "            Adj Close\n",
       "Date                 \n",
       "2011-05-02  33.884285\n",
       "2011-05-03  33.034286\n",
       "2011-05-04  32.741428\n",
       "2011-05-05  32.901428\n",
       "2011-05-06  32.781429"
      ]
     },
     "execution_count": 34,
     "metadata": {},
     "output_type": "execute_result"
    }
   ],
   "source": [
    "netflix = data.DataReader(\"NFLX\",\n",
    "                        start='2011-5-1',\n",
    "                        end='2021-5-1',\n",
    "                        data_source='yahoo')['Adj Close']\n",
    "nf = pd.DataFrame(netflix)\n",
    "nf.head()"
   ]
  },
  {
   "cell_type": "code",
   "execution_count": 35,
   "id": "a188397f-d77b-4e60-a898-cdcbbf7b6090",
   "metadata": {},
   "outputs": [
    {
     "data": {
      "text/html": [
       "<div>\n",
       "<style scoped>\n",
       "    .dataframe tbody tr th:only-of-type {\n",
       "        vertical-align: middle;\n",
       "    }\n",
       "\n",
       "    .dataframe tbody tr th {\n",
       "        vertical-align: top;\n",
       "    }\n",
       "\n",
       "    .dataframe thead th {\n",
       "        text-align: right;\n",
       "    }\n",
       "</style>\n",
       "<table border=\"1\" class=\"dataframe\">\n",
       "  <thead>\n",
       "    <tr style=\"text-align: right;\">\n",
       "      <th></th>\n",
       "      <th>Adj Close</th>\n",
       "    </tr>\n",
       "    <tr>\n",
       "      <th>Date</th>\n",
       "      <th></th>\n",
       "    </tr>\n",
       "  </thead>\n",
       "  <tbody>\n",
       "    <tr>\n",
       "      <th>2021-04-26</th>\n",
       "      <td>510.299988</td>\n",
       "    </tr>\n",
       "    <tr>\n",
       "      <th>2021-04-27</th>\n",
       "      <td>505.549988</td>\n",
       "    </tr>\n",
       "    <tr>\n",
       "      <th>2021-04-28</th>\n",
       "      <td>506.519989</td>\n",
       "    </tr>\n",
       "    <tr>\n",
       "      <th>2021-04-29</th>\n",
       "      <td>509.000000</td>\n",
       "    </tr>\n",
       "    <tr>\n",
       "      <th>2021-04-30</th>\n",
       "      <td>513.469971</td>\n",
       "    </tr>\n",
       "  </tbody>\n",
       "</table>\n",
       "</div>"
      ],
      "text/plain": [
       "             Adj Close\n",
       "Date                  \n",
       "2021-04-26  510.299988\n",
       "2021-04-27  505.549988\n",
       "2021-04-28  506.519989\n",
       "2021-04-29  509.000000\n",
       "2021-04-30  513.469971"
      ]
     },
     "execution_count": 35,
     "metadata": {},
     "output_type": "execute_result"
    }
   ],
   "source": [
    "nf.tail()"
   ]
  },
  {
   "cell_type": "code",
   "execution_count": 36,
   "id": "5ab04e7a-45ce-4586-b2f6-9c4b21e4a414",
   "metadata": {},
   "outputs": [
    {
     "name": "stdout",
     "output_type": "stream",
     "text": [
      "['Solarize_Light2', '_classic_test_patch', 'bmh', 'classic', 'dark_background', 'fast', 'fivethirtyeight', 'ggplot', 'grayscale', 'seaborn', 'seaborn-bright', 'seaborn-colorblind', 'seaborn-dark', 'seaborn-dark-palette', 'seaborn-darkgrid', 'seaborn-deep', 'seaborn-muted', 'seaborn-notebook', 'seaborn-paper', 'seaborn-pastel', 'seaborn-poster', 'seaborn-talk', 'seaborn-ticks', 'seaborn-white', 'seaborn-whitegrid', 'tableau-colorblind10']\n"
     ]
    }
   ],
   "source": [
    "# Set Datetime\n",
    "print(plt.style.available)"
   ]
  },
  {
   "cell_type": "code",
   "execution_count": 50,
   "id": "aacac1a4-b944-48d3-89f0-308662d5b741",
   "metadata": {},
   "outputs": [
    {
     "data": {
      "text/plain": [
       "<AxesSubplot:title={'center':'Netflix Adj. Closing Price'}, xlabel='Date'>"
      ]
     },
     "execution_count": 50,
     "metadata": {},
     "output_type": "execute_result"
    },
    {
     "data": {
      "image/png": "[encoded data removed]",
      "text/plain": [
       "<Figure size 720x360 with 1 Axes>"
      ]
     },
     "metadata": {},
     "output_type": "display_data"
    }
   ],
   "source": [
    "plt.style.use('fivethirtyeight')\n",
    "netflix.plot(title='Netflix Adj. Closing Price', figsize=(10,5), color='red', linewidth=1)"
   ]
  },
  {
   "cell_type": "code",
   "execution_count": 38,
   "id": "0bab218b-2f6a-496a-9756-cf91a8adb643",
   "metadata": {},
   "outputs": [
    {
     "data": {
      "text/plain": [
       "<AxesSubplot:title={'center':'Netflix Cumulative Returns'}, xlabel='Date'>"
      ]
     },
     "execution_count": 38,
     "metadata": {},
     "output_type": "execute_result"
    },
    {
     "data": {
      "image/png": "[encoded data removed]",
      "text/plain": [
       "<Figure size 720x360 with 1 Axes>"
      ]
     },
     "metadata": {},
     "output_type": "display_data"
    }
   ],
   "source": [
    "# Take percentage change of stock price of Netflix\n",
    "returns = netflix.pct_change()\n",
    "plt.style.use('bmh')\n",
    "((1 + returns).cumprod() - 1).plot(title='Netflix Cumulative Returns',\n",
    "                                  figsize=(10,5), color='purple')"
   ]
  },
  {
   "cell_type": "markdown",
   "id": "aaeba5d6-5e70-4e49-afc5-9bf13f3274f0",
   "metadata": {},
   "source": [
    "# Getting Data Using API"
   ]
  },
  {
   "cell_type": "code",
   "execution_count": 41,
   "id": "6ed3cdfc-e05e-4467-8c36-a0193e28c221",
   "metadata": {},
   "outputs": [],
   "source": [
    "# source:  https://github.com/RomelTorres/alpha_vantage\n",
    "# Pull intraday data, example using Disney stock\n",
    "from alpha_vantage.timeseries import TimeSeries"
   ]
  },
  {
   "cell_type": "code",
   "execution_count": 42,
   "id": "8cacc949-ebc5-4ced-9fac-b4822ccf4bf7",
   "metadata": {},
   "outputs": [],
   "source": [
    "ts = TimeSeries(key='YO5B5V8JAZ0TBAYV', output_format='pandas')"
   ]
  },
  {
   "cell_type": "code",
   "execution_count": 43,
   "id": "1dc451dd-863c-4ed5-8852-75bb722cad50",
   "metadata": {},
   "outputs": [],
   "source": [
    "# Get json object with the intraday data and another with  the call's metadata\n",
    "# Use \"DIS\" for Disney or fill in a stock ticker of your choice\n",
    "data, meta_data = ts.get_intraday('DIS',interval='1min', outputsize='full')"
   ]
  },
  {
   "cell_type": "code",
   "execution_count": 44,
   "id": "c66a886b-4498-472a-8dd9-898e375bd60d",
   "metadata": {
    "tags": []
   },
   "outputs": [
    {
     "data": {
      "text/html": [
       "<div>\n",
       "<style scoped>\n",
       "    .dataframe tbody tr th:only-of-type {\n",
       "        vertical-align: middle;\n",
       "    }\n",
       "\n",
       "    .dataframe tbody tr th {\n",
       "        vertical-align: top;\n",
       "    }\n",
       "\n",
       "    .dataframe thead th {\n",
       "        text-align: right;\n",
       "    }\n",
       "</style>\n",
       "<table border=\"1\" class=\"dataframe\">\n",
       "  <thead>\n",
       "    <tr style=\"text-align: right;\">\n",
       "      <th></th>\n",
       "      <th>1. open</th>\n",
       "      <th>2. high</th>\n",
       "      <th>3. low</th>\n",
       "      <th>4. close</th>\n",
       "      <th>5. volume</th>\n",
       "    </tr>\n",
       "    <tr>\n",
       "      <th>date</th>\n",
       "      <th></th>\n",
       "      <th></th>\n",
       "      <th></th>\n",
       "      <th></th>\n",
       "      <th></th>\n",
       "    </tr>\n",
       "  </thead>\n",
       "  <tbody>\n",
       "    <tr>\n",
       "      <th>2021-05-25 19:54:00</th>\n",
       "      <td>176.55</td>\n",
       "      <td>176.55</td>\n",
       "      <td>176.55</td>\n",
       "      <td>176.55</td>\n",
       "      <td>210.0</td>\n",
       "    </tr>\n",
       "    <tr>\n",
       "      <th>2021-05-25 19:41:00</th>\n",
       "      <td>176.29</td>\n",
       "      <td>176.29</td>\n",
       "      <td>176.29</td>\n",
       "      <td>176.29</td>\n",
       "      <td>125.0</td>\n",
       "    </tr>\n",
       "    <tr>\n",
       "      <th>2021-05-25 19:40:00</th>\n",
       "      <td>176.53</td>\n",
       "      <td>176.53</td>\n",
       "      <td>176.53</td>\n",
       "      <td>176.53</td>\n",
       "      <td>100.0</td>\n",
       "    </tr>\n",
       "    <tr>\n",
       "      <th>2021-05-25 19:32:00</th>\n",
       "      <td>176.28</td>\n",
       "      <td>176.28</td>\n",
       "      <td>176.28</td>\n",
       "      <td>176.28</td>\n",
       "      <td>190.0</td>\n",
       "    </tr>\n",
       "    <tr>\n",
       "      <th>2021-05-25 19:23:00</th>\n",
       "      <td>176.55</td>\n",
       "      <td>176.55</td>\n",
       "      <td>176.55</td>\n",
       "      <td>176.55</td>\n",
       "      <td>120.0</td>\n",
       "    </tr>\n",
       "    <tr>\n",
       "      <th>2021-05-25 19:05:00</th>\n",
       "      <td>176.50</td>\n",
       "      <td>176.50</td>\n",
       "      <td>176.50</td>\n",
       "      <td>176.50</td>\n",
       "      <td>506.0</td>\n",
       "    </tr>\n",
       "  </tbody>\n",
       "</table>\n",
       "</div>"
      ],
      "text/plain": [
       "                     1. open  2. high  3. low  4. close  5. volume\n",
       "date                                                              \n",
       "2021-05-25 19:54:00   176.55   176.55  176.55    176.55      210.0\n",
       "2021-05-25 19:41:00   176.29   176.29  176.29    176.29      125.0\n",
       "2021-05-25 19:40:00   176.53   176.53  176.53    176.53      100.0\n",
       "2021-05-25 19:32:00   176.28   176.28  176.28    176.28      190.0\n",
       "2021-05-25 19:23:00   176.55   176.55  176.55    176.55      120.0\n",
       "2021-05-25 19:05:00   176.50   176.50  176.50    176.50      506.0"
      ]
     },
     "execution_count": 44,
     "metadata": {},
     "output_type": "execute_result"
    }
   ],
   "source": [
    "data.head(6)"
   ]
  },
  {
   "cell_type": "code",
   "execution_count": 45,
   "id": "6dc3ba06-c3e4-4276-9019-0005e24a5520",
   "metadata": {
    "tags": []
   },
   "outputs": [
    {
     "data": {
      "text/plain": [
       "{'1. Information': 'Intraday (1min) open, high, low, close prices and volume',\n",
       " '2. Symbol': 'DIS',\n",
       " '3. Last Refreshed': '2021-05-25 19:54:00',\n",
       " '4. Interval': '1min',\n",
       " '5. Output Size': 'Full size',\n",
       " '6. Time Zone': 'US/Eastern'}"
      ]
     },
     "execution_count": 45,
     "metadata": {},
     "output_type": "execute_result"
    }
   ],
   "source": [
    "meta_data"
   ]
  },
  {
   "cell_type": "code",
   "execution_count": 46,
   "id": "bd1a31be-7898-46b9-adaf-9f0a11f14e05",
   "metadata": {},
   "outputs": [],
   "source": [
    "from alpha_vantage.cryptocurrencies import CryptoCurrencies\n",
    "\n",
    "cc = CryptoCurrencies(key='YO5B5V8JAZ0TBAYV', output_format='pandas')\n",
    "data, meta_data = cc.get_digital_currency_daily(symbol='BTC', market='CNY')"
   ]
  },
  {
   "cell_type": "code",
   "execution_count": 48,
   "id": "ef4d221d-782c-458e-9a91-0e1f729d7318",
   "metadata": {},
   "outputs": [
    {
     "data": {
      "image/png": "[encoded data removed]",
      "text/plain": [
       "<Figure size 720x360 with 1 Axes>"
      ]
     },
     "metadata": {},
     "output_type": "display_data"
    }
   ],
   "source": [
    "# Plot the data\n",
    "\n",
    "plt.style.use('dark_background')\n",
    "data['4b. close (USD)'].plot(figsize=(10,5), linewidth=2, color='orange')\n",
    "plt.tight_layout()\n",
    "plt.title('Daily Close Value for Bitcoin (BTC)')\n",
    "plt.grid()\n",
    "plt.show()"
   ]
  },
  {
   "cell_type": "code",
   "execution_count": null,
   "id": "461e4747-785c-4866-b867-349444839a76",
   "metadata": {},
   "outputs": [],
   "source": []
  }
 ],
 "metadata": {
  "kernelspec": {
   "display_name": "Python 3",
   "language": "python",
   "name": "python3"
  },
  "language_info": {
   "codemirror_mode": {
    "name": "ipython",
    "version": 3
   },
   "file_extension": ".py",
   "mimetype": "text/x-python",
   "name": "python",
   "nbconvert_exporter": "python",
   "pygments_lexer": "ipython3",
   "version": "3.6.13"
  }
 },
 "nbformat": 4,
 "nbformat_minor": 5
}
