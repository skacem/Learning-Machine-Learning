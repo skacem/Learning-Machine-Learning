{
 "cells": [
  {
   "cell_type": "markdown",
   "id": "7ad75fdf-19d6-41f6-bee9-16d6deb7bd3e",
   "metadata": {},
   "source": [
    "# Categorical Variables\n",
    "\n",
    "Many data sets contain features that are non-numerical or categorical features, in that they can only take on one of a limited number of possible values. In general, the possible states are fixed, such as the `sex`, `smoker` and `day` features from the `tips` data set.\n",
    "\n",
    "Categorical features can be nominal or ordinal:\n",
    "\n",
    "* A nominal feature is a categorical feature without no relations among the different categories\n",
    "* An ordinal feature is a categorical feature where the possible values have an intrensic relationship. For example, if we encode the results of a race as *first*, *second*, and *thiird*.\n",
    "\n",
    "To use categorical features to generate a machine learning model with the scikit-learn library, we must convert them into numerical values. This process is generally known as encoding, and the scikit-learn library provides several different encondings in the `preprocessing` module."
   ]
  },
  {
   "cell_type": "code",
   "execution_count": 25,
   "id": "84d3e73a-69d6-47ff-9ad5-6c3633a5f134",
   "metadata": {},
   "outputs": [
    {
     "name": "stdout",
     "output_type": "stream",
     "text": [
      "Samples from the tips dataset:\n",
      "     total_bill   tip     sex smoker   day    time  size\n",
      "128       11.38  2.00  Female     No  Thur   Lunch     2\n",
      "177       14.48  2.00    Male    Yes   Sun  Dinner     2\n",
      "19        20.65  3.35    Male     No   Sat  Dinner     3\n",
      "213       13.27  2.50  Female    Yes   Sat  Dinner     2\n",
      "183       23.17  6.50    Male    Yes   Sun  Dinner     4\n"
     ]
    }
   ],
   "source": [
    "%run \"S0-init.ipynb\""
   ]
  },
  {
   "cell_type": "markdown",
   "id": "3bced24a-4a3f-44b7-92f7-40365de53516",
   "metadata": {},
   "source": [
    "To begin, we first create a fictious set of features from the four colors as strings: 'Red', 'Blue', 'Yellow', and 'Green'. We transform than these categorical features into one of four numerical values by using the `LabelEncoder` estimator. We `fit` this etimator to the set of possible categorical values (or four colors), and transform the generated set of features to compare the numerical label to the original color."
   ]
  },
  {
   "cell_type": "code",
   "execution_count": 27,
   "id": "05a18ef6-c29b-4fc1-bb58-cb4659525c0b",
   "metadata": {},
   "outputs": [
    {
     "data": {
      "text/plain": [
       "array(['Red', 'Blue', 'Yellow', 'Green', 'Green', 'Blue', 'Green', 'Blue',\n",
       "       'Yellow', 'Green'], dtype='<U6')"
      ]
     },
     "execution_count": 27,
     "metadata": {},
     "output_type": "execute_result"
    }
   ],
   "source": [
    "from sklearn.preprocessing import LabelEncoder\n",
    "\n",
    "# Define allowed colors\n",
    "clrs = ['Red', 'Blue', 'Yellow', 'Green']\n",
    "\n",
    "# Size of sample\n",
    "num_clrs = 10\n",
    "\n",
    "# Create random sample of ten colors\n",
    "tst = np.random.choice(clrs, size=num_clrs, replace=True)\n",
    "tst"
   ]
  },
  {
   "cell_type": "code",
   "execution_count": 28,
   "id": "878b4b7b-6e97-4b2b-9049-ba86bad3dc49",
   "metadata": {},
   "outputs": [
    {
     "data": {
      "text/plain": [
       "LabelEncoder()"
      ]
     },
     "execution_count": 28,
     "metadata": {},
     "output_type": "execute_result"
    }
   ],
   "source": [
    "# Create and fit label encoder to the list of allowed colors\n",
    "le = LabelEncoder()\n",
    "le.fit(clrs)"
   ]
  },
  {
   "cell_type": "code",
   "execution_count": 29,
   "id": "be5fea6c-bd02-48cd-b7a8-c2e80b58946d",
   "metadata": {},
   "outputs": [],
   "source": [
    "# Transform sample data, and reshape vector\n",
    "# to a 2D matrix (10, 1)\n",
    "le_data = le.transform(tst).reshape(num_clrs, 1)"
   ]
  },
  {
   "cell_type": "code",
   "execution_count": 30,
   "id": "5d1d7ee0-7f50-4d94-9e9a-633dc530af43",
   "metadata": {},
   "outputs": [
    {
     "name": "stdout",
     "output_type": "stream",
     "text": [
      "[2] Red\n",
      "[0] Blue\n",
      "[3] Yellow\n",
      "[1] Green\n",
      "[1] Green\n",
      "[0] Blue\n",
      "[1] Green\n",
      "[0] Blue\n",
      "[3] Yellow\n",
      "[1] Green\n"
     ]
    }
   ],
   "source": [
    "# Display encode label and color\n",
    "for clr, idx in zip(tst, le_data):\n",
    "    print(idx, clr)"
   ]
  },
  {
   "cell_type": "markdown",
   "id": "7368b8b1-511b-4437-a190-6f590b485b35",
   "metadata": {},
   "source": [
    "This encoding is fine if the data are ordinal, but in this case, our colors are likely nominal and there is no numerical relationship between the different features. Thus, we need to perform an additional transformation to convert our data into a numerical format that a machine learning model can effectively process. To do this, a commonly used approach known as One Hot Encoding is used. This approach generates a new feature for each possible value in our category. Thus, for our four colors, we need four features. These features will be binary, in that a value of zero indicates that the feature is not present for the specific instance, and a value of one indicates it is present. Furthermore, only one set of these new features can be present (or on) for a specific instance."
   ]
  },
  {
   "cell_type": "markdown",
   "id": "31853b56-5c37-47a8-866d-1fcc209baa2a",
   "metadata": {},
   "source": [
    "We can leverage this technique by using the `OneHotEncoder` estimator from the scikit-learn preprocessing module."
   ]
  },
  {
   "cell_type": "code",
   "execution_count": 31,
   "id": "e6f4ed91-4803-488d-8c71-6185dd8bfa8b",
   "metadata": {},
   "outputs": [
    {
     "name": "stdout",
     "output_type": "stream",
     "text": [
      "Going from color to encoding:\n",
      "\n",
      "[0. 0. 1. 0.] Red\n",
      "[1. 0. 0. 0.] Blue\n",
      "[0. 0. 0. 1.] Yellow\n",
      "[0. 1. 0. 0.] Green\n",
      "[0. 1. 0. 0.] Green\n",
      "[1. 0. 0. 0.] Blue\n",
      "[0. 1. 0. 0.] Green\n",
      "[1. 0. 0. 0.] Blue\n",
      "[0. 0. 0. 1.] Yellow\n",
      "[0. 1. 0. 0.] Green\n",
      "\n",
      "Going from encoding to color:\n",
      "\n",
      "[0, 1, 0, 0] = ['Blue' 'Green' 'Blue' 'Blue']\n"
     ]
    }
   ],
   "source": [
    "# Create our one hot encoder\n",
    "from sklearn.preprocessing import OneHotEncoder\n",
    "ohe = OneHotEncoder(sparse=False)\n",
    "\n",
    "print('Going from color to encoding:\\n')\n",
    "# Display encode label and color\n",
    "for clr, ohed in zip(tst, ohe.fit_transform(le_data)):\n",
    "    print(ohed, clr)\n",
    "    \n",
    "# Go in reverse\n",
    "print('\\nGoing from encoding to color:\\n')\n",
    "enc = [0,1,0,0]\n",
    "\n",
    "# TODO: not working properly yet - As result we want to see 'Green'\n",
    "# and 'Green' only\n",
    "print(f\"{enc} = {le.inverse_transform(enc)}\")"
   ]
  },
  {
   "cell_type": "markdown",
   "id": "0a84c84f-067f-4028-9fd2-8233ea9eadca",
   "metadata": {},
   "source": [
    "We can perform this process in one step by using the `LabelBinarizer` estimator from the sciket-learn pre-preocessing module. With this estimator we can directly convert a set of categorical labels to a one hot encoded matrix by using the `fit` method to generate the encoder and the `transform` method applies the encoding to a set of labels."
   ]
  },
  {
   "cell_type": "code",
   "execution_count": 32,
   "id": "a8c1a015-d57c-4237-bf41-f621810333eb",
   "metadata": {},
   "outputs": [
    {
     "name": "stdout",
     "output_type": "stream",
     "text": [
      "[0 0 1 0] Red\n",
      "[1 0 0 0] Blue\n",
      "[0 0 0 1] Yellow\n",
      "[0 1 0 0] Green\n",
      "[0 1 0 0] Green\n",
      "[1 0 0 0] Blue\n",
      "[0 1 0 0] Green\n",
      "[1 0 0 0] Blue\n",
      "[0 0 0 1] Yellow\n",
      "[0 1 0 0] Green\n",
      "\n",
      "Going from encoding to color:\n",
      "\n",
      "[0 1 0 0] = ['Green']\n"
     ]
    }
   ],
   "source": [
    "# Create label binarizer estimator and fit to the colors\n",
    "from sklearn.preprocessing import LabelBinarizer\n",
    "lb = LabelBinarizer()\n",
    "lb.fit(clrs)\n",
    "\n",
    "# Transform and display encode label and color\n",
    "for clr, idx in zip(tst, lb.transform(tst)):\n",
    "    print(idx, clr)\n",
    "\n",
    "# Go in reverse\n",
    "print('\\nGoing from encoding to color:\\n')\n",
    "enc = np.array([0, 1, 0, 0]).reshape(1, len(clrs))\n",
    "print(f'{enc[0]} = {lb.inverse_transform(enc)}')"
   ]
  },
  {
   "cell_type": "markdown",
   "id": "756b8f69-757b-4f7d-bfcc-1d3f9dd61687",
   "metadata": {},
   "source": [
    "# Linear Regression with categorical"
   ]
  },
  {
   "cell_type": "markdown",
   "id": "df36bc00-409b-4f64-872f-478fd55dbc3f",
   "metadata": {},
   "source": [
    "We will use the scikit-learn `LabelBinarizer` to convert the day feature in the _tips_ data set into a set of numerical features."
   ]
  },
  {
   "cell_type": "code",
   "execution_count": 33,
   "id": "fe1ef68a-0a5e-41bf-b581-2f2465757bd2",
   "metadata": {},
   "outputs": [],
   "source": [
    "lb = LabelBinarizer()\n",
    "ohe_day = lb.fit_transform(df.day.to_numpy())"
   ]
  },
  {
   "cell_type": "code",
   "execution_count": 34,
   "id": "247fbe5e-3aa2-431c-b2f0-f012b0e03ce6",
   "metadata": {},
   "outputs": [],
   "source": [
    "# Total bill and bindary days of the week as independent variables \n",
    "n_ind_data = np.column_stack((df.total_bill, ohe_day))\n",
    "# Tips as target\n",
    "dep_data = df.tip.values.reshape(df.shape[0], 1)\n",
    "\n",
    "# This is the amount to hold out for 'blind' testing\n",
    "frac = 0.4\n",
    "\n",
    "# Create test/train splits for data and labels\n",
    "# Explicitly set our random seed to enable reproduceability\n",
    "ind_train, ind_test, dep_train, dep_test \\\n",
    "    = train_test_split(n_ind_data, dep_data, test_size=frac, random_state=23)"
   ]
  },
  {
   "cell_type": "code",
   "execution_count": 35,
   "id": "aa1afc27-7ab9-4f4e-afd4-91c70b1f4e83",
   "metadata": {},
   "outputs": [
    {
     "data": {
      "text/html": [
       "<div>\n",
       "<style scoped>\n",
       "    .dataframe tbody tr th:only-of-type {\n",
       "        vertical-align: middle;\n",
       "    }\n",
       "\n",
       "    .dataframe tbody tr th {\n",
       "        vertical-align: top;\n",
       "    }\n",
       "\n",
       "    .dataframe thead th {\n",
       "        text-align: right;\n",
       "    }\n",
       "</style>\n",
       "<table border=\"1\" class=\"dataframe\">\n",
       "  <thead>\n",
       "    <tr style=\"text-align: right;\">\n",
       "      <th></th>\n",
       "      <th>Total_bill</th>\n",
       "      <th>Fri</th>\n",
       "      <th>Sat</th>\n",
       "      <th>Sun</th>\n",
       "      <th>Thur</th>\n",
       "    </tr>\n",
       "  </thead>\n",
       "  <tbody>\n",
       "    <tr>\n",
       "      <th>0</th>\n",
       "      <td>16.99</td>\n",
       "      <td>0.0</td>\n",
       "      <td>0.0</td>\n",
       "      <td>1.0</td>\n",
       "      <td>0.0</td>\n",
       "    </tr>\n",
       "    <tr>\n",
       "      <th>1</th>\n",
       "      <td>10.34</td>\n",
       "      <td>0.0</td>\n",
       "      <td>0.0</td>\n",
       "      <td>1.0</td>\n",
       "      <td>0.0</td>\n",
       "    </tr>\n",
       "    <tr>\n",
       "      <th>2</th>\n",
       "      <td>21.01</td>\n",
       "      <td>0.0</td>\n",
       "      <td>0.0</td>\n",
       "      <td>1.0</td>\n",
       "      <td>0.0</td>\n",
       "    </tr>\n",
       "    <tr>\n",
       "      <th>3</th>\n",
       "      <td>23.68</td>\n",
       "      <td>0.0</td>\n",
       "      <td>0.0</td>\n",
       "      <td>1.0</td>\n",
       "      <td>0.0</td>\n",
       "    </tr>\n",
       "    <tr>\n",
       "      <th>4</th>\n",
       "      <td>24.59</td>\n",
       "      <td>0.0</td>\n",
       "      <td>0.0</td>\n",
       "      <td>1.0</td>\n",
       "      <td>0.0</td>\n",
       "    </tr>\n",
       "    <tr>\n",
       "      <th>...</th>\n",
       "      <td>...</td>\n",
       "      <td>...</td>\n",
       "      <td>...</td>\n",
       "      <td>...</td>\n",
       "      <td>...</td>\n",
       "    </tr>\n",
       "    <tr>\n",
       "      <th>239</th>\n",
       "      <td>29.03</td>\n",
       "      <td>0.0</td>\n",
       "      <td>1.0</td>\n",
       "      <td>0.0</td>\n",
       "      <td>0.0</td>\n",
       "    </tr>\n",
       "    <tr>\n",
       "      <th>240</th>\n",
       "      <td>27.18</td>\n",
       "      <td>0.0</td>\n",
       "      <td>1.0</td>\n",
       "      <td>0.0</td>\n",
       "      <td>0.0</td>\n",
       "    </tr>\n",
       "    <tr>\n",
       "      <th>241</th>\n",
       "      <td>22.67</td>\n",
       "      <td>0.0</td>\n",
       "      <td>1.0</td>\n",
       "      <td>0.0</td>\n",
       "      <td>0.0</td>\n",
       "    </tr>\n",
       "    <tr>\n",
       "      <th>242</th>\n",
       "      <td>17.82</td>\n",
       "      <td>0.0</td>\n",
       "      <td>1.0</td>\n",
       "      <td>0.0</td>\n",
       "      <td>0.0</td>\n",
       "    </tr>\n",
       "    <tr>\n",
       "      <th>243</th>\n",
       "      <td>18.78</td>\n",
       "      <td>0.0</td>\n",
       "      <td>0.0</td>\n",
       "      <td>0.0</td>\n",
       "      <td>1.0</td>\n",
       "    </tr>\n",
       "  </tbody>\n",
       "</table>\n",
       "<p>244 rows × 5 columns</p>\n",
       "</div>"
      ],
      "text/plain": [
       "     Total_bill  Fri  Sat  Sun  Thur\n",
       "0         16.99  0.0  0.0  1.0   0.0\n",
       "1         10.34  0.0  0.0  1.0   0.0\n",
       "2         21.01  0.0  0.0  1.0   0.0\n",
       "3         23.68  0.0  0.0  1.0   0.0\n",
       "4         24.59  0.0  0.0  1.0   0.0\n",
       "..          ...  ...  ...  ...   ...\n",
       "239       29.03  0.0  1.0  0.0   0.0\n",
       "240       27.18  0.0  1.0  0.0   0.0\n",
       "241       22.67  0.0  1.0  0.0   0.0\n",
       "242       17.82  0.0  1.0  0.0   0.0\n",
       "243       18.78  0.0  0.0  0.0   1.0\n",
       "\n",
       "[244 rows x 5 columns]"
      ]
     },
     "execution_count": 35,
     "metadata": {},
     "output_type": "execute_result"
    }
   ],
   "source": [
    "pd.DataFrame(n_ind_data, columns=['Total_bill', 'Fri', 'Sat', 'Sun', 'Thur']) "
   ]
  },
  {
   "cell_type": "code",
   "execution_count": 36,
   "id": "909fedd7-14db-442c-88f3-5c7a9cb2efc9",
   "metadata": {},
   "outputs": [
    {
     "name": "stdout",
     "output_type": "stream",
     "text": [
      "[0 0 0 1] Thur\n",
      "[1 0 0 0] Fri\n",
      "[0 1 0 0] Sat\n",
      "[0 0 1 0] Sun\n"
     ]
    }
   ],
   "source": [
    "# Demonstrate encoding results\n",
    "days = ['Thur', 'Fri', 'Sat', 'Sun']\n",
    "\n",
    "# Fit, transform, and display encode label and day\n",
    "for day, idx in zip(days, lb.fit(df.day.to_numpy()).transform(days)):\n",
    "    print(idx, day)"
   ]
  },
  {
   "cell_type": "markdown",
   "id": "76c28d03-e339-43c7-8de3-4e9c01b0997a",
   "metadata": {},
   "source": [
    "Given this new feature matrix, we generate a new linear regression model in the following code cell:\n",
    "* We fit the model, \n",
    "* display the fit coefficients, \n",
    "* compute the model performance, \n",
    "* and finally display the regression model plot and the residual model plot"
   ]
  },
  {
   "cell_type": "code",
   "execution_count": 37,
   "id": "68743794-3e70-4402-b7d6-d0c8414895e4",
   "metadata": {},
   "outputs": [
    {
     "name": "stdout",
     "output_type": "stream",
     "text": [
      "tip = 1.01\n",
      " + 0.10 total_bill\n",
      " + 0.10 Day==\"Thu\"\n",
      " + 0.22 Day==\"Fri\"\n",
      " + -0.05 Day==\"Sat\"\n",
      " + -0.27 Day==\"Sun\"\n",
      "\n",
      "Multivariate LR Model score =  38.6%\n"
     ]
    }
   ],
   "source": [
    "# Create and Fit our linear regression model to training data\n",
    "model = LinearRegression(fit_intercept=True)\n",
    "model.fit(ind_train, dep_train)\n",
    "\n",
    "# Display model fit parameters for training data\n",
    "# Label binarizer sortw the labels, hence change in display order.\n",
    "print(f'tip = {model.intercept_[0]:4.2f}\\n',\n",
    "      f'+ {model.coef_[0][0]:4.2f} total_bill\\n',\n",
    "      f'+ {model.coef_[0][4]:4.2f} Day==\"Thu\"\\n',\n",
    "      f'+ {model.coef_[0][1]:4.2f} Day==\"Fri\"\\n',\n",
    "      f'+ {model.coef_[0][2]:4.2f} Day==\"Sat\"\\n',\n",
    "      f'+ {model.coef_[0][3]:4.2f} Day==\"Sun\"\\n')\n",
    "\n",
    "# Compute model predictions for test data\n",
    "results = model.predict(ind_test)\n",
    "\n",
    "# Compute score and display result (Coefficient of Determination)\n",
    "score = 100.0 * model.score(ind_test, dep_test)\n",
    "print(f'Multivariate LR Model score = {score:5.1f}%')"
   ]
  },
  {
   "cell_type": "markdown",
   "id": "ad6682ac-dc8c-4177-820b-40da15765694",
   "metadata": {},
   "source": [
    "In this case, our new model performs slightly worse than the original single variable linear regression model. This suggests that the day of the week is not an important variable in the underlying relationship between `total_bill` and `tip`.\n",
    "\n",
    "Creating a baseline model that does something really simple,  like the original single variable linear regression, can give us something to compare our other models, and you may be able to find a better predicting model."
   ]
  }
 ],
 "metadata": {
  "kernelspec": {
   "display_name": "Python 3",
   "language": "python",
   "name": "python3"
  },
  "language_info": {
   "codemirror_mode": {
    "name": "ipython",
    "version": 3
   },
   "file_extension": ".py",
   "mimetype": "text/x-python",
   "name": "python",
   "nbconvert_exporter": "python",
   "pygments_lexer": "ipython3",
   "version": "3.9.2"
  }
 },
 "nbformat": 4,
 "nbformat_minor": 5
}
