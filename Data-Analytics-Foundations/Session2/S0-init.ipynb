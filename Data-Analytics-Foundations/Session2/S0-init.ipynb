{
 "cells": [
  {
   "cell_type": "code",
   "execution_count": 3,
   "id": "03ec9898-c051-4415-9dfc-e6a0ee5e93f6",
   "metadata": {},
   "outputs": [],
   "source": [
    "# Standard imports\n",
    "import pandas as pd\n",
    "import numpy as np\n",
    "import matplotlib.pyplot as plt\n",
    "import seaborn as sns\n",
    "import ipywidgets as widgets\n",
    "\n",
    "\n",
    "from sklearn.linear_model import LinearRegression\n",
    "from sklearn.model_selection import train_test_split\n",
    "import seaborn as sns\n",
    "import utils\n",
    "\n",
    "# We do this to ignore several specific warnings\n",
    "import warnings\n",
    "warnings.filterwarnings(\"ignore\")\n",
    "\n",
    "%matplotlib inline\n",
    "# Set up Notebook\n",
    "sns.set(style=\"white\")"
   ]
  },
  {
   "cell_type": "code",
   "execution_count": 8,
   "id": "c3f484ee-ee3b-4bff-abb8-91f09723d706",
   "metadata": {},
   "outputs": [
    {
     "name": "stdout",
     "output_type": "stream",
     "text": [
      "Samples from the tips dataset:\n",
      "     total_bill   tip     sex smoker   day    time  size\n",
      "58        11.24  1.76    Male    Yes   Sat  Dinner     2\n",
      "114       25.71  4.00  Female     No   Sun  Dinner     3\n",
      "104       20.92  4.08  Female     No   Sat  Dinner     2\n",
      "160       21.50  3.50    Male     No   Sun  Dinner     4\n",
      "193       15.48  2.02    Male    Yes  Thur   Lunch     2\n"
     ]
    }
   ],
   "source": [
    "# Load the data set\n",
    "df = sns.load_dataset('tips')\n",
    "\n",
    "print(\"Samples from the tips dataset:\")\n",
    "print(df.sample(5))"
   ]
  }
 ],
 "metadata": {
  "kernelspec": {
   "display_name": "Python 3",
   "language": "python",
   "name": "python3"
  },
  "language_info": {
   "codemirror_mode": {
    "name": "ipython",
    "version": 3
   },
   "file_extension": ".py",
   "mimetype": "text/x-python",
   "name": "python",
   "nbconvert_exporter": "python",
   "pygments_lexer": "ipython3",
   "version": "3.9.2"
  }
 },
 "nbformat": 4,
 "nbformat_minor": 5
}
