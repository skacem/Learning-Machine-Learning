{
 "cells": [
  {
   "cell_type": "markdown",
   "id": "6600292c-9ddf-4ca5-9566-ecd342246d9c",
   "metadata": {},
   "source": [
    "# Decision Tree For Regression\n",
    "\n",
    "In this notebook, we present how decision trees are working in regression problems. We show differences with the decision tree previously presented in a classification setting."
   ]
  },
  {
   "cell_type": "code",
   "execution_count": 1,
   "id": "b419a652-fbdb-4943-b5e9-cfe62e9b1304",
   "metadata": {},
   "outputs": [],
   "source": [
    "import pandas as pd\n",
    "import numpy as np\n",
    "import seaborn as sns\n",
    "import matplotlib.pyplot as plt"
   ]
  },
  {
   "cell_type": "code",
   "execution_count": 3,
   "id": "974c2b68-5542-41bb-8ce2-1bbec820a469",
   "metadata": {},
   "outputs": [],
   "source": [
    "penguins = pd.read_csv('data/penguins_regression.csv')\n",
    "data_columns = ['Flipper Length (mm)']\n",
    "target_column = 'Body Mass (g)'\n",
    "\n",
    "data_train, target_train = penguins[data_columns], penguins[target_column]"
   ]
  },
  {
   "cell_type": "markdown",
   "id": "96d19363-a4a4-4381-b046-90f1aea01213",
   "metadata": {},
   "source": [
    "To illustrate how decision trees are predicting in a regression setting, we will create a synthetic dataset containing all possible flipper length  from the minimum to the maximum of the original data."
   ]
  },
  {
   "cell_type": "code",
   "execution_count": 4,
   "id": "979870b3-afb2-4a8a-98d3-7c887c0ae760",
   "metadata": {},
   "outputs": [],
   "source": [
    "data_test = pd.DataFrame(np.arange(data_train[data_columns[0]].min(),\n",
    "                                   data_train[data_columns[0]].max()),\n",
    "                         columns=data_columns)"
   ]
  },
  {
   "cell_type": "code",
   "execution_count": null,
   "id": "cbd36826-922d-4709-adcd-1d1263247e89",
   "metadata": {},
   "outputs": [],
   "source": []
  }
 ],
 "metadata": {
  "kernelspec": {
   "display_name": "Python 3 (ipykernel)",
   "language": "python",
   "name": "python3"
  },
  "language_info": {
   "codemirror_mode": {
    "name": "ipython",
    "version": 3
   },
   "file_extension": ".py",
   "mimetype": "text/x-python",
   "name": "python",
   "nbconvert_exporter": "python",
   "pygments_lexer": "ipython3",
   "version": "3.9.7"
  }
 },
 "nbformat": 4,
 "nbformat_minor": 5
}
