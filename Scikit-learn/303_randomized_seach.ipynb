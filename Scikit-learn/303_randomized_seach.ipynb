{
 "cells": [
  {
   "cell_type": "markdown",
   "id": "b6a607a4-96f2-40b4-8b91-fdd45b4b57e8",
   "metadata": {},
   "source": [
    "# Hyperparameter Tuning by Randomized-Search\n"
   ]
  },
  {
   "cell_type": "markdown",
   "id": "bc459999-da76-4acf-901f-18279651d7bd",
   "metadata": {},
   "source": [
    "In the previous notebook, we showed how to use a grid-search approach to search for the best hyperparameters maximizing the generalization performance of a predictive model.\n",
    "\n",
    "However, a grid-search approach has limitations. It does not scale when the number of parameters to tune is increasing. Also, the grid will impose a regularity during the search which might be problematic.\n",
    "\n",
    "In this notebook, we will present another method to tune hyperparameters called randomized search."
   ]
  },
  {
   "cell_type": "code",
   "execution_count": null,
   "id": "0678bed0-2938-4544-a87c-11bb0ead513e",
   "metadata": {},
   "outputs": [],
   "source": []
  }
 ],
 "metadata": {
  "kernelspec": {
   "display_name": "Python 3 (ipykernel)",
   "language": "python",
   "name": "python3"
  },
  "language_info": {
   "codemirror_mode": {
    "name": "ipython",
    "version": 3
   },
   "file_extension": ".py",
   "mimetype": "text/x-python",
   "name": "python",
   "nbconvert_exporter": "python",
   "pygments_lexer": "ipython3",
   "version": "3.9.7"
  }
 },
 "nbformat": 4,
 "nbformat_minor": 5
}
