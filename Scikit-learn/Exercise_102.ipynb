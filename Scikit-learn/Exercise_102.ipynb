{
 "cells": [
  {
   "cell_type": "markdown",
   "id": "71d5097a-351a-4a6c-80aa-bbfaf7dd8c89",
   "metadata": {
    "tags": []
   },
   "source": [
    "# Exercise 102\n",
    "\n",
    "The goal of this exercise is to get familiar with manipulating sklearn objects. Particularly: `.fit()`, `.predict()` and `.score()`.\n",
    "\n",
    "We will be using the numerical dataset."
   ]
  },
  {
   "cell_type": "code",
   "execution_count": 1,
   "id": "cbf9de16-4e55-4a79-bb68-ba1bac74b580",
   "metadata": {},
   "outputs": [],
   "source": [
    "# Standard imports\n",
    "import pandas as pd\n",
    "import numpy as np\n",
    "import matplotlib.pyplot as plt\n",
    "import seaborn as sns\n",
    "\n",
    "# Disable jedi autocompleter\n",
    "%config Completer.use_jedi = False"
   ]
  },
  {
   "cell_type": "code",
   "execution_count": 2,
   "id": "0708cc8b-9f2a-4598-be90-cf0cbd165c1a",
   "metadata": {},
   "outputs": [
    {
     "data": {
      "text/html": [
       "<div>\n",
       "<style scoped>\n",
       "    .dataframe tbody tr th:only-of-type {\n",
       "        vertical-align: middle;\n",
       "    }\n",
       "\n",
       "    .dataframe tbody tr th {\n",
       "        vertical-align: top;\n",
       "    }\n",
       "\n",
       "    .dataframe thead th {\n",
       "        text-align: right;\n",
       "    }\n",
       "</style>\n",
       "<table border=\"1\" class=\"dataframe\">\n",
       "  <thead>\n",
       "    <tr style=\"text-align: right;\">\n",
       "      <th></th>\n",
       "      <th>age</th>\n",
       "      <th>capital-gain</th>\n",
       "      <th>capital-loss</th>\n",
       "      <th>hours-per-week</th>\n",
       "      <th>class</th>\n",
       "    </tr>\n",
       "  </thead>\n",
       "  <tbody>\n",
       "    <tr>\n",
       "      <th>0</th>\n",
       "      <td>41</td>\n",
       "      <td>0</td>\n",
       "      <td>0</td>\n",
       "      <td>92</td>\n",
       "      <td>&lt;=50K</td>\n",
       "    </tr>\n",
       "    <tr>\n",
       "      <th>1</th>\n",
       "      <td>48</td>\n",
       "      <td>0</td>\n",
       "      <td>0</td>\n",
       "      <td>40</td>\n",
       "      <td>&lt;=50K</td>\n",
       "    </tr>\n",
       "    <tr>\n",
       "      <th>2</th>\n",
       "      <td>60</td>\n",
       "      <td>0</td>\n",
       "      <td>0</td>\n",
       "      <td>25</td>\n",
       "      <td>&lt;=50K</td>\n",
       "    </tr>\n",
       "  </tbody>\n",
       "</table>\n",
       "</div>"
      ],
      "text/plain": [
       "   age  capital-gain  capital-loss  hours-per-week   class\n",
       "0   41             0             0              92   <=50K\n",
       "1   48             0             0              40   <=50K\n",
       "2   60             0             0              25   <=50K"
      ]
     },
     "execution_count": 2,
     "metadata": {},
     "output_type": "execute_result"
    }
   ],
   "source": [
    "# load the data\n",
    "\n",
    "df = pd.read_csv('data/adult-census-numeric.csv')\n",
    "df.head(3)"
   ]
  },
  {
   "cell_type": "code",
   "execution_count": 3,
   "id": "0300d990-16d2-4336-800c-f7469864f9df",
   "metadata": {},
   "outputs": [],
   "source": [
    "data = df.drop(columns=['class'])\n",
    "target = df['class']"
   ]
  },
  {
   "cell_type": "markdown",
   "id": "1c65441c-d6f6-4edf-b05c-3e936fe6e076",
   "metadata": {},
   "source": [
    "In this notebook we are going to use Knn as model, but this time we will go a bit further by checking the effect a different `k` value has on the model."
   ]
  },
  {
   "cell_type": "code",
   "execution_count": 5,
   "id": "38dd52c3-fe78-42d0-b3a2-e20ca07d73cc",
   "metadata": {},
   "outputs": [],
   "source": [
    "# import Knn classifier\n",
    "from sklearn.neighbors import KNeighborsClassifier\n",
    "\n",
    "# to display a nice model diagram\n",
    "from sklearn import set_config\n",
    "set_config(display='diagram')"
   ]
  },
  {
   "cell_type": "markdown",
   "id": "263231ff-5a5c-4313-bb90-aa4cfb6f3175",
   "metadata": {},
   "source": [
    "We start by testing k = 50"
   ]
  },
  {
   "cell_type": "code",
   "execution_count": 7,
   "id": "2aacfb4b-b59b-4d94-a41b-f58aaccecbdb",
   "metadata": {},
   "outputs": [
    {
     "data": {
      "text/html": [
       "<style>#sk-8504db37-b05a-45ef-8363-8e29466013cc {color: black;background-color: white;}#sk-8504db37-b05a-45ef-8363-8e29466013cc pre{padding: 0;}#sk-8504db37-b05a-45ef-8363-8e29466013cc div.sk-toggleable {background-color: white;}#sk-8504db37-b05a-45ef-8363-8e29466013cc label.sk-toggleable__label {cursor: pointer;display: block;width: 100%;margin-bottom: 0;padding: 0.2em 0.3em;box-sizing: border-box;text-align: center;}#sk-8504db37-b05a-45ef-8363-8e29466013cc div.sk-toggleable__content {max-height: 0;max-width: 0;overflow: hidden;text-align: left;background-color: #f0f8ff;}#sk-8504db37-b05a-45ef-8363-8e29466013cc div.sk-toggleable__content pre {margin: 0.2em;color: black;border-radius: 0.25em;background-color: #f0f8ff;}#sk-8504db37-b05a-45ef-8363-8e29466013cc input.sk-toggleable__control:checked~div.sk-toggleable__content {max-height: 200px;max-width: 100%;overflow: auto;}#sk-8504db37-b05a-45ef-8363-8e29466013cc div.sk-estimator input.sk-toggleable__control:checked~label.sk-toggleable__label {background-color: #d4ebff;}#sk-8504db37-b05a-45ef-8363-8e29466013cc div.sk-label input.sk-toggleable__control:checked~label.sk-toggleable__label {background-color: #d4ebff;}#sk-8504db37-b05a-45ef-8363-8e29466013cc input.sk-hidden--visually {border: 0;clip: rect(1px 1px 1px 1px);clip: rect(1px, 1px, 1px, 1px);height: 1px;margin: -1px;overflow: hidden;padding: 0;position: absolute;width: 1px;}#sk-8504db37-b05a-45ef-8363-8e29466013cc div.sk-estimator {font-family: monospace;background-color: #f0f8ff;margin: 0.25em 0.25em;border: 1px dotted black;border-radius: 0.25em;box-sizing: border-box;}#sk-8504db37-b05a-45ef-8363-8e29466013cc div.sk-estimator:hover {background-color: #d4ebff;}#sk-8504db37-b05a-45ef-8363-8e29466013cc div.sk-parallel-item::after {content: \"\";width: 100%;border-bottom: 1px solid gray;flex-grow: 1;}#sk-8504db37-b05a-45ef-8363-8e29466013cc div.sk-label:hover label.sk-toggleable__label {background-color: #d4ebff;}#sk-8504db37-b05a-45ef-8363-8e29466013cc div.sk-serial::before {content: \"\";position: absolute;border-left: 1px solid gray;box-sizing: border-box;top: 2em;bottom: 0;left: 50%;}#sk-8504db37-b05a-45ef-8363-8e29466013cc div.sk-serial {display: flex;flex-direction: column;align-items: center;background-color: white;}#sk-8504db37-b05a-45ef-8363-8e29466013cc div.sk-item {z-index: 1;}#sk-8504db37-b05a-45ef-8363-8e29466013cc div.sk-parallel {display: flex;align-items: stretch;justify-content: center;background-color: white;}#sk-8504db37-b05a-45ef-8363-8e29466013cc div.sk-parallel-item {display: flex;flex-direction: column;position: relative;background-color: white;}#sk-8504db37-b05a-45ef-8363-8e29466013cc div.sk-parallel-item:first-child::after {align-self: flex-end;width: 50%;}#sk-8504db37-b05a-45ef-8363-8e29466013cc div.sk-parallel-item:last-child::after {align-self: flex-start;width: 50%;}#sk-8504db37-b05a-45ef-8363-8e29466013cc div.sk-parallel-item:only-child::after {width: 0;}#sk-8504db37-b05a-45ef-8363-8e29466013cc div.sk-dashed-wrapped {border: 1px dashed gray;margin: 0.2em;box-sizing: border-box;padding-bottom: 0.1em;background-color: white;position: relative;}#sk-8504db37-b05a-45ef-8363-8e29466013cc div.sk-label label {font-family: monospace;font-weight: bold;background-color: white;display: inline-block;line-height: 1.2em;}#sk-8504db37-b05a-45ef-8363-8e29466013cc div.sk-label-container {position: relative;z-index: 2;text-align: center;}#sk-8504db37-b05a-45ef-8363-8e29466013cc div.sk-container {display: inline-block;position: relative;}</style><div id=\"sk-8504db37-b05a-45ef-8363-8e29466013cc\" class\"sk-top-container\"><div class=\"sk-container\"><div class=\"sk-item\"><div class=\"sk-estimator sk-toggleable\"><input class=\"sk-toggleable__control sk-hidden--visually\" id=\"c38f8d8f-74df-4865-a39c-a4d155679ba3\" type=\"checkbox\" checked><label class=\"sk-toggleable__label\" for=\"c38f8d8f-74df-4865-a39c-a4d155679ba3\">KNeighborsClassifier</label><div class=\"sk-toggleable__content\"><pre>KNeighborsClassifier(n_neighbors=50)</pre></div></div></div></div></div>"
      ],
      "text/plain": [
       "KNeighborsClassifier(n_neighbors=50)"
      ]
     },
     "execution_count": 7,
     "metadata": {},
     "output_type": "execute_result"
    }
   ],
   "source": [
    "# Generate the model\n",
    "model = KNeighborsClassifier(n_neighbors=50)\n",
    "\n",
    "# Train the model\n",
    "model.fit(data, target)"
   ]
  },
  {
   "cell_type": "code",
   "execution_count": 9,
   "id": "6756fee8-f879-4b08-b258-8d7e80c74a6e",
   "metadata": {},
   "outputs": [
    {
     "data": {
      "text/plain": [
       "0     True\n",
       "1     True\n",
       "2     True\n",
       "3     True\n",
       "4     True\n",
       "5     True\n",
       "6     True\n",
       "7     True\n",
       "8     True\n",
       "9    False\n",
       "Name: class, dtype: bool"
      ]
     },
     "execution_count": 9,
     "metadata": {},
     "output_type": "execute_result"
    }
   ],
   "source": [
    "# predict the first 10 data points:\n",
    "predicted = model.predict(data[:10])\n",
    "(target[:10] == predicted)"
   ]
  },
  {
   "cell_type": "code",
   "execution_count": 10,
   "id": "33e223fd-b717-4b38-8180-d7c615fbb87c",
   "metadata": {},
   "outputs": [
    {
     "data": {
      "text/plain": [
       "0.8289867683566657"
      ]
     },
     "execution_count": 10,
     "metadata": {},
     "output_type": "execute_result"
    }
   ],
   "source": [
    "model.score(data, target)"
   ]
  },
  {
   "cell_type": "markdown",
   "id": "59004f48-acd8-4915-bcc1-8b3e6091108d",
   "metadata": {},
   "source": [
    "Accuracy on the test data"
   ]
  },
  {
   "cell_type": "code",
   "execution_count": 11,
   "id": "950201af-1778-404c-87e5-64cf4f05608d",
   "metadata": {},
   "outputs": [
    {
     "data": {
      "text/plain": [
       "0.8182004299314157"
      ]
     },
     "execution_count": 11,
     "metadata": {},
     "output_type": "execute_result"
    }
   ],
   "source": [
    "df_test = pd.read_csv(\"data/adult-census-numeric-test.csv\")\n",
    "\n",
    "data_test = df_test.drop(columns='class')\n",
    "target_test = df_test['class']\n",
    "\n",
    "model.score(data_test, target_test)"
   ]
  },
  {
   "cell_type": "code",
   "execution_count": null,
   "id": "4edd32b1-3533-49fd-89fb-45a37e807b09",
   "metadata": {},
   "outputs": [],
   "source": []
  }
 ],
 "metadata": {
  "kernelspec": {
   "display_name": "Python 3",
   "language": "python",
   "name": "python3"
  },
  "language_info": {
   "codemirror_mode": {
    "name": "ipython",
    "version": 3
   },
   "file_extension": ".py",
   "mimetype": "text/x-python",
   "name": "python",
   "nbconvert_exporter": "python",
   "pygments_lexer": "ipython3",
   "version": "3.6.13"
  }
 },
 "nbformat": 4,
 "nbformat_minor": 5
}
