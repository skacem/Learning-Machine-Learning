{
 "cells": [
  {
   "cell_type": "markdown",
   "id": "2c089e6b-6563-4975-afe9-a7985900d1bf",
   "metadata": {},
   "source": [
    "# Speeding-Up Gradient-Boosting\n",
    "\n",
    "In this notebook"
   ]
  }
 ],
 "metadata": {
  "kernelspec": {
   "display_name": "Python 3 (ipykernel)",
   "language": "python",
   "name": "python3"
  },
  "language_info": {
   "codemirror_mode": {
    "name": "ipython",
    "version": 3
   },
   "file_extension": ".py",
   "mimetype": "text/x-python",
   "name": "python",
   "nbconvert_exporter": "python",
   "pygments_lexer": "ipython3",
   "version": "3.9.7"
  }
 },
 "nbformat": 4,
 "nbformat_minor": 5
}
