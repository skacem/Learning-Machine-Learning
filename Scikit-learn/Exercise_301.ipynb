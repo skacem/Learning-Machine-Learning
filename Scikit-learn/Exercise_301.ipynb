{
 "cells": [
  {
   "cell_type": "markdown",
   "id": "52ceb2d0-79d2-4590-a415-8b5159f6cac1",
   "metadata": {},
   "source": [
    "# Exercise M301\n",
    "\n",
    "The goal is to write an exhaustive search to find the best parameters combination maximizing the model generalization performance"
   ]
  }
 ],
 "metadata": {
  "kernelspec": {
   "display_name": "Python 3 (ipykernel)",
   "language": "python",
   "name": "python3"
  },
  "language_info": {
   "codemirror_mode": {
    "name": "ipython",
    "version": 3
   },
   "file_extension": ".py",
   "mimetype": "text/x-python",
   "name": "python",
   "nbconvert_exporter": "python",
   "pygments_lexer": "ipython3",
   "version": "3.9.7"
  }
 },
 "nbformat": 4,
 "nbformat_minor": 5
}
