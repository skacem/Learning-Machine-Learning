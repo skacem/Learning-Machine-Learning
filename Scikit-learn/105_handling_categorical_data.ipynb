{
 "cells": [
  {
   "cell_type": "markdown",
   "id": "252e32c2-e973-4b00-ba0c-6126361df185",
   "metadata": {},
   "source": [
    "# Handling Categorical Data\n",
    "\n",
    "## Encoding of Categorical Variables\n",
    "\n",
    "In this section, we will present typical ways of dealing with categorical variables by encoding them, namely **ordinal encoding** and **one-hoe encoding**\n",
    "\n",
    "So, without further due, let's start first by importing the required modules and loading the data set."
   ]
  },
  {
   "cell_type": "code",
   "execution_count": 1,
   "id": "6d04a2e5-f01d-4d94-af4a-ad0f825f2cb2",
   "metadata": {},
   "outputs": [],
   "source": [
    "# 1. Standard imports\n",
    "import pandas as pd\n",
    "\n",
    "# Few tweaked Pandas options for friendlier output:\n",
    "\n",
    "# Use 2 decimal places in output display\n",
    "%precision %.3f\n",
    "pd.set_option(\"display.precision\", 3)\n",
    "\n",
    "# Disable jedi autocompleter\n",
    "%config Completer.use_jedi = False"
   ]
  },
  {
   "cell_type": "code",
   "execution_count": 2,
   "id": "2769bb0c-d4f5-404b-b175-47c75e6d3a76",
   "metadata": {},
   "outputs": [
    {
     "data": {
      "text/html": [
       "<div>\n",
       "<style scoped>\n",
       "    .dataframe tbody tr th:only-of-type {\n",
       "        vertical-align: middle;\n",
       "    }\n",
       "\n",
       "    .dataframe tbody tr th {\n",
       "        vertical-align: top;\n",
       "    }\n",
       "\n",
       "    .dataframe thead th {\n",
       "        text-align: right;\n",
       "    }\n",
       "</style>\n",
       "<table border=\"1\" class=\"dataframe\">\n",
       "  <thead>\n",
       "    <tr style=\"text-align: right;\">\n",
       "      <th></th>\n",
       "      <th>age</th>\n",
       "      <th>workclass</th>\n",
       "      <th>fnlwgt</th>\n",
       "      <th>education</th>\n",
       "      <th>education-num</th>\n",
       "      <th>marital-status</th>\n",
       "      <th>occupation</th>\n",
       "      <th>relationship</th>\n",
       "      <th>race</th>\n",
       "      <th>sex</th>\n",
       "      <th>capital-gain</th>\n",
       "      <th>capital-loss</th>\n",
       "      <th>hours-per-week</th>\n",
       "      <th>native-country</th>\n",
       "      <th>class</th>\n",
       "    </tr>\n",
       "  </thead>\n",
       "  <tbody>\n",
       "    <tr>\n",
       "      <th>0</th>\n",
       "      <td>25</td>\n",
       "      <td>Private</td>\n",
       "      <td>226802</td>\n",
       "      <td>11th</td>\n",
       "      <td>7</td>\n",
       "      <td>Never-married</td>\n",
       "      <td>Machine-op-inspct</td>\n",
       "      <td>Own-child</td>\n",
       "      <td>Black</td>\n",
       "      <td>Male</td>\n",
       "      <td>0</td>\n",
       "      <td>0</td>\n",
       "      <td>40</td>\n",
       "      <td>United-States</td>\n",
       "      <td>&lt;=50K</td>\n",
       "    </tr>\n",
       "    <tr>\n",
       "      <th>1</th>\n",
       "      <td>38</td>\n",
       "      <td>Private</td>\n",
       "      <td>89814</td>\n",
       "      <td>HS-grad</td>\n",
       "      <td>9</td>\n",
       "      <td>Married-civ-spouse</td>\n",
       "      <td>Farming-fishing</td>\n",
       "      <td>Husband</td>\n",
       "      <td>White</td>\n",
       "      <td>Male</td>\n",
       "      <td>0</td>\n",
       "      <td>0</td>\n",
       "      <td>50</td>\n",
       "      <td>United-States</td>\n",
       "      <td>&lt;=50K</td>\n",
       "    </tr>\n",
       "    <tr>\n",
       "      <th>2</th>\n",
       "      <td>28</td>\n",
       "      <td>Local-gov</td>\n",
       "      <td>336951</td>\n",
       "      <td>Assoc-acdm</td>\n",
       "      <td>12</td>\n",
       "      <td>Married-civ-spouse</td>\n",
       "      <td>Protective-serv</td>\n",
       "      <td>Husband</td>\n",
       "      <td>White</td>\n",
       "      <td>Male</td>\n",
       "      <td>0</td>\n",
       "      <td>0</td>\n",
       "      <td>40</td>\n",
       "      <td>United-States</td>\n",
       "      <td>&gt;50K</td>\n",
       "    </tr>\n",
       "    <tr>\n",
       "      <th>3</th>\n",
       "      <td>44</td>\n",
       "      <td>Private</td>\n",
       "      <td>160323</td>\n",
       "      <td>Some-college</td>\n",
       "      <td>10</td>\n",
       "      <td>Married-civ-spouse</td>\n",
       "      <td>Machine-op-inspct</td>\n",
       "      <td>Husband</td>\n",
       "      <td>Black</td>\n",
       "      <td>Male</td>\n",
       "      <td>7688</td>\n",
       "      <td>0</td>\n",
       "      <td>40</td>\n",
       "      <td>United-States</td>\n",
       "      <td>&gt;50K</td>\n",
       "    </tr>\n",
       "    <tr>\n",
       "      <th>4</th>\n",
       "      <td>18</td>\n",
       "      <td>?</td>\n",
       "      <td>103497</td>\n",
       "      <td>Some-college</td>\n",
       "      <td>10</td>\n",
       "      <td>Never-married</td>\n",
       "      <td>?</td>\n",
       "      <td>Own-child</td>\n",
       "      <td>White</td>\n",
       "      <td>Female</td>\n",
       "      <td>0</td>\n",
       "      <td>0</td>\n",
       "      <td>30</td>\n",
       "      <td>United-States</td>\n",
       "      <td>&lt;=50K</td>\n",
       "    </tr>\n",
       "  </tbody>\n",
       "</table>\n",
       "</div>"
      ],
      "text/plain": [
       "   age   workclass  fnlwgt      education  education-num       marital-status  \\\n",
       "0   25     Private  226802           11th              7        Never-married   \n",
       "1   38     Private   89814        HS-grad              9   Married-civ-spouse   \n",
       "2   28   Local-gov  336951     Assoc-acdm             12   Married-civ-spouse   \n",
       "3   44     Private  160323   Some-college             10   Married-civ-spouse   \n",
       "4   18           ?  103497   Some-college             10        Never-married   \n",
       "\n",
       "           occupation relationship    race      sex  capital-gain  \\\n",
       "0   Machine-op-inspct    Own-child   Black     Male             0   \n",
       "1     Farming-fishing      Husband   White     Male             0   \n",
       "2     Protective-serv      Husband   White     Male             0   \n",
       "3   Machine-op-inspct      Husband   Black     Male          7688   \n",
       "4                   ?    Own-child   White   Female             0   \n",
       "\n",
       "   capital-loss  hours-per-week  native-country   class  \n",
       "0             0              40   United-States   <=50K  \n",
       "1             0              50   United-States   <=50K  \n",
       "2             0              40   United-States    >50K  \n",
       "3             0              40   United-States    >50K  \n",
       "4             0              30   United-States   <=50K  "
      ]
     },
     "execution_count": 2,
     "metadata": {},
     "output_type": "execute_result"
    }
   ],
   "source": [
    "df = pd.read_csv('data/adult-census.csv')\n",
    "df.head()"
   ]
  },
  {
   "cell_type": "code",
   "execution_count": 3,
   "id": "50146c6a-3c41-4926-9273-d4fbf0753a1a",
   "metadata": {},
   "outputs": [],
   "source": [
    "# this time we are going to keep the categorical eduction variable; education and drop the numerical `education`\n",
    "df = df.drop(columns='education-num')\n",
    "target = df['class']\n",
    "data = df.drop(columns='class')"
   ]
  },
  {
   "cell_type": "markdown",
   "id": "81aa2f7c-c6ef-4374-9ff1-d83fe67bb97e",
   "metadata": {},
   "source": [
    "### Identify Categorical Variables\n",
    "\n",
    "As we saw in the previous section, a numerical variable is a quantity represented by a real or integer number. These variables can be naturally handled by machine learning algorithms that are typically composed of a sequence of arithmetic instructions such as additions and multiplications.\n",
    "\n",
    "In contrast, categorical variables have discrete values, typically  represented by string labels taken from a finite list of possible choices. e.g:"
   ]
  },
  {
   "cell_type": "code",
   "execution_count": 4,
   "id": "67897239-6666-473b-862d-f89f6b78bf6b",
   "metadata": {},
   "outputs": [
    {
     "data": {
      "text/plain": [
       " ?                               857\n",
       " Cambodia                         28\n",
       " Canada                          182\n",
       " China                           122\n",
       " Columbia                         85\n",
       " Cuba                            138\n",
       " Dominican-Republic              103\n",
       " Ecuador                          45\n",
       " El-Salvador                     155\n",
       " England                         127\n",
       " France                           38\n",
       " Germany                         206\n",
       " Greece                           49\n",
       " Guatemala                        88\n",
       " Haiti                            75\n",
       " Holand-Netherlands                1\n",
       " Honduras                         20\n",
       " Hong                             30\n",
       " Hungary                          19\n",
       " India                           151\n",
       " Iran                             59\n",
       " Ireland                          37\n",
       " Italy                           105\n",
       " Jamaica                         106\n",
       " Japan                            92\n",
       " Laos                             23\n",
       " Mexico                          951\n",
       " Nicaragua                        49\n",
       " Outlying-US(Guam-USVI-etc)       23\n",
       " Peru                             46\n",
       " Philippines                     295\n",
       " Poland                           87\n",
       " Portugal                         67\n",
       " Puerto-Rico                     184\n",
       " Scotland                         21\n",
       " South                           115\n",
       " Taiwan                           65\n",
       " Thailand                         30\n",
       " Trinadad&Tobago                  27\n",
       " United-States                 43832\n",
       " Vietnam                          86\n",
       " Yugoslavia                       23\n",
       "Name: native-country, dtype: int64"
      ]
     },
     "execution_count": 4,
     "metadata": {},
     "output_type": "execute_result"
    }
   ],
   "source": [
    "data['native-country'].value_counts().sort_index()"
   ]
  },
  {
   "cell_type": "markdown",
   "id": "aec73927-56b1-499b-84fb-b7026cf70f11",
   "metadata": {},
   "source": [
    "There are different ways to select categorical data:"
   ]
  },
  {
   "cell_type": "code",
   "execution_count": 9,
   "id": "a19c1af9-ca36-4913-a5fc-8dc586a76a32",
   "metadata": {},
   "outputs": [
    {
     "data": {
      "text/plain": [
       "age                int64\n",
       "workclass         object\n",
       "fnlwgt             int64\n",
       "education         object\n",
       "marital-status    object\n",
       "occupation        object\n",
       "relationship      object\n",
       "race              object\n",
       "sex               object\n",
       "capital-gain       int64\n",
       "capital-loss       int64\n",
       "hours-per-week     int64\n",
       "native-country    object\n",
       "dtype: object"
      ]
     },
     "execution_count": 9,
     "metadata": {},
     "output_type": "execute_result"
    }
   ],
   "source": [
    "# 1.\n",
    "data.dtypes"
   ]
  },
  {
   "cell_type": "code",
   "execution_count": 10,
   "id": "9168068c-7ce2-4779-af46-f70bfb03c4f2",
   "metadata": {},
   "outputs": [
    {
     "data": {
      "text/plain": [
       "Index(['workclass', 'education', 'marital-status', 'occupation',\n",
       "       'relationship', 'race', 'sex', 'native-country'],\n",
       "      dtype='object')"
      ]
     },
     "execution_count": 10,
     "metadata": {},
     "output_type": "execute_result"
    }
   ],
   "source": [
    "# 2.\n",
    "data.select_dtypes(include='object').columns"
   ]
  },
  {
   "cell_type": "markdown",
   "id": "2d17d634-ec9f-405a-be0b-54a5c223399a",
   "metadata": {},
   "source": [
    "### Select Features Based on their Data Type\n",
    "\n",
    "scikit-learn comes with a helper function `make_column_selector`, which allows us to select columns based on their data type. Since this is a tutorial about sklearn, in the following we will illustrate how to use this helper."
   ]
  },
  {
   "cell_type": "code",
   "execution_count": 11,
   "id": "700a1125-205e-4c37-8086-d69b7bd7e3ad",
   "metadata": {},
   "outputs": [
    {
     "data": {
      "text/plain": [
       "['workclass',\n",
       " 'education',\n",
       " 'marital-status',\n",
       " 'occupation',\n",
       " 'relationship',\n",
       " 'race',\n",
       " 'sex',\n",
       " 'native-country']"
      ]
     },
     "execution_count": 11,
     "metadata": {},
     "output_type": "execute_result"
    }
   ],
   "source": [
    "from sklearn.compose import make_column_selector as selector\n",
    "\n",
    "categorical_cols_selector = selector(dtype_include=object)\n",
    "categorical_cols = categorical_cols_selector(data)\n",
    "categorical_cols"
   ]
  },
  {
   "cell_type": "code",
   "execution_count": null,
   "id": "b2bd4d4b-263f-4cd5-92b6-c15823703bf9",
   "metadata": {},
   "outputs": [],
   "source": []
  }
 ],
 "metadata": {
  "kernelspec": {
   "display_name": "Python 3",
   "language": "python",
   "name": "python3"
  },
  "language_info": {
   "codemirror_mode": {
    "name": "ipython",
    "version": 3
   },
   "file_extension": ".py",
   "mimetype": "text/x-python",
   "name": "python",
   "nbconvert_exporter": "python",
   "pygments_lexer": "ipython3",
   "version": "3.6.13"
  }
 },
 "nbformat": 4,
 "nbformat_minor": 5
}
