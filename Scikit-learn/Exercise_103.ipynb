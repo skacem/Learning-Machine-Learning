{
 "cells": [
  {
   "cell_type": "markdown",
   "id": "c1d16b0d-e6a3-4cd1-81f4-4c08282740ec",
   "metadata": {},
   "source": [
    "# Exercise M1.03\n",
    "\n",
    "The goal of this exercise is to compare the performance of our classifier in the previous notebook (roughly 81\\% accuracy with `LogisticRegression`) to some simple baseline classifier. The simplest baseline classifier isone that always predicts the same class, irrespective of the input data.\n",
    "\n",
    "* What would be the score of a model that always predicts ` >50K`?\n",
    "* What would be the score of a model that always predicts ` <50k`?\n",
    "* Is 81\\% or 82\\% accuracy a good score for this problem?\n",
    "\n",
    "Use a `DummyClassifier` and do a train-test split to evaluate its accuracy on the test set. "
   ]
  },
  {
   "cell_type": "code",
   "execution_count": 2,
   "id": "0b557d84-5a39-4a38-88d9-92a303708fd9",
   "metadata": {},
   "outputs": [],
   "source": [
    "# Imports\n",
    "\n",
    "import pandas as pd\n",
    "from sklearn.model_selection import train_test_split\n",
    "from sklearn.linear_model import LogisticRegression\n",
    "from sklearn.dummy import DummyClassifier"
   ]
  },
  {
   "cell_type": "code",
   "execution_count": 3,
   "id": "f27f567b-4867-4c8e-8203-ae8d3a18500e",
   "metadata": {},
   "outputs": [
    {
     "data": {
      "text/html": [
       "<div>\n",
       "<style scoped>\n",
       "    .dataframe tbody tr th:only-of-type {\n",
       "        vertical-align: middle;\n",
       "    }\n",
       "\n",
       "    .dataframe tbody tr th {\n",
       "        vertical-align: top;\n",
       "    }\n",
       "\n",
       "    .dataframe thead th {\n",
       "        text-align: right;\n",
       "    }\n",
       "</style>\n",
       "<table border=\"1\" class=\"dataframe\">\n",
       "  <thead>\n",
       "    <tr style=\"text-align: right;\">\n",
       "      <th></th>\n",
       "      <th>age</th>\n",
       "      <th>workclass</th>\n",
       "      <th>fnlwgt</th>\n",
       "      <th>education</th>\n",
       "      <th>education-num</th>\n",
       "      <th>marital-status</th>\n",
       "      <th>occupation</th>\n",
       "      <th>relationship</th>\n",
       "      <th>race</th>\n",
       "      <th>sex</th>\n",
       "      <th>capital-gain</th>\n",
       "      <th>capital-loss</th>\n",
       "      <th>hours-per-week</th>\n",
       "      <th>native-country</th>\n",
       "      <th>class</th>\n",
       "    </tr>\n",
       "  </thead>\n",
       "  <tbody>\n",
       "    <tr>\n",
       "      <th>0</th>\n",
       "      <td>25</td>\n",
       "      <td>Private</td>\n",
       "      <td>226802</td>\n",
       "      <td>11th</td>\n",
       "      <td>7</td>\n",
       "      <td>Never-married</td>\n",
       "      <td>Machine-op-inspct</td>\n",
       "      <td>Own-child</td>\n",
       "      <td>Black</td>\n",
       "      <td>Male</td>\n",
       "      <td>0</td>\n",
       "      <td>0</td>\n",
       "      <td>40</td>\n",
       "      <td>United-States</td>\n",
       "      <td>&lt;=50K</td>\n",
       "    </tr>\n",
       "    <tr>\n",
       "      <th>1</th>\n",
       "      <td>38</td>\n",
       "      <td>Private</td>\n",
       "      <td>89814</td>\n",
       "      <td>HS-grad</td>\n",
       "      <td>9</td>\n",
       "      <td>Married-civ-spouse</td>\n",
       "      <td>Farming-fishing</td>\n",
       "      <td>Husband</td>\n",
       "      <td>White</td>\n",
       "      <td>Male</td>\n",
       "      <td>0</td>\n",
       "      <td>0</td>\n",
       "      <td>50</td>\n",
       "      <td>United-States</td>\n",
       "      <td>&lt;=50K</td>\n",
       "    </tr>\n",
       "    <tr>\n",
       "      <th>2</th>\n",
       "      <td>28</td>\n",
       "      <td>Local-gov</td>\n",
       "      <td>336951</td>\n",
       "      <td>Assoc-acdm</td>\n",
       "      <td>12</td>\n",
       "      <td>Married-civ-spouse</td>\n",
       "      <td>Protective-serv</td>\n",
       "      <td>Husband</td>\n",
       "      <td>White</td>\n",
       "      <td>Male</td>\n",
       "      <td>0</td>\n",
       "      <td>0</td>\n",
       "      <td>40</td>\n",
       "      <td>United-States</td>\n",
       "      <td>&gt;50K</td>\n",
       "    </tr>\n",
       "    <tr>\n",
       "      <th>3</th>\n",
       "      <td>44</td>\n",
       "      <td>Private</td>\n",
       "      <td>160323</td>\n",
       "      <td>Some-college</td>\n",
       "      <td>10</td>\n",
       "      <td>Married-civ-spouse</td>\n",
       "      <td>Machine-op-inspct</td>\n",
       "      <td>Husband</td>\n",
       "      <td>Black</td>\n",
       "      <td>Male</td>\n",
       "      <td>7688</td>\n",
       "      <td>0</td>\n",
       "      <td>40</td>\n",
       "      <td>United-States</td>\n",
       "      <td>&gt;50K</td>\n",
       "    </tr>\n",
       "    <tr>\n",
       "      <th>4</th>\n",
       "      <td>18</td>\n",
       "      <td>?</td>\n",
       "      <td>103497</td>\n",
       "      <td>Some-college</td>\n",
       "      <td>10</td>\n",
       "      <td>Never-married</td>\n",
       "      <td>?</td>\n",
       "      <td>Own-child</td>\n",
       "      <td>White</td>\n",
       "      <td>Female</td>\n",
       "      <td>0</td>\n",
       "      <td>0</td>\n",
       "      <td>30</td>\n",
       "      <td>United-States</td>\n",
       "      <td>&lt;=50K</td>\n",
       "    </tr>\n",
       "  </tbody>\n",
       "</table>\n",
       "</div>"
      ],
      "text/plain": [
       "   age   workclass  fnlwgt      education  education-num       marital-status  \\\n",
       "0   25     Private  226802           11th              7        Never-married   \n",
       "1   38     Private   89814        HS-grad              9   Married-civ-spouse   \n",
       "2   28   Local-gov  336951     Assoc-acdm             12   Married-civ-spouse   \n",
       "3   44     Private  160323   Some-college             10   Married-civ-spouse   \n",
       "4   18           ?  103497   Some-college             10        Never-married   \n",
       "\n",
       "           occupation relationship    race      sex  capital-gain  \\\n",
       "0   Machine-op-inspct    Own-child   Black     Male             0   \n",
       "1     Farming-fishing      Husband   White     Male             0   \n",
       "2     Protective-serv      Husband   White     Male             0   \n",
       "3   Machine-op-inspct      Husband   Black     Male          7688   \n",
       "4                   ?    Own-child   White   Female             0   \n",
       "\n",
       "   capital-loss  hours-per-week  native-country   class  \n",
       "0             0              40   United-States   <=50K  \n",
       "1             0              50   United-States   <=50K  \n",
       "2             0              40   United-States    >50K  \n",
       "3             0              40   United-States    >50K  \n",
       "4             0              30   United-States   <=50K  "
      ]
     },
     "execution_count": 3,
     "metadata": {},
     "output_type": "execute_result"
    }
   ],
   "source": [
    "df = pd.read_csv('data/adult-census.csv')\n",
    "df.head()"
   ]
  },
  {
   "cell_type": "markdown",
   "id": "689361e3-2aa1-40ab-a343-d21d2064b41c",
   "metadata": {},
   "source": [
    "We first split our dataset to have the target separated from the data used to train our predictive model."
   ]
  },
  {
   "cell_type": "code",
   "execution_count": 4,
   "id": "17f0f32e-37f7-45d7-aca2-f958fac44cd6",
   "metadata": {},
   "outputs": [],
   "source": [
    "# remove fnlwgt and education\n",
    "df = df.drop(columns=['fnlwgt', 'education'])\n",
    "\n",
    "# select target\n",
    "target = df['class']\n",
    "\n",
    "# select data\n",
    "data = df.drop(columns='class')"
   ]
  },
  {
   "cell_type": "code",
   "execution_count": 6,
   "id": "79581de1-a8fd-4938-8092-f83f19eb406f",
   "metadata": {},
   "outputs": [],
   "source": [
    "# since we will use only numerical data\n",
    "data_numeric = data.select_dtypes(include='number')"
   ]
  },
  {
   "cell_type": "code",
   "execution_count": 7,
   "id": "11f2174d-efb4-4922-8bc8-851e5c4e640e",
   "metadata": {},
   "outputs": [],
   "source": [
    "# split the data\n",
    "data_train, data_test, target_train, target_test = train_test_split(data_numeric, target, \n",
    "                                                                    test_size=.25, random_state=23)"
   ]
  },
  {
   "cell_type": "markdown",
   "id": "0262c574-0690-4875-8e98-e97b72df8f57",
   "metadata": {},
   "source": [
    "Train the logistic regression model"
   ]
  },
  {
   "cell_type": "code",
   "execution_count": 12,
   "id": "35292ae4-9d64-4603-bcd5-7656fb295990",
   "metadata": {},
   "outputs": [
    {
     "data": {
      "text/plain": [
       "0.821390549504545"
      ]
     },
     "execution_count": 12,
     "metadata": {},
     "output_type": "execute_result"
    }
   ],
   "source": [
    "model = LogisticRegression()\n",
    "model.fit(data_train, target_train)\n",
    "# score of the logistic regression model\n",
    "model.score(data_test, target_test)"
   ]
  },
  {
   "cell_type": "markdown",
   "id": "6b7be343-916f-4e8e-b0c0-4c06c8b2b5cd",
   "metadata": {},
   "source": [
    "Use the `DummyClassifier` such that the resulting classifier will always predict the class ` >50K`.  \n",
    "Repeat the experiment by always predicting the class ` <=50K`."
   ]
  },
  {
   "cell_type": "code",
   "execution_count": 15,
   "id": "5cdb381e-9ee5-4797-a813-aa4ba00d60b2",
   "metadata": {},
   "outputs": [
    {
     "name": "stdout",
     "output_type": "stream",
     "text": [
      "Score of a model that always predicts  >50K:  0.233\n",
      "Score of a model that always predicts  <=50K:  0.767\n"
     ]
    }
   ],
   "source": [
    "for constant in [' >50K', ' <=50K' ]:\n",
    "    dummy_cl = DummyClassifier(strategy='constant', constant=constant)\n",
    "    dummy_cl.fit(data_train, target_train)\n",
    "    print(f\"Score of a model that always predicts {constant}: \",\n",
    "          f\"{dummy_cl.score(data_test, target_test):.3f}\")"
   ]
  },
  {
   "cell_type": "markdown",
   "id": "7a0abe1d-c276-40e8-beae-e9d695a00a17",
   "metadata": {},
   "source": [
    "If we use the strategy `\"most_frequent\"` to predict the class that appears the most in the training target, which is in this example the same as ` <=50K`, we would be on average 77% of the time right, without even training a model.\n",
    "\n",
    "However the LogisticRegression accuracy (roughly 82\\%) is better than the `most_frequent` strategy."
   ]
  },
  {
   "cell_type": "code",
   "execution_count": null,
   "id": "119a6c31-47f3-45ed-8994-41e3712339d3",
   "metadata": {},
   "outputs": [],
   "source": []
  }
 ],
 "metadata": {
  "kernelspec": {
   "display_name": "Python 3 (ipykernel)",
   "language": "python",
   "name": "python3"
  },
  "language_info": {
   "codemirror_mode": {
    "name": "ipython",
    "version": 3
   },
   "file_extension": ".py",
   "mimetype": "text/x-python",
   "name": "python",
   "nbconvert_exporter": "python",
   "pygments_lexer": "ipython3",
   "version": "3.9.7"
  }
 },
 "nbformat": 4,
 "nbformat_minor": 5
}
