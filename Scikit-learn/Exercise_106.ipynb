{
 "cells": [
  {
   "cell_type": "markdown",
   "id": "5c21b604-eb7e-4492-9622-da98b592e929",
   "metadata": {},
   "source": [
    "# Exercise 106\n",
    "\n",
    "The goal of this exercise is to evaluate the impact of feature preprocessing on a pipeline that uses a decision-tree-based classifier instead of a logistic regression.\n",
    "\n",
    "* The first question is to empirically evaluate whether scaling numerical features is helpful or not;\n",
    "* The second question is to evaluate whether it is empirically better (both from a computational and a statistical perspective) to use integer coded or one-hot encoded categories."
   ]
  },
  {
   "cell_type": "code",
   "execution_count": 1,
   "id": "f5d24be3-7c45-4205-936d-7eef2e1cc36a",
   "metadata": {},
   "outputs": [],
   "source": [
    "import pandas as pd\n",
    "# Disable jedi autocompleter\n",
    "%config Completer.use_jedi = False"
   ]
  },
  {
   "cell_type": "code",
   "execution_count": 2,
   "id": "d5148f98-0d4f-4f71-a642-3017aaeeb98d",
   "metadata": {},
   "outputs": [],
   "source": [
    "df = pd.read_csv('data/adult-census.csv')\n",
    "\n",
    "target = df['class']\n",
    "data = df.drop(columns=['class', 'education-num', 'fnlwgt'])"
   ]
  },
  {
   "cell_type": "markdown",
   "id": "a57ee975-1132-441c-b55a-82b3bfa487d1",
   "metadata": {},
   "source": [
    "As in the previous notebook, we use the utility `make_column_selector` to select only columns with a specific data type. Besides, we list in advance all categories for the categorical columns."
   ]
  },
  {
   "cell_type": "code",
   "execution_count": 3,
   "id": "97123418-6dda-41e5-b11e-55111e64d55a",
   "metadata": {},
   "outputs": [],
   "source": [
    "from sklearn.compose import make_column_selector as selector"
   ]
  },
  {
   "cell_type": "code",
   "execution_count": 4,
   "id": "71cb10f9-e92e-4020-953f-f2e621cd6492",
   "metadata": {},
   "outputs": [],
   "source": [
    "numerical_columns_selector = selector(dtype_exclude=object)\n",
    "categorical_columns_selector = selector(dtype_include=object)"
   ]
  },
  {
   "cell_type": "code",
   "execution_count": 5,
   "id": "62d28a22-204f-49b4-92f2-d43e46bf95a2",
   "metadata": {},
   "outputs": [],
   "source": [
    "numericl_columns = numerical_columns_selector(data)\n",
    "categorical_columns = categorical_columns_selector(data)"
   ]
  },
  {
   "cell_type": "markdown",
   "id": "38d2130e-7f89-4dbc-8312-207297714aa1",
   "metadata": {},
   "source": [
    "## Reference Pipeline (no numerical scaling and integer-coded categories)\n",
    "\n",
    "First let's time the pipeline used in the main notebook to serve as a reference:"
   ]
  },
  {
   "cell_type": "code",
   "execution_count": 6,
   "id": "a7fac43f-1f39-4019-a6ee-648fe5bb2d64",
   "metadata": {},
   "outputs": [],
   "source": [
    "import time\n",
    "\n",
    "from sklearn.preprocessing import OrdinalEncoder\n",
    "from sklearn.compose import ColumnTransformer\n",
    "from sklearn.pipeline import make_pipeline\n",
    "from sklearn.experimental import enable_hist_gradient_boosting\n",
    "from sklearn.ensemble import HistGradientBoostingClassifier\n",
    "from sklearn.model_selection import cross_validate"
   ]
  },
  {
   "cell_type": "code",
   "execution_count": null,
   "id": "126b9fdd-2305-4680-b32f-635d248de44f",
   "metadata": {},
   "outputs": [],
   "source": []
  }
 ],
 "metadata": {
  "kernelspec": {
   "display_name": "Python 3",
   "language": "python",
   "name": "python3"
  },
  "language_info": {
   "codemirror_mode": {
    "name": "ipython",
    "version": 3
   },
   "file_extension": ".py",
   "mimetype": "text/x-python",
   "name": "python",
   "nbconvert_exporter": "python",
   "pygments_lexer": "ipython3",
   "version": "3.6.13"
  }
 },
 "nbformat": 4,
 "nbformat_minor": 5
}
