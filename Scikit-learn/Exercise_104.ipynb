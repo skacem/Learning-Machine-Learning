{
 "cells": [
  {
   "cell_type": "markdown",
   "id": "6f08048a-bcea-4d80-aaa6-e9d6ff0e65dd",
   "metadata": {},
   "source": [
    "# Exercise M1.04\n",
    "\n",
    "The goal of this exercise is to check if the accompanying lecture was understood and to some degree memorised.\n",
    "As a guideline here are the needed steps:\n",
    "\n",
    "1. We begin by importing all needed modules and setting the notebook environment.\n",
    "2. Load the adult_census data set and display 5 observations (first 5, last 5 or random 5)\n",
    "3. Drop the redundant features\n",
    "4. Separate the target from the data\n",
    "5. Select only numerical data\n",
    "6. Construct a pipeline from  the StandardScaler and the LogisicRegression\n",
    "7. Evaluate the model prediction using cross-validation\n",
    "8. Print the test score and its standard deviation\n",
    "9. In own words explain what the standard deviation fo the cross-validation score means."
   ]
  },
  {
   "cell_type": "code",
   "execution_count": 7,
   "id": "10facb93-2155-4219-8d69-b48c11b74cc3",
   "metadata": {},
   "outputs": [],
   "source": [
    "# 1. Standard imports\n",
    "import pandas as pd\n",
    "from sklearn.model_selection import train_test_split\n",
    "from sklearn import set_config\n",
    "from sklearn.preprocessing import StandardScaler\n",
    "from sklearn.pipeline import make_pipeline\n",
    "from sklearn.linear_model import LogisticRegression\n",
    "from sklearn.model_selection import cross_validate\n",
    "\n",
    "# set notebook environment\n",
    "# precision\n",
    "%precision %.3f\n",
    "pd.options.display.float_format = '{:,.2f}'.format\n",
    "# table width\n",
    "pd.set_option('display.width', 100)\n",
    "# display estimators as diagram an not text\n",
    "set_config(display='diagram')"
   ]
  },
  {
   "cell_type": "code",
   "execution_count": 2,
   "id": "17dedaa6-c6f7-468e-ab37-325b6891d1b3",
   "metadata": {},
   "outputs": [
    {
     "data": {
      "text/html": [
       "<div>\n",
       "<style scoped>\n",
       "    .dataframe tbody tr th:only-of-type {\n",
       "        vertical-align: middle;\n",
       "    }\n",
       "\n",
       "    .dataframe tbody tr th {\n",
       "        vertical-align: top;\n",
       "    }\n",
       "\n",
       "    .dataframe thead th {\n",
       "        text-align: right;\n",
       "    }\n",
       "</style>\n",
       "<table border=\"1\" class=\"dataframe\">\n",
       "  <thead>\n",
       "    <tr style=\"text-align: right;\">\n",
       "      <th></th>\n",
       "      <th>age</th>\n",
       "      <th>workclass</th>\n",
       "      <th>fnlwgt</th>\n",
       "      <th>education</th>\n",
       "      <th>education-num</th>\n",
       "      <th>marital-status</th>\n",
       "      <th>occupation</th>\n",
       "      <th>relationship</th>\n",
       "      <th>race</th>\n",
       "      <th>sex</th>\n",
       "      <th>capital-gain</th>\n",
       "      <th>capital-loss</th>\n",
       "      <th>hours-per-week</th>\n",
       "      <th>native-country</th>\n",
       "      <th>class</th>\n",
       "    </tr>\n",
       "  </thead>\n",
       "  <tbody>\n",
       "    <tr>\n",
       "      <th>17574</th>\n",
       "      <td>46</td>\n",
       "      <td>Private</td>\n",
       "      <td>279661</td>\n",
       "      <td>Masters</td>\n",
       "      <td>14</td>\n",
       "      <td>Married-civ-spouse</td>\n",
       "      <td>Prof-specialty</td>\n",
       "      <td>Husband</td>\n",
       "      <td>Black</td>\n",
       "      <td>Male</td>\n",
       "      <td>0</td>\n",
       "      <td>0</td>\n",
       "      <td>35</td>\n",
       "      <td>United-States</td>\n",
       "      <td>&lt;=50K</td>\n",
       "    </tr>\n",
       "    <tr>\n",
       "      <th>21170</th>\n",
       "      <td>28</td>\n",
       "      <td>Private</td>\n",
       "      <td>196564</td>\n",
       "      <td>HS-grad</td>\n",
       "      <td>9</td>\n",
       "      <td>Married-civ-spouse</td>\n",
       "      <td>Craft-repair</td>\n",
       "      <td>Husband</td>\n",
       "      <td>White</td>\n",
       "      <td>Male</td>\n",
       "      <td>0</td>\n",
       "      <td>0</td>\n",
       "      <td>45</td>\n",
       "      <td>United-States</td>\n",
       "      <td>&lt;=50K</td>\n",
       "    </tr>\n",
       "    <tr>\n",
       "      <th>1345</th>\n",
       "      <td>58</td>\n",
       "      <td>Private</td>\n",
       "      <td>170480</td>\n",
       "      <td>Masters</td>\n",
       "      <td>14</td>\n",
       "      <td>Married-civ-spouse</td>\n",
       "      <td>Exec-managerial</td>\n",
       "      <td>Husband</td>\n",
       "      <td>White</td>\n",
       "      <td>Male</td>\n",
       "      <td>0</td>\n",
       "      <td>0</td>\n",
       "      <td>60</td>\n",
       "      <td>United-States</td>\n",
       "      <td>&gt;50K</td>\n",
       "    </tr>\n",
       "    <tr>\n",
       "      <th>15573</th>\n",
       "      <td>18</td>\n",
       "      <td>?</td>\n",
       "      <td>158826</td>\n",
       "      <td>12th</td>\n",
       "      <td>8</td>\n",
       "      <td>Never-married</td>\n",
       "      <td>?</td>\n",
       "      <td>Own-child</td>\n",
       "      <td>Black</td>\n",
       "      <td>Female</td>\n",
       "      <td>0</td>\n",
       "      <td>0</td>\n",
       "      <td>15</td>\n",
       "      <td>United-States</td>\n",
       "      <td>&lt;=50K</td>\n",
       "    </tr>\n",
       "    <tr>\n",
       "      <th>344</th>\n",
       "      <td>66</td>\n",
       "      <td>Private</td>\n",
       "      <td>275918</td>\n",
       "      <td>HS-grad</td>\n",
       "      <td>9</td>\n",
       "      <td>Married-civ-spouse</td>\n",
       "      <td>Exec-managerial</td>\n",
       "      <td>Husband</td>\n",
       "      <td>White</td>\n",
       "      <td>Male</td>\n",
       "      <td>10605</td>\n",
       "      <td>0</td>\n",
       "      <td>40</td>\n",
       "      <td>United-States</td>\n",
       "      <td>&gt;50K</td>\n",
       "    </tr>\n",
       "  </tbody>\n",
       "</table>\n",
       "</div>"
      ],
      "text/plain": [
       "       age workclass  fnlwgt education  education-num       marital-status  \\\n",
       "17574   46   Private  279661   Masters             14   Married-civ-spouse   \n",
       "21170   28   Private  196564   HS-grad              9   Married-civ-spouse   \n",
       "1345    58   Private  170480   Masters             14   Married-civ-spouse   \n",
       "15573   18         ?  158826      12th              8        Never-married   \n",
       "344     66   Private  275918   HS-grad              9   Married-civ-spouse   \n",
       "\n",
       "             occupation relationship    race      sex  capital-gain  \\\n",
       "17574    Prof-specialty      Husband   Black     Male             0   \n",
       "21170      Craft-repair      Husband   White     Male             0   \n",
       "1345    Exec-managerial      Husband   White     Male             0   \n",
       "15573                 ?    Own-child   Black   Female             0   \n",
       "344     Exec-managerial      Husband   White     Male         10605   \n",
       "\n",
       "       capital-loss  hours-per-week  native-country   class  \n",
       "17574             0              35   United-States   <=50K  \n",
       "21170             0              45   United-States   <=50K  \n",
       "1345              0              60   United-States    >50K  \n",
       "15573             0              15   United-States   <=50K  \n",
       "344               0              40   United-States    >50K  "
      ]
     },
     "execution_count": 2,
     "metadata": {},
     "output_type": "execute_result"
    }
   ],
   "source": [
    "# 2. Load the data set\n",
    "df = pd.read_csv('data/adult-census.csv')\n",
    "df.sample(5)"
   ]
  },
  {
   "cell_type": "code",
   "execution_count": 3,
   "id": "e7a5858f-9f7f-41cd-a843-6c50687ed936",
   "metadata": {},
   "outputs": [],
   "source": [
    "# 3. Drop columns\n",
    "df = df.drop(columns=['fnlwgt', 'education'])"
   ]
  },
  {
   "cell_type": "code",
   "execution_count": 4,
   "id": "37b4c7a8-1ae0-4b5f-a0f0-5a7c966c4bda",
   "metadata": {},
   "outputs": [],
   "source": [
    "# 4. separate target from data\n",
    "target = df['class']"
   ]
  },
  {
   "cell_type": "code",
   "execution_count": 5,
   "id": "49b73457-1773-44dd-83f2-a28d27d1c2e9",
   "metadata": {},
   "outputs": [],
   "source": [
    "# 5. keep only numerical features\n",
    "data = df.select_dtypes('number')"
   ]
  },
  {
   "cell_type": "code",
   "execution_count": 8,
   "id": "6cfb73a4-725d-4907-b8c0-4b1717e52b70",
   "metadata": {},
   "outputs": [],
   "source": [
    "# 6. Construct a model as a pipeline with a StandardScaler and a LogisicRegression\n",
    "model = make_pipeline(StandardScaler(), LogisticRegression())"
   ]
  },
  {
   "cell_type": "code",
   "execution_count": 11,
   "id": "04fff2b8-9759-41fe-9759-cde7669209c3",
   "metadata": {},
   "outputs": [],
   "source": [
    "# 7. Evaluate the model prediction using cross-validation\n",
    "cv_result = cross_validate(model, data, target, cv=5)"
   ]
  },
  {
   "cell_type": "code",
   "execution_count": 13,
   "id": "e6622306-b031-46d5-98ea-dcb34e4d2015",
   "metadata": {},
   "outputs": [
    {
     "name": "stdout",
     "output_type": "stream",
     "text": [
      "The mean corss-validation accuracy is: 0.8140945585028909 +/- 0.000\n"
     ]
    }
   ],
   "source": [
    "# 8. Prediction score and standard deviation\n",
    "score = cv_result['test_score'].mean()\n",
    "std = score.std()\n",
    "print(f\"The mean corss-validation accuracy is: {score} +/- {std:.3f}\")"
   ]
  },
  {
   "cell_type": "markdown",
   "id": "72bbcd73-0d81-4e08-a844-8f0392a5ebd2",
   "metadata": {},
   "source": [
    "In just 8 easy steps we constructed our prediction model and checked the model generalization performance.  \n",
    "It couldn't be simpler, could it?!  \n",
    "\n",
    "In the next notebooks we are going to learn how to include categorical data in our model and check whether the performance will improve or not."
   ]
  },
  {
   "cell_type": "code",
   "execution_count": null,
   "id": "090ed319-13b9-44c7-bf65-b58c07384927",
   "metadata": {},
   "outputs": [],
   "source": []
  }
 ],
 "metadata": {
  "kernelspec": {
   "display_name": "Python 3 (ipykernel)",
   "language": "python",
   "name": "python3"
  },
  "language_info": {
   "codemirror_mode": {
    "name": "ipython",
    "version": 3
   },
   "file_extension": ".py",
   "mimetype": "text/x-python",
   "name": "python",
   "nbconvert_exporter": "python",
   "pygments_lexer": "ipython3",
   "version": "3.9.7"
  }
 },
 "nbformat": 4,
 "nbformat_minor": 5
}
