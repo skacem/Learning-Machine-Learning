{
 "cells": [
  {
   "cell_type": "markdown",
   "id": "2533c4c5-4bc4-4b03-bdb9-3c26cd7e3891",
   "metadata": {},
   "source": [
    "# Overfit-Generalization-Underfit\n",
    "\n",
    "In the previous notebook, we presented the general cross-validation framework and how it helps us quantify the training and testing errors as well as their fluctuations.\n",
    "\n",
    "In this notebook, we will put these two errors into perspective and show how they can help us know if our model generalizes, overfits, or underfits.\n",
    "\n",
    "Let's first import pandas and load the data."
   ]
  },
  {
   "cell_type": "code",
   "execution_count": 2,
   "id": "45f7d996-a0cb-4af5-927e-f1328c6b9b16",
   "metadata": {},
   "outputs": [],
   "source": [
    "import pandas as pd\n",
    "# Disable jedi autocompleter\n",
    "%config Completer.use_jedi = False\n",
    "from sklearn.datasets import fetch_california_housing"
   ]
  },
  {
   "cell_type": "code",
   "execution_count": 3,
   "id": "7d54f772-c686-40ce-9997-3cfbc4c0bc5e",
   "metadata": {},
   "outputs": [],
   "source": [
    "housing = fetch_california_housing(as_frame=True)\n",
    "data = housing.data\n",
    "target = housing.target*100"
   ]
  },
  {
   "cell_type": "code",
   "execution_count": 4,
   "id": "98d90975-ffe6-4acd-bc11-b41f3cf81c91",
   "metadata": {},
   "outputs": [],
   "source": [
    "from sklearn.tree import DecisionTreeRegressor"
   ]
  },
  {
   "cell_type": "code",
   "execution_count": 5,
   "id": "c8edd601-3d40-44dd-9569-93d0b5a259e0",
   "metadata": {},
   "outputs": [],
   "source": [
    "regressor = DecisionTreeRegressor()"
   ]
  },
  {
   "cell_type": "markdown",
   "id": "9739ac0b-0c47-4976-b061-0de1b3e27446",
   "metadata": {},
   "source": [
    "## Overfitting vs. Underfitting\n",
    "\n",
    "To better understand the generalization performance of our model and maybe find insights on how to improve it, we will compare the testing error with the training error. Thus, we need to compute the error on the training set, which is possible using the `cross_validate` function."
   ]
  },
  {
   "cell_type": "code",
   "execution_count": 8,
   "id": "a1f53760-a591-4d45-a2e4-91cdb5f66325",
   "metadata": {},
   "outputs": [],
   "source": [
    "from sklearn.model_selection import cross_validate, ShuffleSplit"
   ]
  },
  {
   "cell_type": "code",
   "execution_count": 9,
   "id": "9eff4c4d-3ee0-4778-8e69-51fa621fe566",
   "metadata": {},
   "outputs": [],
   "source": [
    "cv = ShuffleSplit(n_splits=30, test_size=0.2)\n",
    "cv_results = cross_validate(regressor, data, target,\n",
    "                            cv=cv, scoring=\"neg_mean_absolute_error\",\n",
    "                            return_train_score=True, n_jobs=2)\n",
    "cv_results = pd.DataFrame(cv_results)"
   ]
  },
  {
   "cell_type": "markdown",
   "id": "5cc06026-9646-4f40-b693-703ef2cc8335",
   "metadata": {},
   "source": [
    "The cross-validation used the negative mean absolute error.  We transform the negative absolute error into a positive mean absolute error."
   ]
  },
  {
   "cell_type": "code",
   "execution_count": 10,
   "id": "ee1f5e67-b198-46ae-a67a-cc024197d693",
   "metadata": {},
   "outputs": [],
   "source": [
    "scores = pd.DataFrame()\n",
    "scores[[\"train error\", \"test error\"]] = -cv_results[[\"train_score\", \"test_score\"]]"
   ]
  },
  {
   "cell_type": "markdown",
   "id": "2dd8f58e-d443-40c5-940a-36b8fbd226d7",
   "metadata": {},
   "source": [
    "By plotting the distribution of the training and testing errors, we get information about whether our model is over-fitting, under-fitting or both"
   ]
  },
  {
   "cell_type": "code",
   "execution_count": 12,
   "id": "7b2dac3d-9df0-48f7-9682-5968c51f6ee3",
   "metadata": {},
   "outputs": [
    {
     "data": {
      "image/png": "[encoded data removed]",
      "text/plain": [
       "<Figure size 432x288 with 1 Axes>"
      ]
     },
     "metadata": {
      "needs_background": "light"
     },
     "output_type": "display_data"
    }
   ],
   "source": [
    "import matplotlib.pyplot as plt\n",
    "\n",
    "scores.plot.hist(bins=50, edgecolor=\"black\", density=True)\n",
    "plt.xlabel(\"Mean absolute error (k$)\")\n",
    "plt.title(\"Train and test errors distribution via cross-validation\");"
   ]
  },
  {
   "cell_type": "markdown",
   "id": "25a4df1e-b581-4f8f-ac94-b1da9c60b661",
   "metadata": {},
   "source": [
    "Here, we observe a small training error (actually zero), meaning the model is **not under-fitting**: it is flexible enough to capture any variations present in the training set.\n",
    "\n",
    "However the significantly larger testing error tells us that the model is over-fitting: The model has memorized many variations of the training set that could be considered \"noisy\" because they do not generalize to help us make good prediction on the test set."
   ]
  },
  {
   "cell_type": "code",
   "execution_count": null,
   "id": "02a8c999-f39c-4026-a18b-826c4f47cd2f",
   "metadata": {},
   "outputs": [],
   "source": []
  }
 ],
 "metadata": {
  "kernelspec": {
   "display_name": "Python 3",
   "language": "python",
   "name": "python3"
  },
  "language_info": {
   "codemirror_mode": {
    "name": "ipython",
    "version": 3
   },
   "file_extension": ".py",
   "mimetype": "text/x-python",
   "name": "python",
   "nbconvert_exporter": "python",
   "pygments_lexer": "ipython3",
   "version": "3.6.13"
  }
 },
 "nbformat": 4,
 "nbformat_minor": 5
}
