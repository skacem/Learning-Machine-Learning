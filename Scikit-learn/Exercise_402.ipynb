{
 "cells": [
  {
   "cell_type": "markdown",
   "id": "03b3200b-28b9-4401-8d7e-1fe7e401cd44",
   "metadata": {},
   "source": [
    "# Exercise M4.02"
   ]
  },
  {
   "cell_type": "code",
   "execution_count": null,
   "id": "7074412f-e56a-41aa-ae6a-be6e75c7a17a",
   "metadata": {},
   "outputs": [],
   "source": []
  }
 ],
 "metadata": {
  "kernelspec": {
   "display_name": "Python 3 (ipykernel)",
   "language": "python",
   "name": "python3"
  },
  "language_info": {
   "codemirror_mode": {
    "name": "ipython",
    "version": 3
   },
   "file_extension": ".py",
   "mimetype": "text/x-python",
   "name": "python",
   "nbconvert_exporter": "python",
   "pygments_lexer": "ipython3",
   "version": "3.9.7"
  }
 },
 "nbformat": 4,
 "nbformat_minor": 5
}
