{
 "cells": [
  {
   "cell_type": "markdown",
   "id": "09c234ad-f339-4004-b82c-a6104418bff8",
   "metadata": {},
   "source": [
    "# Hyperparameter Tuning by Grid-Search\n",
    "\n",
    "In the previous notebook, we saw that hyperparameters can affect the generalization performance of a model. In this notebook, we will show how to optimize hyperparameters using  grid-search approach\n",
    "\n",
    "## Our Predictive Model\n",
    "\n",
    "Let's reload the dataset as we did previously:"
   ]
  },
  {
   "cell_type": "code",
   "execution_count": 1,
   "id": "05c0f8de-8e8c-444b-b5f6-bb8e754dc7ea",
   "metadata": {},
   "outputs": [],
   "source": [
    "import pandas as pd\n",
    "\n",
    "from sklearn import set_config\n",
    "set_config(display=\"diagram\")"
   ]
  },
  {
   "cell_type": "code",
   "execution_count": 2,
   "id": "86526866-a2c9-49ca-b97d-dcbd44433c41",
   "metadata": {},
   "outputs": [
    {
     "data": {
      "text/html": [
       "<div>\n",
       "<style scoped>\n",
       "    .dataframe tbody tr th:only-of-type {\n",
       "        vertical-align: middle;\n",
       "    }\n",
       "\n",
       "    .dataframe tbody tr th {\n",
       "        vertical-align: top;\n",
       "    }\n",
       "\n",
       "    .dataframe thead th {\n",
       "        text-align: right;\n",
       "    }\n",
       "</style>\n",
       "<table border=\"1\" class=\"dataframe\">\n",
       "  <thead>\n",
       "    <tr style=\"text-align: right;\">\n",
       "      <th></th>\n",
       "      <th>age</th>\n",
       "      <th>workclass</th>\n",
       "      <th>fnlwgt</th>\n",
       "      <th>education</th>\n",
       "      <th>education-num</th>\n",
       "      <th>marital-status</th>\n",
       "      <th>occupation</th>\n",
       "      <th>relationship</th>\n",
       "      <th>race</th>\n",
       "      <th>sex</th>\n",
       "      <th>capital-gain</th>\n",
       "      <th>capital-loss</th>\n",
       "      <th>hours-per-week</th>\n",
       "      <th>native-country</th>\n",
       "      <th>class</th>\n",
       "    </tr>\n",
       "  </thead>\n",
       "  <tbody>\n",
       "    <tr>\n",
       "      <th>0</th>\n",
       "      <td>25</td>\n",
       "      <td>Private</td>\n",
       "      <td>226802</td>\n",
       "      <td>11th</td>\n",
       "      <td>7</td>\n",
       "      <td>Never-married</td>\n",
       "      <td>Machine-op-inspct</td>\n",
       "      <td>Own-child</td>\n",
       "      <td>Black</td>\n",
       "      <td>Male</td>\n",
       "      <td>0</td>\n",
       "      <td>0</td>\n",
       "      <td>40</td>\n",
       "      <td>United-States</td>\n",
       "      <td>&lt;=50K</td>\n",
       "    </tr>\n",
       "    <tr>\n",
       "      <th>1</th>\n",
       "      <td>38</td>\n",
       "      <td>Private</td>\n",
       "      <td>89814</td>\n",
       "      <td>HS-grad</td>\n",
       "      <td>9</td>\n",
       "      <td>Married-civ-spouse</td>\n",
       "      <td>Farming-fishing</td>\n",
       "      <td>Husband</td>\n",
       "      <td>White</td>\n",
       "      <td>Male</td>\n",
       "      <td>0</td>\n",
       "      <td>0</td>\n",
       "      <td>50</td>\n",
       "      <td>United-States</td>\n",
       "      <td>&lt;=50K</td>\n",
       "    </tr>\n",
       "    <tr>\n",
       "      <th>2</th>\n",
       "      <td>28</td>\n",
       "      <td>Local-gov</td>\n",
       "      <td>336951</td>\n",
       "      <td>Assoc-acdm</td>\n",
       "      <td>12</td>\n",
       "      <td>Married-civ-spouse</td>\n",
       "      <td>Protective-serv</td>\n",
       "      <td>Husband</td>\n",
       "      <td>White</td>\n",
       "      <td>Male</td>\n",
       "      <td>0</td>\n",
       "      <td>0</td>\n",
       "      <td>40</td>\n",
       "      <td>United-States</td>\n",
       "      <td>&gt;50K</td>\n",
       "    </tr>\n",
       "    <tr>\n",
       "      <th>3</th>\n",
       "      <td>44</td>\n",
       "      <td>Private</td>\n",
       "      <td>160323</td>\n",
       "      <td>Some-college</td>\n",
       "      <td>10</td>\n",
       "      <td>Married-civ-spouse</td>\n",
       "      <td>Machine-op-inspct</td>\n",
       "      <td>Husband</td>\n",
       "      <td>Black</td>\n",
       "      <td>Male</td>\n",
       "      <td>7688</td>\n",
       "      <td>0</td>\n",
       "      <td>40</td>\n",
       "      <td>United-States</td>\n",
       "      <td>&gt;50K</td>\n",
       "    </tr>\n",
       "    <tr>\n",
       "      <th>4</th>\n",
       "      <td>18</td>\n",
       "      <td>?</td>\n",
       "      <td>103497</td>\n",
       "      <td>Some-college</td>\n",
       "      <td>10</td>\n",
       "      <td>Never-married</td>\n",
       "      <td>?</td>\n",
       "      <td>Own-child</td>\n",
       "      <td>White</td>\n",
       "      <td>Female</td>\n",
       "      <td>0</td>\n",
       "      <td>0</td>\n",
       "      <td>30</td>\n",
       "      <td>United-States</td>\n",
       "      <td>&lt;=50K</td>\n",
       "    </tr>\n",
       "  </tbody>\n",
       "</table>\n",
       "</div>"
      ],
      "text/plain": [
       "   age   workclass  fnlwgt      education  education-num       marital-status  \\\n",
       "0   25     Private  226802           11th              7        Never-married   \n",
       "1   38     Private   89814        HS-grad              9   Married-civ-spouse   \n",
       "2   28   Local-gov  336951     Assoc-acdm             12   Married-civ-spouse   \n",
       "3   44     Private  160323   Some-college             10   Married-civ-spouse   \n",
       "4   18           ?  103497   Some-college             10        Never-married   \n",
       "\n",
       "           occupation relationship    race      sex  capital-gain  \\\n",
       "0   Machine-op-inspct    Own-child   Black     Male             0   \n",
       "1     Farming-fishing      Husband   White     Male             0   \n",
       "2     Protective-serv      Husband   White     Male             0   \n",
       "3   Machine-op-inspct      Husband   Black     Male          7688   \n",
       "4                   ?    Own-child   White   Female             0   \n",
       "\n",
       "   capital-loss  hours-per-week  native-country   class  \n",
       "0             0              40   United-States   <=50K  \n",
       "1             0              50   United-States   <=50K  \n",
       "2             0              40   United-States    >50K  \n",
       "3             0              40   United-States    >50K  \n",
       "4             0              30   United-States   <=50K  "
      ]
     },
     "execution_count": 2,
     "metadata": {},
     "output_type": "execute_result"
    }
   ],
   "source": [
    "df = pd.read_csv('data/adult-census.csv')\n",
    "df.head()"
   ]
  },
  {
   "cell_type": "code",
   "execution_count": 3,
   "id": "974ca1dc-15c9-4f6d-88d3-eca523169816",
   "metadata": {},
   "outputs": [],
   "source": [
    "target = df['class']\n",
    "data = df.drop(columns=['class', 'education-num', 'fnlwgt'])"
   ]
  },
  {
   "cell_type": "markdown",
   "id": "008ff6bb-887d-4b46-9a4f-f2d1cf0929b5",
   "metadata": {},
   "source": [
    "Once the dataset is loaded, we split it into a training and testing sets."
   ]
  },
  {
   "cell_type": "code",
   "execution_count": 4,
   "id": "f89124e8-ff99-48a2-ab1d-70c351e8970d",
   "metadata": {},
   "outputs": [],
   "source": [
    "from sklearn.model_selection import train_test_split"
   ]
  },
  {
   "cell_type": "code",
   "execution_count": 5,
   "id": "133d0b02-c4b1-4060-a965-2819256a48ef",
   "metadata": {},
   "outputs": [],
   "source": [
    "data_train, data_test, target_train, target_test = train_test_split(data, target,\n",
    "                                                                   random_state=42)"
   ]
  },
  {
   "cell_type": "markdown",
   "id": "a42a6204-1c97-4d9c-80d5-792004e71d7f",
   "metadata": {},
   "source": [
    "We will define a pipeline as seen in the first module. It will handle both numerical and categorical features.  \n",
    "The first step is to select all the categorical columns."
   ]
  },
  {
   "cell_type": "code",
   "execution_count": 6,
   "id": "31dda35f-248c-4ea7-8135-c25e9b100282",
   "metadata": {},
   "outputs": [],
   "source": [
    "from sklearn.compose import make_column_selector as selector\n",
    "\n",
    "categorical_columns_selector = selector(dtype_include='object')\n",
    "categorical_columns = categorical_columns_selector(data)"
   ]
  },
  {
   "cell_type": "markdown",
   "id": "54eb64ac-da77-4fb9-b91e-bb59bb259c78",
   "metadata": {},
   "source": [
    "Here we will use a tree-based model as a classifier (i.e `HisGradientBoostingClassifier`). That means:\n",
    "\n",
    "* Numerical variables don't need scaling;\n",
    "* Categorical variables can be dealt with an `OrdinalEncoder` even if the coding order is not meaningful;\n",
    "* For tree-based models, the `OrdinaleEncoder` avoids having high-dimensional representations.\n",
    "\n",
    "We now build our `OrdinalEncoder` by passing it the known categories."
   ]
  },
  {
   "cell_type": "code",
   "execution_count": 7,
   "id": "a97be48c-1b8d-4d5f-adc3-232052b96fc9",
   "metadata": {},
   "outputs": [],
   "source": [
    "from sklearn.preprocessing import OrdinalEncoder\n",
    "\n",
    "categorical_preprocessor = OrdinalEncoder(handle_unknown=\"use_encoded_value\", \n",
    "                                          unknown_value=-1)"
   ]
  },
  {
   "cell_type": "markdown",
   "id": "4440b4c7-8779-44f1-9b4b-5c3aade68401",
   "metadata": {},
   "source": [
    "We then use a `ColumnTransformer` to select the categorical columns and apply the `OrdinalEncoder` to them."
   ]
  },
  {
   "cell_type": "code",
   "execution_count": 8,
   "id": "d71dab0c-6080-4428-8e2d-83cc5804dfa7",
   "metadata": {},
   "outputs": [],
   "source": [
    "from sklearn.compose import ColumnTransformer"
   ]
  },
  {
   "cell_type": "code",
   "execution_count": 9,
   "id": "caa60c53-c083-4918-aa49-8978bf2e09a1",
   "metadata": {},
   "outputs": [],
   "source": [
    "preprocessor = ColumnTransformer([\n",
    "    ('cat_preprocessor', categorical_preprocessor, categorical_columns)],\n",
    "    remainder='passthrough', sparse_threshold=0)"
   ]
  },
  {
   "cell_type": "markdown",
   "id": "b8bee2dd-69d7-4217-8752-fc72fabd81e9",
   "metadata": {},
   "source": [
    "Finally, we use a tree-based classifier (i.e. histogram gradient-boosting) to predict whether or not a person earns more than 50k\\\\$ a year."
   ]
  },
  {
   "cell_type": "code",
   "execution_count": 10,
   "id": "c85affb4-cdab-4c5f-bee7-402e6a751d8b",
   "metadata": {},
   "outputs": [],
   "source": [
    "# for the moment this line is reuqired to import HistGradientBoostingClassifier\n",
    "from sklearn.experimental import enable_hist_gradient_boosting\n",
    "from sklearn.ensemble import HistGradientBoostingClassifier\n",
    "from sklearn.pipeline import Pipeline"
   ]
  },
  {
   "cell_type": "code",
   "execution_count": 11,
   "id": "1d9273a6-b0a9-4b70-9c3b-46b732b892ef",
   "metadata": {},
   "outputs": [],
   "source": [
    "model = Pipeline([\n",
    "    ('preprocessor', preprocessor),\n",
    "    ('classifier', HistGradientBoostingClassifier(random_state=42, max_leaf_nodes=4))\n",
    "])"
   ]
  },
  {
   "cell_type": "code",
   "execution_count": 12,
   "id": "112c2fb1-5d50-4406-a820-6455802c7cd2",
   "metadata": {},
   "outputs": [
    {
     "data": {
      "text/html": [
       "<style>#sk-df9c83cc-4f2a-4524-a8c0-160d8ab31920 {color: black;background-color: white;}#sk-df9c83cc-4f2a-4524-a8c0-160d8ab31920 pre{padding: 0;}#sk-df9c83cc-4f2a-4524-a8c0-160d8ab31920 div.sk-toggleable {background-color: white;}#sk-df9c83cc-4f2a-4524-a8c0-160d8ab31920 label.sk-toggleable__label {cursor: pointer;display: block;width: 100%;margin-bottom: 0;padding: 0.2em 0.3em;box-sizing: border-box;text-align: center;}#sk-df9c83cc-4f2a-4524-a8c0-160d8ab31920 div.sk-toggleable__content {max-height: 0;max-width: 0;overflow: hidden;text-align: left;background-color: #f0f8ff;}#sk-df9c83cc-4f2a-4524-a8c0-160d8ab31920 div.sk-toggleable__content pre {margin: 0.2em;color: black;border-radius: 0.25em;background-color: #f0f8ff;}#sk-df9c83cc-4f2a-4524-a8c0-160d8ab31920 input.sk-toggleable__control:checked~div.sk-toggleable__content {max-height: 200px;max-width: 100%;overflow: auto;}#sk-df9c83cc-4f2a-4524-a8c0-160d8ab31920 div.sk-estimator input.sk-toggleable__control:checked~label.sk-toggleable__label {background-color: #d4ebff;}#sk-df9c83cc-4f2a-4524-a8c0-160d8ab31920 div.sk-label input.sk-toggleable__control:checked~label.sk-toggleable__label {background-color: #d4ebff;}#sk-df9c83cc-4f2a-4524-a8c0-160d8ab31920 input.sk-hidden--visually {border: 0;clip: rect(1px 1px 1px 1px);clip: rect(1px, 1px, 1px, 1px);height: 1px;margin: -1px;overflow: hidden;padding: 0;position: absolute;width: 1px;}#sk-df9c83cc-4f2a-4524-a8c0-160d8ab31920 div.sk-estimator {font-family: monospace;background-color: #f0f8ff;margin: 0.25em 0.25em;border: 1px dotted black;border-radius: 0.25em;box-sizing: border-box;}#sk-df9c83cc-4f2a-4524-a8c0-160d8ab31920 div.sk-estimator:hover {background-color: #d4ebff;}#sk-df9c83cc-4f2a-4524-a8c0-160d8ab31920 div.sk-parallel-item::after {content: \"\";width: 100%;border-bottom: 1px solid gray;flex-grow: 1;}#sk-df9c83cc-4f2a-4524-a8c0-160d8ab31920 div.sk-label:hover label.sk-toggleable__label {background-color: #d4ebff;}#sk-df9c83cc-4f2a-4524-a8c0-160d8ab31920 div.sk-serial::before {content: \"\";position: absolute;border-left: 1px solid gray;box-sizing: border-box;top: 2em;bottom: 0;left: 50%;}#sk-df9c83cc-4f2a-4524-a8c0-160d8ab31920 div.sk-serial {display: flex;flex-direction: column;align-items: center;background-color: white;}#sk-df9c83cc-4f2a-4524-a8c0-160d8ab31920 div.sk-item {z-index: 1;}#sk-df9c83cc-4f2a-4524-a8c0-160d8ab31920 div.sk-parallel {display: flex;align-items: stretch;justify-content: center;background-color: white;}#sk-df9c83cc-4f2a-4524-a8c0-160d8ab31920 div.sk-parallel-item {display: flex;flex-direction: column;position: relative;background-color: white;}#sk-df9c83cc-4f2a-4524-a8c0-160d8ab31920 div.sk-parallel-item:first-child::after {align-self: flex-end;width: 50%;}#sk-df9c83cc-4f2a-4524-a8c0-160d8ab31920 div.sk-parallel-item:last-child::after {align-self: flex-start;width: 50%;}#sk-df9c83cc-4f2a-4524-a8c0-160d8ab31920 div.sk-parallel-item:only-child::after {width: 0;}#sk-df9c83cc-4f2a-4524-a8c0-160d8ab31920 div.sk-dashed-wrapped {border: 1px dashed gray;margin: 0.2em;box-sizing: border-box;padding-bottom: 0.1em;background-color: white;position: relative;}#sk-df9c83cc-4f2a-4524-a8c0-160d8ab31920 div.sk-label label {font-family: monospace;font-weight: bold;background-color: white;display: inline-block;line-height: 1.2em;}#sk-df9c83cc-4f2a-4524-a8c0-160d8ab31920 div.sk-label-container {position: relative;z-index: 2;text-align: center;}#sk-df9c83cc-4f2a-4524-a8c0-160d8ab31920 div.sk-container {display: inline-block;position: relative;}</style><div id=\"sk-df9c83cc-4f2a-4524-a8c0-160d8ab31920\" class\"sk-top-container\"><div class=\"sk-container\"><div class=\"sk-item sk-dashed-wrapped\"><div class=\"sk-label-container\"><div class=\"sk-label sk-toggleable\"><input class=\"sk-toggleable__control sk-hidden--visually\" id=\"657021ad-c345-44e4-b611-8d11bffe2829\" type=\"checkbox\" ><label class=\"sk-toggleable__label\" for=\"657021ad-c345-44e4-b611-8d11bffe2829\">Pipeline</label><div class=\"sk-toggleable__content\"><pre>Pipeline(steps=[('preprocessor',\n",
       "                 ColumnTransformer(remainder='passthrough', sparse_threshold=0,\n",
       "                                   transformers=[('cat_preprocessor',\n",
       "                                                  OrdinalEncoder(handle_unknown='use_encoded_value',\n",
       "                                                                 unknown_value=-1),\n",
       "                                                  ['workclass', 'education',\n",
       "                                                   'marital-status',\n",
       "                                                   'occupation', 'relationship',\n",
       "                                                   'race', 'sex',\n",
       "                                                   'native-country'])])),\n",
       "                ('classifier',\n",
       "                 HistGradientBoostingClassifier(max_leaf_nodes=4,\n",
       "                                                random_state=42))])</pre></div></div></div><div class=\"sk-serial\"><div class=\"sk-item sk-dashed-wrapped\"><div class=\"sk-label-container\"><div class=\"sk-label sk-toggleable\"><input class=\"sk-toggleable__control sk-hidden--visually\" id=\"70b7fb7d-fa41-4caa-9777-ab4c29ed2890\" type=\"checkbox\" ><label class=\"sk-toggleable__label\" for=\"70b7fb7d-fa41-4caa-9777-ab4c29ed2890\">preprocessor: ColumnTransformer</label><div class=\"sk-toggleable__content\"><pre>ColumnTransformer(remainder='passthrough', sparse_threshold=0,\n",
       "                  transformers=[('cat_preprocessor',\n",
       "                                 OrdinalEncoder(handle_unknown='use_encoded_value',\n",
       "                                                unknown_value=-1),\n",
       "                                 ['workclass', 'education', 'marital-status',\n",
       "                                  'occupation', 'relationship', 'race', 'sex',\n",
       "                                  'native-country'])])</pre></div></div></div><div class=\"sk-parallel\"><div class=\"sk-parallel-item\"><div class=\"sk-item\"><div class=\"sk-label-container\"><div class=\"sk-label sk-toggleable\"><input class=\"sk-toggleable__control sk-hidden--visually\" id=\"bc4a3b48-faf4-4992-a0f0-01b085709a92\" type=\"checkbox\" ><label class=\"sk-toggleable__label\" for=\"bc4a3b48-faf4-4992-a0f0-01b085709a92\">cat_preprocessor</label><div class=\"sk-toggleable__content\"><pre>['workclass', 'education', 'marital-status', 'occupation', 'relationship', 'race', 'sex', 'native-country']</pre></div></div></div><div class=\"sk-serial\"><div class=\"sk-item\"><div class=\"sk-estimator sk-toggleable\"><input class=\"sk-toggleable__control sk-hidden--visually\" id=\"29a7d93e-5a2c-4d24-b19a-6603a69f8d8a\" type=\"checkbox\" ><label class=\"sk-toggleable__label\" for=\"29a7d93e-5a2c-4d24-b19a-6603a69f8d8a\">OrdinalEncoder</label><div class=\"sk-toggleable__content\"><pre>OrdinalEncoder(handle_unknown='use_encoded_value', unknown_value=-1)</pre></div></div></div></div></div></div><div class=\"sk-parallel-item\"><div class=\"sk-item\"><div class=\"sk-label-container\"><div class=\"sk-label sk-toggleable\"><input class=\"sk-toggleable__control sk-hidden--visually\" id=\"8a29f01d-2e2a-43cc-925c-a5934c021a84\" type=\"checkbox\" ><label class=\"sk-toggleable__label\" for=\"8a29f01d-2e2a-43cc-925c-a5934c021a84\">remainder</label><div class=\"sk-toggleable__content\"><pre></pre></div></div></div><div class=\"sk-serial\"><div class=\"sk-item\"><div class=\"sk-estimator sk-toggleable\"><input class=\"sk-toggleable__control sk-hidden--visually\" id=\"81ea0b25-fe77-4e58-880e-36ed07991d2e\" type=\"checkbox\" ><label class=\"sk-toggleable__label\" for=\"81ea0b25-fe77-4e58-880e-36ed07991d2e\">passthrough</label><div class=\"sk-toggleable__content\"><pre>passthrough</pre></div></div></div></div></div></div></div></div><div class=\"sk-item\"><div class=\"sk-estimator sk-toggleable\"><input class=\"sk-toggleable__control sk-hidden--visually\" id=\"79ae5378-8d0e-43fe-949f-86e8258e5bca\" type=\"checkbox\" ><label class=\"sk-toggleable__label\" for=\"79ae5378-8d0e-43fe-949f-86e8258e5bca\">HistGradientBoostingClassifier</label><div class=\"sk-toggleable__content\"><pre>HistGradientBoostingClassifier(max_leaf_nodes=4, random_state=42)</pre></div></div></div></div></div></div></div>"
      ],
      "text/plain": [
       "Pipeline(steps=[('preprocessor',\n",
       "                 ColumnTransformer(remainder='passthrough', sparse_threshold=0,\n",
       "                                   transformers=[('cat_preprocessor',\n",
       "                                                  OrdinalEncoder(handle_unknown='use_encoded_value',\n",
       "                                                                 unknown_value=-1),\n",
       "                                                  ['workclass', 'education',\n",
       "                                                   'marital-status',\n",
       "                                                   'occupation', 'relationship',\n",
       "                                                   'race', 'sex',\n",
       "                                                   'native-country'])])),\n",
       "                ('classifier',\n",
       "                 HistGradientBoostingClassifier(max_leaf_nodes=4,\n",
       "                                                random_state=42))])"
      ]
     },
     "execution_count": 12,
     "metadata": {},
     "output_type": "execute_result"
    }
   ],
   "source": [
    "model"
   ]
  },
  {
   "cell_type": "markdown",
   "id": "f49a391d-7e05-4a3d-827e-0026ed80ecbd",
   "metadata": {},
   "source": [
    "## Tuning Using a Grid-Search\n",
    "\n",
    "In the previous exercise we use one `for` loop for each hyperparameter to find the best combination over a fixed grid of values.  \n",
    "`GridSearchCV` is a scikit-learn class that implements a very similar logic with less repetitive code.  \n",
    "\n",
    "Let's see how to use the `GridSearchCV` estimator for doing such search. Since grid-search will be costly, we will only explore the combination learning rate and the maximum number of nodes."
   ]
  },
  {
   "cell_type": "code",
   "execution_count": 16,
   "id": "8285a97b-5f57-419d-b03d-9d3d6b0d46f5",
   "metadata": {},
   "outputs": [
    {
     "data": {
      "text/plain": [
       "dict_keys(['memory', 'steps', 'verbose', 'preprocessor', 'classifier', 'preprocessor__n_jobs', 'preprocessor__remainder', 'preprocessor__sparse_threshold', 'preprocessor__transformer_weights', 'preprocessor__transformers', 'preprocessor__verbose', 'preprocessor__cat_preprocessor', 'preprocessor__cat_preprocessor__categories', 'preprocessor__cat_preprocessor__dtype', 'preprocessor__cat_preprocessor__handle_unknown', 'preprocessor__cat_preprocessor__unknown_value', 'classifier__categorical_features', 'classifier__early_stopping', 'classifier__l2_regularization', 'classifier__learning_rate', 'classifier__loss', 'classifier__max_bins', 'classifier__max_depth', 'classifier__max_iter', 'classifier__max_leaf_nodes', 'classifier__min_samples_leaf', 'classifier__monotonic_cst', 'classifier__n_iter_no_change', 'classifier__random_state', 'classifier__scoring', 'classifier__tol', 'classifier__validation_fraction', 'classifier__verbose', 'classifier__warm_start'])"
      ]
     },
     "execution_count": 16,
     "metadata": {},
     "output_type": "execute_result"
    }
   ],
   "source": [
    "# Let's display our model parameters first:\n",
    "model.get_params().keys()"
   ]
  },
  {
   "cell_type": "code",
   "execution_count": 17,
   "id": "447a80d9-ffe2-471a-b138-69c13d2b338a",
   "metadata": {},
   "outputs": [
    {
     "name": "stdout",
     "output_type": "stream",
     "text": [
      "CPU times: user 4.44 s, sys: 446 ms, total: 4.89 s\n",
      "Wall time: 13.2 s\n"
     ]
    },
    {
     "data": {
      "text/html": [
       "<style>#sk-eab8648d-ccbe-4a52-b11b-4f589a19a01c {color: black;background-color: white;}#sk-eab8648d-ccbe-4a52-b11b-4f589a19a01c pre{padding: 0;}#sk-eab8648d-ccbe-4a52-b11b-4f589a19a01c div.sk-toggleable {background-color: white;}#sk-eab8648d-ccbe-4a52-b11b-4f589a19a01c label.sk-toggleable__label {cursor: pointer;display: block;width: 100%;margin-bottom: 0;padding: 0.2em 0.3em;box-sizing: border-box;text-align: center;}#sk-eab8648d-ccbe-4a52-b11b-4f589a19a01c div.sk-toggleable__content {max-height: 0;max-width: 0;overflow: hidden;text-align: left;background-color: #f0f8ff;}#sk-eab8648d-ccbe-4a52-b11b-4f589a19a01c div.sk-toggleable__content pre {margin: 0.2em;color: black;border-radius: 0.25em;background-color: #f0f8ff;}#sk-eab8648d-ccbe-4a52-b11b-4f589a19a01c input.sk-toggleable__control:checked~div.sk-toggleable__content {max-height: 200px;max-width: 100%;overflow: auto;}#sk-eab8648d-ccbe-4a52-b11b-4f589a19a01c div.sk-estimator input.sk-toggleable__control:checked~label.sk-toggleable__label {background-color: #d4ebff;}#sk-eab8648d-ccbe-4a52-b11b-4f589a19a01c div.sk-label input.sk-toggleable__control:checked~label.sk-toggleable__label {background-color: #d4ebff;}#sk-eab8648d-ccbe-4a52-b11b-4f589a19a01c input.sk-hidden--visually {border: 0;clip: rect(1px 1px 1px 1px);clip: rect(1px, 1px, 1px, 1px);height: 1px;margin: -1px;overflow: hidden;padding: 0;position: absolute;width: 1px;}#sk-eab8648d-ccbe-4a52-b11b-4f589a19a01c div.sk-estimator {font-family: monospace;background-color: #f0f8ff;margin: 0.25em 0.25em;border: 1px dotted black;border-radius: 0.25em;box-sizing: border-box;}#sk-eab8648d-ccbe-4a52-b11b-4f589a19a01c div.sk-estimator:hover {background-color: #d4ebff;}#sk-eab8648d-ccbe-4a52-b11b-4f589a19a01c div.sk-parallel-item::after {content: \"\";width: 100%;border-bottom: 1px solid gray;flex-grow: 1;}#sk-eab8648d-ccbe-4a52-b11b-4f589a19a01c div.sk-label:hover label.sk-toggleable__label {background-color: #d4ebff;}#sk-eab8648d-ccbe-4a52-b11b-4f589a19a01c div.sk-serial::before {content: \"\";position: absolute;border-left: 1px solid gray;box-sizing: border-box;top: 2em;bottom: 0;left: 50%;}#sk-eab8648d-ccbe-4a52-b11b-4f589a19a01c div.sk-serial {display: flex;flex-direction: column;align-items: center;background-color: white;}#sk-eab8648d-ccbe-4a52-b11b-4f589a19a01c div.sk-item {z-index: 1;}#sk-eab8648d-ccbe-4a52-b11b-4f589a19a01c div.sk-parallel {display: flex;align-items: stretch;justify-content: center;background-color: white;}#sk-eab8648d-ccbe-4a52-b11b-4f589a19a01c div.sk-parallel-item {display: flex;flex-direction: column;position: relative;background-color: white;}#sk-eab8648d-ccbe-4a52-b11b-4f589a19a01c div.sk-parallel-item:first-child::after {align-self: flex-end;width: 50%;}#sk-eab8648d-ccbe-4a52-b11b-4f589a19a01c div.sk-parallel-item:last-child::after {align-self: flex-start;width: 50%;}#sk-eab8648d-ccbe-4a52-b11b-4f589a19a01c div.sk-parallel-item:only-child::after {width: 0;}#sk-eab8648d-ccbe-4a52-b11b-4f589a19a01c div.sk-dashed-wrapped {border: 1px dashed gray;margin: 0.2em;box-sizing: border-box;padding-bottom: 0.1em;background-color: white;position: relative;}#sk-eab8648d-ccbe-4a52-b11b-4f589a19a01c div.sk-label label {font-family: monospace;font-weight: bold;background-color: white;display: inline-block;line-height: 1.2em;}#sk-eab8648d-ccbe-4a52-b11b-4f589a19a01c div.sk-label-container {position: relative;z-index: 2;text-align: center;}#sk-eab8648d-ccbe-4a52-b11b-4f589a19a01c div.sk-container {display: inline-block;position: relative;}</style><div id=\"sk-eab8648d-ccbe-4a52-b11b-4f589a19a01c\" class\"sk-top-container\"><div class=\"sk-container\"><div class=\"sk-item sk-dashed-wrapped\"><div class=\"sk-label-container\"><div class=\"sk-label sk-toggleable\"><input class=\"sk-toggleable__control sk-hidden--visually\" id=\"0b873759-2c63-4ab9-ac51-532367d565e8\" type=\"checkbox\" ><label class=\"sk-toggleable__label\" for=\"0b873759-2c63-4ab9-ac51-532367d565e8\">GridSearchCV</label><div class=\"sk-toggleable__content\"><pre>GridSearchCV(cv=2,\n",
       "             estimator=Pipeline(steps=[('preprocessor',\n",
       "                                        ColumnTransformer(remainder='passthrough',\n",
       "                                                          sparse_threshold=0,\n",
       "                                                          transformers=[('cat_preprocessor',\n",
       "                                                                         OrdinalEncoder(handle_unknown='use_encoded_value',\n",
       "                                                                                        unknown_value=-1),\n",
       "                                                                         ['workclass',\n",
       "                                                                          'education',\n",
       "                                                                          'marital-status',\n",
       "                                                                          'occupation',\n",
       "                                                                          'relationship',\n",
       "                                                                          'race',\n",
       "                                                                          'sex',\n",
       "                                                                          'native-country'])])),\n",
       "                                       ('classifier',\n",
       "                                        HistGradientBoostingClassifier(max_leaf_nodes=4,\n",
       "                                                                       random_state=42))]),\n",
       "             n_jobs=2,\n",
       "             param_grid={'classifier__learning_rate': (0.01, 0.1, 1, 10),\n",
       "                         'classifier__max_leaf_nodes': (3, 10, 30)})</pre></div></div></div><div class=\"sk-parallel\"><div class=\"sk-parallel-item\"><div class=\"sk-item\"><div class=\"sk-serial\"><div class=\"sk-item\"><div class=\"sk-serial\"><div class=\"sk-item sk-dashed-wrapped\"><div class=\"sk-label-container\"><div class=\"sk-label sk-toggleable\"><input class=\"sk-toggleable__control sk-hidden--visually\" id=\"cdd1a0b2-0a37-453c-a770-55e9ae58f3aa\" type=\"checkbox\" ><label class=\"sk-toggleable__label\" for=\"cdd1a0b2-0a37-453c-a770-55e9ae58f3aa\">preprocessor: ColumnTransformer</label><div class=\"sk-toggleable__content\"><pre>ColumnTransformer(remainder='passthrough', sparse_threshold=0,\n",
       "                  transformers=[('cat_preprocessor',\n",
       "                                 OrdinalEncoder(handle_unknown='use_encoded_value',\n",
       "                                                unknown_value=-1),\n",
       "                                 ['workclass', 'education', 'marital-status',\n",
       "                                  'occupation', 'relationship', 'race', 'sex',\n",
       "                                  'native-country'])])</pre></div></div></div><div class=\"sk-parallel\"><div class=\"sk-parallel-item\"><div class=\"sk-item\"><div class=\"sk-label-container\"><div class=\"sk-label sk-toggleable\"><input class=\"sk-toggleable__control sk-hidden--visually\" id=\"b0be282d-b22c-45ee-a11e-27b12c88982b\" type=\"checkbox\" ><label class=\"sk-toggleable__label\" for=\"b0be282d-b22c-45ee-a11e-27b12c88982b\">cat_preprocessor</label><div class=\"sk-toggleable__content\"><pre>['workclass', 'education', 'marital-status', 'occupation', 'relationship', 'race', 'sex', 'native-country']</pre></div></div></div><div class=\"sk-serial\"><div class=\"sk-item\"><div class=\"sk-estimator sk-toggleable\"><input class=\"sk-toggleable__control sk-hidden--visually\" id=\"49d7bba4-9994-4bb0-bbba-299896f2cec2\" type=\"checkbox\" ><label class=\"sk-toggleable__label\" for=\"49d7bba4-9994-4bb0-bbba-299896f2cec2\">OrdinalEncoder</label><div class=\"sk-toggleable__content\"><pre>OrdinalEncoder(handle_unknown='use_encoded_value', unknown_value=-1)</pre></div></div></div></div></div></div><div class=\"sk-parallel-item\"><div class=\"sk-item\"><div class=\"sk-label-container\"><div class=\"sk-label sk-toggleable\"><input class=\"sk-toggleable__control sk-hidden--visually\" id=\"2411d610-80bb-4805-884a-d63b99de5d77\" type=\"checkbox\" ><label class=\"sk-toggleable__label\" for=\"2411d610-80bb-4805-884a-d63b99de5d77\">remainder</label><div class=\"sk-toggleable__content\"><pre></pre></div></div></div><div class=\"sk-serial\"><div class=\"sk-item\"><div class=\"sk-estimator sk-toggleable\"><input class=\"sk-toggleable__control sk-hidden--visually\" id=\"d8d6ca99-2de5-488f-a39c-3a56b8e190d8\" type=\"checkbox\" ><label class=\"sk-toggleable__label\" for=\"d8d6ca99-2de5-488f-a39c-3a56b8e190d8\">passthrough</label><div class=\"sk-toggleable__content\"><pre>passthrough</pre></div></div></div></div></div></div></div></div><div class=\"sk-item\"><div class=\"sk-estimator sk-toggleable\"><input class=\"sk-toggleable__control sk-hidden--visually\" id=\"a058de2f-39d7-47a5-91a0-610991b3eee5\" type=\"checkbox\" ><label class=\"sk-toggleable__label\" for=\"a058de2f-39d7-47a5-91a0-610991b3eee5\">HistGradientBoostingClassifier</label><div class=\"sk-toggleable__content\"><pre>HistGradientBoostingClassifier(max_leaf_nodes=4, random_state=42)</pre></div></div></div></div></div></div></div></div></div></div></div></div>"
      ],
      "text/plain": [
       "GridSearchCV(cv=2,\n",
       "             estimator=Pipeline(steps=[('preprocessor',\n",
       "                                        ColumnTransformer(remainder='passthrough',\n",
       "                                                          sparse_threshold=0,\n",
       "                                                          transformers=[('cat_preprocessor',\n",
       "                                                                         OrdinalEncoder(handle_unknown='use_encoded_value',\n",
       "                                                                                        unknown_value=-1),\n",
       "                                                                         ['workclass',\n",
       "                                                                          'education',\n",
       "                                                                          'marital-status',\n",
       "                                                                          'occupation',\n",
       "                                                                          'relationship',\n",
       "                                                                          'race',\n",
       "                                                                          'sex',\n",
       "                                                                          'native-country'])])),\n",
       "                                       ('classifier',\n",
       "                                        HistGradientBoostingClassifier(max_leaf_nodes=4,\n",
       "                                                                       random_state=42))]),\n",
       "             n_jobs=2,\n",
       "             param_grid={'classifier__learning_rate': (0.01, 0.1, 1, 10),\n",
       "                         'classifier__max_leaf_nodes': (3, 10, 30)})"
      ]
     },
     "execution_count": 17,
     "metadata": {},
     "output_type": "execute_result"
    }
   ],
   "source": [
    "%%time\n",
    "from sklearn.model_selection import GridSearchCV\n",
    "\n",
    "param_grid = {\n",
    "    'classifier__learning_rate': (.01, .1, 1, 10),\n",
    "    'classifier__max_leaf_nodes': (3, 10, 30)}\n",
    "\n",
    "model_grid_search = GridSearchCV(model, param_grid=param_grid,\n",
    "                                 n_jobs=2, cv=2)\n",
    "model_grid_search.fit(data_train, target_train)"
   ]
  },
  {
   "cell_type": "markdown",
   "id": "ca8d16fd-b98e-4b3d-b03b-9ca7bfc29eda",
   "metadata": {},
   "source": [
    "Finally, we will check the accuracy of our model using the test set."
   ]
  },
  {
   "cell_type": "code",
   "execution_count": 18,
   "id": "553d21cc-e581-4cdb-8bea-53dcfb0b8fe0",
   "metadata": {},
   "outputs": [
    {
     "name": "stdout",
     "output_type": "stream",
     "text": [
      "The test accuracy score of the grid-searched pipeline is: 0.88\n"
     ]
    }
   ],
   "source": [
    "accuracy = model_grid_search.score(data_test, target_test)\n",
    "print(\n",
    "    f\"The test accuracy score of the grid-searched pipeline is: \"\n",
    "    f\"{accuracy:.2f}\"\n",
    ")"
   ]
  },
  {
   "cell_type": "markdown",
   "id": "52dcf36a-e35c-4051-b103-20b06005f9ce",
   "metadata": {},
   "source": [
    "<div class=\"alert alert-block alert-warning\">\n",
    "<b>Warning:</b> Be aware that evaluation should normally be performed in a cross-validation framework by providing <em>model_grid_search</em> as a model to the <em>cross_validate</em> function.\n",
    "</div>"
   ]
  },
  {
   "cell_type": "markdown",
   "id": "f044e1a2-5e4b-4599-8b11-cc06f762d2b2",
   "metadata": {},
   "source": [
    "The `GridSearchCV` estimator takes a `param_grid` parameter which defines all hyperparameters and their associated values. The grid-search will be in charge of creating all possible combinations and test them.\n",
    "\n",
    "Once the grid-search is fitted, it can be used as any other predictor by calling `predict` and `predict_proba`. Internally, it will use the model with the best parameters found during `fit`."
   ]
  },
  {
   "cell_type": "markdown",
   "id": "0f7032ef-58c0-4781-8779-f540c5d68f15",
   "metadata": {},
   "source": [
    "Get predictions for the 5 first samples using the estimator with the best parameters."
   ]
  },
  {
   "cell_type": "code",
   "execution_count": 19,
   "id": "49cfbf5c-b405-4b5d-b17a-890c10400e31",
   "metadata": {},
   "outputs": [
    {
     "data": {
      "text/plain": [
       "array([' <=50K', ' <=50K', ' >50K', ' <=50K', ' >50K'], dtype=object)"
      ]
     },
     "execution_count": 19,
     "metadata": {},
     "output_type": "execute_result"
    }
   ],
   "source": [
    "model_grid_search.predict(data_test[:5])"
   ]
  },
  {
   "cell_type": "code",
   "execution_count": 21,
   "id": "f934a80c-b0f4-425a-97c8-25a2b982f406",
   "metadata": {},
   "outputs": [
    {
     "name": "stdout",
     "output_type": "stream",
     "text": [
      "7762      <=50K\n",
      "23881     <=50K\n",
      "30507      >50K\n",
      "28911     <=50K\n",
      "19484     <=50K\n",
      "Name: class, dtype: object\n"
     ]
    }
   ],
   "source": [
    "print(target_test[:5])"
   ]
  },
  {
   "cell_type": "markdown",
   "id": "64235bf8-d68b-4639-8327-c4196e1a49e9",
   "metadata": {},
   "source": [
    "You can know about these parameters by looking at the `best_params_` attribute."
   ]
  },
  {
   "cell_type": "code",
   "execution_count": 22,
   "id": "294f8339-70ba-4d87-bc14-891d6b7ef186",
   "metadata": {},
   "outputs": [
    {
     "name": "stdout",
     "output_type": "stream",
     "text": [
      "The best set of parameters is: {'classifier__learning_rate': 0.1, 'classifier__max_leaf_nodes': 30}\n"
     ]
    }
   ],
   "source": [
    "print(f\"The best set of parameters is: \"\n",
    "      f\"{model_grid_search.best_params_}\")"
   ]
  },
  {
   "cell_type": "markdown",
   "id": "2b830a8a-084f-4710-9dfc-947f0faeef05",
   "metadata": {},
   "source": [
    "We can inspect all results which are stored in the attribute `cv_results_` of the grid-search. We will filter some specific columns from these results."
   ]
  },
  {
   "cell_type": "code",
   "execution_count": 23,
   "id": "cfacb1da-2fdf-48c2-ae1f-f45f2bccf666",
   "metadata": {},
   "outputs": [
    {
     "data": {
      "text/html": [
       "<div>\n",
       "<style scoped>\n",
       "    .dataframe tbody tr th:only-of-type {\n",
       "        vertical-align: middle;\n",
       "    }\n",
       "\n",
       "    .dataframe tbody tr th {\n",
       "        vertical-align: top;\n",
       "    }\n",
       "\n",
       "    .dataframe thead th {\n",
       "        text-align: right;\n",
       "    }\n",
       "</style>\n",
       "<table border=\"1\" class=\"dataframe\">\n",
       "  <thead>\n",
       "    <tr style=\"text-align: right;\">\n",
       "      <th></th>\n",
       "      <th>mean_fit_time</th>\n",
       "      <th>std_fit_time</th>\n",
       "      <th>mean_score_time</th>\n",
       "      <th>std_score_time</th>\n",
       "      <th>param_classifier__learning_rate</th>\n",
       "      <th>param_classifier__max_leaf_nodes</th>\n",
       "      <th>params</th>\n",
       "      <th>split0_test_score</th>\n",
       "      <th>split1_test_score</th>\n",
       "      <th>mean_test_score</th>\n",
       "      <th>std_test_score</th>\n",
       "      <th>rank_test_score</th>\n",
       "    </tr>\n",
       "  </thead>\n",
       "  <tbody>\n",
       "    <tr>\n",
       "      <th>5</th>\n",
       "      <td>1.052601</td>\n",
       "      <td>0.103182</td>\n",
       "      <td>0.225852</td>\n",
       "      <td>0.001325</td>\n",
       "      <td>0.1</td>\n",
       "      <td>30</td>\n",
       "      <td>{'classifier__learning_rate': 0.1, 'classifier...</td>\n",
       "      <td>0.868912</td>\n",
       "      <td>0.867213</td>\n",
       "      <td>0.868063</td>\n",
       "      <td>0.000850</td>\n",
       "      <td>1</td>\n",
       "    </tr>\n",
       "    <tr>\n",
       "      <th>4</th>\n",
       "      <td>0.666612</td>\n",
       "      <td>0.005010</td>\n",
       "      <td>0.222016</td>\n",
       "      <td>0.005603</td>\n",
       "      <td>0.1</td>\n",
       "      <td>10</td>\n",
       "      <td>{'classifier__learning_rate': 0.1, 'classifier...</td>\n",
       "      <td>0.866783</td>\n",
       "      <td>0.866066</td>\n",
       "      <td>0.866425</td>\n",
       "      <td>0.000359</td>\n",
       "      <td>2</td>\n",
       "    </tr>\n",
       "    <tr>\n",
       "      <th>7</th>\n",
       "      <td>0.231507</td>\n",
       "      <td>0.001739</td>\n",
       "      <td>0.165190</td>\n",
       "      <td>0.021626</td>\n",
       "      <td>1</td>\n",
       "      <td>10</td>\n",
       "      <td>{'classifier__learning_rate': 1, 'classifier__...</td>\n",
       "      <td>0.854826</td>\n",
       "      <td>0.862899</td>\n",
       "      <td>0.858863</td>\n",
       "      <td>0.004036</td>\n",
       "      <td>3</td>\n",
       "    </tr>\n",
       "    <tr>\n",
       "      <th>6</th>\n",
       "      <td>0.282346</td>\n",
       "      <td>0.050397</td>\n",
       "      <td>0.152330</td>\n",
       "      <td>0.004046</td>\n",
       "      <td>1</td>\n",
       "      <td>3</td>\n",
       "      <td>{'classifier__learning_rate': 1, 'classifier__...</td>\n",
       "      <td>0.853844</td>\n",
       "      <td>0.860934</td>\n",
       "      <td>0.857389</td>\n",
       "      <td>0.003545</td>\n",
       "      <td>4</td>\n",
       "    </tr>\n",
       "    <tr>\n",
       "      <th>3</th>\n",
       "      <td>0.812848</td>\n",
       "      <td>0.022379</td>\n",
       "      <td>0.199927</td>\n",
       "      <td>0.005853</td>\n",
       "      <td>0.1</td>\n",
       "      <td>3</td>\n",
       "      <td>{'classifier__learning_rate': 0.1, 'classifier...</td>\n",
       "      <td>0.852752</td>\n",
       "      <td>0.853781</td>\n",
       "      <td>0.853266</td>\n",
       "      <td>0.000515</td>\n",
       "      <td>5</td>\n",
       "    </tr>\n",
       "  </tbody>\n",
       "</table>\n",
       "</div>"
      ],
      "text/plain": [
       "   mean_fit_time  std_fit_time  mean_score_time  std_score_time  \\\n",
       "5       1.052601      0.103182         0.225852        0.001325   \n",
       "4       0.666612      0.005010         0.222016        0.005603   \n",
       "7       0.231507      0.001739         0.165190        0.021626   \n",
       "6       0.282346      0.050397         0.152330        0.004046   \n",
       "3       0.812848      0.022379         0.199927        0.005853   \n",
       "\n",
       "  param_classifier__learning_rate param_classifier__max_leaf_nodes  \\\n",
       "5                             0.1                               30   \n",
       "4                             0.1                               10   \n",
       "7                               1                               10   \n",
       "6                               1                                3   \n",
       "3                             0.1                                3   \n",
       "\n",
       "                                              params  split0_test_score  \\\n",
       "5  {'classifier__learning_rate': 0.1, 'classifier...           0.868912   \n",
       "4  {'classifier__learning_rate': 0.1, 'classifier...           0.866783   \n",
       "7  {'classifier__learning_rate': 1, 'classifier__...           0.854826   \n",
       "6  {'classifier__learning_rate': 1, 'classifier__...           0.853844   \n",
       "3  {'classifier__learning_rate': 0.1, 'classifier...           0.852752   \n",
       "\n",
       "   split1_test_score  mean_test_score  std_test_score  rank_test_score  \n",
       "5           0.867213         0.868063        0.000850                1  \n",
       "4           0.866066         0.866425        0.000359                2  \n",
       "7           0.862899         0.858863        0.004036                3  \n",
       "6           0.860934         0.857389        0.003545                4  \n",
       "3           0.853781         0.853266        0.000515                5  "
      ]
     },
     "execution_count": 23,
     "metadata": {},
     "output_type": "execute_result"
    }
   ],
   "source": [
    "cv_results = pd.DataFrame(model_grid_search.cv_results_).sort_values(\n",
    "                \"mean_test_score\", ascending=False)\n",
    "cv_results.head()"
   ]
  },
  {
   "cell_type": "markdown",
   "id": "8af6235f-00fa-48c0-adbe-4d04f1fe08ce",
   "metadata": {},
   "source": [
    "Let us focus on the most interesting columns and shorten the parameter names to remove the \"param_classifier__\" prefix for readability:"
   ]
  },
  {
   "cell_type": "code",
   "execution_count": 24,
   "id": "93cd8c37-fcfd-4bfc-892f-ec501e2c28ef",
   "metadata": {},
   "outputs": [],
   "source": [
    "column_results = [f\"param_{name}\" for name in param_grid.keys()]\n",
    "column_results += [\n",
    "    \"mean_test_score\", \"std_test_score\", \"rank_test_score\"]\n",
    "cv_results = cv_results[column_results]"
   ]
  },
  {
   "cell_type": "code",
   "execution_count": 25,
   "id": "2daca251-7ddb-4ebc-9957-ed80de1b82ec",
   "metadata": {},
   "outputs": [
    {
     "data": {
      "text/html": [
       "<div>\n",
       "<style scoped>\n",
       "    .dataframe tbody tr th:only-of-type {\n",
       "        vertical-align: middle;\n",
       "    }\n",
       "\n",
       "    .dataframe tbody tr th {\n",
       "        vertical-align: top;\n",
       "    }\n",
       "\n",
       "    .dataframe thead th {\n",
       "        text-align: right;\n",
       "    }\n",
       "</style>\n",
       "<table border=\"1\" class=\"dataframe\">\n",
       "  <thead>\n",
       "    <tr style=\"text-align: right;\">\n",
       "      <th></th>\n",
       "      <th>learning_rate</th>\n",
       "      <th>max_leaf_nodes</th>\n",
       "      <th>mean_test_score</th>\n",
       "      <th>std_test_score</th>\n",
       "      <th>rank_test_score</th>\n",
       "    </tr>\n",
       "  </thead>\n",
       "  <tbody>\n",
       "    <tr>\n",
       "      <th>5</th>\n",
       "      <td>0.1</td>\n",
       "      <td>30</td>\n",
       "      <td>0.868063</td>\n",
       "      <td>0.000850</td>\n",
       "      <td>1</td>\n",
       "    </tr>\n",
       "    <tr>\n",
       "      <th>4</th>\n",
       "      <td>0.1</td>\n",
       "      <td>10</td>\n",
       "      <td>0.866425</td>\n",
       "      <td>0.000359</td>\n",
       "      <td>2</td>\n",
       "    </tr>\n",
       "    <tr>\n",
       "      <th>7</th>\n",
       "      <td>1</td>\n",
       "      <td>10</td>\n",
       "      <td>0.858863</td>\n",
       "      <td>0.004036</td>\n",
       "      <td>3</td>\n",
       "    </tr>\n",
       "    <tr>\n",
       "      <th>6</th>\n",
       "      <td>1</td>\n",
       "      <td>3</td>\n",
       "      <td>0.857389</td>\n",
       "      <td>0.003545</td>\n",
       "      <td>4</td>\n",
       "    </tr>\n",
       "    <tr>\n",
       "      <th>3</th>\n",
       "      <td>0.1</td>\n",
       "      <td>3</td>\n",
       "      <td>0.853266</td>\n",
       "      <td>0.000515</td>\n",
       "      <td>5</td>\n",
       "    </tr>\n",
       "    <tr>\n",
       "      <th>8</th>\n",
       "      <td>1</td>\n",
       "      <td>30</td>\n",
       "      <td>0.851028</td>\n",
       "      <td>0.002707</td>\n",
       "      <td>6</td>\n",
       "    </tr>\n",
       "    <tr>\n",
       "      <th>2</th>\n",
       "      <td>0.01</td>\n",
       "      <td>30</td>\n",
       "      <td>0.843330</td>\n",
       "      <td>0.002917</td>\n",
       "      <td>7</td>\n",
       "    </tr>\n",
       "    <tr>\n",
       "      <th>1</th>\n",
       "      <td>0.01</td>\n",
       "      <td>10</td>\n",
       "      <td>0.817832</td>\n",
       "      <td>0.001124</td>\n",
       "      <td>8</td>\n",
       "    </tr>\n",
       "    <tr>\n",
       "      <th>0</th>\n",
       "      <td>0.01</td>\n",
       "      <td>3</td>\n",
       "      <td>0.797166</td>\n",
       "      <td>0.000715</td>\n",
       "      <td>9</td>\n",
       "    </tr>\n",
       "    <tr>\n",
       "      <th>10</th>\n",
       "      <td>10</td>\n",
       "      <td>10</td>\n",
       "      <td>0.618080</td>\n",
       "      <td>0.124277</td>\n",
       "      <td>10</td>\n",
       "    </tr>\n",
       "    <tr>\n",
       "      <th>11</th>\n",
       "      <td>10</td>\n",
       "      <td>30</td>\n",
       "      <td>0.549338</td>\n",
       "      <td>0.210599</td>\n",
       "      <td>11</td>\n",
       "    </tr>\n",
       "    <tr>\n",
       "      <th>9</th>\n",
       "      <td>10</td>\n",
       "      <td>3</td>\n",
       "      <td>0.283476</td>\n",
       "      <td>0.003775</td>\n",
       "      <td>12</td>\n",
       "    </tr>\n",
       "  </tbody>\n",
       "</table>\n",
       "</div>"
      ],
      "text/plain": [
       "   learning_rate max_leaf_nodes  mean_test_score  std_test_score  \\\n",
       "5            0.1             30         0.868063        0.000850   \n",
       "4            0.1             10         0.866425        0.000359   \n",
       "7              1             10         0.858863        0.004036   \n",
       "6              1              3         0.857389        0.003545   \n",
       "3            0.1              3         0.853266        0.000515   \n",
       "8              1             30         0.851028        0.002707   \n",
       "2           0.01             30         0.843330        0.002917   \n",
       "1           0.01             10         0.817832        0.001124   \n",
       "0           0.01              3         0.797166        0.000715   \n",
       "10            10             10         0.618080        0.124277   \n",
       "11            10             30         0.549338        0.210599   \n",
       "9             10              3         0.283476        0.003775   \n",
       "\n",
       "    rank_test_score  \n",
       "5                 1  \n",
       "4                 2  \n",
       "7                 3  \n",
       "6                 4  \n",
       "3                 5  \n",
       "8                 6  \n",
       "2                 7  \n",
       "1                 8  \n",
       "0                 9  \n",
       "10               10  \n",
       "11               11  \n",
       "9                12  "
      ]
     },
     "execution_count": 25,
     "metadata": {},
     "output_type": "execute_result"
    }
   ],
   "source": [
    "def shorten_param(param_name):\n",
    "    if \"__\" in param_name:\n",
    "        return param_name.rsplit(\"__\", 1)[1]\n",
    "    return param_name\n",
    "\n",
    "\n",
    "cv_results = cv_results.rename(shorten_param, axis=1)\n",
    "cv_results"
   ]
  },
  {
   "cell_type": "markdown",
   "id": "cc8522f7-5391-4d62-b5cd-a723de2c8dfc",
   "metadata": {},
   "source": [
    "With only 2 parameters, we might want to visualize the grid-search as a heatmap.  \n",
    "We need to transform our `cv_results` into a dataframe where:\n",
    "\n",
    "* the rows will correspond to the learning-rate values;\n",
    "* the columns will correspond to the maximum number of leaf;\n",
    "* the content of the dataframe will be the mean test scores."
   ]
  },
  {
   "cell_type": "code",
   "execution_count": 26,
   "id": "2973bb72-9d01-40b2-8428-f8fd7f4a5251",
   "metadata": {},
   "outputs": [
    {
     "data": {
      "text/html": [
       "<div>\n",
       "<style scoped>\n",
       "    .dataframe tbody tr th:only-of-type {\n",
       "        vertical-align: middle;\n",
       "    }\n",
       "\n",
       "    .dataframe tbody tr th {\n",
       "        vertical-align: top;\n",
       "    }\n",
       "\n",
       "    .dataframe thead th {\n",
       "        text-align: right;\n",
       "    }\n",
       "</style>\n",
       "<table border=\"1\" class=\"dataframe\">\n",
       "  <thead>\n",
       "    <tr style=\"text-align: right;\">\n",
       "      <th>max_leaf_nodes</th>\n",
       "      <th>3</th>\n",
       "      <th>10</th>\n",
       "      <th>30</th>\n",
       "    </tr>\n",
       "    <tr>\n",
       "      <th>learning_rate</th>\n",
       "      <th></th>\n",
       "      <th></th>\n",
       "      <th></th>\n",
       "    </tr>\n",
       "  </thead>\n",
       "  <tbody>\n",
       "    <tr>\n",
       "      <th>0.01</th>\n",
       "      <td>0.797166</td>\n",
       "      <td>0.817832</td>\n",
       "      <td>0.843330</td>\n",
       "    </tr>\n",
       "    <tr>\n",
       "      <th>0.10</th>\n",
       "      <td>0.853266</td>\n",
       "      <td>0.866425</td>\n",
       "      <td>0.868063</td>\n",
       "    </tr>\n",
       "    <tr>\n",
       "      <th>1.00</th>\n",
       "      <td>0.857389</td>\n",
       "      <td>0.858863</td>\n",
       "      <td>0.851028</td>\n",
       "    </tr>\n",
       "    <tr>\n",
       "      <th>10.00</th>\n",
       "      <td>0.283476</td>\n",
       "      <td>0.618080</td>\n",
       "      <td>0.549338</td>\n",
       "    </tr>\n",
       "  </tbody>\n",
       "</table>\n",
       "</div>"
      ],
      "text/plain": [
       "max_leaf_nodes        3         10        30\n",
       "learning_rate                               \n",
       "0.01            0.797166  0.817832  0.843330\n",
       "0.10            0.853266  0.866425  0.868063\n",
       "1.00            0.857389  0.858863  0.851028\n",
       "10.00           0.283476  0.618080  0.549338"
      ]
     },
     "execution_count": 26,
     "metadata": {},
     "output_type": "execute_result"
    }
   ],
   "source": [
    "pivoted_cv_results = cv_results.pivot_table(\n",
    "    values=\"mean_test_score\", index=[\"learning_rate\"],\n",
    "    columns=[\"max_leaf_nodes\"])\n",
    "\n",
    "pivoted_cv_results"
   ]
  },
  {
   "cell_type": "markdown",
   "id": "29f3261c-4c07-4ebf-bad4-f135540b4976",
   "metadata": {},
   "source": [
    "We can use a heatmap representation to show the above dataframe visually."
   ]
  },
  {
   "cell_type": "code",
   "execution_count": 27,
   "id": "93f2129a-bcd2-4789-994f-5e6fa3cd89bc",
   "metadata": {},
   "outputs": [
    {
     "data": {
      "image/png": "[encoded data removed]",
      "text/plain": [
       "<Figure size 432x288 with 2 Axes>"
      ]
     },
     "metadata": {
      "needs_background": "light"
     },
     "output_type": "display_data"
    }
   ],
   "source": [
    "import seaborn as sns\n",
    "\n",
    "ax = sns.heatmap(pivoted_cv_results, annot=True, cmap=\"YlGnBu\", vmin=0.7,\n",
    "                 vmax=0.9)\n",
    "ax.invert_yaxis()"
   ]
  },
  {
   "cell_type": "markdown",
   "id": "2c735fc1-820e-4da1-a9ec-f0a4b4522fb4",
   "metadata": {},
   "source": [
    "The above tables highlights the following things:\n",
    "\n",
    "* for too high values of `learning_rate`, the generalization performance of the model is degraded and adjusting the value of `max_leaf_nodes` cannot fix that problem;\n",
    "* outside of this pathological region, we observe that the optimal choice of `max_leaf_nodes` depends on the value of `learning_rat`e;\n",
    "* in particular, we observe a “diagonal” of good models with an accuracy close to the maximal of 0.87: when the value of `max_leaf_nodes` is increased, one should decrease the value of `learning_rate` accordingly to preserve a good accuracy."
   ]
  },
  {
   "cell_type": "markdown",
   "id": "efba59d8-d981-45a3-a215-a0728298c94e",
   "metadata": {},
   "source": [
    "<div class=\"alert alert-block alert-info\">\n",
    "<b>Note:</b> In general there is no unique optimal parameter setting!.</div>"
   ]
  },
  {
   "cell_type": "code",
   "execution_count": null,
   "id": "cd19044a-7e83-4595-af22-911d2cddfe60",
   "metadata": {},
   "outputs": [],
   "source": []
  }
 ],
 "metadata": {
  "kernelspec": {
   "display_name": "Python 3 (ipykernel)",
   "language": "python",
   "name": "python3"
  },
  "language_info": {
   "codemirror_mode": {
    "name": "ipython",
    "version": 3
   },
   "file_extension": ".py",
   "mimetype": "text/x-python",
   "name": "python",
   "nbconvert_exporter": "python",
   "pygments_lexer": "ipython3",
   "version": "3.9.7"
  }
 },
 "nbformat": 4,
 "nbformat_minor": 5
}
