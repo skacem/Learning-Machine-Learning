{
 "cells": [
  {
   "cell_type": "code",
   "execution_count": 4,
   "id": "def116a4-8b0c-4d52-b19a-17c152db0963",
   "metadata": {},
   "outputs": [
    {
     "data": {
      "text/plain": [
       "7346.640384000003"
      ]
     },
     "execution_count": 4,
     "metadata": {},
     "output_type": "execute_result"
    }
   ],
   "source": [
    "5000 * (1+0.08)**5"
   ]
  },
  {
   "cell_type": "code",
   "execution_count": 5,
   "id": "20987866-1738-4eef-9ef9-dc1482abdeb4",
   "metadata": {},
   "outputs": [
    {
     "data": {
      "text/plain": [
       "61391.32535407592"
      ]
     },
     "execution_count": 5,
     "metadata": {},
     "output_type": "execute_result"
    }
   ],
   "source": [
    "100000/((1+0.05)**10)"
   ]
  },
  {
   "cell_type": "code",
   "execution_count": 6,
   "id": "5cb15a2f-0f1e-4a70-badb-a93b76833466",
   "metadata": {},
   "outputs": [
    {
     "data": {
      "text/plain": [
       "1.628894626777442"
      ]
     },
     "execution_count": 6,
     "metadata": {},
     "output_type": "execute_result"
    }
   ],
   "source": [
    "(1+0.05)**10"
   ]
  },
  {
   "cell_type": "code",
   "execution_count": null,
   "id": "405b9e22-87bb-4d42-aa93-993fdea8a61c",
   "metadata": {},
   "outputs": [],
   "source": []
  }
 ],
 "metadata": {
  "kernelspec": {
   "display_name": "Python 3",
   "language": "python",
   "name": "python3"
  },
  "language_info": {
   "codemirror_mode": {
    "name": "ipython",
    "version": 3
   },
   "file_extension": ".py",
   "mimetype": "text/x-python",
   "name": "python",
   "nbconvert_exporter": "python",
   "pygments_lexer": "ipython3",
   "version": "3.6.13"
  }
 },
 "nbformat": 4,
 "nbformat_minor": 5
}
