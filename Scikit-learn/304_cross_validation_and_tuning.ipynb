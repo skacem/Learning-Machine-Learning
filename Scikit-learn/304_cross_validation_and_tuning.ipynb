{
 "cells": [
  {
   "cell_type": "markdown",
   "id": "43c25160-0479-44f2-9d90-e9ccaa7ff77b",
   "metadata": {},
   "source": [
    "# Cross-Validation and Hyperparameter Tuning\n",
    "\n",
    "In the previous notebooks, we saw two approaches to tune hyperparameters: via grid-search and randomized-search.\n",
    "\n",
    "In this notebook, we will show how to combine such hyperparameters search with a cross-validation.\n",
    "\n",
    "## Our Predictive Model\n",
    "\n",
    "Same routine as before."
   ]
  },
  {
   "cell_type": "code",
   "execution_count": 2,
   "id": "7033c1b7-6aeb-498b-b813-4c9de1035590",
   "metadata": {},
   "outputs": [],
   "source": [
    "import pandas as pd\n",
    "from sklearn import set_config\n",
    "\n",
    "set_config(display=\"diagram\")"
   ]
  },
  {
   "cell_type": "code",
   "execution_count": 5,
   "id": "012903d2-6216-4663-90a0-a88487888194",
   "metadata": {},
   "outputs": [],
   "source": [
    "df = pd.read_csv('data/adult-census.csv')\n",
    "target = df['class']\n",
    "data = df.drop(columns=['class', 'education-num', 'fnlwgt'])"
   ]
  },
  {
   "cell_type": "markdown",
   "id": "50d6e039-68d5-4a4f-bd9d-e3a110c75cb7",
   "metadata": {},
   "source": [
    "We will create the same predictive pipeline as seen in the grid-search section"
   ]
  },
  {
   "cell_type": "code",
   "execution_count": 7,
   "id": "a6ff903f-ec78-4879-8367-f006e4772826",
   "metadata": {},
   "outputs": [],
   "source": [
    "from sklearn.compose import ColumnTransformer\n",
    "from sklearn.preprocessing import OrdinalEncoder\n",
    "from sklearn.compose import make_column_selector as selector"
   ]
  },
  {
   "cell_type": "code",
   "execution_count": 8,
   "id": "e79ae024-3f2b-463f-a17e-20d1cec4a1b6",
   "metadata": {},
   "outputs": [],
   "source": [
    "categorical_columns_selector = selector(dtype_include=object)\n",
    "categorical_columns = categorical_columns_selector(data)\n",
    "\n",
    "categorical_preprocessor = OrdinalEncoder(handle_unknown=\"use_encoded_value\",\n",
    "                                          unknown_value=-1)\n",
    "preprocessor = ColumnTransformer([\n",
    "    ('cat-preprocessor', categorical_preprocessor, categorical_columns)],\n",
    "    remainder='passthrough', sparse_threshold=0)"
   ]
  },
  {
   "cell_type": "code",
   "execution_count": 9,
   "id": "ea890128-d255-49cc-974d-b58c3c5633d2",
   "metadata": {},
   "outputs": [],
   "source": [
    "from sklearn.experimental import enable_hist_gradient_boosting\n",
    "from sklearn.ensemble import HistGradientBoostingClassifier\n",
    "from sklearn.pipeline import Pipeline"
   ]
  },
  {
   "cell_type": "code",
   "execution_count": 10,
   "id": "db392f33-12b3-4ae2-9ede-bdda665185ce",
   "metadata": {},
   "outputs": [
    {
     "data": {
      "text/html": [
       "<style>#sk-f4c83bd2-7083-47cf-ac5a-eb4f1faca9e4 {color: black;background-color: white;}#sk-f4c83bd2-7083-47cf-ac5a-eb4f1faca9e4 pre{padding: 0;}#sk-f4c83bd2-7083-47cf-ac5a-eb4f1faca9e4 div.sk-toggleable {background-color: white;}#sk-f4c83bd2-7083-47cf-ac5a-eb4f1faca9e4 label.sk-toggleable__label {cursor: pointer;display: block;width: 100%;margin-bottom: 0;padding: 0.2em 0.3em;box-sizing: border-box;text-align: center;}#sk-f4c83bd2-7083-47cf-ac5a-eb4f1faca9e4 div.sk-toggleable__content {max-height: 0;max-width: 0;overflow: hidden;text-align: left;background-color: #f0f8ff;}#sk-f4c83bd2-7083-47cf-ac5a-eb4f1faca9e4 div.sk-toggleable__content pre {margin: 0.2em;color: black;border-radius: 0.25em;background-color: #f0f8ff;}#sk-f4c83bd2-7083-47cf-ac5a-eb4f1faca9e4 input.sk-toggleable__control:checked~div.sk-toggleable__content {max-height: 200px;max-width: 100%;overflow: auto;}#sk-f4c83bd2-7083-47cf-ac5a-eb4f1faca9e4 div.sk-estimator input.sk-toggleable__control:checked~label.sk-toggleable__label {background-color: #d4ebff;}#sk-f4c83bd2-7083-47cf-ac5a-eb4f1faca9e4 div.sk-label input.sk-toggleable__control:checked~label.sk-toggleable__label {background-color: #d4ebff;}#sk-f4c83bd2-7083-47cf-ac5a-eb4f1faca9e4 input.sk-hidden--visually {border: 0;clip: rect(1px 1px 1px 1px);clip: rect(1px, 1px, 1px, 1px);height: 1px;margin: -1px;overflow: hidden;padding: 0;position: absolute;width: 1px;}#sk-f4c83bd2-7083-47cf-ac5a-eb4f1faca9e4 div.sk-estimator {font-family: monospace;background-color: #f0f8ff;margin: 0.25em 0.25em;border: 1px dotted black;border-radius: 0.25em;box-sizing: border-box;}#sk-f4c83bd2-7083-47cf-ac5a-eb4f1faca9e4 div.sk-estimator:hover {background-color: #d4ebff;}#sk-f4c83bd2-7083-47cf-ac5a-eb4f1faca9e4 div.sk-parallel-item::after {content: \"\";width: 100%;border-bottom: 1px solid gray;flex-grow: 1;}#sk-f4c83bd2-7083-47cf-ac5a-eb4f1faca9e4 div.sk-label:hover label.sk-toggleable__label {background-color: #d4ebff;}#sk-f4c83bd2-7083-47cf-ac5a-eb4f1faca9e4 div.sk-serial::before {content: \"\";position: absolute;border-left: 1px solid gray;box-sizing: border-box;top: 2em;bottom: 0;left: 50%;}#sk-f4c83bd2-7083-47cf-ac5a-eb4f1faca9e4 div.sk-serial {display: flex;flex-direction: column;align-items: center;background-color: white;}#sk-f4c83bd2-7083-47cf-ac5a-eb4f1faca9e4 div.sk-item {z-index: 1;}#sk-f4c83bd2-7083-47cf-ac5a-eb4f1faca9e4 div.sk-parallel {display: flex;align-items: stretch;justify-content: center;background-color: white;}#sk-f4c83bd2-7083-47cf-ac5a-eb4f1faca9e4 div.sk-parallel-item {display: flex;flex-direction: column;position: relative;background-color: white;}#sk-f4c83bd2-7083-47cf-ac5a-eb4f1faca9e4 div.sk-parallel-item:first-child::after {align-self: flex-end;width: 50%;}#sk-f4c83bd2-7083-47cf-ac5a-eb4f1faca9e4 div.sk-parallel-item:last-child::after {align-self: flex-start;width: 50%;}#sk-f4c83bd2-7083-47cf-ac5a-eb4f1faca9e4 div.sk-parallel-item:only-child::after {width: 0;}#sk-f4c83bd2-7083-47cf-ac5a-eb4f1faca9e4 div.sk-dashed-wrapped {border: 1px dashed gray;margin: 0.2em;box-sizing: border-box;padding-bottom: 0.1em;background-color: white;position: relative;}#sk-f4c83bd2-7083-47cf-ac5a-eb4f1faca9e4 div.sk-label label {font-family: monospace;font-weight: bold;background-color: white;display: inline-block;line-height: 1.2em;}#sk-f4c83bd2-7083-47cf-ac5a-eb4f1faca9e4 div.sk-label-container {position: relative;z-index: 2;text-align: center;}#sk-f4c83bd2-7083-47cf-ac5a-eb4f1faca9e4 div.sk-container {display: inline-block;position: relative;}</style><div id=\"sk-f4c83bd2-7083-47cf-ac5a-eb4f1faca9e4\" class\"sk-top-container\"><div class=\"sk-container\"><div class=\"sk-item sk-dashed-wrapped\"><div class=\"sk-label-container\"><div class=\"sk-label sk-toggleable\"><input class=\"sk-toggleable__control sk-hidden--visually\" id=\"e2207f38-bd7a-4ec4-8607-d98c9b5233cc\" type=\"checkbox\" ><label class=\"sk-toggleable__label\" for=\"e2207f38-bd7a-4ec4-8607-d98c9b5233cc\">Pipeline</label><div class=\"sk-toggleable__content\"><pre>Pipeline(steps=[('preprocessor',\n",
       "                 ColumnTransformer(remainder='passthrough', sparse_threshold=0,\n",
       "                                   transformers=[('cat-preprocessor',\n",
       "                                                  OrdinalEncoder(handle_unknown='use_encoded_value',\n",
       "                                                                 unknown_value=-1),\n",
       "                                                  ['workclass', 'education',\n",
       "                                                   'marital-status',\n",
       "                                                   'occupation', 'relationship',\n",
       "                                                   'race', 'sex',\n",
       "                                                   'native-country'])])),\n",
       "                ('classifier',\n",
       "                 HistGradientBoostingClassifier(max_leaf_nodes=4,\n",
       "                                                random_state=42))])</pre></div></div></div><div class=\"sk-serial\"><div class=\"sk-item sk-dashed-wrapped\"><div class=\"sk-label-container\"><div class=\"sk-label sk-toggleable\"><input class=\"sk-toggleable__control sk-hidden--visually\" id=\"f3c48987-a381-4deb-87d8-6e541391e2d5\" type=\"checkbox\" ><label class=\"sk-toggleable__label\" for=\"f3c48987-a381-4deb-87d8-6e541391e2d5\">preprocessor: ColumnTransformer</label><div class=\"sk-toggleable__content\"><pre>ColumnTransformer(remainder='passthrough', sparse_threshold=0,\n",
       "                  transformers=[('cat-preprocessor',\n",
       "                                 OrdinalEncoder(handle_unknown='use_encoded_value',\n",
       "                                                unknown_value=-1),\n",
       "                                 ['workclass', 'education', 'marital-status',\n",
       "                                  'occupation', 'relationship', 'race', 'sex',\n",
       "                                  'native-country'])])</pre></div></div></div><div class=\"sk-parallel\"><div class=\"sk-parallel-item\"><div class=\"sk-item\"><div class=\"sk-label-container\"><div class=\"sk-label sk-toggleable\"><input class=\"sk-toggleable__control sk-hidden--visually\" id=\"aecfc3bc-91d6-4310-8f7a-764ab1550e29\" type=\"checkbox\" ><label class=\"sk-toggleable__label\" for=\"aecfc3bc-91d6-4310-8f7a-764ab1550e29\">cat-preprocessor</label><div class=\"sk-toggleable__content\"><pre>['workclass', 'education', 'marital-status', 'occupation', 'relationship', 'race', 'sex', 'native-country']</pre></div></div></div><div class=\"sk-serial\"><div class=\"sk-item\"><div class=\"sk-estimator sk-toggleable\"><input class=\"sk-toggleable__control sk-hidden--visually\" id=\"e7eca609-bb30-426b-877c-cff533ba411c\" type=\"checkbox\" ><label class=\"sk-toggleable__label\" for=\"e7eca609-bb30-426b-877c-cff533ba411c\">OrdinalEncoder</label><div class=\"sk-toggleable__content\"><pre>OrdinalEncoder(handle_unknown='use_encoded_value', unknown_value=-1)</pre></div></div></div></div></div></div><div class=\"sk-parallel-item\"><div class=\"sk-item\"><div class=\"sk-label-container\"><div class=\"sk-label sk-toggleable\"><input class=\"sk-toggleable__control sk-hidden--visually\" id=\"09b9cd51-5182-4630-9b44-e2109a6b2fb5\" type=\"checkbox\" ><label class=\"sk-toggleable__label\" for=\"09b9cd51-5182-4630-9b44-e2109a6b2fb5\">remainder</label><div class=\"sk-toggleable__content\"><pre></pre></div></div></div><div class=\"sk-serial\"><div class=\"sk-item\"><div class=\"sk-estimator sk-toggleable\"><input class=\"sk-toggleable__control sk-hidden--visually\" id=\"91f8289a-ab02-4330-9da5-8a4530b57202\" type=\"checkbox\" ><label class=\"sk-toggleable__label\" for=\"91f8289a-ab02-4330-9da5-8a4530b57202\">passthrough</label><div class=\"sk-toggleable__content\"><pre>passthrough</pre></div></div></div></div></div></div></div></div><div class=\"sk-item\"><div class=\"sk-estimator sk-toggleable\"><input class=\"sk-toggleable__control sk-hidden--visually\" id=\"a9ad6368-7182-4d32-97c5-8ecfd4462048\" type=\"checkbox\" ><label class=\"sk-toggleable__label\" for=\"a9ad6368-7182-4d32-97c5-8ecfd4462048\">HistGradientBoostingClassifier</label><div class=\"sk-toggleable__content\"><pre>HistGradientBoostingClassifier(max_leaf_nodes=4, random_state=42)</pre></div></div></div></div></div></div></div>"
      ],
      "text/plain": [
       "Pipeline(steps=[('preprocessor',\n",
       "                 ColumnTransformer(remainder='passthrough', sparse_threshold=0,\n",
       "                                   transformers=[('cat-preprocessor',\n",
       "                                                  OrdinalEncoder(handle_unknown='use_encoded_value',\n",
       "                                                                 unknown_value=-1),\n",
       "                                                  ['workclass', 'education',\n",
       "                                                   'marital-status',\n",
       "                                                   'occupation', 'relationship',\n",
       "                                                   'race', 'sex',\n",
       "                                                   'native-country'])])),\n",
       "                ('classifier',\n",
       "                 HistGradientBoostingClassifier(max_leaf_nodes=4,\n",
       "                                                random_state=42))])"
      ]
     },
     "execution_count": 10,
     "metadata": {},
     "output_type": "execute_result"
    }
   ],
   "source": [
    "model = Pipeline([\n",
    "    (\"preprocessor\", preprocessor),\n",
    "    (\"classifier\",\n",
    "     HistGradientBoostingClassifier(random_state=42, max_leaf_nodes=4))])\n",
    "model"
   ]
  },
  {
   "cell_type": "markdown",
   "id": "5a97ad63-7f5c-4a9b-a6c7-b3bb2f7bb3ce",
   "metadata": {},
   "source": [
    "## Include a Hyperparameter Search Withing a Cross-Validation\n",
    "\n",
    "As mentioned earlier, using a single train-test split during the grid-search doesn't give any information regarding the different sources of variations: variations in terms of test score or hyperparameters values.\n",
    "\n",
    "To get reliable information, the hyperparameters search need to be nested within a cross-validation.  \n",
    "To limit the computational cost, we affect `cv` to a low integer. In practice, the number of fold should be much higher."
   ]
  },
  {
   "cell_type": "code",
   "execution_count": 11,
   "id": "073494d5-d3be-473e-8905-22c575a6a53c",
   "metadata": {},
   "outputs": [],
   "source": [
    "from sklearn.model_selection import cross_validate\n",
    "from sklearn.model_selection import GridSearchCV\n",
    "\n",
    "param_grid = {\n",
    "    'classifier__learning_rate': (0.05, 0.1),\n",
    "    'classifier__max_leaf_nodes': (30, 40)}\n",
    "model_grid_search = GridSearchCV(model, param_grid=param_grid,\n",
    "                                 n_jobs=2, cv=2)\n",
    "\n",
    "cv_results = cross_validate(\n",
    "    model_grid_search, data, target, cv=3, return_estimator=True)"
   ]
  },
  {
   "cell_type": "markdown",
   "id": "70e6694a-91ac-4427-a8d2-35ecf9431e26",
   "metadata": {},
   "source": [
    "Running the above cross-validation will give us an estimate of the testing score."
   ]
  },
  {
   "cell_type": "code",
   "execution_count": 12,
   "id": "4697707a-fd72-4a58-aae6-b5503647ec6e",
   "metadata": {},
   "outputs": [
    {
     "name": "stdout",
     "output_type": "stream",
     "text": [
      "Accuracy score by cross-validation combined with hyperparameters search:\n",
      "0.872 +/- 0.002\n"
     ]
    }
   ],
   "source": [
    "scores = cv_results[\"test_score\"]\n",
    "print(f\"Accuracy score by cross-validation combined with hyperparameters \"\n",
    "      f\"search:\\n{scores.mean():.3f} +/- {scores.std():.3f}\")"
   ]
  },
  {
   "cell_type": "markdown",
   "id": "dc160cf7-8b1a-482b-8501-fee40c06f3f1",
   "metadata": {},
   "source": [
    "The hyperparameters on each fold are potentially different since we nested the grid-search in the cross-validation. Thus, checking the variation of the hyperparameters across folds should also be analyzed:"
   ]
  },
  {
   "cell_type": "code",
   "execution_count": 13,
   "id": "cbe39796-2d70-4d2c-aa94-02cb8a4987ff",
   "metadata": {},
   "outputs": [
    {
     "name": "stdout",
     "output_type": "stream",
     "text": [
      "Best parameter found on fold #1\n",
      "{'classifier__learning_rate': 0.1, 'classifier__max_leaf_nodes': 40}\n",
      "Best parameter found on fold #2\n",
      "{'classifier__learning_rate': 0.1, 'classifier__max_leaf_nodes': 30}\n",
      "Best parameter found on fold #3\n",
      "{'classifier__learning_rate': 0.05, 'classifier__max_leaf_nodes': 30}\n"
     ]
    }
   ],
   "source": [
    "for fold_idx, estimator in enumerate(cv_results[\"estimator\"]):\n",
    "    print(f\"Best parameter found on fold #{fold_idx + 1}\")\n",
    "    print(f\"{estimator.best_params_}\")"
   ]
  },
  {
   "cell_type": "code",
   "execution_count": null,
   "id": "58f66583-cda3-45a4-8cc7-32e2fb0f0f04",
   "metadata": {},
   "outputs": [],
   "source": []
  }
 ],
 "metadata": {
  "kernelspec": {
   "display_name": "Python 3 (ipykernel)",
   "language": "python",
   "name": "python3"
  },
  "language_info": {
   "codemirror_mode": {
    "name": "ipython",
    "version": 3
   },
   "file_extension": ".py",
   "mimetype": "text/x-python",
   "name": "python",
   "nbconvert_exporter": "python",
   "pygments_lexer": "ipython3",
   "version": "3.9.7"
  }
 },
 "nbformat": 4,
 "nbformat_minor": 5
}
