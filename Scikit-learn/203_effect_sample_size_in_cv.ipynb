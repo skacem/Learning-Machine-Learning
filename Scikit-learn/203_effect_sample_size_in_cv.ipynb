{
 "cells": [
  {
   "cell_type": "markdown",
   "id": "9d3a7555-f2b3-401c-bbcf-56326063c1ec",
   "metadata": {},
   "source": [
    "# Effect of the Sample Size in Cross-Validation\n",
    "\n",
    "It is also important to understand how the different errors are influenced by the number of samples variable. In this notebook, we will show this aspect by looking at the variability of the different errors.\n",
    "\n",
    "Let's first make some imports and load the data and create the same model as in the previous notebook."
   ]
  },
  {
   "cell_type": "code",
   "execution_count": 4,
   "id": "045f2d23-70fc-4649-b176-4b532e3aad77",
   "metadata": {},
   "outputs": [],
   "source": [
    "# Standard imports\n",
    "import numpy as np\n",
    "import pandas as pd\n",
    "import matplotlib.pyplot as plt\n",
    "\n",
    "# sklearn imports\n",
    "from sklearn.datasets import fetch_california_housing\n",
    "from sklearn.tree import DecisionTreeRegressor\n",
    "from sklearn.model_selection import learning_curve, ShuffleSplit\n",
    "\n",
    "# Disable jedi autocompleter\n",
    "%config Completer.use_jedi = False"
   ]
  },
  {
   "cell_type": "code",
   "execution_count": null,
   "id": "7556b46c-ea7b-45df-8dde-bdeef62bbcb2",
   "metadata": {},
   "outputs": [],
   "source": [
    "housing = fetch_california_housing(as_frame=True)\n",
    "data = housing.data\n",
    "target = housing.target"
   ]
  }
 ],
 "metadata": {
  "kernelspec": {
   "display_name": "Python 3",
   "language": "python",
   "name": "python3"
  },
  "language_info": {
   "codemirror_mode": {
    "name": "ipython",
    "version": 3
   },
   "file_extension": ".py",
   "mimetype": "text/x-python",
   "name": "python",
   "nbconvert_exporter": "python",
   "pygments_lexer": "ipython3",
   "version": "3.6.13"
  }
 },
 "nbformat": 4,
 "nbformat_minor": 5
}
