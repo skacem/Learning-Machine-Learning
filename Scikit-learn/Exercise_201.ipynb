{
 "cells": [
  {
   "cell_type": "markdown",
   "id": "401e7731",
   "metadata": {},
   "source": [
    "# Exercise M2.01\n",
    "\n",
    "The aim of this exercise is to make the following experiments:\n",
    "\n",
    "* train and test a support vector machine classifier through cross-validation;\n",
    "* study the effect of the parameter gamma of this classifier using a validation curve;\n",
    "* use a learning curve to determine the usefulness of adding new samples in the data set when building a classifier."
   ]
  },
  {
   "cell_type": "code",
   "execution_count": 54,
   "id": "c1df63f8",
   "metadata": {},
   "outputs": [],
   "source": [
    "import pandas as pd\n",
    "import numpy as np\n",
    "# Disable jedi autocompleter\n",
    "%config Completer.use_jedi = False"
   ]
  },
  {
   "cell_type": "code",
   "execution_count": 55,
   "id": "0e1b0185",
   "metadata": {},
   "outputs": [
    {
     "data": {
      "text/html": [
       "<div>\n",
       "<style scoped>\n",
       "    .dataframe tbody tr th:only-of-type {\n",
       "        vertical-align: middle;\n",
       "    }\n",
       "\n",
       "    .dataframe tbody tr th {\n",
       "        vertical-align: top;\n",
       "    }\n",
       "\n",
       "    .dataframe thead th {\n",
       "        text-align: right;\n",
       "    }\n",
       "</style>\n",
       "<table border=\"1\" class=\"dataframe\">\n",
       "  <thead>\n",
       "    <tr style=\"text-align: right;\">\n",
       "      <th></th>\n",
       "      <th>Recency</th>\n",
       "      <th>Frequency</th>\n",
       "      <th>Monetary</th>\n",
       "      <th>Time</th>\n",
       "      <th>Class</th>\n",
       "    </tr>\n",
       "  </thead>\n",
       "  <tbody>\n",
       "    <tr>\n",
       "      <th>0</th>\n",
       "      <td>2</td>\n",
       "      <td>50</td>\n",
       "      <td>12500</td>\n",
       "      <td>98</td>\n",
       "      <td>donated</td>\n",
       "    </tr>\n",
       "    <tr>\n",
       "      <th>1</th>\n",
       "      <td>0</td>\n",
       "      <td>13</td>\n",
       "      <td>3250</td>\n",
       "      <td>28</td>\n",
       "      <td>donated</td>\n",
       "    </tr>\n",
       "    <tr>\n",
       "      <th>2</th>\n",
       "      <td>1</td>\n",
       "      <td>16</td>\n",
       "      <td>4000</td>\n",
       "      <td>35</td>\n",
       "      <td>donated</td>\n",
       "    </tr>\n",
       "    <tr>\n",
       "      <th>3</th>\n",
       "      <td>2</td>\n",
       "      <td>20</td>\n",
       "      <td>5000</td>\n",
       "      <td>45</td>\n",
       "      <td>donated</td>\n",
       "    </tr>\n",
       "    <tr>\n",
       "      <th>4</th>\n",
       "      <td>1</td>\n",
       "      <td>24</td>\n",
       "      <td>6000</td>\n",
       "      <td>77</td>\n",
       "      <td>not donated</td>\n",
       "    </tr>\n",
       "  </tbody>\n",
       "</table>\n",
       "</div>"
      ],
      "text/plain": [
       "   Recency  Frequency  Monetary  Time        Class\n",
       "0        2         50     12500    98      donated\n",
       "1        0         13      3250    28      donated\n",
       "2        1         16      4000    35      donated\n",
       "3        2         20      5000    45      donated\n",
       "4        1         24      6000    77  not donated"
      ]
     },
     "execution_count": 55,
     "metadata": {},
     "output_type": "execute_result"
    }
   ],
   "source": [
    "df = pd.read_csv('data/blood_transfusion.csv')\n",
    "df.head()"
   ]
  },
  {
   "cell_type": "code",
   "execution_count": 56,
   "id": "7d300914",
   "metadata": {},
   "outputs": [
    {
     "name": "stdout",
     "output_type": "stream",
     "text": [
      "<class 'pandas.core.frame.DataFrame'>\n",
      "RangeIndex: 748 entries, 0 to 747\n",
      "Data columns (total 5 columns):\n",
      " #   Column     Non-Null Count  Dtype \n",
      "---  ------     --------------  ----- \n",
      " 0   Recency    748 non-null    int64 \n",
      " 1   Frequency  748 non-null    int64 \n",
      " 2   Monetary   748 non-null    int64 \n",
      " 3   Time       748 non-null    int64 \n",
      " 4   Class      748 non-null    object\n",
      "dtypes: int64(4), object(1)\n",
      "memory usage: 29.3+ KB\n"
     ]
    }
   ],
   "source": [
    "df.info()"
   ]
  },
  {
   "cell_type": "code",
   "execution_count": 57,
   "id": "03071316",
   "metadata": {},
   "outputs": [],
   "source": [
    "target = df['Class']\n",
    "data = df.drop(columns='Class')"
   ]
  },
  {
   "cell_type": "markdown",
   "id": "a2ce8a08",
   "metadata": {},
   "source": [
    "We will use a support vector machine classifier (SVM). In its most simple form, a SVM classifier behaving similarly to a logistic regression. \n",
    "\n",
    "Also the classifier can become more flexible/expressive by using a so-called kernel that makes the model become non-linear. We will use an RBF kernel where a parameter `gamma` allows to tune the flexibility of the model.\n",
    "\n",
    "First let's create a predictive pipeline made of:\n",
    "\n",
    "* a `sklearn.preprocessing.StandardScaler` with default parameter\n",
    "* a `sklearn.svm.SVC` where the parameter `kernel` could be set to  `rbf`. Note that this is the default."
   ]
  },
  {
   "cell_type": "code",
   "execution_count": 58,
   "id": "ad7f2012",
   "metadata": {},
   "outputs": [],
   "source": [
    "from sklearn.preprocessing import StandardScaler\n",
    "from sklearn.svm import SVC\n",
    "from sklearn.pipeline import make_pipeline\n",
    "from sklearn.model_selection import cross_validate"
   ]
  },
  {
   "cell_type": "code",
   "execution_count": 59,
   "id": "49b10b1e",
   "metadata": {},
   "outputs": [],
   "source": [
    "model = make_pipeline(StandardScaler(), SVC())"
   ]
  },
  {
   "cell_type": "markdown",
   "id": "76c23197",
   "metadata": {},
   "source": [
    "Evaluate the generalization performance of our model by cross-validation with a `ShuffleSplit` scheme. Thus, you can use `sklearn.model_selection.cross_validate` and pass a `sklearn.model_selection.ShuffleSplit` to the `cv` parameter. Only fix the `random_state=0` in the `ShuffleSplit` and let the other parameters to the default.\n"
   ]
  },
  {
   "cell_type": "code",
   "execution_count": 60,
   "id": "6ebdd379",
   "metadata": {},
   "outputs": [],
   "source": [
    "from sklearn.model_selection import ShuffleSplit\n",
    "res = cross_validate(model, data, target, cv=ShuffleSplit(random_state=42))"
   ]
  },
  {
   "cell_type": "code",
   "execution_count": 61,
   "id": "8561a4ac",
   "metadata": {},
   "outputs": [
    {
     "name": "stdout",
     "output_type": "stream",
     "text": [
      "Accuracy score: 0.787 +/- 0.043\n"
     ]
    }
   ],
   "source": [
    "print(f\"Accuracy score: {res['test_score'].mean():.3f} +/- {res['test_score'].std():.3f}\")"
   ]
  },
  {
   "cell_type": "markdown",
   "id": "4ea5ad06",
   "metadata": {},
   "source": [
    "As previously mentioned, the parameter `gamma` is one of the parameters controlling under/over-fitting in support vector machine with an RBF kernel.\n",
    "\n",
    "Evaluate the effect of the parameter `gamma` by using `sklearn.model_selection.validation_curve` function. You can leave the default `scoring=None` which is equivalent to `scoring=\"accuracy\"` for classification problems. You can vary `gamma` between `10e-3` and `10e2` by generating samples on a logarithmic scale with the help of `np.logspace(-3, 2, num=30)`.\n",
    "\n",
    "Since we are manipulating a `Pipeline` the parameter name will be set to `svc_gamma` instead of only `gamma`. You can retrieve the parameter name using `model.get_params().keys()`.\n"
   ]
  },
  {
   "cell_type": "code",
   "execution_count": 62,
   "id": "1428e61f",
   "metadata": {},
   "outputs": [
    {
     "data": {
      "text/plain": [
       "dict_keys(['memory', 'steps', 'verbose', 'standardscaler', 'svc', 'standardscaler__copy', 'standardscaler__with_mean', 'standardscaler__with_std', 'svc__C', 'svc__break_ties', 'svc__cache_size', 'svc__class_weight', 'svc__coef0', 'svc__decision_function_shape', 'svc__degree', 'svc__gamma', 'svc__kernel', 'svc__max_iter', 'svc__probability', 'svc__random_state', 'svc__shrinking', 'svc__tol', 'svc__verbose'])"
      ]
     },
     "execution_count": 62,
     "metadata": {},
     "output_type": "execute_result"
    }
   ],
   "source": [
    "model.get_params().keys()"
   ]
  },
  {
   "cell_type": "code",
   "execution_count": 63,
   "id": "b50c9f7a",
   "metadata": {},
   "outputs": [],
   "source": [
    "from sklearn.model_selection import validation_curve\n",
    "gammas = np.logspace(-3, 2, num=30)\n",
    "cv = ShuffleSplit(random_state=0)\n",
    "train_scores, test_scores = validation_curve(\n",
    "    model, data, target, param_name=\"svc__gamma\", param_range=gammas,\n",
    "    cv=cv,  n_jobs=2\n",
    ")"
   ]
  },
  {
   "cell_type": "markdown",
   "id": "d44fab1f",
   "metadata": {},
   "source": [
    "Plot the validation curve for the train and test scores."
   ]
  },
  {
   "cell_type": "code",
   "execution_count": 64,
   "id": "bca24edb",
   "metadata": {},
   "outputs": [
    {
     "data": {
      "image/png": "[encoded data removed]",
      "text/plain": [
       "<Figure size 432x288 with 1 Axes>"
      ]
     },
     "metadata": {},
     "output_type": "display_data"
    }
   ],
   "source": [
    "import matplotlib.pyplot as plt\n",
    "plt.style.use('bmh')\n",
    "plt.errorbar(gammas, train_scores.mean(axis=1), yerr=train_scores.std(axis=1), label=\"Training score\")\n",
    "plt.errorbar(gammas, test_scores.mean(axis=1), yerr=test_scores.std(axis=1), label=\"Test score\")\n",
    "plt.xscale(\"log\")\n",
    "plt.xlabel(r\"Value of hyperparameter $\\gamma$\")\n",
    "plt.ylabel(\"Accuracy score \")\n",
    "plt.title(\"Validation score of SVM\");"
   ]
  },
  {
   "cell_type": "markdown",
   "id": "eb6a0d59",
   "metadata": {},
   "source": [
    "Looking at the curve we can clearly identify the over-fitting regime of the SVC classifier when `gamma > 1`. The best setting is around `gamma=1`, while for `gamma < 1`, it is not very clear if the classifier is under-fitting but the testing score is worse than for `gamma = 1`.\n",
    "\n",
    "Now, we can perform an analysis to check whether adding new samples to the dataset could help our model to better generalize. Compute the learning curve (using `sklearn.model_selection.learning_curve`) by computing the train and test scores for different training dataset size. Plot the train and test scores with respect to the number of samples."
   ]
  },
  {
   "cell_type": "code",
   "execution_count": 65,
   "id": "d0f0d3ba",
   "metadata": {},
   "outputs": [],
   "source": [
    "from sklearn.model_selection import learning_curve\n",
    "\n",
    "train_sizes = np.linspace(0.1, 1.0, num=10, endpoint=True)\n",
    "res = learning_curve(\n",
    "    model, data, target, train_sizes=train_sizes,\n",
    "    cv=cv, n_jobs=2\n",
    ")\n",
    "train_size, train_scores, test_scores = res[:3]"
   ]
  },
  {
   "cell_type": "code",
   "execution_count": 66,
   "id": "29fc8f9e",
   "metadata": {},
   "outputs": [
    {
     "data": {
      "image/png": "[encoded data removed]",
      "text/plain": [
       "<Figure size 432x288 with 1 Axes>"
      ]
     },
     "metadata": {},
     "output_type": "display_data"
    }
   ],
   "source": [
    "plt.errorbar(train_size, train_scores.mean(axis=1),\n",
    "             yerr=train_scores.std(axis=1), label=\"Training score\")\n",
    "plt.errorbar(train_size, test_scores.mean(axis=1),\n",
    "             yerr=test_scores.std(axis=1), label=\"Testing score\")\n",
    "plt.legend()\n",
    "plt.xscale(\"log\")\n",
    "plt.xlabel(\"Number of samples in the training set\")\n",
    "plt.ylabel(\"Accuracy score\")\n",
    "plt.title(\"Learning curve for SVM\");"
   ]
  },
  {
   "cell_type": "markdown",
   "id": "153c58f3",
   "metadata": {},
   "source": [
    "We observe that adding new samples in the dataset does not improve the testing score. We can only conclude that the standard deviation of the training error is decreasing when adding more samples which is not a surprise."
   ]
  },
  {
   "cell_type": "markdown",
   "id": "69bfa35c",
   "metadata": {},
   "source": []
  }
 ],
 "metadata": {
  "interpreter": {
   "hash": "9efc9abdfb89437eb636e5d55e84d3f6b43ac610be3938fc7217c2cb885bd370"
  },
  "kernelspec": {
   "display_name": "Python 3 (ipykernel)",
   "language": "python",
   "name": "python3"
  },
  "language_info": {
   "codemirror_mode": {
    "name": "ipython",
    "version": 3
   },
   "file_extension": ".py",
   "mimetype": "text/x-python",
   "name": "python",
   "nbconvert_exporter": "python",
   "pygments_lexer": "ipython3",
   "version": "3.9.7"
  }
 },
 "nbformat": 4,
 "nbformat_minor": 5
}
