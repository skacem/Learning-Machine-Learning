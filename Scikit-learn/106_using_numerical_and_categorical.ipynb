{
 "cells": [
  {
   "cell_type": "markdown",
   "id": "1cbf0649-3a5d-409c-842d-b5a01c8c581f",
   "metadata": {},
   "source": [
    "# Using Numerical and Categorical Variables Together\n",
    "\n",
    "In this notebook we will show how to combine numerical and categorical variables together.  "
   ]
  },
  {
   "cell_type": "code",
   "execution_count": 1,
   "id": "f5fc45ed-32fd-43fc-bbfd-46a107836762",
   "metadata": {},
   "outputs": [
    {
     "data": {
      "text/html": [
       "<div>\n",
       "<style scoped>\n",
       "    .dataframe tbody tr th:only-of-type {\n",
       "        vertical-align: middle;\n",
       "    }\n",
       "\n",
       "    .dataframe tbody tr th {\n",
       "        vertical-align: top;\n",
       "    }\n",
       "\n",
       "    .dataframe thead th {\n",
       "        text-align: right;\n",
       "    }\n",
       "</style>\n",
       "<table border=\"1\" class=\"dataframe\">\n",
       "  <thead>\n",
       "    <tr style=\"text-align: right;\">\n",
       "      <th></th>\n",
       "      <th>age</th>\n",
       "      <th>workclass</th>\n",
       "      <th>fnlwgt</th>\n",
       "      <th>education</th>\n",
       "      <th>education-num</th>\n",
       "      <th>marital-status</th>\n",
       "      <th>occupation</th>\n",
       "      <th>relationship</th>\n",
       "      <th>race</th>\n",
       "      <th>sex</th>\n",
       "      <th>capital-gain</th>\n",
       "      <th>capital-loss</th>\n",
       "      <th>hours-per-week</th>\n",
       "      <th>native-country</th>\n",
       "      <th>class</th>\n",
       "    </tr>\n",
       "  </thead>\n",
       "  <tbody>\n",
       "    <tr>\n",
       "      <th>0</th>\n",
       "      <td>25</td>\n",
       "      <td>Private</td>\n",
       "      <td>226802</td>\n",
       "      <td>11th</td>\n",
       "      <td>7</td>\n",
       "      <td>Never-married</td>\n",
       "      <td>Machine-op-inspct</td>\n",
       "      <td>Own-child</td>\n",
       "      <td>Black</td>\n",
       "      <td>Male</td>\n",
       "      <td>0</td>\n",
       "      <td>0</td>\n",
       "      <td>40</td>\n",
       "      <td>United-States</td>\n",
       "      <td>&lt;=50K</td>\n",
       "    </tr>\n",
       "    <tr>\n",
       "      <th>1</th>\n",
       "      <td>38</td>\n",
       "      <td>Private</td>\n",
       "      <td>89814</td>\n",
       "      <td>HS-grad</td>\n",
       "      <td>9</td>\n",
       "      <td>Married-civ-spouse</td>\n",
       "      <td>Farming-fishing</td>\n",
       "      <td>Husband</td>\n",
       "      <td>White</td>\n",
       "      <td>Male</td>\n",
       "      <td>0</td>\n",
       "      <td>0</td>\n",
       "      <td>50</td>\n",
       "      <td>United-States</td>\n",
       "      <td>&lt;=50K</td>\n",
       "    </tr>\n",
       "    <tr>\n",
       "      <th>2</th>\n",
       "      <td>28</td>\n",
       "      <td>Local-gov</td>\n",
       "      <td>336951</td>\n",
       "      <td>Assoc-acdm</td>\n",
       "      <td>12</td>\n",
       "      <td>Married-civ-spouse</td>\n",
       "      <td>Protective-serv</td>\n",
       "      <td>Husband</td>\n",
       "      <td>White</td>\n",
       "      <td>Male</td>\n",
       "      <td>0</td>\n",
       "      <td>0</td>\n",
       "      <td>40</td>\n",
       "      <td>United-States</td>\n",
       "      <td>&gt;50K</td>\n",
       "    </tr>\n",
       "    <tr>\n",
       "      <th>3</th>\n",
       "      <td>44</td>\n",
       "      <td>Private</td>\n",
       "      <td>160323</td>\n",
       "      <td>Some-college</td>\n",
       "      <td>10</td>\n",
       "      <td>Married-civ-spouse</td>\n",
       "      <td>Machine-op-inspct</td>\n",
       "      <td>Husband</td>\n",
       "      <td>Black</td>\n",
       "      <td>Male</td>\n",
       "      <td>7688</td>\n",
       "      <td>0</td>\n",
       "      <td>40</td>\n",
       "      <td>United-States</td>\n",
       "      <td>&gt;50K</td>\n",
       "    </tr>\n",
       "    <tr>\n",
       "      <th>4</th>\n",
       "      <td>18</td>\n",
       "      <td>?</td>\n",
       "      <td>103497</td>\n",
       "      <td>Some-college</td>\n",
       "      <td>10</td>\n",
       "      <td>Never-married</td>\n",
       "      <td>?</td>\n",
       "      <td>Own-child</td>\n",
       "      <td>White</td>\n",
       "      <td>Female</td>\n",
       "      <td>0</td>\n",
       "      <td>0</td>\n",
       "      <td>30</td>\n",
       "      <td>United-States</td>\n",
       "      <td>&lt;=50K</td>\n",
       "    </tr>\n",
       "  </tbody>\n",
       "</table>\n",
       "</div>"
      ],
      "text/plain": [
       "   age   workclass  fnlwgt      education  education-num       marital-status  \\\n",
       "0   25     Private  226802           11th              7        Never-married   \n",
       "1   38     Private   89814        HS-grad              9   Married-civ-spouse   \n",
       "2   28   Local-gov  336951     Assoc-acdm             12   Married-civ-spouse   \n",
       "3   44     Private  160323   Some-college             10   Married-civ-spouse   \n",
       "4   18           ?  103497   Some-college             10        Never-married   \n",
       "\n",
       "           occupation relationship    race      sex  capital-gain  \\\n",
       "0   Machine-op-inspct    Own-child   Black     Male             0   \n",
       "1     Farming-fishing      Husband   White     Male             0   \n",
       "2     Protective-serv      Husband   White     Male             0   \n",
       "3   Machine-op-inspct      Husband   Black     Male          7688   \n",
       "4                   ?    Own-child   White   Female             0   \n",
       "\n",
       "   capital-loss  hours-per-week  native-country   class  \n",
       "0             0              40   United-States   <=50K  \n",
       "1             0              50   United-States   <=50K  \n",
       "2             0              40   United-States    >50K  \n",
       "3             0              40   United-States    >50K  \n",
       "4             0              30   United-States   <=50K  "
      ]
     },
     "execution_count": 1,
     "metadata": {},
     "output_type": "execute_result"
    }
   ],
   "source": [
    "import pandas as pd \n",
    "\n",
    "df = pd.read_csv('data/adult-census.csv')\n",
    "df.head()"
   ]
  },
  {
   "cell_type": "code",
   "execution_count": 2,
   "id": "bf11e2f8-fc1a-4e23-a9c4-d4ed3d6afd13",
   "metadata": {},
   "outputs": [],
   "source": [
    "target = df['class']\n",
    "data = df.drop(columns=['fnlwgt', 'education', 'class'])"
   ]
  },
  {
   "cell_type": "markdown",
   "id": "e58743f4-6656-4de8-9462-c4bcc7f139ea",
   "metadata": {},
   "source": [
    "## Selection Based on Data types\n",
    "\n",
    "We need first to separate categorical and numerical variables using their data types to identify them. We make use of `make_column_selector` helper to select the corresponding columns."
   ]
  },
  {
   "cell_type": "code",
   "execution_count": 3,
   "id": "887db5bd-d2f2-471a-8464-c928bc069c13",
   "metadata": {},
   "outputs": [],
   "source": [
    "from sklearn.compose import make_column_selector as selector\n",
    "\n",
    "numerical_columns_selector = selector(dtype_exclude=object)\n",
    "categorical_columns_selector = selector(dtype_include=object)\n",
    "\n",
    "numerical_columns = numerical_columns_selector(data)\n",
    "categorical_columns = categorical_columns_selector(data)"
   ]
  },
  {
   "cell_type": "markdown",
   "id": "0fee4304-7bce-4998-85f4-373c3d49433b",
   "metadata": {},
   "source": [
    "## Dispatch Columns to a Specific Processor\n",
    "\n",
    "Scikit-learn provides a `ColumnTransform` class which will send specific columns to a specific transformer, making it easy to fit a single predictive model on a dataset that combines both kind of variables together (heterogeneously typed tabular data).\n",
    "\n",
    "We first define the columns depending on their data type:\n",
    "\n",
    "  * **one-hot encoding** will be applied to categorical columns. Besides, we use `handle_unknown=\"ignore\"` to solve the potential issues due to rare categories.\n",
    "\n",
    "  * **numerical scaling** numerical features which will be standardized.\n"
   ]
  },
  {
   "cell_type": "code",
   "execution_count": 4,
   "id": "2d30dfc8-62db-40ea-86b0-a459f55a1d1b",
   "metadata": {},
   "outputs": [],
   "source": [
    "from sklearn.preprocessing import OneHotEncoder, StandardScaler"
   ]
  },
  {
   "cell_type": "code",
   "execution_count": 5,
   "id": "973c9ad9-9770-47c8-a67d-4cb32f2436ae",
   "metadata": {},
   "outputs": [],
   "source": [
    "categorical_prep = OneHotEncoder(handle_unknown='ignore')\n",
    "numerical_prep = StandardScaler()"
   ]
  },
  {
   "cell_type": "markdown",
   "id": "1c61929b-aa4b-4913-8037-b60c09062e02",
   "metadata": {},
   "source": [
    "Now, we create the transformer and associate each of these preprocessors with their respective columns."
   ]
  },
  {
   "cell_type": "code",
   "execution_count": 6,
   "id": "9c4c08da-b7ab-4134-9c72-f7a96d9f3e71",
   "metadata": {},
   "outputs": [],
   "source": [
    "from sklearn.compose import ColumnTransformer"
   ]
  },
  {
   "cell_type": "code",
   "execution_count": 7,
   "id": "3aef038d-0431-432a-9e08-74fed32a4861",
   "metadata": {},
   "outputs": [],
   "source": [
    "preprocessor = ColumnTransformer([\n",
    "    ('one-hot-encoder', categorical_prep, categorical_columns),\n",
    "    ('standard-scaler', numerical_prep, numerical_columns)])"
   ]
  },
  {
   "attachments": {
    "3f2b4782-098d-4784-a0c5-09a3d42d1599.png": {
     "image/png": "[encoded data removed]"
    }
   },
   "cell_type": "markdown",
   "id": "c3b647e6-03b7-4e03-9d7b-1f9974459d08",
   "metadata": {},
   "source": [
    "The structure of a `ColumnTransformer`:\n",
    "\n",
    "![image.png](attachment:3f2b4782-098d-4784-a0c5-09a3d42d1599.png)\n",
    "\n",
    "A `ColumnTransformer` does the following:\n",
    "\n",
    "* It splits the columns of the original dataset based on the column names or indices provided. We will obtain as many subsets as the number of transormers passed into the `ColumnTransformer`.\n",
    "* It transforms each subsets. A specific transformer is applied to each subset: it will internally call `fit_transform` or `transform`. The output of this step is a set of transformed datasets.\n",
    "* It then concatenates the transformed datasets into a single dataset.\n"
   ]
  },
  {
   "cell_type": "markdown",
   "id": "06d91fee-466d-46ec-a535-a0c21a09f5ee",
   "metadata": {},
   "source": [
    "The important thing is that `ColumnTransformer` is like any other scikit-learn transformer. In particular it can be compined with a classifier in a pipeline:"
   ]
  },
  {
   "cell_type": "code",
   "execution_count": 8,
   "id": "de9d33f7-c4bb-459e-ad9d-93138084fb33",
   "metadata": {},
   "outputs": [],
   "source": [
    "from sklearn.linear_model import LogisticRegression\n",
    "from sklearn.pipeline import make_pipeline\n",
    "\n",
    "model = make_pipeline(preprocessor, LogisticRegression(max_iter=500))"
   ]
  },
  {
   "cell_type": "markdown",
   "id": "78d946ee-225e-4c41-a1a4-92dd40a267fb",
   "metadata": {},
   "source": [
    "We can display an interactive diagram with the following command:"
   ]
  },
  {
   "cell_type": "code",
   "execution_count": 9,
   "id": "18992eb5-716e-4cfb-b742-261b6a564e3d",
   "metadata": {},
   "outputs": [
    {
     "data": {
      "text/html": [
       "<style>#sk-8238e13c-22ca-45b4-9fbb-8cd504a208cf {color: black;background-color: white;}#sk-8238e13c-22ca-45b4-9fbb-8cd504a208cf pre{padding: 0;}#sk-8238e13c-22ca-45b4-9fbb-8cd504a208cf div.sk-toggleable {background-color: white;}#sk-8238e13c-22ca-45b4-9fbb-8cd504a208cf label.sk-toggleable__label {cursor: pointer;display: block;width: 100%;margin-bottom: 0;padding: 0.2em 0.3em;box-sizing: border-box;text-align: center;}#sk-8238e13c-22ca-45b4-9fbb-8cd504a208cf div.sk-toggleable__content {max-height: 0;max-width: 0;overflow: hidden;text-align: left;background-color: #f0f8ff;}#sk-8238e13c-22ca-45b4-9fbb-8cd504a208cf div.sk-toggleable__content pre {margin: 0.2em;color: black;border-radius: 0.25em;background-color: #f0f8ff;}#sk-8238e13c-22ca-45b4-9fbb-8cd504a208cf input.sk-toggleable__control:checked~div.sk-toggleable__content {max-height: 200px;max-width: 100%;overflow: auto;}#sk-8238e13c-22ca-45b4-9fbb-8cd504a208cf div.sk-estimator input.sk-toggleable__control:checked~label.sk-toggleable__label {background-color: #d4ebff;}#sk-8238e13c-22ca-45b4-9fbb-8cd504a208cf div.sk-label input.sk-toggleable__control:checked~label.sk-toggleable__label {background-color: #d4ebff;}#sk-8238e13c-22ca-45b4-9fbb-8cd504a208cf input.sk-hidden--visually {border: 0;clip: rect(1px 1px 1px 1px);clip: rect(1px, 1px, 1px, 1px);height: 1px;margin: -1px;overflow: hidden;padding: 0;position: absolute;width: 1px;}#sk-8238e13c-22ca-45b4-9fbb-8cd504a208cf div.sk-estimator {font-family: monospace;background-color: #f0f8ff;margin: 0.25em 0.25em;border: 1px dotted black;border-radius: 0.25em;box-sizing: border-box;}#sk-8238e13c-22ca-45b4-9fbb-8cd504a208cf div.sk-estimator:hover {background-color: #d4ebff;}#sk-8238e13c-22ca-45b4-9fbb-8cd504a208cf div.sk-parallel-item::after {content: \"\";width: 100%;border-bottom: 1px solid gray;flex-grow: 1;}#sk-8238e13c-22ca-45b4-9fbb-8cd504a208cf div.sk-label:hover label.sk-toggleable__label {background-color: #d4ebff;}#sk-8238e13c-22ca-45b4-9fbb-8cd504a208cf div.sk-serial::before {content: \"\";position: absolute;border-left: 1px solid gray;box-sizing: border-box;top: 2em;bottom: 0;left: 50%;}#sk-8238e13c-22ca-45b4-9fbb-8cd504a208cf div.sk-serial {display: flex;flex-direction: column;align-items: center;background-color: white;}#sk-8238e13c-22ca-45b4-9fbb-8cd504a208cf div.sk-item {z-index: 1;}#sk-8238e13c-22ca-45b4-9fbb-8cd504a208cf div.sk-parallel {display: flex;align-items: stretch;justify-content: center;background-color: white;}#sk-8238e13c-22ca-45b4-9fbb-8cd504a208cf div.sk-parallel-item {display: flex;flex-direction: column;position: relative;background-color: white;}#sk-8238e13c-22ca-45b4-9fbb-8cd504a208cf div.sk-parallel-item:first-child::after {align-self: flex-end;width: 50%;}#sk-8238e13c-22ca-45b4-9fbb-8cd504a208cf div.sk-parallel-item:last-child::after {align-self: flex-start;width: 50%;}#sk-8238e13c-22ca-45b4-9fbb-8cd504a208cf div.sk-parallel-item:only-child::after {width: 0;}#sk-8238e13c-22ca-45b4-9fbb-8cd504a208cf div.sk-dashed-wrapped {border: 1px dashed gray;margin: 0.2em;box-sizing: border-box;padding-bottom: 0.1em;background-color: white;position: relative;}#sk-8238e13c-22ca-45b4-9fbb-8cd504a208cf div.sk-label label {font-family: monospace;font-weight: bold;background-color: white;display: inline-block;line-height: 1.2em;}#sk-8238e13c-22ca-45b4-9fbb-8cd504a208cf div.sk-label-container {position: relative;z-index: 2;text-align: center;}#sk-8238e13c-22ca-45b4-9fbb-8cd504a208cf div.sk-container {display: inline-block;position: relative;}</style><div id=\"sk-8238e13c-22ca-45b4-9fbb-8cd504a208cf\" class\"sk-top-container\"><div class=\"sk-container\"><div class=\"sk-item sk-dashed-wrapped\"><div class=\"sk-label-container\"><div class=\"sk-label sk-toggleable\"><input class=\"sk-toggleable__control sk-hidden--visually\" id=\"1b1b861b-82a2-45f6-a35c-b0e39d1bab54\" type=\"checkbox\" ><label class=\"sk-toggleable__label\" for=\"1b1b861b-82a2-45f6-a35c-b0e39d1bab54\">Pipeline</label><div class=\"sk-toggleable__content\"><pre>Pipeline(steps=[('columntransformer',\n",
       "                 ColumnTransformer(transformers=[('one-hot-encoder',\n",
       "                                                  OneHotEncoder(handle_unknown='ignore'),\n",
       "                                                  ['workclass',\n",
       "                                                   'marital-status',\n",
       "                                                   'occupation', 'relationship',\n",
       "                                                   'race', 'sex',\n",
       "                                                   'native-country']),\n",
       "                                                 ('standard-scaler',\n",
       "                                                  StandardScaler(),\n",
       "                                                  ['age', 'education-num',\n",
       "                                                   'capital-gain',\n",
       "                                                   'capital-loss',\n",
       "                                                   'hours-per-week'])])),\n",
       "                ('logisticregression', LogisticRegression(max_iter=500))])</pre></div></div></div><div class=\"sk-serial\"><div class=\"sk-item sk-dashed-wrapped\"><div class=\"sk-label-container\"><div class=\"sk-label sk-toggleable\"><input class=\"sk-toggleable__control sk-hidden--visually\" id=\"7167dfcc-f2f6-40e7-8bcf-7943a463a772\" type=\"checkbox\" ><label class=\"sk-toggleable__label\" for=\"7167dfcc-f2f6-40e7-8bcf-7943a463a772\">columntransformer: ColumnTransformer</label><div class=\"sk-toggleable__content\"><pre>ColumnTransformer(transformers=[('one-hot-encoder',\n",
       "                                 OneHotEncoder(handle_unknown='ignore'),\n",
       "                                 ['workclass', 'marital-status', 'occupation',\n",
       "                                  'relationship', 'race', 'sex',\n",
       "                                  'native-country']),\n",
       "                                ('standard-scaler', StandardScaler(),\n",
       "                                 ['age', 'education-num', 'capital-gain',\n",
       "                                  'capital-loss', 'hours-per-week'])])</pre></div></div></div><div class=\"sk-parallel\"><div class=\"sk-parallel-item\"><div class=\"sk-item\"><div class=\"sk-label-container\"><div class=\"sk-label sk-toggleable\"><input class=\"sk-toggleable__control sk-hidden--visually\" id=\"a0dbd093-28b0-4421-a998-5ea94369e14c\" type=\"checkbox\" ><label class=\"sk-toggleable__label\" for=\"a0dbd093-28b0-4421-a998-5ea94369e14c\">one-hot-encoder</label><div class=\"sk-toggleable__content\"><pre>['workclass', 'marital-status', 'occupation', 'relationship', 'race', 'sex', 'native-country']</pre></div></div></div><div class=\"sk-serial\"><div class=\"sk-item\"><div class=\"sk-estimator sk-toggleable\"><input class=\"sk-toggleable__control sk-hidden--visually\" id=\"5bf4dec9-e0fc-40d0-b728-094c3ca3a7c0\" type=\"checkbox\" ><label class=\"sk-toggleable__label\" for=\"5bf4dec9-e0fc-40d0-b728-094c3ca3a7c0\">OneHotEncoder</label><div class=\"sk-toggleable__content\"><pre>OneHotEncoder(handle_unknown='ignore')</pre></div></div></div></div></div></div><div class=\"sk-parallel-item\"><div class=\"sk-item\"><div class=\"sk-label-container\"><div class=\"sk-label sk-toggleable\"><input class=\"sk-toggleable__control sk-hidden--visually\" id=\"d223dd60-bcc0-4093-95cf-3009d1947b00\" type=\"checkbox\" ><label class=\"sk-toggleable__label\" for=\"d223dd60-bcc0-4093-95cf-3009d1947b00\">standard-scaler</label><div class=\"sk-toggleable__content\"><pre>['age', 'education-num', 'capital-gain', 'capital-loss', 'hours-per-week']</pre></div></div></div><div class=\"sk-serial\"><div class=\"sk-item\"><div class=\"sk-estimator sk-toggleable\"><input class=\"sk-toggleable__control sk-hidden--visually\" id=\"97b50edc-79a6-422d-932e-9a773cc040a7\" type=\"checkbox\" ><label class=\"sk-toggleable__label\" for=\"97b50edc-79a6-422d-932e-9a773cc040a7\">StandardScaler</label><div class=\"sk-toggleable__content\"><pre>StandardScaler()</pre></div></div></div></div></div></div></div></div><div class=\"sk-item\"><div class=\"sk-estimator sk-toggleable\"><input class=\"sk-toggleable__control sk-hidden--visually\" id=\"5f79f8cc-5520-4f7d-aa03-72beded7d1a7\" type=\"checkbox\" ><label class=\"sk-toggleable__label\" for=\"5f79f8cc-5520-4f7d-aa03-72beded7d1a7\">LogisticRegression</label><div class=\"sk-toggleable__content\"><pre>LogisticRegression(max_iter=500)</pre></div></div></div></div></div></div></div>"
      ],
      "text/plain": [
       "Pipeline(steps=[('columntransformer',\n",
       "                 ColumnTransformer(transformers=[('one-hot-encoder',\n",
       "                                                  OneHotEncoder(handle_unknown='ignore'),\n",
       "                                                  ['workclass',\n",
       "                                                   'marital-status',\n",
       "                                                   'occupation', 'relationship',\n",
       "                                                   'race', 'sex',\n",
       "                                                   'native-country']),\n",
       "                                                 ('standard-scaler',\n",
       "                                                  StandardScaler(),\n",
       "                                                  ['age', 'education-num',\n",
       "                                                   'capital-gain',\n",
       "                                                   'capital-loss',\n",
       "                                                   'hours-per-week'])])),\n",
       "                ('logisticregression', LogisticRegression(max_iter=500))])"
      ]
     },
     "execution_count": 9,
     "metadata": {},
     "output_type": "execute_result"
    }
   ],
   "source": [
    "from sklearn import set_config\n",
    "\n",
    "set_config(display = 'diagram')\n",
    "model"
   ]
  },
  {
   "cell_type": "markdown",
   "id": "82c6c100-8fdb-44f9-a517-792e371d9147",
   "metadata": {},
   "source": [
    "The final model ismore complex than the previous models but still follows the same API:\n",
    "\n",
    "* The `fit` mehod is called to preprocess the data and then train the classsifier of the preprocessed data;\n",
    "* The `predict` method makes predictions on new data;\n",
    "* The `score` method is used to predict on the test data and compare the predictions to the expected test labels to compute the accuracy.\n",
    "\n",
    "Let's start by splitting our data into train and test sets."
   ]
  },
  {
   "cell_type": "code",
   "execution_count": 10,
   "id": "d63d111a-0af8-4aba-bb57-aaa858111034",
   "metadata": {},
   "outputs": [],
   "source": [
    "from sklearn.model_selection import train_test_split"
   ]
  },
  {
   "cell_type": "code",
   "execution_count": 13,
   "id": "4c07e3e1-e4bf-436a-9173-f9d1d079b3e2",
   "metadata": {},
   "outputs": [],
   "source": [
    "data_train, data_test, target_train, target_test = train_test_split(data, target, \n",
    "                                                                    test_size=.25, \n",
    "                                                                    random_state=23)"
   ]
  },
  {
   "cell_type": "code",
   "execution_count": 15,
   "id": "83b584ac-a28b-4411-8f89-41dc59b88c70",
   "metadata": {},
   "outputs": [
    {
     "data": {
      "text/html": [
       "<style>#sk-f440398a-9e03-450c-9e5d-07bcd48e497b {color: black;background-color: white;}#sk-f440398a-9e03-450c-9e5d-07bcd48e497b pre{padding: 0;}#sk-f440398a-9e03-450c-9e5d-07bcd48e497b div.sk-toggleable {background-color: white;}#sk-f440398a-9e03-450c-9e5d-07bcd48e497b label.sk-toggleable__label {cursor: pointer;display: block;width: 100%;margin-bottom: 0;padding: 0.2em 0.3em;box-sizing: border-box;text-align: center;}#sk-f440398a-9e03-450c-9e5d-07bcd48e497b div.sk-toggleable__content {max-height: 0;max-width: 0;overflow: hidden;text-align: left;background-color: #f0f8ff;}#sk-f440398a-9e03-450c-9e5d-07bcd48e497b div.sk-toggleable__content pre {margin: 0.2em;color: black;border-radius: 0.25em;background-color: #f0f8ff;}#sk-f440398a-9e03-450c-9e5d-07bcd48e497b input.sk-toggleable__control:checked~div.sk-toggleable__content {max-height: 200px;max-width: 100%;overflow: auto;}#sk-f440398a-9e03-450c-9e5d-07bcd48e497b div.sk-estimator input.sk-toggleable__control:checked~label.sk-toggleable__label {background-color: #d4ebff;}#sk-f440398a-9e03-450c-9e5d-07bcd48e497b div.sk-label input.sk-toggleable__control:checked~label.sk-toggleable__label {background-color: #d4ebff;}#sk-f440398a-9e03-450c-9e5d-07bcd48e497b input.sk-hidden--visually {border: 0;clip: rect(1px 1px 1px 1px);clip: rect(1px, 1px, 1px, 1px);height: 1px;margin: -1px;overflow: hidden;padding: 0;position: absolute;width: 1px;}#sk-f440398a-9e03-450c-9e5d-07bcd48e497b div.sk-estimator {font-family: monospace;background-color: #f0f8ff;margin: 0.25em 0.25em;border: 1px dotted black;border-radius: 0.25em;box-sizing: border-box;}#sk-f440398a-9e03-450c-9e5d-07bcd48e497b div.sk-estimator:hover {background-color: #d4ebff;}#sk-f440398a-9e03-450c-9e5d-07bcd48e497b div.sk-parallel-item::after {content: \"\";width: 100%;border-bottom: 1px solid gray;flex-grow: 1;}#sk-f440398a-9e03-450c-9e5d-07bcd48e497b div.sk-label:hover label.sk-toggleable__label {background-color: #d4ebff;}#sk-f440398a-9e03-450c-9e5d-07bcd48e497b div.sk-serial::before {content: \"\";position: absolute;border-left: 1px solid gray;box-sizing: border-box;top: 2em;bottom: 0;left: 50%;}#sk-f440398a-9e03-450c-9e5d-07bcd48e497b div.sk-serial {display: flex;flex-direction: column;align-items: center;background-color: white;}#sk-f440398a-9e03-450c-9e5d-07bcd48e497b div.sk-item {z-index: 1;}#sk-f440398a-9e03-450c-9e5d-07bcd48e497b div.sk-parallel {display: flex;align-items: stretch;justify-content: center;background-color: white;}#sk-f440398a-9e03-450c-9e5d-07bcd48e497b div.sk-parallel-item {display: flex;flex-direction: column;position: relative;background-color: white;}#sk-f440398a-9e03-450c-9e5d-07bcd48e497b div.sk-parallel-item:first-child::after {align-self: flex-end;width: 50%;}#sk-f440398a-9e03-450c-9e5d-07bcd48e497b div.sk-parallel-item:last-child::after {align-self: flex-start;width: 50%;}#sk-f440398a-9e03-450c-9e5d-07bcd48e497b div.sk-parallel-item:only-child::after {width: 0;}#sk-f440398a-9e03-450c-9e5d-07bcd48e497b div.sk-dashed-wrapped {border: 1px dashed gray;margin: 0.2em;box-sizing: border-box;padding-bottom: 0.1em;background-color: white;position: relative;}#sk-f440398a-9e03-450c-9e5d-07bcd48e497b div.sk-label label {font-family: monospace;font-weight: bold;background-color: white;display: inline-block;line-height: 1.2em;}#sk-f440398a-9e03-450c-9e5d-07bcd48e497b div.sk-label-container {position: relative;z-index: 2;text-align: center;}#sk-f440398a-9e03-450c-9e5d-07bcd48e497b div.sk-container {display: inline-block;position: relative;}</style><div id=\"sk-f440398a-9e03-450c-9e5d-07bcd48e497b\" class\"sk-top-container\"><div class=\"sk-container\"><div class=\"sk-item sk-dashed-wrapped\"><div class=\"sk-label-container\"><div class=\"sk-label sk-toggleable\"><input class=\"sk-toggleable__control sk-hidden--visually\" id=\"73437979-a0b6-47a0-b985-f8d51850ef56\" type=\"checkbox\" ><label class=\"sk-toggleable__label\" for=\"73437979-a0b6-47a0-b985-f8d51850ef56\">Pipeline</label><div class=\"sk-toggleable__content\"><pre>Pipeline(steps=[('columntransformer',\n",
       "                 ColumnTransformer(transformers=[('one-hot-encoder',\n",
       "                                                  OneHotEncoder(handle_unknown='ignore'),\n",
       "                                                  ['workclass',\n",
       "                                                   'marital-status',\n",
       "                                                   'occupation', 'relationship',\n",
       "                                                   'race', 'sex',\n",
       "                                                   'native-country']),\n",
       "                                                 ('standard-scaler',\n",
       "                                                  StandardScaler(),\n",
       "                                                  ['age', 'education-num',\n",
       "                                                   'capital-gain',\n",
       "                                                   'capital-loss',\n",
       "                                                   'hours-per-week'])])),\n",
       "                ('logisticregression', LogisticRegression(max_iter=500))])</pre></div></div></div><div class=\"sk-serial\"><div class=\"sk-item sk-dashed-wrapped\"><div class=\"sk-label-container\"><div class=\"sk-label sk-toggleable\"><input class=\"sk-toggleable__control sk-hidden--visually\" id=\"a9292d46-351b-4c97-a42f-0e41f9169ed0\" type=\"checkbox\" ><label class=\"sk-toggleable__label\" for=\"a9292d46-351b-4c97-a42f-0e41f9169ed0\">columntransformer: ColumnTransformer</label><div class=\"sk-toggleable__content\"><pre>ColumnTransformer(transformers=[('one-hot-encoder',\n",
       "                                 OneHotEncoder(handle_unknown='ignore'),\n",
       "                                 ['workclass', 'marital-status', 'occupation',\n",
       "                                  'relationship', 'race', 'sex',\n",
       "                                  'native-country']),\n",
       "                                ('standard-scaler', StandardScaler(),\n",
       "                                 ['age', 'education-num', 'capital-gain',\n",
       "                                  'capital-loss', 'hours-per-week'])])</pre></div></div></div><div class=\"sk-parallel\"><div class=\"sk-parallel-item\"><div class=\"sk-item\"><div class=\"sk-label-container\"><div class=\"sk-label sk-toggleable\"><input class=\"sk-toggleable__control sk-hidden--visually\" id=\"b04dc7d1-e159-40a9-bc7c-0ef94c1bd5a6\" type=\"checkbox\" ><label class=\"sk-toggleable__label\" for=\"b04dc7d1-e159-40a9-bc7c-0ef94c1bd5a6\">one-hot-encoder</label><div class=\"sk-toggleable__content\"><pre>['workclass', 'marital-status', 'occupation', 'relationship', 'race', 'sex', 'native-country']</pre></div></div></div><div class=\"sk-serial\"><div class=\"sk-item\"><div class=\"sk-estimator sk-toggleable\"><input class=\"sk-toggleable__control sk-hidden--visually\" id=\"a96d36a3-4ea8-4bde-a871-94710ad14eb9\" type=\"checkbox\" ><label class=\"sk-toggleable__label\" for=\"a96d36a3-4ea8-4bde-a871-94710ad14eb9\">OneHotEncoder</label><div class=\"sk-toggleable__content\"><pre>OneHotEncoder(handle_unknown='ignore')</pre></div></div></div></div></div></div><div class=\"sk-parallel-item\"><div class=\"sk-item\"><div class=\"sk-label-container\"><div class=\"sk-label sk-toggleable\"><input class=\"sk-toggleable__control sk-hidden--visually\" id=\"4b68ed7b-5947-454b-ace0-163d075145bc\" type=\"checkbox\" ><label class=\"sk-toggleable__label\" for=\"4b68ed7b-5947-454b-ace0-163d075145bc\">standard-scaler</label><div class=\"sk-toggleable__content\"><pre>['age', 'education-num', 'capital-gain', 'capital-loss', 'hours-per-week']</pre></div></div></div><div class=\"sk-serial\"><div class=\"sk-item\"><div class=\"sk-estimator sk-toggleable\"><input class=\"sk-toggleable__control sk-hidden--visually\" id=\"1a3734a4-67d0-4d4c-83f7-228ba9cb3cd7\" type=\"checkbox\" ><label class=\"sk-toggleable__label\" for=\"1a3734a4-67d0-4d4c-83f7-228ba9cb3cd7\">StandardScaler</label><div class=\"sk-toggleable__content\"><pre>StandardScaler()</pre></div></div></div></div></div></div></div></div><div class=\"sk-item\"><div class=\"sk-estimator sk-toggleable\"><input class=\"sk-toggleable__control sk-hidden--visually\" id=\"73cb946f-8b60-410d-8040-025d8dfaa2ed\" type=\"checkbox\" ><label class=\"sk-toggleable__label\" for=\"73cb946f-8b60-410d-8040-025d8dfaa2ed\">LogisticRegression</label><div class=\"sk-toggleable__content\"><pre>LogisticRegression(max_iter=500)</pre></div></div></div></div></div></div></div>"
      ],
      "text/plain": [
       "Pipeline(steps=[('columntransformer',\n",
       "                 ColumnTransformer(transformers=[('one-hot-encoder',\n",
       "                                                  OneHotEncoder(handle_unknown='ignore'),\n",
       "                                                  ['workclass',\n",
       "                                                   'marital-status',\n",
       "                                                   'occupation', 'relationship',\n",
       "                                                   'race', 'sex',\n",
       "                                                   'native-country']),\n",
       "                                                 ('standard-scaler',\n",
       "                                                  StandardScaler(),\n",
       "                                                  ['age', 'education-num',\n",
       "                                                   'capital-gain',\n",
       "                                                   'capital-loss',\n",
       "                                                   'hours-per-week'])])),\n",
       "                ('logisticregression', LogisticRegression(max_iter=500))])"
      ]
     },
     "execution_count": 15,
     "metadata": {},
     "output_type": "execute_result"
    }
   ],
   "source": [
    "model.fit(data_train, target_train)"
   ]
  },
  {
   "cell_type": "markdown",
   "id": "33faedf0-b37c-48a0-89e8-452ce43ece35",
   "metadata": {},
   "source": [
    "Then, we can send the raw dataset straingt to the pipeline. Indeed, we do not need to make any manual preprocessing (calling the `transform` or `fit_transform` methods) as it will be handled when calling the predict method."
   ]
  },
  {
   "cell_type": "code",
   "execution_count": 16,
   "id": "b51438a9-6fc1-4073-aa06-bda21f091b17",
   "metadata": {},
   "outputs": [
    {
     "data": {
      "text/plain": [
       "array([' <=50K', ' <=50K', ' <=50K', ' <=50K', ' <=50K'], dtype=object)"
      ]
     },
     "execution_count": 16,
     "metadata": {},
     "output_type": "execute_result"
    }
   ],
   "source": [
    "data_test.head()\n",
    "model.predict(data_test)[:5]"
   ]
  },
  {
   "cell_type": "code",
   "execution_count": 18,
   "id": "7514109d-c12f-4f2e-836a-e3709d7d1452",
   "metadata": {},
   "outputs": [
    {
     "name": "stdout",
     "output_type": "stream",
     "text": [
      "10923     <=50K\n",
      "48457     <=50K\n",
      "19854     <=50K\n",
      "9806      <=50K\n",
      "8932      <=50K\n",
      "Name: class, dtype: object\n"
     ]
    }
   ],
   "source": [
    "print(target_test[:5])"
   ]
  },
  {
   "cell_type": "markdown",
   "id": "bfe993fe-4776-4e96-ba61-ddd0a8071c12",
   "metadata": {},
   "source": [
    "To get directly the accuracy score, we need to call the `score` method. Let's compute the accuracy on the entire test set."
   ]
  },
  {
   "cell_type": "code",
   "execution_count": 19,
   "id": "21c0b7ce-db14-4fc3-9f8b-f7e058e2fff4",
   "metadata": {},
   "outputs": [
    {
     "data": {
      "text/plain": [
       "0.8554581934321513"
      ]
     },
     "execution_count": 19,
     "metadata": {},
     "output_type": "execute_result"
    }
   ],
   "source": [
    "model.score(data_test, target_test)"
   ]
  },
  {
   "cell_type": "markdown",
   "id": "055f830a-8568-4377-8e20-335411de917c",
   "metadata": {},
   "source": [
    "## Evaluation of the Model with Cross-Validation\n",
    "\n",
    "As previously stated, a predictive model should be evaluated by cross-validation. Our model is usable with the cross-validation tools of scikit-learn as any other predictors."
   ]
  },
  {
   "cell_type": "code",
   "execution_count": 20,
   "id": "a22a5355-ec26-46a1-87ff-17c05f41dd6f",
   "metadata": {},
   "outputs": [],
   "source": [
    "from sklearn.model_selection import cross_validate"
   ]
  },
  {
   "cell_type": "code",
   "execution_count": 21,
   "id": "1efb2fc6-b54f-44d6-85f1-b0cc64fe7df4",
   "metadata": {},
   "outputs": [
    {
     "data": {
      "text/plain": [
       "{'fit_time': array([1.61125398, 1.32790303, 1.28511477, 1.57070112, 1.57856894]),\n",
       " 'score_time': array([0.05559897, 0.05531406, 0.05624509, 0.05585504, 0.055897  ]),\n",
       " 'test_score': array([0.85065002, 0.8515713 , 0.84879197, 0.85421785, 0.85534398])}"
      ]
     },
     "execution_count": 21,
     "metadata": {},
     "output_type": "execute_result"
    }
   ],
   "source": [
    "res = cross_validate(model, data, target, cv=5)\n",
    "res"
   ]
  },
  {
   "cell_type": "code",
   "execution_count": 22,
   "id": "bbac61a1-9dd2-4dea-b5ea-725583c841d1",
   "metadata": {},
   "outputs": [
    {
     "name": "stdout",
     "output_type": "stream",
     "text": [
      "The mean cross-validation accuracy is: 0.852 +/- 0.002\n"
     ]
    }
   ],
   "source": [
    "scores = res['test_score']\n",
    "print(\"The mean cross-validation accuracy is: \"\n",
    "      f\"{scores.mean():.3f} +/- {scores.std():.3f}\")"
   ]
  },
  {
   "cell_type": "markdown",
   "id": "81b34578-cdef-4a33-8379-8816170a0ed8",
   "metadata": {},
   "source": [
    "The compound model has a higher predictive accuracy than the two models that used numerical and categorical variables in isolation."
   ]
  },
  {
   "cell_type": "markdown",
   "id": "6e2f8f59-fdc7-43f7-af97-34acb4850396",
   "metadata": {},
   "source": [
    "## Fitting a more Powerful Model\n",
    "\n",
    "Linear models are nice because they are ususaly cheap to train, small, fast to predict and give a good baseline.\n",
    "\n",
    "However, it is often useful to check whether more complex models such as an ensemble of decision trees can lead to higher predictive performance. In this section we will use such a model called **gradient-boosting trees** and evaluate its generalization performance. More precisely, the scikit-learn model we will use is called `HistGradientBoostingClassifier`. Note that boosting models will covered in more detail in a future module.\n",
    "\n",
    "For tree-based models, the handling of numerical and categorical variables is simpler that for linear models:\n",
    "\n",
    "* we do not need to scale the numerical features\n",
    "* using an ordinal encoding for the categorical variables is fine even if the encoding results in an arbitrary ordering\n",
    "\n",
    "Therefore, for `HistGradientBoostingClassifier`, the preprocessing pipeline is slightly simpler than the one we saw earlier for the `LogisticRegression`:"
   ]
  },
  {
   "cell_type": "code",
   "execution_count": 24,
   "id": "c84ca677-a6e7-427a-b527-46963d62bdc6",
   "metadata": {},
   "outputs": [],
   "source": [
    "from sklearn.experimental import enable_hist_gradient_boosting\n",
    "from sklearn.ensemble import HistGradientBoostingClassifier\n",
    "from sklearn.preprocessing import OrdinalEncoder\n",
    "\n",
    "categorical_prep = OrdinalEncoder(handle_unknown=\"use_encoded_value\",\n",
    "                                 unknown_value=-1)\n",
    "preprocessor = ColumnTransformer([\n",
    "    ('categorical', categorical_prep, categorical_columns)],\n",
    "    remainder='passthrough')\n",
    "model = make_pipeline(preprocessor, HistGradientBoostingClassifier())"
   ]
  },
  {
   "cell_type": "markdown",
   "id": "a06e3517-d010-4a2f-ad8a-8c4b5a1315d7",
   "metadata": {},
   "source": [
    "Now that we created our model, we can check its generalization performance."
   ]
  },
  {
   "cell_type": "code",
   "execution_count": 25,
   "id": "483a083f-3e48-4e75-addb-265c1cdd0ad7",
   "metadata": {},
   "outputs": [
    {
     "name": "stdout",
     "output_type": "stream",
     "text": [
      "CPU times: user 4.18 s, sys: 417 ms, total: 4.6 s\n",
      "Wall time: 2.07 s\n"
     ]
    },
    {
     "data": {
      "text/html": [
       "<style>#sk-74c1278f-a0a0-4e18-a2e5-e551c158919c {color: black;background-color: white;}#sk-74c1278f-a0a0-4e18-a2e5-e551c158919c pre{padding: 0;}#sk-74c1278f-a0a0-4e18-a2e5-e551c158919c div.sk-toggleable {background-color: white;}#sk-74c1278f-a0a0-4e18-a2e5-e551c158919c label.sk-toggleable__label {cursor: pointer;display: block;width: 100%;margin-bottom: 0;padding: 0.2em 0.3em;box-sizing: border-box;text-align: center;}#sk-74c1278f-a0a0-4e18-a2e5-e551c158919c div.sk-toggleable__content {max-height: 0;max-width: 0;overflow: hidden;text-align: left;background-color: #f0f8ff;}#sk-74c1278f-a0a0-4e18-a2e5-e551c158919c div.sk-toggleable__content pre {margin: 0.2em;color: black;border-radius: 0.25em;background-color: #f0f8ff;}#sk-74c1278f-a0a0-4e18-a2e5-e551c158919c input.sk-toggleable__control:checked~div.sk-toggleable__content {max-height: 200px;max-width: 100%;overflow: auto;}#sk-74c1278f-a0a0-4e18-a2e5-e551c158919c div.sk-estimator input.sk-toggleable__control:checked~label.sk-toggleable__label {background-color: #d4ebff;}#sk-74c1278f-a0a0-4e18-a2e5-e551c158919c div.sk-label input.sk-toggleable__control:checked~label.sk-toggleable__label {background-color: #d4ebff;}#sk-74c1278f-a0a0-4e18-a2e5-e551c158919c input.sk-hidden--visually {border: 0;clip: rect(1px 1px 1px 1px);clip: rect(1px, 1px, 1px, 1px);height: 1px;margin: -1px;overflow: hidden;padding: 0;position: absolute;width: 1px;}#sk-74c1278f-a0a0-4e18-a2e5-e551c158919c div.sk-estimator {font-family: monospace;background-color: #f0f8ff;margin: 0.25em 0.25em;border: 1px dotted black;border-radius: 0.25em;box-sizing: border-box;}#sk-74c1278f-a0a0-4e18-a2e5-e551c158919c div.sk-estimator:hover {background-color: #d4ebff;}#sk-74c1278f-a0a0-4e18-a2e5-e551c158919c div.sk-parallel-item::after {content: \"\";width: 100%;border-bottom: 1px solid gray;flex-grow: 1;}#sk-74c1278f-a0a0-4e18-a2e5-e551c158919c div.sk-label:hover label.sk-toggleable__label {background-color: #d4ebff;}#sk-74c1278f-a0a0-4e18-a2e5-e551c158919c div.sk-serial::before {content: \"\";position: absolute;border-left: 1px solid gray;box-sizing: border-box;top: 2em;bottom: 0;left: 50%;}#sk-74c1278f-a0a0-4e18-a2e5-e551c158919c div.sk-serial {display: flex;flex-direction: column;align-items: center;background-color: white;}#sk-74c1278f-a0a0-4e18-a2e5-e551c158919c div.sk-item {z-index: 1;}#sk-74c1278f-a0a0-4e18-a2e5-e551c158919c div.sk-parallel {display: flex;align-items: stretch;justify-content: center;background-color: white;}#sk-74c1278f-a0a0-4e18-a2e5-e551c158919c div.sk-parallel-item {display: flex;flex-direction: column;position: relative;background-color: white;}#sk-74c1278f-a0a0-4e18-a2e5-e551c158919c div.sk-parallel-item:first-child::after {align-self: flex-end;width: 50%;}#sk-74c1278f-a0a0-4e18-a2e5-e551c158919c div.sk-parallel-item:last-child::after {align-self: flex-start;width: 50%;}#sk-74c1278f-a0a0-4e18-a2e5-e551c158919c div.sk-parallel-item:only-child::after {width: 0;}#sk-74c1278f-a0a0-4e18-a2e5-e551c158919c div.sk-dashed-wrapped {border: 1px dashed gray;margin: 0.2em;box-sizing: border-box;padding-bottom: 0.1em;background-color: white;position: relative;}#sk-74c1278f-a0a0-4e18-a2e5-e551c158919c div.sk-label label {font-family: monospace;font-weight: bold;background-color: white;display: inline-block;line-height: 1.2em;}#sk-74c1278f-a0a0-4e18-a2e5-e551c158919c div.sk-label-container {position: relative;z-index: 2;text-align: center;}#sk-74c1278f-a0a0-4e18-a2e5-e551c158919c div.sk-container {display: inline-block;position: relative;}</style><div id=\"sk-74c1278f-a0a0-4e18-a2e5-e551c158919c\" class\"sk-top-container\"><div class=\"sk-container\"><div class=\"sk-item sk-dashed-wrapped\"><div class=\"sk-label-container\"><div class=\"sk-label sk-toggleable\"><input class=\"sk-toggleable__control sk-hidden--visually\" id=\"e18263fa-5374-430d-ab00-09af5ad2a825\" type=\"checkbox\" ><label class=\"sk-toggleable__label\" for=\"e18263fa-5374-430d-ab00-09af5ad2a825\">Pipeline</label><div class=\"sk-toggleable__content\"><pre>Pipeline(steps=[('columntransformer',\n",
       "                 ColumnTransformer(remainder='passthrough',\n",
       "                                   transformers=[('categorical',\n",
       "                                                  OrdinalEncoder(handle_unknown='use_encoded_value',\n",
       "                                                                 unknown_value=-1),\n",
       "                                                  ['workclass',\n",
       "                                                   'marital-status',\n",
       "                                                   'occupation', 'relationship',\n",
       "                                                   'race', 'sex',\n",
       "                                                   'native-country'])])),\n",
       "                ('histgradientboostingclassifier',\n",
       "                 HistGradientBoostingClassifier())])</pre></div></div></div><div class=\"sk-serial\"><div class=\"sk-item sk-dashed-wrapped\"><div class=\"sk-label-container\"><div class=\"sk-label sk-toggleable\"><input class=\"sk-toggleable__control sk-hidden--visually\" id=\"f66e35dd-5241-41ba-b38d-3abcbf813606\" type=\"checkbox\" ><label class=\"sk-toggleable__label\" for=\"f66e35dd-5241-41ba-b38d-3abcbf813606\">columntransformer: ColumnTransformer</label><div class=\"sk-toggleable__content\"><pre>ColumnTransformer(remainder='passthrough',\n",
       "                  transformers=[('categorical',\n",
       "                                 OrdinalEncoder(handle_unknown='use_encoded_value',\n",
       "                                                unknown_value=-1),\n",
       "                                 ['workclass', 'marital-status', 'occupation',\n",
       "                                  'relationship', 'race', 'sex',\n",
       "                                  'native-country'])])</pre></div></div></div><div class=\"sk-parallel\"><div class=\"sk-parallel-item\"><div class=\"sk-item\"><div class=\"sk-label-container\"><div class=\"sk-label sk-toggleable\"><input class=\"sk-toggleable__control sk-hidden--visually\" id=\"19ea8651-babe-4210-8995-0d6b9b9ed62c\" type=\"checkbox\" ><label class=\"sk-toggleable__label\" for=\"19ea8651-babe-4210-8995-0d6b9b9ed62c\">categorical</label><div class=\"sk-toggleable__content\"><pre>['workclass', 'marital-status', 'occupation', 'relationship', 'race', 'sex', 'native-country']</pre></div></div></div><div class=\"sk-serial\"><div class=\"sk-item\"><div class=\"sk-estimator sk-toggleable\"><input class=\"sk-toggleable__control sk-hidden--visually\" id=\"4212db97-639c-4f5b-bc0f-ab61dfb8cada\" type=\"checkbox\" ><label class=\"sk-toggleable__label\" for=\"4212db97-639c-4f5b-bc0f-ab61dfb8cada\">OrdinalEncoder</label><div class=\"sk-toggleable__content\"><pre>OrdinalEncoder(handle_unknown='use_encoded_value', unknown_value=-1)</pre></div></div></div></div></div></div><div class=\"sk-parallel-item\"><div class=\"sk-item\"><div class=\"sk-label-container\"><div class=\"sk-label sk-toggleable\"><input class=\"sk-toggleable__control sk-hidden--visually\" id=\"7c5b6d95-b8a5-4542-bc42-d46a32acfa82\" type=\"checkbox\" ><label class=\"sk-toggleable__label\" for=\"7c5b6d95-b8a5-4542-bc42-d46a32acfa82\">remainder</label><div class=\"sk-toggleable__content\"><pre>['age', 'education-num', 'capital-gain', 'capital-loss', 'hours-per-week']</pre></div></div></div><div class=\"sk-serial\"><div class=\"sk-item\"><div class=\"sk-estimator sk-toggleable\"><input class=\"sk-toggleable__control sk-hidden--visually\" id=\"14568e5d-120b-499b-b98b-e4d968953891\" type=\"checkbox\" ><label class=\"sk-toggleable__label\" for=\"14568e5d-120b-499b-b98b-e4d968953891\">passthrough</label><div class=\"sk-toggleable__content\"><pre>passthrough</pre></div></div></div></div></div></div></div></div><div class=\"sk-item\"><div class=\"sk-estimator sk-toggleable\"><input class=\"sk-toggleable__control sk-hidden--visually\" id=\"40074cbf-e41e-4df3-a15c-1eab8531b57b\" type=\"checkbox\" ><label class=\"sk-toggleable__label\" for=\"40074cbf-e41e-4df3-a15c-1eab8531b57b\">HistGradientBoostingClassifier</label><div class=\"sk-toggleable__content\"><pre>HistGradientBoostingClassifier()</pre></div></div></div></div></div></div></div>"
      ],
      "text/plain": [
       "Pipeline(steps=[('columntransformer',\n",
       "                 ColumnTransformer(remainder='passthrough',\n",
       "                                   transformers=[('categorical',\n",
       "                                                  OrdinalEncoder(handle_unknown='use_encoded_value',\n",
       "                                                                 unknown_value=-1),\n",
       "                                                  ['workclass',\n",
       "                                                   'marital-status',\n",
       "                                                   'occupation', 'relationship',\n",
       "                                                   'race', 'sex',\n",
       "                                                   'native-country'])])),\n",
       "                ('histgradientboostingclassifier',\n",
       "                 HistGradientBoostingClassifier())])"
      ]
     },
     "execution_count": 25,
     "metadata": {},
     "output_type": "execute_result"
    }
   ],
   "source": [
    "%%time\n",
    "model.fit(data_train, target_train)"
   ]
  },
  {
   "cell_type": "code",
   "execution_count": 26,
   "id": "f2ab468a-6860-4868-85af-2035a753a041",
   "metadata": {},
   "outputs": [
    {
     "data": {
      "text/plain": [
       "0.8760134305134715"
      ]
     },
     "execution_count": 26,
     "metadata": {},
     "output_type": "execute_result"
    }
   ],
   "source": [
    "model.score(data_test, target_test)"
   ]
  },
  {
   "cell_type": "markdown",
   "id": "8112ed3a-a9af-4a8c-aa51-7524fe04092b",
   "metadata": {},
   "source": [
    "We see that we get significantly higher accuracies with the Gradient Boosting model. This is often what we observe whenever the dataset has a large number of samples and limited number of informative features (e.g less than 1000) with a mix of numberical and categorical variables.\n",
    "\n",
    "This explains why Gradien Bossted Machines are very popular amond datascience practitioners."
   ]
  },
  {
   "cell_type": "markdown",
   "id": "55c04960-8054-4912-bcec-040f9f1b4ca2",
   "metadata": {},
   "source": [
    "## Wrap Up\n",
    "\n",
    "In this module, we learned:\n",
    "\n",
    "* to create a scikit-learn predictive model;\n",
    "* about the scikit-learn API to train and test a predictive model;\n",
    "* to process numerical data, notably using a `Pipeline`\n",
    "* to process categorical data, notably using a `OneHotEncoder` and an `OrdinalEncoder`;\n",
    "* to handle and process mixed data types (i.e. numerical and categorical data), notably using `ColumnTransformer`"
   ]
  }
 ],
 "metadata": {
  "kernelspec": {
   "display_name": "Python 3",
   "language": "python",
   "name": "python3"
  },
  "language_info": {
   "codemirror_mode": {
    "name": "ipython",
    "version": 3
   },
   "file_extension": ".py",
   "mimetype": "text/x-python",
   "name": "python",
   "nbconvert_exporter": "python",
   "pygments_lexer": "ipython3",
   "version": "3.6.13"
  }
 },
 "nbformat": 4,
 "nbformat_minor": 5
}
