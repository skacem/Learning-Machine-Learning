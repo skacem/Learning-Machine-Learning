{
 "cells": [
  {
   "cell_type": "markdown",
   "id": "05cd7c66-0e7c-4cb2-b9bd-083cbdede465",
   "metadata": {},
   "source": [
    "# Wrap Up Quiz\n"
   ]
  },
  {
   "cell_type": "code",
   "execution_count": 1,
   "id": "24aa8e4b-43a8-4aa4-a884-c5d98447f2ca",
   "metadata": {},
   "outputs": [],
   "source": [
    "import pandas as pd\n",
    "import numpy as np\n",
    "# Disable jedi autocompleter\n",
    "%config Completer.use_jedi = False"
   ]
  },
  {
   "cell_type": "code",
   "execution_count": 2,
   "id": "74fd74fb-5d26-4d7f-b7db-45e7ed8abecc",
   "metadata": {},
   "outputs": [
    {
     "data": {
      "text/html": [
       "<div>\n",
       "<style scoped>\n",
       "    .dataframe tbody tr th:only-of-type {\n",
       "        vertical-align: middle;\n",
       "    }\n",
       "\n",
       "    .dataframe tbody tr th {\n",
       "        vertical-align: top;\n",
       "    }\n",
       "\n",
       "    .dataframe thead th {\n",
       "        text-align: right;\n",
       "    }\n",
       "</style>\n",
       "<table border=\"1\" class=\"dataframe\">\n",
       "  <thead>\n",
       "    <tr style=\"text-align: right;\">\n",
       "      <th></th>\n",
       "      <th>Id</th>\n",
       "      <th>MSSubClass</th>\n",
       "      <th>MSZoning</th>\n",
       "      <th>LotFrontage</th>\n",
       "      <th>LotArea</th>\n",
       "      <th>Street</th>\n",
       "      <th>Alley</th>\n",
       "      <th>LotShape</th>\n",
       "      <th>LandContour</th>\n",
       "      <th>Utilities</th>\n",
       "      <th>...</th>\n",
       "      <th>PoolArea</th>\n",
       "      <th>PoolQC</th>\n",
       "      <th>Fence</th>\n",
       "      <th>MiscFeature</th>\n",
       "      <th>MiscVal</th>\n",
       "      <th>MoSold</th>\n",
       "      <th>YrSold</th>\n",
       "      <th>SaleType</th>\n",
       "      <th>SaleCondition</th>\n",
       "      <th>SalePrice</th>\n",
       "    </tr>\n",
       "  </thead>\n",
       "  <tbody>\n",
       "    <tr>\n",
       "      <th>1344</th>\n",
       "      <td>1345</td>\n",
       "      <td>60</td>\n",
       "      <td>RL</td>\n",
       "      <td>85.0</td>\n",
       "      <td>11103</td>\n",
       "      <td>Pave</td>\n",
       "      <td>?</td>\n",
       "      <td>IR1</td>\n",
       "      <td>Lvl</td>\n",
       "      <td>AllPub</td>\n",
       "      <td>...</td>\n",
       "      <td>0</td>\n",
       "      <td>?</td>\n",
       "      <td>?</td>\n",
       "      <td>?</td>\n",
       "      <td>0</td>\n",
       "      <td>7</td>\n",
       "      <td>2007</td>\n",
       "      <td>New</td>\n",
       "      <td>Partial</td>\n",
       "      <td>155835</td>\n",
       "    </tr>\n",
       "    <tr>\n",
       "      <th>234</th>\n",
       "      <td>235</td>\n",
       "      <td>60</td>\n",
       "      <td>RL</td>\n",
       "      <td>?</td>\n",
       "      <td>7851</td>\n",
       "      <td>Pave</td>\n",
       "      <td>?</td>\n",
       "      <td>Reg</td>\n",
       "      <td>Lvl</td>\n",
       "      <td>AllPub</td>\n",
       "      <td>...</td>\n",
       "      <td>0</td>\n",
       "      <td>?</td>\n",
       "      <td>?</td>\n",
       "      <td>?</td>\n",
       "      <td>0</td>\n",
       "      <td>5</td>\n",
       "      <td>2010</td>\n",
       "      <td>WD</td>\n",
       "      <td>Normal</td>\n",
       "      <td>216500</td>\n",
       "    </tr>\n",
       "    <tr>\n",
       "      <th>801</th>\n",
       "      <td>802</td>\n",
       "      <td>30</td>\n",
       "      <td>RM</td>\n",
       "      <td>40.0</td>\n",
       "      <td>4800</td>\n",
       "      <td>Pave</td>\n",
       "      <td>?</td>\n",
       "      <td>Reg</td>\n",
       "      <td>Lvl</td>\n",
       "      <td>AllPub</td>\n",
       "      <td>...</td>\n",
       "      <td>0</td>\n",
       "      <td>?</td>\n",
       "      <td>?</td>\n",
       "      <td>?</td>\n",
       "      <td>0</td>\n",
       "      <td>7</td>\n",
       "      <td>2007</td>\n",
       "      <td>WD</td>\n",
       "      <td>Normal</td>\n",
       "      <td>109900</td>\n",
       "    </tr>\n",
       "    <tr>\n",
       "      <th>246</th>\n",
       "      <td>247</td>\n",
       "      <td>190</td>\n",
       "      <td>RM</td>\n",
       "      <td>69.0</td>\n",
       "      <td>9142</td>\n",
       "      <td>Pave</td>\n",
       "      <td>Grvl</td>\n",
       "      <td>Reg</td>\n",
       "      <td>Lvl</td>\n",
       "      <td>AllPub</td>\n",
       "      <td>...</td>\n",
       "      <td>0</td>\n",
       "      <td>?</td>\n",
       "      <td>?</td>\n",
       "      <td>?</td>\n",
       "      <td>0</td>\n",
       "      <td>4</td>\n",
       "      <td>2006</td>\n",
       "      <td>WD</td>\n",
       "      <td>Normal</td>\n",
       "      <td>137000</td>\n",
       "    </tr>\n",
       "    <tr>\n",
       "      <th>468</th>\n",
       "      <td>469</td>\n",
       "      <td>20</td>\n",
       "      <td>RL</td>\n",
       "      <td>98.0</td>\n",
       "      <td>11428</td>\n",
       "      <td>Pave</td>\n",
       "      <td>?</td>\n",
       "      <td>IR1</td>\n",
       "      <td>Lvl</td>\n",
       "      <td>AllPub</td>\n",
       "      <td>...</td>\n",
       "      <td>0</td>\n",
       "      <td>?</td>\n",
       "      <td>?</td>\n",
       "      <td>?</td>\n",
       "      <td>0</td>\n",
       "      <td>5</td>\n",
       "      <td>2007</td>\n",
       "      <td>WD</td>\n",
       "      <td>Normal</td>\n",
       "      <td>250000</td>\n",
       "    </tr>\n",
       "  </tbody>\n",
       "</table>\n",
       "<p>5 rows × 81 columns</p>\n",
       "</div>"
      ],
      "text/plain": [
       "        Id  MSSubClass MSZoning LotFrontage  LotArea Street Alley LotShape  \\\n",
       "1344  1345          60       RL        85.0    11103   Pave     ?      IR1   \n",
       "234    235          60       RL           ?     7851   Pave     ?      Reg   \n",
       "801    802          30       RM        40.0     4800   Pave     ?      Reg   \n",
       "246    247         190       RM        69.0     9142   Pave  Grvl      Reg   \n",
       "468    469          20       RL        98.0    11428   Pave     ?      IR1   \n",
       "\n",
       "     LandContour Utilities  ... PoolArea PoolQC Fence MiscFeature MiscVal  \\\n",
       "1344         Lvl    AllPub  ...        0      ?     ?           ?       0   \n",
       "234          Lvl    AllPub  ...        0      ?     ?           ?       0   \n",
       "801          Lvl    AllPub  ...        0      ?     ?           ?       0   \n",
       "246          Lvl    AllPub  ...        0      ?     ?           ?       0   \n",
       "468          Lvl    AllPub  ...        0      ?     ?           ?       0   \n",
       "\n",
       "     MoSold YrSold  SaleType  SaleCondition  SalePrice  \n",
       "1344      7   2007       New        Partial     155835  \n",
       "234       5   2010        WD         Normal     216500  \n",
       "801       7   2007        WD         Normal     109900  \n",
       "246       4   2006        WD         Normal     137000  \n",
       "468       5   2007        WD         Normal     250000  \n",
       "\n",
       "[5 rows x 81 columns]"
      ]
     },
     "execution_count": 2,
     "metadata": {},
     "output_type": "execute_result"
    }
   ],
   "source": [
    "df = pd.read_csv(\"data/house_prices.csv\")\n",
    "df.sample(5)"
   ]
  },
  {
   "cell_type": "code",
   "execution_count": 3,
   "id": "bb3698d2-d872-4a23-ba81-9c029b100154",
   "metadata": {},
   "outputs": [],
   "source": [
    "df = df.drop(columns='Id')\n",
    "target = df['SalePrice']\n",
    "data = df.drop(columns='SalePrice')\n"
   ]
  },
  {
   "cell_type": "markdown",
   "id": "d7707997-736c-4f0d-9711-4a5d0290a42b",
   "metadata": {},
   "source": [
    "The column `SalePrice` contains the target variable. Note that we instructed pandas to treat the character '?' as a marker for cells with missing values.\n",
    "\n",
    "Furthermore, we ignore the column named \"`Id`\" because unique identifiers are usually useless in the context of predictive modeling.\n",
    "\n",
    "We did not encounter any regression problem yet. Therefore, we will convert the regression target into a classification target to predict whether or not an house is expensive. \"Expensive isdefined as a sale price greater than $200,000.\n"
   ]
  },
  {
   "cell_type": "code",
   "execution_count": 4,
   "id": "b29be86c-3009-4b56-a0fe-52ff5652e1ce",
   "metadata": {},
   "outputs": [],
   "source": [
    "target = (target > 200_000).astype(int)"
   ]
  },
  {
   "cell_type": "code",
   "execution_count": 5,
   "id": "228fc52f-84d2-4152-9930-008cdaf23cb3",
   "metadata": {},
   "outputs": [
    {
     "name": "stdout",
     "output_type": "stream",
     "text": [
      "<class 'pandas.core.frame.DataFrame'>\n",
      "RangeIndex: 1460 entries, 0 to 1459\n",
      "Data columns (total 80 columns):\n",
      " #   Column         Non-Null Count  Dtype \n",
      "---  ------         --------------  ----- \n",
      " 0   MSSubClass     1460 non-null   int64 \n",
      " 1   MSZoning       1460 non-null   object\n",
      " 2   LotFrontage    1460 non-null   object\n",
      " 3   LotArea        1460 non-null   int64 \n",
      " 4   Street         1460 non-null   object\n",
      " 5   Alley          1460 non-null   object\n",
      " 6   LotShape       1460 non-null   object\n",
      " 7   LandContour    1460 non-null   object\n",
      " 8   Utilities      1460 non-null   object\n",
      " 9   LotConfig      1460 non-null   object\n",
      " 10  LandSlope      1460 non-null   object\n",
      " 11  Neighborhood   1460 non-null   object\n",
      " 12  Condition1     1460 non-null   object\n",
      " 13  Condition2     1460 non-null   object\n",
      " 14  BldgType       1460 non-null   object\n",
      " 15  HouseStyle     1460 non-null   object\n",
      " 16  OverallQual    1460 non-null   int64 \n",
      " 17  OverallCond    1460 non-null   int64 \n",
      " 18  YearBuilt      1460 non-null   int64 \n",
      " 19  YearRemodAdd   1460 non-null   int64 \n",
      " 20  RoofStyle      1460 non-null   object\n",
      " 21  RoofMatl       1460 non-null   object\n",
      " 22  Exterior1st    1460 non-null   object\n",
      " 23  Exterior2nd    1460 non-null   object\n",
      " 24  MasVnrType     1460 non-null   object\n",
      " 25  MasVnrArea     1460 non-null   object\n",
      " 26  ExterQual      1460 non-null   object\n",
      " 27  ExterCond      1460 non-null   object\n",
      " 28  Foundation     1460 non-null   object\n",
      " 29  BsmtQual       1460 non-null   object\n",
      " 30  BsmtCond       1460 non-null   object\n",
      " 31  BsmtExposure   1460 non-null   object\n",
      " 32  BsmtFinType1   1460 non-null   object\n",
      " 33  BsmtFinSF1     1460 non-null   int64 \n",
      " 34  BsmtFinType2   1460 non-null   object\n",
      " 35  BsmtFinSF2     1460 non-null   int64 \n",
      " 36  BsmtUnfSF      1460 non-null   int64 \n",
      " 37  TotalBsmtSF    1460 non-null   int64 \n",
      " 38  Heating        1460 non-null   object\n",
      " 39  HeatingQC      1460 non-null   object\n",
      " 40  CentralAir     1460 non-null   object\n",
      " 41  Electrical     1460 non-null   object\n",
      " 42  1stFlrSF       1460 non-null   int64 \n",
      " 43  2ndFlrSF       1460 non-null   int64 \n",
      " 44  LowQualFinSF   1460 non-null   int64 \n",
      " 45  GrLivArea      1460 non-null   int64 \n",
      " 46  BsmtFullBath   1460 non-null   int64 \n",
      " 47  BsmtHalfBath   1460 non-null   int64 \n",
      " 48  FullBath       1460 non-null   int64 \n",
      " 49  HalfBath       1460 non-null   int64 \n",
      " 50  BedroomAbvGr   1460 non-null   int64 \n",
      " 51  KitchenAbvGr   1460 non-null   int64 \n",
      " 52  KitchenQual    1460 non-null   object\n",
      " 53  TotRmsAbvGrd   1460 non-null   int64 \n",
      " 54  Functional     1460 non-null   object\n",
      " 55  Fireplaces     1460 non-null   int64 \n",
      " 56  FireplaceQu    1460 non-null   object\n",
      " 57  GarageType     1460 non-null   object\n",
      " 58  GarageYrBlt    1460 non-null   object\n",
      " 59  GarageFinish   1460 non-null   object\n",
      " 60  GarageCars     1460 non-null   int64 \n",
      " 61  GarageArea     1460 non-null   int64 \n",
      " 62  GarageQual     1460 non-null   object\n",
      " 63  GarageCond     1460 non-null   object\n",
      " 64  PavedDrive     1460 non-null   object\n",
      " 65  WoodDeckSF     1460 non-null   int64 \n",
      " 66  OpenPorchSF    1460 non-null   int64 \n",
      " 67  EnclosedPorch  1460 non-null   int64 \n",
      " 68  3SsnPorch      1460 non-null   int64 \n",
      " 69  ScreenPorch    1460 non-null   int64 \n",
      " 70  PoolArea       1460 non-null   int64 \n",
      " 71  PoolQC         1460 non-null   object\n",
      " 72  Fence          1460 non-null   object\n",
      " 73  MiscFeature    1460 non-null   object\n",
      " 74  MiscVal        1460 non-null   int64 \n",
      " 75  MoSold         1460 non-null   int64 \n",
      " 76  YrSold         1460 non-null   int64 \n",
      " 77  SaleType       1460 non-null   object\n",
      " 78  SaleCondition  1460 non-null   object\n",
      " 79  SalePrice      1460 non-null   int64 \n",
      "dtypes: int64(34), object(46)\n",
      "memory usage: 912.6+ KB\n"
     ]
    }
   ],
   "source": [
    "df.info()"
   ]
  },
  {
   "cell_type": "code",
   "execution_count": 6,
   "id": "ad74e494-ed58-4f3b-81ed-13da53eab0f8",
   "metadata": {},
   "outputs": [
    {
     "data": {
      "text/plain": [
       "140000    20\n",
       "135000    17\n",
       "145000    14\n",
       "155000    14\n",
       "190000    13\n",
       "          ..\n",
       "84900      1\n",
       "424870     1\n",
       "415298     1\n",
       "62383      1\n",
       "34900      1\n",
       "Name: SalePrice, Length: 663, dtype: int64"
      ]
     },
     "execution_count": 6,
     "metadata": {},
     "output_type": "execute_result"
    }
   ],
   "source": [
    "df['SalePrice'].value_counts()"
   ]
  },
  {
   "cell_type": "code",
   "execution_count": 7,
   "id": "9ca89342-2625-4e17-bf81-dedd171d72ab",
   "metadata": {},
   "outputs": [
    {
     "data": {
      "text/plain": [
       "79"
      ]
     },
     "execution_count": 7,
     "metadata": {},
     "output_type": "execute_result"
    }
   ],
   "source": [
    "# Number of features available to predict whether or not a house is expensive\n",
    "len(data.columns)"
   ]
  },
  {
   "cell_type": "code",
   "execution_count": 8,
   "id": "17d26300-88fc-4648-926d-f7f08caccc4d",
   "metadata": {},
   "outputs": [
    {
     "data": {
      "text/plain": [
       "object    46\n",
       "int64     34\n",
       "dtype: int64"
      ]
     },
     "execution_count": 8,
     "metadata": {},
     "output_type": "execute_result"
    }
   ],
   "source": [
    "# numerical and categorical features\n",
    "df.dtypes.value_counts()"
   ]
  },
  {
   "cell_type": "markdown",
   "id": "6d46d2b8-16c8-4600-aef2-c08ba17e3fa7",
   "metadata": {},
   "source": [
    "We consider the following numerical columns:"
   ]
  },
  {
   "cell_type": "code",
   "execution_count": 9,
   "id": "1b76ee75-ac28-4210-ab60-089ccfab960d",
   "metadata": {},
   "outputs": [],
   "source": [
    "numerical_features = [\n",
    "  \"LotFrontage\", \"LotArea\", \"MasVnrArea\", \"BsmtFinSF1\", \"BsmtFinSF2\",\n",
    "  \"BsmtUnfSF\", \"TotalBsmtSF\", \"1stFlrSF\", \"2ndFlrSF\", \"LowQualFinSF\",\n",
    "  \"GrLivArea\", \"BedroomAbvGr\", \"KitchenAbvGr\", \"TotRmsAbvGrd\", \"Fireplaces\",\n",
    "  \"GarageCars\", \"GarageArea\", \"WoodDeckSF\", \"OpenPorchSF\", \"EnclosedPorch\",\n",
    "  \"3SsnPorch\", \"ScreenPorch\", \"PoolArea\", \"MiscVal\",\n",
    "]"
   ]
  },
  {
   "cell_type": "code",
   "execution_count": 10,
   "id": "dcc49e00-09dc-4aee-aaec-9e920c9eefcd",
   "metadata": {},
   "outputs": [
    {
     "data": {
      "text/plain": [
       "LotFrontage      object\n",
       "LotArea           int64\n",
       "MasVnrArea       object\n",
       "BsmtFinSF1        int64\n",
       "BsmtFinSF2        int64\n",
       "BsmtUnfSF         int64\n",
       "TotalBsmtSF       int64\n",
       "1stFlrSF          int64\n",
       "2ndFlrSF          int64\n",
       "LowQualFinSF      int64\n",
       "GrLivArea         int64\n",
       "BedroomAbvGr      int64\n",
       "KitchenAbvGr      int64\n",
       "TotRmsAbvGrd      int64\n",
       "Fireplaces        int64\n",
       "GarageCars        int64\n",
       "GarageArea        int64\n",
       "WoodDeckSF        int64\n",
       "OpenPorchSF       int64\n",
       "EnclosedPorch     int64\n",
       "3SsnPorch         int64\n",
       "ScreenPorch       int64\n",
       "PoolArea          int64\n",
       "MiscVal           int64\n",
       "dtype: object"
      ]
     },
     "execution_count": 10,
     "metadata": {},
     "output_type": "execute_result"
    }
   ],
   "source": [
    "data[numerical_features].dtypes"
   ]
  },
  {
   "cell_type": "markdown",
   "id": "ebe6e6a0-e853-48a5-a2f6-69491e756f01",
   "metadata": {},
   "source": [
    "As we can see from above, two of the numerical features; `LotFrontage` and `MasVnrArea` are actually objects. To convert them to numericals we will need first to replace string values to int or float:"
   ]
  },
  {
   "cell_type": "code",
   "execution_count": 11,
   "id": "b519cd5f-9acd-4765-a056-8352283e8fa4",
   "metadata": {},
   "outputs": [],
   "source": [
    "data['LotFrontage'] = data['LotFrontage'].replace('?', np.nan).astype(float)"
   ]
  },
  {
   "cell_type": "code",
   "execution_count": 12,
   "id": "1c31fc30-e6fb-4dd2-bde8-2591da1e04b1",
   "metadata": {},
   "outputs": [],
   "source": [
    "data['MasVnrArea'] = data['MasVnrArea'].replace('?', np.nan).astype(float)"
   ]
  },
  {
   "cell_type": "code",
   "execution_count": 13,
   "id": "b4dfe164-6c8a-4ea4-98c0-2c00826cafe4",
   "metadata": {},
   "outputs": [
    {
     "data": {
      "text/plain": [
       "LotFrontage      float64\n",
       "LotArea            int64\n",
       "MasVnrArea       float64\n",
       "BsmtFinSF1         int64\n",
       "BsmtFinSF2         int64\n",
       "BsmtUnfSF          int64\n",
       "TotalBsmtSF        int64\n",
       "1stFlrSF           int64\n",
       "2ndFlrSF           int64\n",
       "LowQualFinSF       int64\n",
       "GrLivArea          int64\n",
       "BedroomAbvGr       int64\n",
       "KitchenAbvGr       int64\n",
       "TotRmsAbvGrd       int64\n",
       "Fireplaces         int64\n",
       "GarageCars         int64\n",
       "GarageArea         int64\n",
       "WoodDeckSF         int64\n",
       "OpenPorchSF        int64\n",
       "EnclosedPorch      int64\n",
       "3SsnPorch          int64\n",
       "ScreenPorch        int64\n",
       "PoolArea           int64\n",
       "MiscVal            int64\n",
       "dtype: object"
      ]
     },
     "execution_count": 13,
     "metadata": {},
     "output_type": "execute_result"
    }
   ],
   "source": [
    "data_numerical = data[numerical_features]\n",
    "data_numerical.dtypes"
   ]
  },
  {
   "cell_type": "markdown",
   "id": "13b5ac21-c9e5-4a78-8dca-0670502efa5f",
   "metadata": {},
   "source": [
    "Now create a predictive model that uses these numerical columns as input data. Your predictive model should be a pipeline composed of a standard scaler, a mean imputer (cf. `sklearn.impute.SimpleImputer(strategy=\"mean\")`) and a `sklearn.linear_model.LogisticRegression`."
   ]
  },
  {
   "cell_type": "code",
   "execution_count": 14,
   "id": "adb787a3-1331-4b52-af57-c4598b814471",
   "metadata": {},
   "outputs": [],
   "source": [
    "from sklearn.preprocessing import StandardScaler\n",
    "from sklearn.impute import SimpleImputer\n",
    "from sklearn.linear_model import LogisticRegression\n",
    "from sklearn.pipeline import make_pipeline"
   ]
  },
  {
   "cell_type": "code",
   "execution_count": 18,
   "id": "e0cf5a67-0017-4997-b157-1f1621bad4ac",
   "metadata": {},
   "outputs": [],
   "source": [
    "model = make_pipeline(StandardScaler(), \n",
    "                      SimpleImputer(missing_values=np.nan, strategy='mean'), \n",
    "                      LogisticRegression())"
   ]
  },
  {
   "cell_type": "code",
   "execution_count": 19,
   "id": "2d889ae3-99be-44d1-9a1b-2c4d56cc6a18",
   "metadata": {},
   "outputs": [
    {
     "name": "stdout",
     "output_type": "stream",
     "text": [
      "The mean cross-validation accuracy is: 0.895 +/- 0.011\n"
     ]
    }
   ],
   "source": [
    "# Cross-validation\n",
    "\n",
    "from sklearn.model_selection import cross_validate\n",
    "\n",
    "res = cross_validate(model, data_numerical, target, cv=5)\n",
    "\n",
    "scores = res['test_score']\n",
    "print(\"The mean cross-validation accuracy is: \"\n",
    "      f\"{scores.mean():.3f} +/- {scores.std():.3f}\")"
   ]
  },
  {
   "cell_type": "markdown",
   "id": "61a709be-98b5-48d4-9bd8-dffcae453d01",
   "metadata": {},
   "source": []
  }
 ],
 "metadata": {
  "kernelspec": {
   "display_name": "Python 3",
   "language": "python",
   "name": "python3"
  },
  "language_info": {
   "codemirror_mode": {
    "name": "ipython",
    "version": 3
   },
   "file_extension": ".py",
   "mimetype": "text/x-python",
   "name": "python",
   "nbconvert_exporter": "python",
   "pygments_lexer": "ipython3",
   "version": "3.6.13"
  }
 },
 "nbformat": 4,
 "nbformat_minor": 5
}
