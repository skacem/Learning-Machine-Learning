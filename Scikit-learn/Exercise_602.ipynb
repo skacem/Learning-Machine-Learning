{
 "cells": [
  {
   "cell_type": "markdown",
   "id": "84317c97-9a11-4364-9a31-40c032640464",
   "metadata": {},
   "source": [
    "# Exercise M6.02\n",
    "\n",
    "The aim of this exercise is to explore some attributes available in scikit-learn's random forest.\n",
    "\n",
    "First, we wil fit the penguins regression dataset"
   ]
  },
  {
   "cell_type": "code",
   "execution_count": 1,
   "id": "bc926b69-bb91-41b6-8a0c-284cb3c031f4",
   "metadata": {},
   "outputs": [],
   "source": [
    "import numpy as np\n",
    "import pandas as pd\n",
    "from sklearn.model_selection import train_test_split"
   ]
  },
  {
   "cell_type": "code",
   "execution_count": 2,
   "id": "ace61696-cc60-416c-a515-ccc45e3ff3cf",
   "metadata": {},
   "outputs": [],
   "source": [
    "penguins = pd.read_csv(\"data/penguins_regression.csv\")\n",
    "feature_names = [\"Flipper Length (mm)\"]\n",
    "target_name = \"Body Mass (g)\"\n",
    "data, target = penguins[feature_names], penguins[target_name]\n",
    "data_train, data_test, target_train, target_test = train_test_split(\n",
    "    data, target, random_state=0\n",
    ")"
   ]
  },
  {
   "cell_type": "code",
   "execution_count": 3,
   "id": "d6ae52cf-253d-4c6f-88e6-619e973aac81",
   "metadata": {},
   "outputs": [
    {
     "data": {
      "text/html": [
       "<div>\n",
       "<style scoped>\n",
       "    .dataframe tbody tr th:only-of-type {\n",
       "        vertical-align: middle;\n",
       "    }\n",
       "\n",
       "    .dataframe tbody tr th {\n",
       "        vertical-align: top;\n",
       "    }\n",
       "\n",
       "    .dataframe thead th {\n",
       "        text-align: right;\n",
       "    }\n",
       "</style>\n",
       "<table border=\"1\" class=\"dataframe\">\n",
       "  <thead>\n",
       "    <tr style=\"text-align: right;\">\n",
       "      <th></th>\n",
       "      <th>Flipper Length (mm)</th>\n",
       "      <th>Body Mass (g)</th>\n",
       "    </tr>\n",
       "  </thead>\n",
       "  <tbody>\n",
       "    <tr>\n",
       "      <th>307</th>\n",
       "      <td>203.0</td>\n",
       "      <td>4100.0</td>\n",
       "    </tr>\n",
       "    <tr>\n",
       "      <th>19</th>\n",
       "      <td>174.0</td>\n",
       "      <td>3400.0</td>\n",
       "    </tr>\n",
       "    <tr>\n",
       "      <th>157</th>\n",
       "      <td>211.0</td>\n",
       "      <td>4800.0</td>\n",
       "    </tr>\n",
       "    <tr>\n",
       "      <th>245</th>\n",
       "      <td>214.0</td>\n",
       "      <td>4850.0</td>\n",
       "    </tr>\n",
       "    <tr>\n",
       "      <th>1</th>\n",
       "      <td>186.0</td>\n",
       "      <td>3800.0</td>\n",
       "    </tr>\n",
       "  </tbody>\n",
       "</table>\n",
       "</div>"
      ],
      "text/plain": [
       "     Flipper Length (mm)  Body Mass (g)\n",
       "307                203.0         4100.0\n",
       "19                 174.0         3400.0\n",
       "157                211.0         4800.0\n",
       "245                214.0         4850.0\n",
       "1                  186.0         3800.0"
      ]
     },
     "execution_count": 3,
     "metadata": {},
     "output_type": "execute_result"
    }
   ],
   "source": [
    "penguins.sample(5)"
   ]
  },
  {
   "cell_type": "markdown",
   "id": "a95f5693-a7c7-47a9-8bb2-53be35f7528f",
   "metadata": {},
   "source": [
    "Create a random forest containing three trees. Train the forest and check the generalization performance on the testing set in terms of absolute error."
   ]
  },
  {
   "cell_type": "code",
   "execution_count": 4,
   "id": "150739c9-7a2f-4ec1-83d3-d3322add4a9e",
   "metadata": {},
   "outputs": [],
   "source": [
    "from sklearn.ensemble import RandomForestRegressor\n",
    "\n",
    "model = RandomForestRegressor(n_estimators=3, n_jobs=2, random_state=0)\n",
    "model.fit(data_train, target_train)\n",
    "predicted = model.predict(data_test)"
   ]
  },
  {
   "cell_type": "code",
   "execution_count": 5,
   "id": "01a9cad0-d593-49f6-82c6-1eb7ad7ac7bb",
   "metadata": {},
   "outputs": [
    {
     "name": "stdout",
     "output_type": "stream",
     "text": [
      "Mean absolute error: 345.349 grams\n"
     ]
    }
   ],
   "source": [
    "from sklearn.metrics import mean_absolute_error\n",
    "\n",
    "print(\n",
    "    f\"Mean absolute error: \" f\"{mean_absolute_error(target_test, predicted):.3f} grams\"\n",
    ")"
   ]
  },
  {
   "cell_type": "markdown",
   "id": "465bda09-b49a-4c42-b5a4-aa93e29eafac",
   "metadata": {},
   "source": [
    "The next steps of this exercise are to:\n",
    "\n",
    "* create a new dataset containing the penguins with a flipper length between 170mm and 230mm;\n",
    "* plot the training data using a scatter plot;\n",
    "* plot the decision of each individual tree by predicting on the newly created dataset;\n",
    "* plot the decision of the random forest using this newly created dataset"
   ]
  },
  {
   "cell_type": "code",
   "execution_count": 6,
   "id": "02778b55-aa73-40ca-b464-d865679ce915",
   "metadata": {},
   "outputs": [],
   "source": [
    "data_ranges = pd.DataFrame(np.linspace(170, 235, num=300), columns=data.columns)"
   ]
  },
  {
   "cell_type": "code",
   "execution_count": 9,
   "id": "b0310265-781b-4949-9e0e-584c674153c9",
   "metadata": {},
   "outputs": [
    {
     "data": {
      "text/html": [
       "<div>\n",
       "<style scoped>\n",
       "    .dataframe tbody tr th:only-of-type {\n",
       "        vertical-align: middle;\n",
       "    }\n",
       "\n",
       "    .dataframe tbody tr th {\n",
       "        vertical-align: top;\n",
       "    }\n",
       "\n",
       "    .dataframe thead th {\n",
       "        text-align: right;\n",
       "    }\n",
       "</style>\n",
       "<table border=\"1\" class=\"dataframe\">\n",
       "  <thead>\n",
       "    <tr style=\"text-align: right;\">\n",
       "      <th></th>\n",
       "      <th>Flipper Length (mm)</th>\n",
       "    </tr>\n",
       "  </thead>\n",
       "  <tbody>\n",
       "    <tr>\n",
       "      <th>142</th>\n",
       "      <td>200.869565</td>\n",
       "    </tr>\n",
       "    <tr>\n",
       "      <th>150</th>\n",
       "      <td>202.608696</td>\n",
       "    </tr>\n",
       "    <tr>\n",
       "      <th>104</th>\n",
       "      <td>192.608696</td>\n",
       "    </tr>\n",
       "    <tr>\n",
       "      <th>264</th>\n",
       "      <td>227.391304</td>\n",
       "    </tr>\n",
       "  </tbody>\n",
       "</table>\n",
       "</div>"
      ],
      "text/plain": [
       "     Flipper Length (mm)\n",
       "142           200.869565\n",
       "150           202.608696\n",
       "104           192.608696\n",
       "264           227.391304"
      ]
     },
     "execution_count": 9,
     "metadata": {},
     "output_type": "execute_result"
    }
   ],
   "source": [
    "data_ranges.sample(4)"
   ]
  },
  {
   "cell_type": "code",
   "execution_count": 10,
   "id": "93945606-3f63-4623-acb6-d23d201aa4af",
   "metadata": {},
   "outputs": [
    {
     "name": "stderr",
     "output_type": "stream",
     "text": [
      "/Users/athena/opt/miniconda3/envs/work/lib/python3.9/site-packages/sklearn/base.py:438: UserWarning: X has feature names, but DecisionTreeRegressor was fitted without feature names\n",
      "  warnings.warn(\n",
      "/Users/athena/opt/miniconda3/envs/work/lib/python3.9/site-packages/sklearn/base.py:438: UserWarning: X has feature names, but DecisionTreeRegressor was fitted without feature names\n",
      "  warnings.warn(\n",
      "/Users/athena/opt/miniconda3/envs/work/lib/python3.9/site-packages/sklearn/base.py:438: UserWarning: X has feature names, but DecisionTreeRegressor was fitted without feature names\n",
      "  warnings.warn(\n"
     ]
    }
   ],
   "source": [
    "tree_predictions = []\n",
    "for tree in model.estimators_:\n",
    "    tree_predictions.append(tree.predict(data_ranges))\n",
    "\n",
    "forest_predictions = model.predict(data_ranges)"
   ]
  },
  {
   "cell_type": "markdown",
   "id": "0dc81fb2-dd5c-4ab9-827b-c1cadf4e4995",
   "metadata": {},
   "source": [
    "Now we can plot the predictions that we collected"
   ]
  },
  {
   "cell_type": "code",
   "execution_count": 14,
   "id": "9eaa3056-e5ea-49ad-bf6c-7c7e6f44ec7e",
   "metadata": {},
   "outputs": [
    {
     "data": {
      "image/png": "[encoded data removed]",
      "text/plain": [
       "<Figure size 432x288 with 1 Axes>"
      ]
     },
     "metadata": {
      "needs_background": "light"
     },
     "output_type": "display_data"
    }
   ],
   "source": [
    "import matplotlib.pyplot as plt\n",
    "import seaborn as sns\n",
    "\n",
    "sns.scatterplot(\n",
    "    data=penguins, x=feature_names[0], y=target_name, color=\"violet\", alpha=0.5\n",
    ")\n",
    "# plot tree predictions\n",
    "for tree_idx, predictions in enumerate(tree_predictions):\n",
    "    plt.plot(\n",
    "        data_ranges, predictions, label=f\"Tree #{tree_idx}\", linestyle=\"--\", alpha=0.8\n",
    "    )\n",
    "\n",
    "plt.plot(data_ranges, forest_predictions, label=f\"Random Forest\")\n",
    "plt.legend();"
   ]
  },
  {
   "cell_type": "code",
   "execution_count": null,
   "id": "45e48b72-35ba-4911-a79c-5f39d1f4a380",
   "metadata": {},
   "outputs": [],
   "source": []
  }
 ],
 "metadata": {
  "kernelspec": {
   "display_name": "Python 3 (ipykernel)",
   "language": "python",
   "name": "python3"
  },
  "language_info": {
   "codemirror_mode": {
    "name": "ipython",
    "version": 3
   },
   "file_extension": ".py",
   "mimetype": "text/x-python",
   "name": "python",
   "nbconvert_exporter": "python",
   "pygments_lexer": "ipython3",
   "version": "3.9.7"
  }
 },
 "nbformat": 4,
 "nbformat_minor": 5
}
