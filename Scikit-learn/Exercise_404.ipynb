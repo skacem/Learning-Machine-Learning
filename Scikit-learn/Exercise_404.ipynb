{
 "cells": [
  {
   "cell_type": "markdown",
   "id": "7d9a636f-4366-445b-bdeb-687044bbeb01",
   "metadata": {},
   "source": [
    "# Exercise M4.04\n",
    "\n",
    "In this exercise, we will train an l2-penalized logistic regression classifier and investigate the effect of the parameter `c`."
   ]
  },
  {
   "cell_type": "code",
   "execution_count": 1,
   "id": "d2d16164-ea5e-4f86-b0c5-740224c76fc6",
   "metadata": {},
   "outputs": [],
   "source": [
    "import pandas as pd\n",
    "from sklearn.model_selection import train_test_split"
   ]
  },
  {
   "cell_type": "code",
   "execution_count": 2,
   "id": "fd493e33-31cf-4d89-89b2-3cc784f9034d",
   "metadata": {},
   "outputs": [],
   "source": [
    "penguins = pd.read_csv('data/penguins_classification.csv')\n",
    "# only keep the Adelie and Chinstrap classes\n",
    "penguins = penguins.set_index('Species').loc[['Adelie', 'Chinstrap']].reset_index()"
   ]
  },
  {
   "cell_type": "code",
   "execution_count": 4,
   "id": "c99eda90-5b3f-4766-a2c8-4ee1fbe37629",
   "metadata": {},
   "outputs": [
    {
     "data": {
      "text/html": [
       "<div>\n",
       "<style scoped>\n",
       "    .dataframe tbody tr th:only-of-type {\n",
       "        vertical-align: middle;\n",
       "    }\n",
       "\n",
       "    .dataframe tbody tr th {\n",
       "        vertical-align: top;\n",
       "    }\n",
       "\n",
       "    .dataframe thead th {\n",
       "        text-align: right;\n",
       "    }\n",
       "</style>\n",
       "<table border=\"1\" class=\"dataframe\">\n",
       "  <thead>\n",
       "    <tr style=\"text-align: right;\">\n",
       "      <th></th>\n",
       "      <th>Species</th>\n",
       "      <th>Culmen Length (mm)</th>\n",
       "      <th>Culmen Depth (mm)</th>\n",
       "    </tr>\n",
       "  </thead>\n",
       "  <tbody>\n",
       "    <tr>\n",
       "      <th>94</th>\n",
       "      <td>Adelie</td>\n",
       "      <td>40.8</td>\n",
       "      <td>18.9</td>\n",
       "    </tr>\n",
       "    <tr>\n",
       "      <th>178</th>\n",
       "      <td>Chinstrap</td>\n",
       "      <td>49.5</td>\n",
       "      <td>19.0</td>\n",
       "    </tr>\n",
       "    <tr>\n",
       "      <th>103</th>\n",
       "      <td>Adelie</td>\n",
       "      <td>37.9</td>\n",
       "      <td>18.6</td>\n",
       "    </tr>\n",
       "  </tbody>\n",
       "</table>\n",
       "</div>"
      ],
      "text/plain": [
       "       Species  Culmen Length (mm)  Culmen Depth (mm)\n",
       "94      Adelie                40.8               18.9\n",
       "178  Chinstrap                49.5               19.0\n",
       "103     Adelie                37.9               18.6"
      ]
     },
     "execution_count": 4,
     "metadata": {},
     "output_type": "execute_result"
    }
   ],
   "source": [
    "penguins.sample(3)"
   ]
  },
  {
   "cell_type": "code",
   "execution_count": null,
   "id": "59c43b49-b8c7-4a43-a96d-b7b451051b67",
   "metadata": {},
   "outputs": [],
   "source": []
  }
 ],
 "metadata": {
  "kernelspec": {
   "display_name": "Python 3 (ipykernel)",
   "language": "python",
   "name": "python3"
  },
  "language_info": {
   "codemirror_mode": {
    "name": "ipython",
    "version": 3
   },
   "file_extension": ".py",
   "mimetype": "text/x-python",
   "name": "python",
   "nbconvert_exporter": "python",
   "pygments_lexer": "ipython3",
   "version": "3.9.7"
  }
 },
 "nbformat": 4,
 "nbformat_minor": 5
}
