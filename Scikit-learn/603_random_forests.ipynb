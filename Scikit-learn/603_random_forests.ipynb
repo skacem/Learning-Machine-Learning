{
 "cells": [
  {
   "cell_type": "markdown",
   "id": "2e17d205-b12c-4ff7-aa2e-ee86dc1fc481",
   "metadata": {},
   "source": [
    "# Random Forests\n",
    "\n",
    "In this notebook, we will present the random forest models and show the differences with the bagging ensembles.\n",
    "\n",
    "Random forests are a popular model in machine learning"
   ]
  }
 ],
 "metadata": {
  "kernelspec": {
   "display_name": "Python 3 (ipykernel)",
   "language": "python",
   "name": "python3"
  },
  "language_info": {
   "codemirror_mode": {
    "name": "ipython",
    "version": 3
   },
   "file_extension": ".py",
   "mimetype": "text/x-python",
   "name": "python",
   "nbconvert_exporter": "python",
   "pygments_lexer": "ipython3",
   "version": "3.9.7"
  }
 },
 "nbformat": 4,
 "nbformat_minor": 5
}
