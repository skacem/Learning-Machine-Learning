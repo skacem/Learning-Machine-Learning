{
 "cells": [
  {
   "cell_type": "markdown",
   "id": "1e969e3a-9544-47a6-93c7-03fa0219cde8",
   "metadata": {},
   "source": [
    "# Preprocessing for numerical features\n",
    "\n",
    "In this notebook we will introduce these new aspects when working with numerical data:\n",
    "\n",
    "* an example of preprocessing, namely **scaling numerical variables**;\n",
    "* using a scikit-learn **pipeline** to chain preprocessing and model trianing;\n",
    "* assessing the generalization performance of our model via **cross-validation** instead of a single train-test split.\n",
    "\n",
    "## Data Preparation\n",
    "\n",
    "We start as usual by importing the required libraries and loading the data set."
   ]
  },
  {
   "cell_type": "code",
   "execution_count": 2,
   "id": "a6d1b36e-f975-48f0-961c-580ae5a79211",
   "metadata": {},
   "outputs": [
    {
     "data": {
      "text/html": [
       "<div>\n",
       "<style scoped>\n",
       "    .dataframe tbody tr th:only-of-type {\n",
       "        vertical-align: middle;\n",
       "    }\n",
       "\n",
       "    .dataframe tbody tr th {\n",
       "        vertical-align: top;\n",
       "    }\n",
       "\n",
       "    .dataframe thead th {\n",
       "        text-align: right;\n",
       "    }\n",
       "</style>\n",
       "<table border=\"1\" class=\"dataframe\">\n",
       "  <thead>\n",
       "    <tr style=\"text-align: right;\">\n",
       "      <th></th>\n",
       "      <th>age</th>\n",
       "      <th>workclass</th>\n",
       "      <th>fnlwgt</th>\n",
       "      <th>education</th>\n",
       "      <th>education-num</th>\n",
       "      <th>marital-status</th>\n",
       "      <th>occupation</th>\n",
       "      <th>relationship</th>\n",
       "      <th>race</th>\n",
       "      <th>sex</th>\n",
       "      <th>capital-gain</th>\n",
       "      <th>capital-loss</th>\n",
       "      <th>hours-per-week</th>\n",
       "      <th>native-country</th>\n",
       "      <th>class</th>\n",
       "    </tr>\n",
       "  </thead>\n",
       "  <tbody>\n",
       "    <tr>\n",
       "      <th>21697</th>\n",
       "      <td>74</td>\n",
       "      <td>Private</td>\n",
       "      <td>211075</td>\n",
       "      <td>HS-grad</td>\n",
       "      <td>9</td>\n",
       "      <td>Married-civ-spouse</td>\n",
       "      <td>Other-service</td>\n",
       "      <td>Husband</td>\n",
       "      <td>White</td>\n",
       "      <td>Male</td>\n",
       "      <td>0</td>\n",
       "      <td>0</td>\n",
       "      <td>30</td>\n",
       "      <td>United-States</td>\n",
       "      <td>&lt;=50K</td>\n",
       "    </tr>\n",
       "    <tr>\n",
       "      <th>24696</th>\n",
       "      <td>20</td>\n",
       "      <td>Private</td>\n",
       "      <td>216436</td>\n",
       "      <td>Bachelors</td>\n",
       "      <td>13</td>\n",
       "      <td>Never-married</td>\n",
       "      <td>Sales</td>\n",
       "      <td>Other-relative</td>\n",
       "      <td>Black</td>\n",
       "      <td>Female</td>\n",
       "      <td>0</td>\n",
       "      <td>0</td>\n",
       "      <td>30</td>\n",
       "      <td>United-States</td>\n",
       "      <td>&lt;=50K</td>\n",
       "    </tr>\n",
       "    <tr>\n",
       "      <th>18517</th>\n",
       "      <td>60</td>\n",
       "      <td>Private</td>\n",
       "      <td>207665</td>\n",
       "      <td>HS-grad</td>\n",
       "      <td>9</td>\n",
       "      <td>Married-civ-spouse</td>\n",
       "      <td>Tech-support</td>\n",
       "      <td>Wife</td>\n",
       "      <td>White</td>\n",
       "      <td>Female</td>\n",
       "      <td>0</td>\n",
       "      <td>0</td>\n",
       "      <td>40</td>\n",
       "      <td>United-States</td>\n",
       "      <td>&gt;50K</td>\n",
       "    </tr>\n",
       "  </tbody>\n",
       "</table>\n",
       "</div>"
      ],
      "text/plain": [
       "       age workclass  fnlwgt   education  education-num       marital-status  \\\n",
       "21697   74   Private  211075     HS-grad              9   Married-civ-spouse   \n",
       "24696   20   Private  216436   Bachelors             13        Never-married   \n",
       "18517   60   Private  207665     HS-grad              9   Married-civ-spouse   \n",
       "\n",
       "           occupation     relationship    race      sex  capital-gain  \\\n",
       "21697   Other-service          Husband   White     Male             0   \n",
       "24696           Sales   Other-relative   Black   Female             0   \n",
       "18517    Tech-support             Wife   White   Female             0   \n",
       "\n",
       "       capital-loss  hours-per-week  native-country   class  \n",
       "21697             0              30   United-States   <=50K  \n",
       "24696             0              30   United-States   <=50K  \n",
       "18517             0              40   United-States    >50K  "
      ]
     },
     "execution_count": 2,
     "metadata": {},
     "output_type": "execute_result"
    }
   ],
   "source": [
    "import pandas as pd\n",
    "from sklearn import set_config\n",
    "set_config(display='diagram')\n",
    "\n",
    "df = pd.read_csv(\"data/adult-census.csv\")\n",
    "df.sample(3)"
   ]
  },
  {
   "cell_type": "markdown",
   "id": "d113610f-37fa-45a6-a9d9-0ec9f6dcbbbe",
   "metadata": {},
   "source": [
    "We then drop the features, that don't contain valuable info."
   ]
  },
  {
   "cell_type": "code",
   "execution_count": 3,
   "id": "b76294e2-a513-449d-9696-deec27e25707",
   "metadata": {},
   "outputs": [],
   "source": [
    "# drop not needed columns\n",
    "df = df.drop(columns=['fnlwgt', 'education'])\n",
    "\n",
    "# split target and features\n",
    "target = df['class']\n",
    "# we are considering only numerical features\n",
    "data = df.select_dtypes(include='number')"
   ]
  },
  {
   "cell_type": "markdown",
   "id": "adb046a9-5b7c-4a4c-8969-1bbf18dfd3ba",
   "metadata": {},
   "source": [
    "Now, we can start with preparing our model.  \n",
    "The first step is to divide our data into a training and test sets:"
   ]
  },
  {
   "cell_type": "code",
   "execution_count": 5,
   "id": "9e23952e-64d5-47ed-9211-f6272fa20584",
   "metadata": {},
   "outputs": [],
   "source": [
    "from sklearn.model_selection import train_test_split\n",
    "data_train, data_test, target_train, target_test = train_test_split(data, target, test_size=.25,\n",
    "                                                                   random_state=23)"
   ]
  },
  {
   "cell_type": "markdown",
   "id": "572f9775-d478-4f4a-9ea1-e30d4af011e9",
   "metadata": {},
   "source": [
    "## Model Fitting with Preprocessing\n",
    "\n",
    "A range of preprocessing algorithms in scikit-learn allow us to transform the input data before training a model. In our case, we will standardize the data and then train a new logistic model on that new version of the dataset.\n",
    "\n",
    "Let's start by printing some statistics about the training data"
   ]
  },
  {
   "cell_type": "code",
   "execution_count": 6,
   "id": "2456446b-be3e-4893-998e-62586a6f1971",
   "metadata": {},
   "outputs": [
    {
     "data": {
      "text/html": [
       "<div>\n",
       "<style scoped>\n",
       "    .dataframe tbody tr th:only-of-type {\n",
       "        vertical-align: middle;\n",
       "    }\n",
       "\n",
       "    .dataframe tbody tr th {\n",
       "        vertical-align: top;\n",
       "    }\n",
       "\n",
       "    .dataframe thead th {\n",
       "        text-align: right;\n",
       "    }\n",
       "</style>\n",
       "<table border=\"1\" class=\"dataframe\">\n",
       "  <thead>\n",
       "    <tr style=\"text-align: right;\">\n",
       "      <th></th>\n",
       "      <th>age</th>\n",
       "      <th>education-num</th>\n",
       "      <th>capital-gain</th>\n",
       "      <th>capital-loss</th>\n",
       "      <th>hours-per-week</th>\n",
       "    </tr>\n",
       "  </thead>\n",
       "  <tbody>\n",
       "    <tr>\n",
       "      <th>count</th>\n",
       "      <td>36631.000000</td>\n",
       "      <td>36631.000000</td>\n",
       "      <td>36631.000000</td>\n",
       "      <td>36631.000000</td>\n",
       "      <td>36631.000000</td>\n",
       "    </tr>\n",
       "    <tr>\n",
       "      <th>mean</th>\n",
       "      <td>38.689525</td>\n",
       "      <td>10.083645</td>\n",
       "      <td>1115.031640</td>\n",
       "      <td>84.717753</td>\n",
       "      <td>40.414976</td>\n",
       "    </tr>\n",
       "    <tr>\n",
       "      <th>std</th>\n",
       "      <td>13.735819</td>\n",
       "      <td>2.572581</td>\n",
       "      <td>7611.916806</td>\n",
       "      <td>397.034139</td>\n",
       "      <td>12.443421</td>\n",
       "    </tr>\n",
       "    <tr>\n",
       "      <th>min</th>\n",
       "      <td>17.000000</td>\n",
       "      <td>1.000000</td>\n",
       "      <td>0.000000</td>\n",
       "      <td>0.000000</td>\n",
       "      <td>1.000000</td>\n",
       "    </tr>\n",
       "    <tr>\n",
       "      <th>25%</th>\n",
       "      <td>28.000000</td>\n",
       "      <td>9.000000</td>\n",
       "      <td>0.000000</td>\n",
       "      <td>0.000000</td>\n",
       "      <td>40.000000</td>\n",
       "    </tr>\n",
       "    <tr>\n",
       "      <th>50%</th>\n",
       "      <td>37.000000</td>\n",
       "      <td>10.000000</td>\n",
       "      <td>0.000000</td>\n",
       "      <td>0.000000</td>\n",
       "      <td>40.000000</td>\n",
       "    </tr>\n",
       "    <tr>\n",
       "      <th>75%</th>\n",
       "      <td>48.000000</td>\n",
       "      <td>12.000000</td>\n",
       "      <td>0.000000</td>\n",
       "      <td>0.000000</td>\n",
       "      <td>45.000000</td>\n",
       "    </tr>\n",
       "    <tr>\n",
       "      <th>max</th>\n",
       "      <td>90.000000</td>\n",
       "      <td>16.000000</td>\n",
       "      <td>99999.000000</td>\n",
       "      <td>4356.000000</td>\n",
       "      <td>99.000000</td>\n",
       "    </tr>\n",
       "  </tbody>\n",
       "</table>\n",
       "</div>"
      ],
      "text/plain": [
       "                age  education-num  capital-gain  capital-loss  hours-per-week\n",
       "count  36631.000000   36631.000000  36631.000000  36631.000000    36631.000000\n",
       "mean      38.689525      10.083645   1115.031640     84.717753       40.414976\n",
       "std       13.735819       2.572581   7611.916806    397.034139       12.443421\n",
       "min       17.000000       1.000000      0.000000      0.000000        1.000000\n",
       "25%       28.000000       9.000000      0.000000      0.000000       40.000000\n",
       "50%       37.000000      10.000000      0.000000      0.000000       40.000000\n",
       "75%       48.000000      12.000000      0.000000      0.000000       45.000000\n",
       "max       90.000000      16.000000  99999.000000   4356.000000       99.000000"
      ]
     },
     "execution_count": 6,
     "metadata": {},
     "output_type": "execute_result"
    }
   ],
   "source": [
    "data_train.describe()"
   ]
  },
  {
   "cell_type": "markdown",
   "id": "fe235bcc-83b5-48a5-a7fc-cf970fe08e08",
   "metadata": {},
   "source": [
    "From the above table, we can see the the data set's features span across different ranges. Some algorithms make some assumptions regarding the feature distribution and usually normalizing features will be helpful to address these assumptions.\n",
    "\n",
    "The two main reasons why we should scale the training data:\n",
    "\n",
    "1. Models that rely on the distance between a pair of samples, for instance k-neares neighbors, should be trained on normalized features to make each feature contribute approximately equally to the distance computations.\n",
    "2. Many models such as logistic regression use a numerical solver (based on gradient descent) to find their optimal parameters. This solver converges faster when the features are scaled.\n",
    "\n",
    "Whether or not a machine learning model reequires scaling the features depends on the model family. Linear models such as logistic regression generally benefit from scaling the features while other models such as decision trees do not need such preprocessing (but will not suffer from it).\n",
    "\n",
    "We will show how to apply such normalization using a scikit-learn transformer called `StandardScaler`. this transformer shifts and scales each feature individually so that they all have a 0-mean and a unit standard deviation.\n",
    "\n",
    "We will investigate different steps used in scikit-learn to achieve such a transformation of the data.\n",
    "\n",
    "First, one needs to call the method `fit` in order to learn the scaling from the data."
   ]
  },
  {
   "cell_type": "code",
   "execution_count": 7,
   "id": "3b389ec5-a292-44a3-b043-5955e1421de8",
   "metadata": {},
   "outputs": [
    {
     "data": {
      "text/html": [
       "<style>#sk-41fa9335-2ec3-483f-9863-ef0c73869eb5 {color: black;background-color: white;}#sk-41fa9335-2ec3-483f-9863-ef0c73869eb5 pre{padding: 0;}#sk-41fa9335-2ec3-483f-9863-ef0c73869eb5 div.sk-toggleable {background-color: white;}#sk-41fa9335-2ec3-483f-9863-ef0c73869eb5 label.sk-toggleable__label {cursor: pointer;display: block;width: 100%;margin-bottom: 0;padding: 0.2em 0.3em;box-sizing: border-box;text-align: center;}#sk-41fa9335-2ec3-483f-9863-ef0c73869eb5 div.sk-toggleable__content {max-height: 0;max-width: 0;overflow: hidden;text-align: left;background-color: #f0f8ff;}#sk-41fa9335-2ec3-483f-9863-ef0c73869eb5 div.sk-toggleable__content pre {margin: 0.2em;color: black;border-radius: 0.25em;background-color: #f0f8ff;}#sk-41fa9335-2ec3-483f-9863-ef0c73869eb5 input.sk-toggleable__control:checked~div.sk-toggleable__content {max-height: 200px;max-width: 100%;overflow: auto;}#sk-41fa9335-2ec3-483f-9863-ef0c73869eb5 div.sk-estimator input.sk-toggleable__control:checked~label.sk-toggleable__label {background-color: #d4ebff;}#sk-41fa9335-2ec3-483f-9863-ef0c73869eb5 div.sk-label input.sk-toggleable__control:checked~label.sk-toggleable__label {background-color: #d4ebff;}#sk-41fa9335-2ec3-483f-9863-ef0c73869eb5 input.sk-hidden--visually {border: 0;clip: rect(1px 1px 1px 1px);clip: rect(1px, 1px, 1px, 1px);height: 1px;margin: -1px;overflow: hidden;padding: 0;position: absolute;width: 1px;}#sk-41fa9335-2ec3-483f-9863-ef0c73869eb5 div.sk-estimator {font-family: monospace;background-color: #f0f8ff;margin: 0.25em 0.25em;border: 1px dotted black;border-radius: 0.25em;box-sizing: border-box;}#sk-41fa9335-2ec3-483f-9863-ef0c73869eb5 div.sk-estimator:hover {background-color: #d4ebff;}#sk-41fa9335-2ec3-483f-9863-ef0c73869eb5 div.sk-parallel-item::after {content: \"\";width: 100%;border-bottom: 1px solid gray;flex-grow: 1;}#sk-41fa9335-2ec3-483f-9863-ef0c73869eb5 div.sk-label:hover label.sk-toggleable__label {background-color: #d4ebff;}#sk-41fa9335-2ec3-483f-9863-ef0c73869eb5 div.sk-serial::before {content: \"\";position: absolute;border-left: 1px solid gray;box-sizing: border-box;top: 2em;bottom: 0;left: 50%;}#sk-41fa9335-2ec3-483f-9863-ef0c73869eb5 div.sk-serial {display: flex;flex-direction: column;align-items: center;background-color: white;}#sk-41fa9335-2ec3-483f-9863-ef0c73869eb5 div.sk-item {z-index: 1;}#sk-41fa9335-2ec3-483f-9863-ef0c73869eb5 div.sk-parallel {display: flex;align-items: stretch;justify-content: center;background-color: white;}#sk-41fa9335-2ec3-483f-9863-ef0c73869eb5 div.sk-parallel-item {display: flex;flex-direction: column;position: relative;background-color: white;}#sk-41fa9335-2ec3-483f-9863-ef0c73869eb5 div.sk-parallel-item:first-child::after {align-self: flex-end;width: 50%;}#sk-41fa9335-2ec3-483f-9863-ef0c73869eb5 div.sk-parallel-item:last-child::after {align-self: flex-start;width: 50%;}#sk-41fa9335-2ec3-483f-9863-ef0c73869eb5 div.sk-parallel-item:only-child::after {width: 0;}#sk-41fa9335-2ec3-483f-9863-ef0c73869eb5 div.sk-dashed-wrapped {border: 1px dashed gray;margin: 0.2em;box-sizing: border-box;padding-bottom: 0.1em;background-color: white;position: relative;}#sk-41fa9335-2ec3-483f-9863-ef0c73869eb5 div.sk-label label {font-family: monospace;font-weight: bold;background-color: white;display: inline-block;line-height: 1.2em;}#sk-41fa9335-2ec3-483f-9863-ef0c73869eb5 div.sk-label-container {position: relative;z-index: 2;text-align: center;}#sk-41fa9335-2ec3-483f-9863-ef0c73869eb5 div.sk-container {display: inline-block;position: relative;}</style><div id=\"sk-41fa9335-2ec3-483f-9863-ef0c73869eb5\" class\"sk-top-container\"><div class=\"sk-container\"><div class=\"sk-item\"><div class=\"sk-estimator sk-toggleable\"><input class=\"sk-toggleable__control sk-hidden--visually\" id=\"724d3d62-eb51-43a5-853f-8714ec2c7f63\" type=\"checkbox\" checked><label class=\"sk-toggleable__label\" for=\"724d3d62-eb51-43a5-853f-8714ec2c7f63\">StandardScaler</label><div class=\"sk-toggleable__content\"><pre>StandardScaler()</pre></div></div></div></div></div>"
      ],
      "text/plain": [
       "StandardScaler()"
      ]
     },
     "execution_count": 7,
     "metadata": {},
     "output_type": "execute_result"
    }
   ],
   "source": [
    "from sklearn.preprocessing import StandardScaler\n",
    "\n",
    "# the standard scaler is usually called scaler\n",
    "scaler = StandardScaler()\n",
    "# We fit only the training data (without target)\n",
    "scaler.fit(data_train)"
   ]
  },
  {
   "attachments": {
    "5680ab76-c106-4e4c-a1e3-61436af828b6.png": {
     "image/png": "[encoded data removed]"
    }
   },
   "cell_type": "markdown",
   "id": "60a45cad-6f53-48a3-847c-bf8ed5d62619",
   "metadata": {},
   "source": [
    "The fit method for transformers is similar to the `fit` method for predictors. The main difference is that the former has a single argument (the data matrix), whereas the latter has two arguments (the data matrix and the target).\n",
    "\n",
    "![image.png](attachment:5680ab76-c106-4e4c-a1e3-61436af828b6.png)\n",
    "\n",
    "In this case, the algorith needs to compute the mean and standard deviation for each feature and store them into some Numpy arrays. Here, these statistics are the model states.\n",
    "\n",
    "We can inspect the computed means and standard deviation:"
   ]
  },
  {
   "cell_type": "code",
   "execution_count": 8,
   "id": "d3c4c7bb-61e8-4538-a17c-d20c31bf175b",
   "metadata": {},
   "outputs": [
    {
     "data": {
      "text/plain": [
       "array([  38.68952527,   10.083645  , 1115.03163987,   84.71775272,\n",
       "         40.41497639])"
      ]
     },
     "execution_count": 8,
     "metadata": {},
     "output_type": "execute_result"
    }
   ],
   "source": [
    "scaler.mean_"
   ]
  },
  {
   "cell_type": "code",
   "execution_count": 9,
   "id": "1dfc0509-a5b5-4016-937d-b847e24a3b4d",
   "metadata": {},
   "outputs": [
    {
     "data": {
      "text/plain": [
       "array([1.37356316e+01, 2.57254607e+00, 7.61181291e+03, 3.97028720e+02,\n",
       "       1.24432516e+01])"
      ]
     },
     "execution_count": 9,
     "metadata": {},
     "output_type": "execute_result"
    }
   ],
   "source": [
    "scaler.scale_"
   ]
  },
  {
   "cell_type": "markdown",
   "id": "87f1949e-d513-4bce-ad46-45bede473cce",
   "metadata": {},
   "source": [
    "<div class=\"alert alert-block alert-info\">\n",
    "<b>scikit-learn convention:</b> <br>\n",
    "     If an attribute is learned from the data, its name ends with an underscore (i.e. _), as in `mean_` and `scale_` for the `StandardScaler`.</div>\n",
    "     \n",
    "Scaling the data is applied to each feature individually. For each feature, we subtract its mean and divide by its standard deviation.\n",
    "\n",
    "Once we have called the `fit` method, we can perform data transformation by calling the method `transform`."
   ]
  },
  {
   "cell_type": "code",
   "execution_count": null,
   "id": "8711b56d-b5a5-4f03-9840-1c8adc5b3560",
   "metadata": {},
   "outputs": [],
   "source": []
  }
 ],
 "metadata": {
  "kernelspec": {
   "display_name": "Python 3",
   "language": "python",
   "name": "python3"
  },
  "language_info": {
   "codemirror_mode": {
    "name": "ipython",
    "version": 3
   },
   "file_extension": ".py",
   "mimetype": "text/x-python",
   "name": "python",
   "nbconvert_exporter": "python",
   "pygments_lexer": "ipython3",
   "version": "3.6.13"
  }
 },
 "nbformat": 4,
 "nbformat_minor": 5
}
