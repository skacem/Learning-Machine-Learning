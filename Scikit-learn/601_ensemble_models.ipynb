{
 "cells": [
  {
   "cell_type": "markdown",
   "id": "f04936d0-238f-4f14-8a67-c52d54a27507",
   "metadata": {},
   "source": [
    "# Intuitions on  ensemble tree-based models\n",
    "\n",
    "## Bagging vs random forests\n",
    "\n",
    "Bagging is a general strategy\n",
    "* Can work with any base model (linear, trees, ...)\n",
    "\n",
    "Random forests are bagged *randomized* decision trees\n",
    "* At each split: a random subset of features are selected\n",
    "* The best split is taken among the restricted subset\n",
    "* Extra randomization decorrelates the prediction errors\n",
    "* Uncorrelated errors make bagging work better\n",
    "\n",
    "<div class=\"alert alert-block alert-info\">\n",
    "<b>Note:</b>\n",
    "<ul>\n",
    "    <li>It's fine to use deep trees (max_depth=None) in random forests because of the reduced overfitting effect of prediction averaging. </li>\n",
    "    <li>The more trees the better, typical to use 100 trees or more.</li>\n",
    "    <li>More trees: longer to fit, slower to predict and bigger models to deploy.</li></ul>    \n",
    "</div>"
   ]
  },
  {
   "cell_type": "markdown",
   "id": "f3be183d-961b-41b1-b529-56d6b5b5835e",
   "metadata": {},
   "source": [
    "In practice, gradient boosting is more flexible thanks to the use of cost functions and tend to exhibits better predictive performance than traditional boosting."
   ]
  },
  {
   "cell_type": "markdown",
   "id": "7a5516cc-f4bf-4a8c-a248-fe97e6f5a8ef",
   "metadata": {},
   "source": [
    "<div class=\"alert alert-block alert-warning\">\n",
    "<b>Take away:</b> <br>\n",
    "    <ul>\n",
    "        <li> Bagging and random forests fit trees independently\n",
    "        <ul>    \n",
    "        <li> each deep tree overfits individually </li>\n",
    "            <li> averaging the tree predictions reduces overfitting</li></ul></li>\n",
    "        <li> (Gradient) boosting fits trees sequentially\n",
    "            <ul>\n",
    "            <li> each shallow tree underfits individually</li>\n",
    "                <li> sequentially adding trees reduces underfitting</li></ul></li>\n",
    "        <li> Gradient boosting tends to perform slightly better than bagging and random forest and furthermore shallow trees predict faster</li>\n",
    "    </ul>\n",
    "</div>"
   ]
  },
  {
   "cell_type": "code",
   "execution_count": null,
   "id": "0fd1e2ff-7fd7-44e1-ac49-1431fde01067",
   "metadata": {},
   "outputs": [],
   "source": []
  }
 ],
 "metadata": {
  "kernelspec": {
   "display_name": "Python 3 (ipykernel)",
   "language": "python",
   "name": "python3"
  },
  "language_info": {
   "codemirror_mode": {
    "name": "ipython",
    "version": 3
   },
   "file_extension": ".py",
   "mimetype": "text/x-python",
   "name": "python",
   "nbconvert_exporter": "python",
   "pygments_lexer": "ipython3",
   "version": "3.9.7"
  }
 },
 "nbformat": 4,
 "nbformat_minor": 5
}
