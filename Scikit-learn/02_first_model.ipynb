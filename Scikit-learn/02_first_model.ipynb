{
 "cells": [
  {
   "cell_type": "markdown",
   "id": "c3cf59d7-8105-42ce-9644-5cbe110fd851",
   "metadata": {},
   "source": [
    "# First Model with Scikit-Learn\n",
    "\n",
    "We start first with building predictive models on pandas dataframes using only numerical features. \n",
    "In particular we will highlight:\n",
    "* The sickit-learn API: `.fit(X, y)`, `.predict(X)`, `.score(X, y)`; and\n",
    "* how to evaluate the generalization performance of a model with a train-test split.\n",
    "\n",
    "We are going to use the same `adult_census.csv` data as before."
   ]
  },
  {
   "cell_type": "code",
   "execution_count": 1,
   "id": "763bab84-e723-411f-9af0-018323eadbc4",
   "metadata": {},
   "outputs": [],
   "source": [
    "# Standard imports\n",
    "import pandas as pd\n",
    "import numpy as np\n",
    "import matplotlib.pyplot as plt\n",
    "import seaborn as sns\n",
    "\n",
    "# Disable jedi autocompleter\n",
    "%config Completer.use_jedi = False"
   ]
  },
  {
   "cell_type": "code",
   "execution_count": 7,
   "id": "99ba6e3c-43b8-4da9-a078-3461ea4cf10b",
   "metadata": {
    "tags": []
   },
   "outputs": [
    {
     "data": {
      "text/html": [
       "<div>\n",
       "<style scoped>\n",
       "    .dataframe tbody tr th:only-of-type {\n",
       "        vertical-align: middle;\n",
       "    }\n",
       "\n",
       "    .dataframe tbody tr th {\n",
       "        vertical-align: top;\n",
       "    }\n",
       "\n",
       "    .dataframe thead th {\n",
       "        text-align: right;\n",
       "    }\n",
       "</style>\n",
       "<table border=\"1\" class=\"dataframe\">\n",
       "  <thead>\n",
       "    <tr style=\"text-align: right;\">\n",
       "      <th></th>\n",
       "      <th>age</th>\n",
       "      <th>capital-gain</th>\n",
       "      <th>capital-loss</th>\n",
       "      <th>hours-per-week</th>\n",
       "      <th>class</th>\n",
       "    </tr>\n",
       "  </thead>\n",
       "  <tbody>\n",
       "    <tr>\n",
       "      <th>0</th>\n",
       "      <td>25</td>\n",
       "      <td>0</td>\n",
       "      <td>0</td>\n",
       "      <td>40</td>\n",
       "      <td>&lt;=50K</td>\n",
       "    </tr>\n",
       "    <tr>\n",
       "      <th>1</th>\n",
       "      <td>38</td>\n",
       "      <td>0</td>\n",
       "      <td>0</td>\n",
       "      <td>50</td>\n",
       "      <td>&lt;=50K</td>\n",
       "    </tr>\n",
       "    <tr>\n",
       "      <th>2</th>\n",
       "      <td>28</td>\n",
       "      <td>0</td>\n",
       "      <td>0</td>\n",
       "      <td>40</td>\n",
       "      <td>&gt;50K</td>\n",
       "    </tr>\n",
       "    <tr>\n",
       "      <th>3</th>\n",
       "      <td>44</td>\n",
       "      <td>7688</td>\n",
       "      <td>0</td>\n",
       "      <td>40</td>\n",
       "      <td>&gt;50K</td>\n",
       "    </tr>\n",
       "    <tr>\n",
       "      <th>4</th>\n",
       "      <td>18</td>\n",
       "      <td>0</td>\n",
       "      <td>0</td>\n",
       "      <td>30</td>\n",
       "      <td>&lt;=50K</td>\n",
       "    </tr>\n",
       "  </tbody>\n",
       "</table>\n",
       "</div>"
      ],
      "text/plain": [
       "   age  capital-gain  capital-loss  hours-per-week   class\n",
       "0   25             0             0              40   <=50K\n",
       "1   38             0             0              50   <=50K\n",
       "2   28             0             0              40    >50K\n",
       "3   44          7688             0              40    >50K\n",
       "4   18             0             0              30   <=50K"
      ]
     },
     "execution_count": 7,
     "metadata": {},
     "output_type": "execute_result"
    }
   ],
   "source": [
    "# Load only numerical variables from the data\n",
    "df = pd.read_csv(\"data/adult-census.csv\", usecols=['age', 'capital-gain', \n",
    "                                                  'capital-loss', 'hours-per-week', 'class'])\n",
    "df.head(5)"
   ]
  },
  {
   "cell_type": "markdown",
   "id": "dc807b42-8f1e-4d70-98cf-89d58935b551",
   "metadata": {},
   "source": [
    "Our target, that we would like to predict is `class` and the remaining columns are used to train our predictive model.  \n",
    "\n",
    "The first step is to separate columns to get on one side the target and on the other side the data."
   ]
  },
  {
   "cell_type": "code",
   "execution_count": 13,
   "id": "81a08e67-6d16-4814-bc55-b424f7167128",
   "metadata": {},
   "outputs": [
    {
     "data": {
      "text/html": [
       "<div>\n",
       "<style scoped>\n",
       "    .dataframe tbody tr th:only-of-type {\n",
       "        vertical-align: middle;\n",
       "    }\n",
       "\n",
       "    .dataframe tbody tr th {\n",
       "        vertical-align: top;\n",
       "    }\n",
       "\n",
       "    .dataframe thead th {\n",
       "        text-align: right;\n",
       "    }\n",
       "</style>\n",
       "<table border=\"1\" class=\"dataframe\">\n",
       "  <thead>\n",
       "    <tr style=\"text-align: right;\">\n",
       "      <th></th>\n",
       "      <th>age</th>\n",
       "      <th>capital-gain</th>\n",
       "      <th>capital-loss</th>\n",
       "      <th>hours-per-week</th>\n",
       "    </tr>\n",
       "  </thead>\n",
       "  <tbody>\n",
       "    <tr>\n",
       "      <th>0</th>\n",
       "      <td>25</td>\n",
       "      <td>0</td>\n",
       "      <td>0</td>\n",
       "      <td>40</td>\n",
       "    </tr>\n",
       "    <tr>\n",
       "      <th>1</th>\n",
       "      <td>38</td>\n",
       "      <td>0</td>\n",
       "      <td>0</td>\n",
       "      <td>50</td>\n",
       "    </tr>\n",
       "    <tr>\n",
       "      <th>2</th>\n",
       "      <td>28</td>\n",
       "      <td>0</td>\n",
       "      <td>0</td>\n",
       "      <td>40</td>\n",
       "    </tr>\n",
       "    <tr>\n",
       "      <th>3</th>\n",
       "      <td>44</td>\n",
       "      <td>7688</td>\n",
       "      <td>0</td>\n",
       "      <td>40</td>\n",
       "    </tr>\n",
       "    <tr>\n",
       "      <th>4</th>\n",
       "      <td>18</td>\n",
       "      <td>0</td>\n",
       "      <td>0</td>\n",
       "      <td>30</td>\n",
       "    </tr>\n",
       "  </tbody>\n",
       "</table>\n",
       "</div>"
      ],
      "text/plain": [
       "   age  capital-gain  capital-loss  hours-per-week\n",
       "0   25             0             0              40\n",
       "1   38             0             0              50\n",
       "2   28             0             0              40\n",
       "3   44          7688             0              40\n",
       "4   18             0             0              30"
      ]
     },
     "execution_count": 13,
     "metadata": {},
     "output_type": "execute_result"
    }
   ],
   "source": [
    "target = df['class']\n",
    "data = df.drop(columns=['class',])\n",
    "data.head()"
   ]
  },
  {
   "cell_type": "code",
   "execution_count": 10,
   "id": "eb88ec3f-4c4c-4dd0-8a84-58ead8b4ff48",
   "metadata": {},
   "outputs": [
    {
     "data": {
      "text/plain": [
       "(48842, 4)"
      ]
     },
     "execution_count": 10,
     "metadata": {},
     "output_type": "execute_result"
    }
   ],
   "source": [
    "data.shape"
   ]
  },
  {
   "cell_type": "markdown",
   "id": "84059c35-79c0-4550-8f37-971c0a1d53b5",
   "metadata": {},
   "source": [
    "## Fit a Model an Make Predictions\n",
    "\n",
    "We will build a classification model using the \"K-nearest neighbors\" strategy. To predict the target of a new sample, a k-nearest neighbors takes into account its $k$ closest samples in the training set and predicts the majority target of these samples.\n",
    "\n",
    "<div class=\"alert alert-block alert-warning\">\n",
    "<b>Caution:</b> <br>\n",
    "We use a K-nearest neighbors here. However, be aware that it is seldom useful\n",
    "in practice. We use it because it is an intuitive algorithm. In the next\n",
    "notebook, we will introduce better models.</div>"
   ]
  },
  {
   "cell_type": "markdown",
   "id": "127105e0-96a2-4fb2-80bb-49ed44118b82",
   "metadata": {},
   "source": [
    "The `fit` method is called to train the model from the input and target data."
   ]
  },
  {
   "cell_type": "code",
   "execution_count": 11,
   "id": "9dae36ec-7528-445b-b49a-0ea31258b949",
   "metadata": {},
   "outputs": [],
   "source": [
    "# to display a nice model diagram\n",
    "from sklearn import set_config\n",
    "set_config(display='diagram')"
   ]
  },
  {
   "cell_type": "code",
   "execution_count": 16,
   "id": "dd489852-105b-46a7-9ace-5bb684ec6379",
   "metadata": {},
   "outputs": [
    {
     "data": {
      "text/html": [
       "<style>#sk-10916e1b-7cb1-4950-9a49-72e8d147e589 {color: black;background-color: white;}#sk-10916e1b-7cb1-4950-9a49-72e8d147e589 pre{padding: 0;}#sk-10916e1b-7cb1-4950-9a49-72e8d147e589 div.sk-toggleable {background-color: white;}#sk-10916e1b-7cb1-4950-9a49-72e8d147e589 label.sk-toggleable__label {cursor: pointer;display: block;width: 100%;margin-bottom: 0;padding: 0.2em 0.3em;box-sizing: border-box;text-align: center;}#sk-10916e1b-7cb1-4950-9a49-72e8d147e589 div.sk-toggleable__content {max-height: 0;max-width: 0;overflow: hidden;text-align: left;background-color: #f0f8ff;}#sk-10916e1b-7cb1-4950-9a49-72e8d147e589 div.sk-toggleable__content pre {margin: 0.2em;color: black;border-radius: 0.25em;background-color: #f0f8ff;}#sk-10916e1b-7cb1-4950-9a49-72e8d147e589 input.sk-toggleable__control:checked~div.sk-toggleable__content {max-height: 200px;max-width: 100%;overflow: auto;}#sk-10916e1b-7cb1-4950-9a49-72e8d147e589 div.sk-estimator input.sk-toggleable__control:checked~label.sk-toggleable__label {background-color: #d4ebff;}#sk-10916e1b-7cb1-4950-9a49-72e8d147e589 div.sk-label input.sk-toggleable__control:checked~label.sk-toggleable__label {background-color: #d4ebff;}#sk-10916e1b-7cb1-4950-9a49-72e8d147e589 input.sk-hidden--visually {border: 0;clip: rect(1px 1px 1px 1px);clip: rect(1px, 1px, 1px, 1px);height: 1px;margin: -1px;overflow: hidden;padding: 0;position: absolute;width: 1px;}#sk-10916e1b-7cb1-4950-9a49-72e8d147e589 div.sk-estimator {font-family: monospace;background-color: #f0f8ff;margin: 0.25em 0.25em;border: 1px dotted black;border-radius: 0.25em;box-sizing: border-box;}#sk-10916e1b-7cb1-4950-9a49-72e8d147e589 div.sk-estimator:hover {background-color: #d4ebff;}#sk-10916e1b-7cb1-4950-9a49-72e8d147e589 div.sk-parallel-item::after {content: \"\";width: 100%;border-bottom: 1px solid gray;flex-grow: 1;}#sk-10916e1b-7cb1-4950-9a49-72e8d147e589 div.sk-label:hover label.sk-toggleable__label {background-color: #d4ebff;}#sk-10916e1b-7cb1-4950-9a49-72e8d147e589 div.sk-serial::before {content: \"\";position: absolute;border-left: 1px solid gray;box-sizing: border-box;top: 2em;bottom: 0;left: 50%;}#sk-10916e1b-7cb1-4950-9a49-72e8d147e589 div.sk-serial {display: flex;flex-direction: column;align-items: center;background-color: white;}#sk-10916e1b-7cb1-4950-9a49-72e8d147e589 div.sk-item {z-index: 1;}#sk-10916e1b-7cb1-4950-9a49-72e8d147e589 div.sk-parallel {display: flex;align-items: stretch;justify-content: center;background-color: white;}#sk-10916e1b-7cb1-4950-9a49-72e8d147e589 div.sk-parallel-item {display: flex;flex-direction: column;position: relative;background-color: white;}#sk-10916e1b-7cb1-4950-9a49-72e8d147e589 div.sk-parallel-item:first-child::after {align-self: flex-end;width: 50%;}#sk-10916e1b-7cb1-4950-9a49-72e8d147e589 div.sk-parallel-item:last-child::after {align-self: flex-start;width: 50%;}#sk-10916e1b-7cb1-4950-9a49-72e8d147e589 div.sk-parallel-item:only-child::after {width: 0;}#sk-10916e1b-7cb1-4950-9a49-72e8d147e589 div.sk-dashed-wrapped {border: 1px dashed gray;margin: 0.2em;box-sizing: border-box;padding-bottom: 0.1em;background-color: white;position: relative;}#sk-10916e1b-7cb1-4950-9a49-72e8d147e589 div.sk-label label {font-family: monospace;font-weight: bold;background-color: white;display: inline-block;line-height: 1.2em;}#sk-10916e1b-7cb1-4950-9a49-72e8d147e589 div.sk-label-container {position: relative;z-index: 2;text-align: center;}#sk-10916e1b-7cb1-4950-9a49-72e8d147e589 div.sk-container {display: inline-block;position: relative;}</style><div id=\"sk-10916e1b-7cb1-4950-9a49-72e8d147e589\" class\"sk-top-container\"><div class=\"sk-container\"><div class=\"sk-item\"><div class=\"sk-estimator sk-toggleable\"><input class=\"sk-toggleable__control sk-hidden--visually\" id=\"a1ca365a-b9c6-4ff2-aaf9-407d9d260448\" type=\"checkbox\" checked><label class=\"sk-toggleable__label\" for=\"a1ca365a-b9c6-4ff2-aaf9-407d9d260448\">KNeighborsClassifier</label><div class=\"sk-toggleable__content\"><pre>KNeighborsClassifier()</pre></div></div></div></div></div>"
      ],
      "text/plain": [
       "KNeighborsClassifier()"
      ]
     },
     "execution_count": 16,
     "metadata": {},
     "output_type": "execute_result"
    }
   ],
   "source": [
    "from sklearn.neighbors import KNeighborsClassifier\n",
    "\n",
    "# 1. we first declare the model using the classifier's constructor\n",
    "model = KNeighborsClassifier()\n",
    "\n",
    "# 2. Then we train the model using the training data and training targets\n",
    "model.fit(data, target)"
   ]
  },
  {
   "attachments": {
    "2e91861a-a8b8-483f-9c11-7e1df1fcdcd0.png": {
     "image/png": "[encoded data removed]"
    }
   },
   "cell_type": "markdown",
   "id": "7fcd57d4-c20c-4c2f-b4a8-afb2ed3d20ee",
   "metadata": {},
   "source": [
    "Learning can be represented as follows:\n",
    "\n",
    "![image.png](attachment:2e91861a-a8b8-483f-9c11-7e1df1fcdcd0.png)\n",
    "\n",
    "The method `fit` is composed of two elements:  \n",
    "\n",
    "1. A learning algorithm,\n",
    "2. Some model states.\n",
    "\n",
    "The learning algorithm takes the training data and training target as input and sets the model states. These model states will be used later to either predict (for classifiers and regressors) or transform data (for transformers).\n",
    "\n",
    "Let's use our model to make some prediction using the same dataset."
   ]
  },
  {
   "cell_type": "code",
   "execution_count": 18,
   "id": "3177518f-27da-4c43-af4d-b053bece8a07",
   "metadata": {},
   "outputs": [],
   "source": [
    "# 3. We predict the outcome of the testing data\n",
    "target_predicted = model.predict(data)"
   ]
  },
  {
   "attachments": {
    "65225a2a-0bd5-41d8-9b52-bda9355091eb.png": {
     "image/png": "[encoded data removed]"
    }
   },
   "cell_type": "markdown",
   "id": "e54a245c-583d-44ff-92f0-4e8b9287c908",
   "metadata": {},
   "source": [
    "We can illustrate the prediction mechanism as follows:\n",
    "\n",
    "![image.png](attachment:65225a2a-0bd5-41d8-9b52-bda9355091eb.png)\n",
    "\n",
    "To predict, a model uses a prediction function that will use the input data together with the model states.  \n",
    "\n",
    "Let's now have a look at the computed predictions."
   ]
  },
  {
   "cell_type": "code",
   "execution_count": 19,
   "id": "9eced5b6-ed89-457d-80f3-85974fe75b75",
   "metadata": {},
   "outputs": [
    {
     "data": {
      "text/plain": [
       "0     True\n",
       "1     True\n",
       "2    False\n",
       "3     True\n",
       "4     True\n",
       "Name: class, dtype: bool"
      ]
     },
     "execution_count": 19,
     "metadata": {},
     "output_type": "execute_result"
    }
   ],
   "source": [
    "# first five predicted targets\n",
    "target[:5] == target_predicted[:5]"
   ]
  },
  {
   "cell_type": "code",
   "execution_count": 21,
   "id": "a995f3ca-8787-4bac-ab46-f1cd05304c5f",
   "metadata": {},
   "outputs": [
    {
     "name": "stdout",
     "output_type": "stream",
     "text": [
      "Number of correct prediction: 39352 / 48842\n"
     ]
    }
   ],
   "source": [
    "print(f\"Number of correct prediction: \"\n",
    "      f\"{(target == target_predicted).sum()} / {len(target)}\")"
   ]
  },
  {
   "cell_type": "markdown",
   "id": "0f75c556-256b-4c01-aa2a-445b6d8676e1",
   "metadata": {},
   "source": [
    "To get a better assessment, we can compute the average success rate:"
   ]
  },
  {
   "cell_type": "code",
   "execution_count": 22,
   "id": "1af56b68-b489-498f-a69a-17510717a2bd",
   "metadata": {},
   "outputs": [
    {
     "data": {
      "text/plain": [
       "0.8057000122845093"
      ]
     },
     "execution_count": 22,
     "metadata": {},
     "output_type": "execute_result"
    }
   ],
   "source": [
    "(target == target_predicted).mean()"
   ]
  },
  {
   "cell_type": "markdown",
   "id": "0087c5be-906f-4543-b23c-c5f9cacc1cc7",
   "metadata": {},
   "source": [
    "## Train-Test Data Split\n",
    "\n",
    "<div class=\"alert alert-block alert-warning\">\n",
    "When building a machine learning model, it is important to evaluate the trained model on data that was not used to fit it. Generalization vs. memorization\n",
    "</div>"
   ]
  },
  {
   "cell_type": "markdown",
   "id": "e597203f-627a-4ddf-9a3a-9f8c7929ada9",
   "metadata": {},
   "source": [
    "The data used to fit a model is called training data, while the data used to assess a model is classed testing data"
   ]
  }
 ],
 "metadata": {
  "kernelspec": {
   "display_name": "Python 3",
   "language": "python",
   "name": "python3"
  },
  "language_info": {
   "codemirror_mode": {
    "name": "ipython",
    "version": 3
   },
   "file_extension": ".py",
   "mimetype": "text/x-python",
   "name": "python",
   "nbconvert_exporter": "python",
   "pygments_lexer": "ipython3",
   "version": "3.6.13"
  }
 },
 "nbformat": 4,
 "nbformat_minor": 5
}
