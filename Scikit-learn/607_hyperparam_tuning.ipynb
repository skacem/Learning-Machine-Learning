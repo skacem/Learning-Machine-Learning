{
 "cells": [
  {
   "cell_type": "markdown",
   "id": "9c858c46-b4bf-4d59-9918-65f14ddd01ac",
   "metadata": {},
   "source": [
    "# Hyperparameter Tuning"
   ]
  },
  {
   "cell_type": "markdown",
   "id": "cc86bd1a-98cb-4000-bb2c-5dd50e9809f1",
   "metadata": {},
   "source": [
    "In the previous section, we did not discuss the parameters of random forest and gradient-boosting. However, there are a couple of things to keep in mind when  setting these.  \n",
    "\n",
    "This notebook gives crucial information regarding how to set the hyperparameters of both random forest and gradient boosting decision tree models.\n",
    "\n",
    "## Random Forest\n",
    "\n",
    "The main parameter to tune for random forest is the `n_estimators` parameters. In general, the more trees in the forest, the better the generalization performance will be. However, it will slow down the fitting and prediction time. The goal is to balance computing time and generalization performance when setting the number of estimators when putting such learner in production.  \n",
    "\n",
    "The `max_depth` parameter could also be tuned. Sometimes, there is no need to have fully grown trees. However, <code style=\"background:yellow;color:black\">be aware that with random forest, trees are generally deep since we are seeking to overfit the learners on the bootstrap samples because this will be mitigated by combining them.</code>  \n",
    "Assembling underfitted trees (i.e. shallow trees) might also lead to an underfitted forest."
   ]
  },
  {
   "cell_type": "code",
   "execution_count": null,
   "id": "893e4a8b-3cbe-4d24-a9cf-67dbff5172b6",
   "metadata": {},
   "outputs": [],
   "source": []
  }
 ],
 "metadata": {
  "kernelspec": {
   "display_name": "Python 3 (ipykernel)",
   "language": "python",
   "name": "python3"
  },
  "language_info": {
   "codemirror_mode": {
    "name": "ipython",
    "version": 3
   },
   "file_extension": ".py",
   "mimetype": "text/x-python",
   "name": "python",
   "nbconvert_exporter": "python",
   "pygments_lexer": "ipython3",
   "version": "3.9.7"
  }
 },
 "nbformat": 4,
 "nbformat_minor": 5
}
