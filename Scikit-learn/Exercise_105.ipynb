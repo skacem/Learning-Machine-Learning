{
 "cells": [
  {
   "cell_type": "markdown",
   "id": "412f20a5-9f3c-4fa1-b16e-5b674b9b35b0",
   "metadata": {},
   "source": [
    "# Exercise 105\n",
    "\n",
    "## Part 1\n",
    "\n",
    "The goal of this exercise is to evaluate the impact of using an arbitrary integer encoding for categorical variables along with a linear classification model such as Logistic Regression.\n",
    "\n",
    "To do so, let's try to use `OrdinalEncoder` to preprocess the categorical variables. This preprocessor is assembled in a pipeline with `LogisticRegression`. The generalization performance of the pipeline can be evaluated by cross-validation and then compared to the score obtained when using `OneHotEncoder` or to some other baseline score.\n",
    "\n",
    "First, we load the datasset.\n"
   ]
  },
  {
   "cell_type": "code",
   "execution_count": 2,
   "id": "9a2c6409-2583-4481-9750-7777cd585d00",
   "metadata": {},
   "outputs": [],
   "source": [
    "# Standard imports\n",
    "import pandas as pd\n",
    "import numpy as np"
   ]
  },
  {
   "cell_type": "code",
   "execution_count": 3,
   "id": "a375d344-aca5-4e3e-bb28-6a558c0e6496",
   "metadata": {},
   "outputs": [
    {
     "data": {
      "text/html": [
       "<div>\n",
       "<style scoped>\n",
       "    .dataframe tbody tr th:only-of-type {\n",
       "        vertical-align: middle;\n",
       "    }\n",
       "\n",
       "    .dataframe tbody tr th {\n",
       "        vertical-align: top;\n",
       "    }\n",
       "\n",
       "    .dataframe thead th {\n",
       "        text-align: right;\n",
       "    }\n",
       "</style>\n",
       "<table border=\"1\" class=\"dataframe\">\n",
       "  <thead>\n",
       "    <tr style=\"text-align: right;\">\n",
       "      <th></th>\n",
       "      <th>age</th>\n",
       "      <th>workclass</th>\n",
       "      <th>fnlwgt</th>\n",
       "      <th>education</th>\n",
       "      <th>education-num</th>\n",
       "      <th>marital-status</th>\n",
       "      <th>occupation</th>\n",
       "      <th>relationship</th>\n",
       "      <th>race</th>\n",
       "      <th>sex</th>\n",
       "      <th>capital-gain</th>\n",
       "      <th>capital-loss</th>\n",
       "      <th>hours-per-week</th>\n",
       "      <th>native-country</th>\n",
       "      <th>class</th>\n",
       "    </tr>\n",
       "  </thead>\n",
       "  <tbody>\n",
       "    <tr>\n",
       "      <th>0</th>\n",
       "      <td>25</td>\n",
       "      <td>Private</td>\n",
       "      <td>226802</td>\n",
       "      <td>11th</td>\n",
       "      <td>7</td>\n",
       "      <td>Never-married</td>\n",
       "      <td>Machine-op-inspct</td>\n",
       "      <td>Own-child</td>\n",
       "      <td>Black</td>\n",
       "      <td>Male</td>\n",
       "      <td>0</td>\n",
       "      <td>0</td>\n",
       "      <td>40</td>\n",
       "      <td>United-States</td>\n",
       "      <td>&lt;=50K</td>\n",
       "    </tr>\n",
       "    <tr>\n",
       "      <th>1</th>\n",
       "      <td>38</td>\n",
       "      <td>Private</td>\n",
       "      <td>89814</td>\n",
       "      <td>HS-grad</td>\n",
       "      <td>9</td>\n",
       "      <td>Married-civ-spouse</td>\n",
       "      <td>Farming-fishing</td>\n",
       "      <td>Husband</td>\n",
       "      <td>White</td>\n",
       "      <td>Male</td>\n",
       "      <td>0</td>\n",
       "      <td>0</td>\n",
       "      <td>50</td>\n",
       "      <td>United-States</td>\n",
       "      <td>&lt;=50K</td>\n",
       "    </tr>\n",
       "    <tr>\n",
       "      <th>2</th>\n",
       "      <td>28</td>\n",
       "      <td>Local-gov</td>\n",
       "      <td>336951</td>\n",
       "      <td>Assoc-acdm</td>\n",
       "      <td>12</td>\n",
       "      <td>Married-civ-spouse</td>\n",
       "      <td>Protective-serv</td>\n",
       "      <td>Husband</td>\n",
       "      <td>White</td>\n",
       "      <td>Male</td>\n",
       "      <td>0</td>\n",
       "      <td>0</td>\n",
       "      <td>40</td>\n",
       "      <td>United-States</td>\n",
       "      <td>&gt;50K</td>\n",
       "    </tr>\n",
       "  </tbody>\n",
       "</table>\n",
       "</div>"
      ],
      "text/plain": [
       "   age   workclass  fnlwgt    education  education-num       marital-status  \\\n",
       "0   25     Private  226802         11th              7        Never-married   \n",
       "1   38     Private   89814      HS-grad              9   Married-civ-spouse   \n",
       "2   28   Local-gov  336951   Assoc-acdm             12   Married-civ-spouse   \n",
       "\n",
       "           occupation relationship    race    sex  capital-gain  capital-loss  \\\n",
       "0   Machine-op-inspct    Own-child   Black   Male             0             0   \n",
       "1     Farming-fishing      Husband   White   Male             0             0   \n",
       "2     Protective-serv      Husband   White   Male             0             0   \n",
       "\n",
       "   hours-per-week  native-country   class  \n",
       "0              40   United-States   <=50K  \n",
       "1              50   United-States   <=50K  \n",
       "2              40   United-States    >50K  "
      ]
     },
     "execution_count": 3,
     "metadata": {},
     "output_type": "execute_result"
    }
   ],
   "source": [
    "# Load the dataset\n",
    "df = pd.read_csv('data/adult-census.csv')\n",
    "df.head(3)"
   ]
  },
  {
   "cell_type": "code",
   "execution_count": 4,
   "id": "0271d536-49b5-4a36-9f05-d8436aab28bc",
   "metadata": {},
   "outputs": [],
   "source": [
    "# Separate target from the rest of the data\n",
    "target = df['class']\n",
    "\n",
    "# drop redundan columns\n",
    "data = df.drop(columns=['class', 'education-num', 'fnlwgt'])"
   ]
  },
  {
   "cell_type": "markdown",
   "id": "f577d95e-f083-4794-be60-b6630090e3a3",
   "metadata": {},
   "source": [
    "Select objects dtypes using `sklearn.compose.make_column_selector`"
   ]
  },
  {
   "cell_type": "code",
   "execution_count": 6,
   "id": "b78ed85e-01dd-4366-8c91-bbc4a9c39300",
   "metadata": {},
   "outputs": [],
   "source": [
    "from sklearn.compose import make_column_selector as selector\n",
    "\n",
    "categorical_columns_selector = selector(dtype_include=object)\n",
    "categorical_columns = categorical_columns_selector(data)\n",
    "data_categorical = data[categorical_columns]"
   ]
  },
  {
   "cell_type": "code",
   "execution_count": 8,
   "id": "951f3392-f7b7-48d9-a2c5-ab2221ec7514",
   "metadata": {},
   "outputs": [
    {
     "data": {
      "text/plain": [
       "['workclass',\n",
       " 'education',\n",
       " 'marital-status',\n",
       " 'occupation',\n",
       " 'relationship',\n",
       " 'race',\n",
       " 'sex',\n",
       " 'native-country']"
      ]
     },
     "execution_count": 8,
     "metadata": {},
     "output_type": "execute_result"
    }
   ],
   "source": [
    "categorical_columns"
   ]
  },
  {
   "cell_type": "markdown",
   "id": "c1179a2f-8ca4-488b-9afe-173c998fc658",
   "metadata": {},
   "source": [
    "Define a scikit-learn pipeline composed of an `OrdinalEncoder` and a `LogisticRegression` classifier.\n",
    "\n",
    "Because `OrdinalEncoder` can raise errors if it sees an unknown category at prediction time, you can set the `handle_unknown=\"use_encoded_value` and `unknown_value` parameters."
   ]
  },
  {
   "cell_type": "code",
   "execution_count": 9,
   "id": "8e357b25-6fcc-49d0-9d77-0fd8bc527089",
   "metadata": {},
   "outputs": [],
   "source": [
    "from sklearn.pipeline import make_pipeline\n",
    "from sklearn.preprocessing import OrdinalEncoder\n",
    "from sklearn.linear_model import  LogisticRegression"
   ]
  },
  {
   "cell_type": "code",
   "execution_count": 13,
   "id": "2f8e22b0-f2de-4432-8ea7-0a926a0677e2",
   "metadata": {},
   "outputs": [],
   "source": [
    "model = make_pipeline(OrdinalEncoder(handle_unknown='use_encoded_value', unknown_value=-1), \n",
    "                      LogisticRegression(max_iter=500))"
   ]
  },
  {
   "cell_type": "markdown",
   "id": "710c7494-7d5b-4d8a-9144-46bfff36d348",
   "metadata": {},
   "source": [
    "Now that we defined the model, we can go ahead and evaluate it using cross-validation"
   ]
  },
  {
   "cell_type": "code",
   "execution_count": 14,
   "id": "3df03c9c-9cf3-46b3-b9f4-03874ef43fdc",
   "metadata": {},
   "outputs": [
    {
     "data": {
      "text/plain": [
       "{'fit_time': array([0.68291903, 0.41284108, 0.53323007, 0.61784101, 0.42726493]),\n",
       " 'score_time': array([0.04455805, 0.04169703, 0.04239798, 0.05333376, 0.04661489]),\n",
       " 'test_score': array([0.75514382, 0.75555328, 0.75573301, 0.75307125, 0.75788288])}"
      ]
     },
     "execution_count": 14,
     "metadata": {},
     "output_type": "execute_result"
    }
   ],
   "source": [
    "from sklearn.model_selection import cross_validate\n",
    "\n",
    "res = cross_validate(model, data_categorical, target)\n",
    "res"
   ]
  },
  {
   "cell_type": "code",
   "execution_count": 27,
   "id": "3fb047dd-d12a-4845-9ff0-398a00a366ca",
   "metadata": {},
   "outputs": [
    {
     "name": "stdout",
     "output_type": "stream",
     "text": [
      "The mean cross-validation accuracy is: 0.755 +/- 0.002\n"
     ]
    }
   ],
   "source": [
    "scores = res['test_score']\n",
    "print(f\"The mean cross-validation accuracy is: {scores.mean():.3f} +/- {scores.std():.3f}\")"
   ]
  },
  {
   "cell_type": "markdown",
   "id": "2110a956-ac51-4947-957d-7ad80ec0835e",
   "metadata": {},
   "source": [
    "Now we want to compate the generalization performance of our previous model with anew model where instead of using an `OrdinalEncoder`, we will use a `OneHotEncoder`."
   ]
  },
  {
   "cell_type": "code",
   "execution_count": 28,
   "id": "3d31d3e2-0790-4603-af74-6f02efbc9c44",
   "metadata": {},
   "outputs": [
    {
     "data": {
      "text/plain": [
       "{'fit_time': array([1.18171215, 0.95225096, 1.02713704, 1.09081602, 1.04541922]),\n",
       " 'score_time': array([0.04588509, 0.04491282, 0.04246402, 0.04252815, 0.03971076]),\n",
       " 'test_score': array([0.83222438, 0.83560242, 0.82872645, 0.83312858, 0.83466421])}"
      ]
     },
     "execution_count": 28,
     "metadata": {},
     "output_type": "execute_result"
    }
   ],
   "source": [
    "from sklearn.preprocessing import OneHotEncoder\n",
    "\n",
    "model = make_pipeline(OneHotEncoder(handle_unknown='ignore'), LogisticRegression(max_iter=500))\n",
    "res = cross_validate(model, data_categorical, target)\n",
    "res"
   ]
  },
  {
   "cell_type": "code",
   "execution_count": 29,
   "id": "fc5d33b0-c87a-4402-87b3-8b25c88a93fb",
   "metadata": {},
   "outputs": [
    {
     "name": "stdout",
     "output_type": "stream",
     "text": [
      "The mean cross-validation accuracy is: 0.833 +/- 0.002\n"
     ]
    }
   ],
   "source": [
    "scores = res['test_score']\n",
    "print(f\"The mean cross-validation accuracy is: {scores.mean():.3f} +/- {scores.std():.3f}\")"
   ]
  },
  {
   "cell_type": "markdown",
   "id": "c9f3e3e0-7d37-4af1-9af4-e0f7c55431cc",
   "metadata": {},
   "source": [
    "<div class=\"alert alert-block alert-warning\">\n",
    "The important message here is: linear model and OrdinalEncoder are used together only for ordinal categorical features, features with a specific ordering. Otherwise, your model will perform poorly.\n",
    "</div>"
   ]
  }
 ],
 "metadata": {
  "kernelspec": {
   "display_name": "Python 3",
   "language": "python",
   "name": "python3"
  },
  "language_info": {
   "codemirror_mode": {
    "name": "ipython",
    "version": 3
   },
   "file_extension": ".py",
   "mimetype": "text/x-python",
   "name": "python",
   "nbconvert_exporter": "python",
   "pygments_lexer": "ipython3",
   "version": "3.6.13"
  }
 },
 "nbformat": 4,
 "nbformat_minor": 5
}
