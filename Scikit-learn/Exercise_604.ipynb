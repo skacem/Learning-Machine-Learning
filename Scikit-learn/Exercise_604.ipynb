{
 "cells": [
  {
   "cell_type": "markdown",
   "id": "b36017ac-d10e-4c05-a951-f832452c14e6",
   "metadata": {},
   "source": [
    "# Exercise M6.04\n",
    "\n",
    "The aim of this exercise is to:\n",
    "\n",
    "* verify if a GBDT tends to overfit if the number of estimators is not appropriate as previously seen for AdaBoost;\n",
    "* use the early-stopping strategy to avoid adding unnecessary trees, to get the best generalization performances.\n",
    "\n",
    "We will use the California housing dataset to conduct our experiments."
   ]
  },
  {
   "cell_type": "code",
   "execution_count": 1,
   "id": "17766e87-7384-4902-b1d2-5f5cfa3d83e0",
   "metadata": {},
   "outputs": [],
   "source": [
    "from sklearn.datasets import fetch_california_housing\n",
    "from sklearn.model_selection import train_test_split\n",
    "\n",
    "data, target = fetch_california_housing(return_X_y=True, as_frame=True)\n",
    "target *= 100 # rescale the target in k$\n",
    "data_train, data_test, target_train, target_test = train_test_split(data, target, random_state=0,\n",
    "                                                                   test_size=.5)"
   ]
  },
  {
   "cell_type": "markdown",
   "id": "b33b1bd4-de9a-4fd0-a4cd-c880eed7398a",
   "metadata": {},
   "source": [
    "Create a gradient boosting decision tree with `max_depth=5` and `learning_rate=.5`"
   ]
  },
  {
   "cell_type": "code",
   "execution_count": 2,
   "id": "ae8ee70e-2f0d-443b-8edb-882e6687cc2e",
   "metadata": {},
   "outputs": [],
   "source": [
    "from sklearn.ensemble import GradientBoostingRegressor"
   ]
  },
  {
   "cell_type": "code",
   "execution_count": 5,
   "id": "8f3e7045-5cd5-47f9-a27a-ef99c1076a45",
   "metadata": {},
   "outputs": [],
   "source": [
    "gbdt = GradientBoostingRegressor(max_depth=5, learning_rate=.5)"
   ]
  },
  {
   "cell_type": "markdown",
   "id": "557fd2fa-3f7c-48c2-813e-b22bcda75ab3",
   "metadata": {},
   "source": [
    "Create a validation curve to assess the impact of the number of trees on the generalization performance of the model. Evaluate the list of parameters `param_range = [1, 2, 5, 10, 20, 50, 100]` and use the mean absolute error to assess the generalization performance of the model."
   ]
  },
  {
   "cell_type": "code",
   "execution_count": 6,
   "id": "aaa85421-a4d0-4329-bbe5-ee4be992561e",
   "metadata": {},
   "outputs": [],
   "source": [
    "from sklearn.model_selection import validation_curve\n",
    "\n",
    "param_range = [1, 2, 5, 10, 20, 50, 100]\n",
    "gbdt_train_scores, gbdt_test_scores = validation_curve(\n",
    "    gbdt,\n",
    "    data_train,\n",
    "    target_train,\n",
    "    param_name=\"n_estimators\",\n",
    "    param_range=param_range,\n",
    "    scoring=\"neg_mean_absolute_error\",\n",
    "    n_jobs=2,\n",
    ")\n",
    "gbdt_train_errors, gbdt_test_errors = -gbdt_train_scores, -gbdt_test_scores"
   ]
  },
  {
   "cell_type": "code",
   "execution_count": 7,
   "id": "e305ad79-684a-43ad-8645-2b31d7c67a5d",
   "metadata": {},
   "outputs": [
    {
     "data": {
      "image/png": "[encoded data removed]",
      "text/plain": [
       "<Figure size 432x288 with 1 Axes>"
      ]
     },
     "metadata": {
      "needs_background": "light"
     },
     "output_type": "display_data"
    }
   ],
   "source": [
    "import matplotlib.pyplot as plt\n",
    "\n",
    "plt.errorbar(\n",
    "    param_range,\n",
    "    gbdt_train_errors.mean(axis=1),\n",
    "    yerr=gbdt_train_errors.std(axis=1),\n",
    "    label=\"Training\",\n",
    ")\n",
    "plt.errorbar(\n",
    "    param_range,\n",
    "    gbdt_test_errors.mean(axis=1),\n",
    "    yerr=gbdt_test_errors.std(axis=1),\n",
    "    label=\"Cross-validation\",\n",
    ")\n",
    "\n",
    "plt.legend()\n",
    "plt.ylabel(\"Mean absolute error in k$\\n(smaller is better)\")\n",
    "plt.xlabel(\"# estimators\")\n",
    "_ = plt.title(\"Validation curve for GBDT regressor\")"
   ]
  },
  {
   "cell_type": "markdown",
   "id": "857ff7bc-56a2-4083-a723-0eb79e73f952",
   "metadata": {},
   "source": [
    "Unlike AdaBoost, the gradient boosting model will always improve when increasing the number of trees in the ensemble. However, it will reach a plateau where adding new trees will just make fitting and scoring slower.\n",
    "\n",
    "To avoid adding new unnecessary tree, gradient boosting offers an early-stopping option. Internally, the algorithm will use an out-of-sample set to compute the generalization performance of the model at each addition of a tree. Thus, if the generalization performance is not improving for several iterations, it will stop adding trees.\n",
    "\n",
    "Now create a gradient-boosting model with `n_estimators=1000`. This number of trees will be too large. Change the parameter `n_iter_no_change` such that the gradient boosting fitting will stop after adding 5 trees that do not improve the overall generalization performance."
   ]
  },
  {
   "cell_type": "code",
   "execution_count": 8,
   "id": "18c033e2-d63f-4d98-b40b-d2b8685e6921",
   "metadata": {},
   "outputs": [
    {
     "name": "stderr",
     "output_type": "stream",
     "text": [
      "/Users/athena/opt/miniconda3/envs/work/lib/python3.9/site-packages/sklearn/base.py:445: UserWarning: X does not have valid feature names, but GradientBoostingRegressor was fitted with feature names\n",
      "  warnings.warn(\n"
     ]
    },
    {
     "data": {
      "text/plain": [
       "294"
      ]
     },
     "execution_count": 8,
     "metadata": {},
     "output_type": "execute_result"
    }
   ],
   "source": [
    "gbdt = GradientBoostingRegressor(n_estimators=1000, n_iter_no_change=5)\n",
    "gbdt.fit(data_train, target_train)\n",
    "gbdt.n_estimators_"
   ]
  },
  {
   "cell_type": "markdown",
   "id": "8ad2e591-5c4d-4323-a919-74695517380f",
   "metadata": {},
   "source": [
    "We see that the number of trees used is far below 1000 with the current dataset. Training the GBDT with the entire 1000 trees would have been useless"
   ]
  },
  {
   "cell_type": "code",
   "execution_count": null,
   "id": "3122f2dd-2c40-4b4d-a367-0a61686899f5",
   "metadata": {},
   "outputs": [],
   "source": []
  }
 ],
 "metadata": {
  "kernelspec": {
   "display_name": "Python 3 (ipykernel)",
   "language": "python",
   "name": "python3"
  },
  "language_info": {
   "codemirror_mode": {
    "name": "ipython",
    "version": 3
   },
   "file_extension": ".py",
   "mimetype": "text/x-python",
   "name": "python",
   "nbconvert_exporter": "python",
   "pygments_lexer": "ipython3",
   "version": "3.9.7"
  }
 },
 "nbformat": 4,
 "nbformat_minor": 5
}
