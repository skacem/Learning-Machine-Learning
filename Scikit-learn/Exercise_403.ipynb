{
 "cells": [
  {
   "cell_type": "markdown",
   "id": "611b9363-8bbc-4a17-8590-7ac4aee6800d",
   "metadata": {},
   "source": [
    "# Exercise M4.04\n",
    "\n",
    "In this exercise, we will study the advantage of using regularization when dealing with correlated features.  \n",
    "We will first create a regression dataset. This dataset will contain 2000 samples and 5 features from which only 2 features will be informative."
   ]
  },
  {
   "cell_type": "code",
   "execution_count": 1,
   "id": "c7818af9-b23d-464a-a82b-f646d4128153",
   "metadata": {},
   "outputs": [],
   "source": [
    "from sklearn.datasets import make_regression\n",
    "\n",
    "data, target, coef = make_regression( n_samples=2_000,\n",
    "                                    n_features=5,\n",
    "                                    n_informative=2,\n",
    "                                    shuffle=False,\n",
    "                                    coef=True,\n",
    "                                    random_state=0,\n",
    "                                    noise=30)"
   ]
  },
  {
   "cell_type": "markdown",
   "id": "dd89312d-5b26-48c4-af12-9af7139d36a4",
   "metadata": {},
   "source": [
    "When creating the dataset, `make_regression` returns the true coefficient used to generate the dataset. Let's plot this information."
   ]
  },
  {
   "cell_type": "code",
   "execution_count": 2,
   "id": "ea0309a7-fd6f-47fe-8196-c20c9a00358e",
   "metadata": {},
   "outputs": [
    {
     "data": {
      "text/plain": [
       "Features 0     9.566665\n",
       "Features 1    40.192077\n",
       "Features 2     0.000000\n",
       "Features 3     0.000000\n",
       "Features 4     0.000000\n",
       "dtype: float64"
      ]
     },
     "execution_count": 2,
     "metadata": {},
     "output_type": "execute_result"
    },
    {
     "data": {
      "image/png": "[encoded data removed]",
      "text/plain": [
       "<Figure size 432x288 with 1 Axes>"
      ]
     },
     "metadata": {
      "needs_background": "light"
     },
     "output_type": "display_data"
    }
   ],
   "source": [
    "import pandas as pd\n",
    "\n",
    "feature_names = [f\"Features {i}\" for i in range(data.shape[1])]\n",
    "coef = pd.Series(coef, index=feature_names)\n",
    "coef.plot.barh()\n",
    "coef"
   ]
  },
  {
   "cell_type": "markdown",
   "id": "b38236ec-ef37-483f-a3e9-9a540a0b2d6c",
   "metadata": {},
   "source": [
    "Create a `LinearRegression` regressor and fit on the entire dataset and check the value of the coefficients. Are the  coefficients of the linear regressor close to the coefficients used to generate the dataset?"
   ]
  },
  {
   "cell_type": "code",
   "execution_count": 3,
   "id": "69ddb345-de31-4765-b684-e8823241b056",
   "metadata": {},
   "outputs": [],
   "source": [
    "from sklearn.linear_model import LinearRegression\n",
    "\n",
    "linear_regression = LinearRegression()\n",
    "model = linear_regression.fit(data, target)"
   ]
  },
  {
   "cell_type": "code",
   "execution_count": 4,
   "id": "c94e032d-fbf2-4f9c-a6b4-56966387574f",
   "metadata": {},
   "outputs": [
    {
     "data": {
      "text/plain": [
       "array([10.89587004, 40.41128042, -0.20542454, -0.18954462,  0.11129768])"
      ]
     },
     "execution_count": 4,
     "metadata": {},
     "output_type": "execute_result"
    }
   ],
   "source": [
    "model.coef_"
   ]
  },
  {
   "cell_type": "code",
   "execution_count": 5,
   "id": "d316dfd5-6855-4508-8700-ca2224a0298d",
   "metadata": {},
   "outputs": [
    {
     "data": {
      "image/png": "[encoded data removed]",
      "text/plain": [
       "<Figure size 432x288 with 1 Axes>"
      ]
     },
     "metadata": {
      "needs_background": "light"
     },
     "output_type": "display_data"
    }
   ],
   "source": [
    "feature_names = [f\"Features {i}\" for i in range(data.shape[1])]\n",
    "coef = pd.Series(linear_regression.coef_, index=feature_names)\n",
    "_ = coef.plot.barh()"
   ]
  },
  {
   "cell_type": "markdown",
   "id": "b8778903-5ffc-4e8a-907f-8852270c8a5c",
   "metadata": {},
   "source": [
    "We see that the coefficients are close to the coefficients used to generate the dataset. The dispersion is indeed caused by the noise injected during the dataset generation."
   ]
  },
  {
   "cell_type": "markdown",
   "id": "c3e492db-4ae6-4113-b25d-a797045acd4c",
   "metadata": {},
   "source": [
    "Now, we create the following new dataset:"
   ]
  },
  {
   "cell_type": "code",
   "execution_count": 23,
   "id": "d7f24375-ab12-4dd5-8258-ce48721cb8c6",
   "metadata": {},
   "outputs": [],
   "source": [
    "import numpy as np\n",
    "\n",
    "data = np.concatenate([data, data[:, [0, 1]], data[:, [0, 1]]], axis=1)"
   ]
  },
  {
   "cell_type": "markdown",
   "id": "5660c49e-9aa8-4c9d-94e4-6c044180f006",
   "metadata": {},
   "source": [
    "We fit again the linear regressor on this new dataset."
   ]
  },
  {
   "cell_type": "code",
   "execution_count": 24,
   "id": "7f4ed3b8-2328-4bbf-a762-d1f0d105cc18",
   "metadata": {},
   "outputs": [
    {
     "data": {
      "text/plain": [
       "array([ 1.31388260e+12, -1.59473665e+14, -1.99218750e-01, -1.68457031e-01,\n",
       "        9.52148438e-02, -6.56941302e+11,  4.12806902e+13, -6.56941302e+11,\n",
       "        1.18192975e+14])"
      ]
     },
     "execution_count": 24,
     "metadata": {},
     "output_type": "execute_result"
    }
   ],
   "source": [
    "linear_regression = LinearRegression()\n",
    "linear_regression.fit(data, target)\n",
    "linear_regression.coef_"
   ]
  },
  {
   "cell_type": "code",
   "execution_count": 25,
   "id": "895f6ec8-f888-48e5-88ee-441409265ce7",
   "metadata": {},
   "outputs": [
    {
     "data": {
      "image/png": "[encoded data removed]",
      "text/plain": [
       "<Figure size 432x288 with 1 Axes>"
      ]
     },
     "metadata": {
      "needs_background": "light"
     },
     "output_type": "display_data"
    }
   ],
   "source": [
    "feature_names = [f\"Features {i}\" for i in range(data.shape[1])]\n",
    "coef = pd.Series(linear_regression.coef_, index=feature_names)\n",
    "_ = coef.plot.barh()"
   ]
  },
  {
   "cell_type": "markdown",
   "id": "f64e135c-7b9c-4a0d-945a-bb1980cb0178",
   "metadata": {},
   "source": [
    "We see that the coefficient values are far from what one could expect. By repeating the informative features, one would have expected these coefficients to be similarly informative.  \n",
    "Instead, we see that some coefficients have a huge norm. It means that we try to solve an ill-posed mathematical problem. Finding coefficients in a linear regression involves inverting the matrix `np.dot(data.T, data)` which is not possible.\n",
    "\n",
    "Now Let's create a ridge regressor and fit on the same dataset:"
   ]
  },
  {
   "cell_type": "code",
   "execution_count": 26,
   "id": "7ca2fe71-41b7-46e7-97c8-5e5f84a2e3aa",
   "metadata": {},
   "outputs": [
    {
     "data": {
      "text/plain": [
       "array([ 3.6313933 , 13.46802113, -0.20549345, -0.18929961,  0.11117205,\n",
       "        3.6313933 , 13.46802113,  3.6313933 , 13.46802113])"
      ]
     },
     "execution_count": 26,
     "metadata": {},
     "output_type": "execute_result"
    }
   ],
   "source": [
    "from sklearn.linear_model import Ridge\n",
    "\n",
    "ridge = Ridge()\n",
    "ridge.fit(data, target)\n",
    "ridge.coef_"
   ]
  },
  {
   "cell_type": "code",
   "execution_count": 27,
   "id": "dbd2d1a2-2f62-4ff6-9a8b-9bcee2998164",
   "metadata": {},
   "outputs": [
    {
     "data": {
      "image/png": "[encoded data removed]",
      "text/plain": [
       "<Figure size 432x288 with 1 Axes>"
      ]
     },
     "metadata": {
      "needs_background": "light"
     },
     "output_type": "display_data"
    }
   ],
   "source": [
    "coef = pd.Series(ridge.coef_, index=feature_names)\n",
    "_ = coef.plot.barh()"
   ]
  },
  {
   "cell_type": "markdown",
   "id": "2f8af228-3ce4-4411-9795-aa50b4d7ad5b",
   "metadata": {},
   "source": [
    "We see that the penalty applied on the weights give a better results: the values of the coefficients do not suffer from numerical issues. Indeed, the matrix to be inverted internally is `np.dot(data.T, data) + alpha * I`. Adding this penalty `alpha` allow the inversion without numerical issue."
   ]
  },
  {
   "cell_type": "markdown",
   "id": "6297d9d7-5886-47e9-b884-df0d924615bf",
   "metadata": {},
   "source": [
    "<div class=\"alert alert-block alert-info\">\n",
    "<b>Tip:</b> <br>\n",
    "    We always advise to use l2-penalized model instead of non-penalized model in practice. In scikit-learn, `LogisticRegression` applies such penalty by default. However, one needs to  use Ridge instead of `LineaRegression`</div>"
   ]
  },
  {
   "cell_type": "code",
   "execution_count": null,
   "id": "06b82c5d-f8d6-45a3-b772-fdcc28b5dd7c",
   "metadata": {},
   "outputs": [],
   "source": []
  }
 ],
 "metadata": {
  "kernelspec": {
   "display_name": "Python 3 (ipykernel)",
   "language": "python",
   "name": "python3"
  },
  "language_info": {
   "codemirror_mode": {
    "name": "ipython",
    "version": 3
   },
   "file_extension": ".py",
   "mimetype": "text/x-python",
   "name": "python",
   "nbconvert_exporter": "python",
   "pygments_lexer": "ipython3",
   "version": "3.9.7"
  }
 },
 "nbformat": 4,
 "nbformat_minor": 5
}
