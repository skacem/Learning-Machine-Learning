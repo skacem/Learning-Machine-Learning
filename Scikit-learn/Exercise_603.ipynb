{
 "cells": [
  {
   "cell_type": "markdown",
   "id": "b65ffc7e-6d5d-4440-bc54-7b88479c0e84",
   "metadata": {},
   "source": [
    "# Exercise M6.03\n",
    "\n",
    "This exercise aims at verifying if AdaBoost can over-fit. We will make a grid-search and check the scores by varying the number of estimators.\n",
    "\n",
    "We will first load the California housing dataset and split it into training and a testing set."
   ]
  },
  {
   "cell_type": "code",
   "execution_count": 1,
   "id": "3c1d7ca1-e91f-45eb-a05b-7ea6efae7880",
   "metadata": {},
   "outputs": [],
   "source": [
    "from sklearn.datasets import fetch_california_housing\n",
    "from sklearn.model_selection import train_test_split\n",
    "\n",
    "data, target = fetch_california_housing(return_X_y=True, as_frame=True)\n",
    "target *= 100 # rescale the target in k$\n",
    "data_train, data_test, target_train, target_test = train_test_split(data, target, random_state=0,\n",
    "                                                                   test_size=.5)"
   ]
  },
  {
   "cell_type": "markdown",
   "id": "a3e78e55-cdd6-4088-817c-666c00729218",
   "metadata": {},
   "source": [
    "Then, create and AdaBoostRegressor instance. We use the function `sklearn.model_selection.validation_curve` to get training and test scores by varying the number of estimators. The mean absolute error as a metric is obtained by passing `scoring=\"neg_mean_absolute_error\"`. "
   ]
  },
  {
   "cell_type": "code",
   "execution_count": 6,
   "id": "ea1b99df-be13-42e5-aca2-e559b779cf55",
   "metadata": {},
   "outputs": [],
   "source": [
    "import numpy as np\n",
    "from sklearn.ensemble import AdaBoostRegressor\n",
    "from sklearn.model_selection import validation_curve"
   ]
  },
  {
   "cell_type": "code",
   "execution_count": 15,
   "id": "ef4b7fcb-d027-4f69-a23b-286d85d74d37",
   "metadata": {},
   "outputs": [],
   "source": [
    "adaboost = AdaBoostRegressor(random_state=0)\n",
    "param_range = np.unique(np.logspace(0, 1.78, num=30).astype(int))\n",
    "train_scores, test_scores = validation_curve(adaboost,\n",
    "                                            data_train, target_train,\n",
    "                                            param_name=\"n_estimators\",\n",
    "                                            param_range=param_range,\n",
    "                                            scoring=\"neg_mean_absolute_error\",\n",
    "                                            n_jobs=2)\n",
    "train_errors, test_errors = -train_scores, -test_scores"
   ]
  },
  {
   "cell_type": "markdown",
   "id": "6e695e93-f27d-4828-83a0-045abcea5931",
   "metadata": {},
   "source": [
    "Plot both the mean training and test errors. You can also plot the standard deviation of the errors"
   ]
  },
  {
   "cell_type": "code",
   "execution_count": 16,
   "id": "37f013cd-a04a-43aa-8de3-1228d28d0fbf",
   "metadata": {},
   "outputs": [],
   "source": [
    "import matplotlib.pyplot as plt"
   ]
  },
  {
   "cell_type": "code",
   "execution_count": 17,
   "id": "3384bc24-9589-4086-89cd-5e4efd12b560",
   "metadata": {},
   "outputs": [
    {
     "data": {
      "text/plain": [
       "Text(0.5, 1.0, 'Validation curve for AdaBoost regressor')"
      ]
     },
     "execution_count": 17,
     "metadata": {},
     "output_type": "execute_result"
    },
    {
     "data": {
      "image/png": "[encoded data removed]",
      "text/plain": [
       "<Figure size 432x288 with 1 Axes>"
      ]
     },
     "metadata": {
      "needs_background": "light"
     },
     "output_type": "display_data"
    }
   ],
   "source": [
    "plt.errorbar(param_range, train_errors.mean(axis=1),\n",
    "            yerr=train_errors.std(axis=1), label=\"Training score\",\n",
    "            alpha=.7)\n",
    "plt.errorbar(param_range, test_errors.mean(axis=1),\n",
    "            yerr=test_errors.std(axis=1), label=\"Cross-validation score\",\n",
    "            alpha=.7)\n",
    "plt.legend()\n",
    "plt.ylabel('Mean absolute error in k$\\n(smaller is better)')\n",
    "plt.xlabel('# estimators')\n",
    "plt.title('Validation curve for AdaBoost regressor')"
   ]
  },
  {
   "cell_type": "code",
   "execution_count": 14,
   "id": "018d5e12-6dac-45ef-8d1e-0dab4b171447",
   "metadata": {},
   "outputs": [
    {
     "data": {
      "text/plain": [
       "array([ 1,  2,  3,  4,  5,  6,  7,  8,  9, 11, 13, 15, 17, 20, 24, 28, 32,\n",
       "       38, 44, 51, 60])"
      ]
     },
     "execution_count": 14,
     "metadata": {},
     "output_type": "execute_result"
    }
   ],
   "source": [
    "np.unique(np.logspace(0, 1.78, num=28).astype(int))"
   ]
  },
  {
   "cell_type": "code",
   "execution_count": null,
   "id": "63ead2a7-584b-47b8-9a75-d94239bc61da",
   "metadata": {},
   "outputs": [],
   "source": []
  }
 ],
 "metadata": {
  "kernelspec": {
   "display_name": "Python 3 (ipykernel)",
   "language": "python",
   "name": "python3"
  },
  "language_info": {
   "codemirror_mode": {
    "name": "ipython",
    "version": 3
   },
   "file_extension": ".py",
   "mimetype": "text/x-python",
   "name": "python",
   "nbconvert_exporter": "python",
   "pygments_lexer": "ipython3",
   "version": "3.9.7"
  }
 },
 "nbformat": 4,
 "nbformat_minor": 5
}
