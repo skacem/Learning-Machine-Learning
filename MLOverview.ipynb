{
 "cells": [
  {
   "cell_type": "markdown",
   "id": "679f5d70-e6e9-4152-a2c0-3b946f6ff760",
   "metadata": {},
   "source": [
    "# ML Models Overview"
   ]
  },
  {
   "cell_type": "code",
   "execution_count": 1,
   "id": "d5058ed7-6b83-48e9-8064-691b79a95cba",
   "metadata": {
    "tags": []
   },
   "outputs": [],
   "source": [
    "# Standard imports\n",
    "import pandas as pd\n",
    "import numpy as np\n",
    "import matplotlib.pyplot as plt\n",
    "import seaborn as sns\n",
    "\n",
    "# We do this to ignore several specific warnings\n",
    "import warnings\n",
    "warnings.filterwarnings(\"ignore\")\n",
    "\n",
    "# Set up Notebook\n",
    "sns.set(style=\"white\")"
   ]
  },
  {
   "cell_type": "markdown",
   "id": "8a81aa0f-7a97-443c-b6ab-6d97c43974ef",
   "metadata": {},
   "source": [
    "## Data Exploration\n",
    "\n",
    "Cross Industry Standard Process for Data Mining (CRISP-DM) breaks the process of data mining into six major steps:\n",
    "1. Business understanding\n",
    "2. Data understanding\n",
    "3. Data preparation\n",
    "4. Modeling\n",
    "5. Evaluation\n",
    "6. Deployment  \n",
    "\n",
    "The sequence of the phases is not strict and moving back and forth between different phases as it is always required"
   ]
  },
  {
   "cell_type": "code",
   "execution_count": 2,
   "id": "808e1430-760a-4f39-ac46-ef197bfc0582",
   "metadata": {},
   "outputs": [
    {
     "data": {
      "text/html": [
       "<div>\n",
       "<style scoped>\n",
       "    .dataframe tbody tr th:only-of-type {\n",
       "        vertical-align: middle;\n",
       "    }\n",
       "\n",
       "    .dataframe tbody tr th {\n",
       "        vertical-align: top;\n",
       "    }\n",
       "\n",
       "    .dataframe thead th {\n",
       "        text-align: right;\n",
       "    }\n",
       "</style>\n",
       "<table border=\"1\" class=\"dataframe\">\n",
       "  <thead>\n",
       "    <tr style=\"text-align: right;\">\n",
       "      <th></th>\n",
       "      <th>sepal_length</th>\n",
       "      <th>sepal_width</th>\n",
       "      <th>petal_length</th>\n",
       "      <th>petal_width</th>\n",
       "      <th>species</th>\n",
       "    </tr>\n",
       "  </thead>\n",
       "  <tbody>\n",
       "    <tr>\n",
       "      <th>128</th>\n",
       "      <td>6.4</td>\n",
       "      <td>2.8</td>\n",
       "      <td>5.6</td>\n",
       "      <td>2.1</td>\n",
       "      <td>virginica</td>\n",
       "    </tr>\n",
       "    <tr>\n",
       "      <th>90</th>\n",
       "      <td>5.5</td>\n",
       "      <td>2.6</td>\n",
       "      <td>4.4</td>\n",
       "      <td>1.2</td>\n",
       "      <td>versicolor</td>\n",
       "    </tr>\n",
       "    <tr>\n",
       "      <th>145</th>\n",
       "      <td>6.7</td>\n",
       "      <td>3.0</td>\n",
       "      <td>5.2</td>\n",
       "      <td>2.3</td>\n",
       "      <td>virginica</td>\n",
       "    </tr>\n",
       "    <tr>\n",
       "      <th>111</th>\n",
       "      <td>6.4</td>\n",
       "      <td>2.7</td>\n",
       "      <td>5.3</td>\n",
       "      <td>1.9</td>\n",
       "      <td>virginica</td>\n",
       "    </tr>\n",
       "    <tr>\n",
       "      <th>56</th>\n",
       "      <td>6.3</td>\n",
       "      <td>3.3</td>\n",
       "      <td>4.7</td>\n",
       "      <td>1.6</td>\n",
       "      <td>versicolor</td>\n",
       "    </tr>\n",
       "  </tbody>\n",
       "</table>\n",
       "</div>"
      ],
      "text/plain": [
       "     sepal_length  sepal_width  petal_length  petal_width     species\n",
       "128           6.4          2.8           5.6          2.1   virginica\n",
       "90            5.5          2.6           4.4          1.2  versicolor\n",
       "145           6.7          3.0           5.2          2.3   virginica\n",
       "111           6.4          2.7           5.3          1.9   virginica\n",
       "56            6.3          3.3           4.7          1.6  versicolor"
      ]
     },
     "execution_count": 2,
     "metadata": {},
     "output_type": "execute_result"
    }
   ],
   "source": [
    "# Load the iris dataset\n",
    "iris = sns.load_dataset('iris')\n",
    "# Check if the data was loaded correctly\n",
    "iris.sample(5)"
   ]
  },
  {
   "cell_type": "code",
   "execution_count": 3,
   "id": "e1af10e0-50f8-4330-bb0e-b120dff69961",
   "metadata": {},
   "outputs": [
    {
     "name": "stdout",
     "output_type": "stream",
     "text": [
      "<class 'pandas.core.frame.DataFrame'>\n",
      "RangeIndex: 150 entries, 0 to 149\n",
      "Data columns (total 5 columns):\n",
      " #   Column        Non-Null Count  Dtype  \n",
      "---  ------        --------------  -----  \n",
      " 0   sepal_length  150 non-null    float64\n",
      " 1   sepal_width   150 non-null    float64\n",
      " 2   petal_length  150 non-null    float64\n",
      " 3   petal_width   150 non-null    float64\n",
      " 4   species       150 non-null    object \n",
      "dtypes: float64(4), object(1)\n",
      "memory usage: 6.0+ KB\n"
     ]
    }
   ],
   "source": [
    "# Get some info\n",
    "iris.info()"
   ]
  },
  {
   "cell_type": "code",
   "execution_count": 4,
   "id": "0a05d60d-9ed1-47c3-8162-7d622ee4925c",
   "metadata": {},
   "outputs": [
    {
     "data": {
      "text/html": [
       "<div>\n",
       "<style scoped>\n",
       "    .dataframe tbody tr th:only-of-type {\n",
       "        vertical-align: middle;\n",
       "    }\n",
       "\n",
       "    .dataframe tbody tr th {\n",
       "        vertical-align: top;\n",
       "    }\n",
       "\n",
       "    .dataframe thead th {\n",
       "        text-align: right;\n",
       "    }\n",
       "</style>\n",
       "<table border=\"1\" class=\"dataframe\">\n",
       "  <thead>\n",
       "    <tr style=\"text-align: right;\">\n",
       "      <th></th>\n",
       "      <th>sepal_length</th>\n",
       "      <th>sepal_width</th>\n",
       "      <th>petal_length</th>\n",
       "      <th>petal_width</th>\n",
       "    </tr>\n",
       "    <tr>\n",
       "      <th>species</th>\n",
       "      <th></th>\n",
       "      <th></th>\n",
       "      <th></th>\n",
       "      <th></th>\n",
       "    </tr>\n",
       "  </thead>\n",
       "  <tbody>\n",
       "    <tr>\n",
       "      <th>setosa</th>\n",
       "      <td>50</td>\n",
       "      <td>50</td>\n",
       "      <td>50</td>\n",
       "      <td>50</td>\n",
       "    </tr>\n",
       "    <tr>\n",
       "      <th>versicolor</th>\n",
       "      <td>50</td>\n",
       "      <td>50</td>\n",
       "      <td>50</td>\n",
       "      <td>50</td>\n",
       "    </tr>\n",
       "    <tr>\n",
       "      <th>virginica</th>\n",
       "      <td>50</td>\n",
       "      <td>50</td>\n",
       "      <td>50</td>\n",
       "      <td>50</td>\n",
       "    </tr>\n",
       "  </tbody>\n",
       "</table>\n",
       "</div>"
      ],
      "text/plain": [
       "            sepal_length  sepal_width  petal_length  petal_width\n",
       "species                                                         \n",
       "setosa                50           50            50           50\n",
       "versicolor            50           50            50           50\n",
       "virginica             50           50            50           50"
      ]
     },
     "execution_count": 4,
     "metadata": {},
     "output_type": "execute_result"
    }
   ],
   "source": [
    "# Examine grouped data\n",
    "iris.groupby('species').count()"
   ]
  },
  {
   "cell_type": "code",
   "execution_count": 5,
   "id": "b5f6dafb-df0c-4843-bbf5-837eaa088bb7",
   "metadata": {},
   "outputs": [
    {
     "data": {
      "text/html": [
       "<div>\n",
       "<style scoped>\n",
       "    .dataframe tbody tr th:only-of-type {\n",
       "        vertical-align: middle;\n",
       "    }\n",
       "\n",
       "    .dataframe tbody tr th {\n",
       "        vertical-align: top;\n",
       "    }\n",
       "\n",
       "    .dataframe thead th {\n",
       "        text-align: right;\n",
       "    }\n",
       "</style>\n",
       "<table border=\"1\" class=\"dataframe\">\n",
       "  <thead>\n",
       "    <tr style=\"text-align: right;\">\n",
       "      <th></th>\n",
       "      <th>sepal_length</th>\n",
       "      <th>sepal_width</th>\n",
       "      <th>petal_length</th>\n",
       "      <th>petal_width</th>\n",
       "    </tr>\n",
       "  </thead>\n",
       "  <tbody>\n",
       "    <tr>\n",
       "      <th>count</th>\n",
       "      <td>150.000000</td>\n",
       "      <td>150.000000</td>\n",
       "      <td>150.000000</td>\n",
       "      <td>150.000000</td>\n",
       "    </tr>\n",
       "    <tr>\n",
       "      <th>mean</th>\n",
       "      <td>5.843333</td>\n",
       "      <td>3.057333</td>\n",
       "      <td>3.758000</td>\n",
       "      <td>1.199333</td>\n",
       "    </tr>\n",
       "    <tr>\n",
       "      <th>std</th>\n",
       "      <td>0.828066</td>\n",
       "      <td>0.435866</td>\n",
       "      <td>1.765298</td>\n",
       "      <td>0.762238</td>\n",
       "    </tr>\n",
       "    <tr>\n",
       "      <th>min</th>\n",
       "      <td>4.300000</td>\n",
       "      <td>2.000000</td>\n",
       "      <td>1.000000</td>\n",
       "      <td>0.100000</td>\n",
       "    </tr>\n",
       "    <tr>\n",
       "      <th>25%</th>\n",
       "      <td>5.100000</td>\n",
       "      <td>2.800000</td>\n",
       "      <td>1.600000</td>\n",
       "      <td>0.300000</td>\n",
       "    </tr>\n",
       "    <tr>\n",
       "      <th>50%</th>\n",
       "      <td>5.800000</td>\n",
       "      <td>3.000000</td>\n",
       "      <td>4.350000</td>\n",
       "      <td>1.300000</td>\n",
       "    </tr>\n",
       "    <tr>\n",
       "      <th>75%</th>\n",
       "      <td>6.400000</td>\n",
       "      <td>3.300000</td>\n",
       "      <td>5.100000</td>\n",
       "      <td>1.800000</td>\n",
       "    </tr>\n",
       "    <tr>\n",
       "      <th>max</th>\n",
       "      <td>7.900000</td>\n",
       "      <td>4.400000</td>\n",
       "      <td>6.900000</td>\n",
       "      <td>2.500000</td>\n",
       "    </tr>\n",
       "  </tbody>\n",
       "</table>\n",
       "</div>"
      ],
      "text/plain": [
       "       sepal_length  sepal_width  petal_length  petal_width\n",
       "count    150.000000   150.000000    150.000000   150.000000\n",
       "mean       5.843333     3.057333      3.758000     1.199333\n",
       "std        0.828066     0.435866      1.765298     0.762238\n",
       "min        4.300000     2.000000      1.000000     0.100000\n",
       "25%        5.100000     2.800000      1.600000     0.300000\n",
       "50%        5.800000     3.000000      4.350000     1.300000\n",
       "75%        6.400000     3.300000      5.100000     1.800000\n",
       "max        7.900000     4.400000      6.900000     2.500000"
      ]
     },
     "execution_count": 5,
     "metadata": {},
     "output_type": "execute_result"
    }
   ],
   "source": [
    "# Get descriptive statistics\n",
    "iris.describe()"
   ]
  },
  {
   "cell_type": "code",
   "execution_count": 6,
   "id": "79902f32-42ec-434e-a6f9-055b73131514",
   "metadata": {},
   "outputs": [
    {
     "data": {
      "text/plain": [
       "<seaborn.axisgrid.PairGrid at 0x7faea3151940>"
      ]
     },
     "execution_count": 6,
     "metadata": {},
     "output_type": "execute_result"
    },
    {
     "data": {
      "image/png": "[encoded data removed]",
      "text/plain": [
       "<Figure size 806.85x720 with 20 Axes>"
      ]
     },
     "metadata": {},
     "output_type": "display_data"
    }
   ],
   "source": [
    "# Pair plot\n",
    "g = sns.PairGrid(iris, hue='species')\n",
    "g.map_diag(plt.hist) # with histograms down the diagonal\n",
    "g.map_offdiag(plt.scatter) # and scatter plots of the diagonal\n",
    "g.add_legend()\n"
   ]
  },
  {
   "cell_type": "markdown",
   "id": "52ac1aa3-10c9-4dec-998c-b61ade5e22e9",
   "metadata": {
    "tags": []
   },
   "source": [
    "As we can see the three iris species cluster naturally in these dimensions, with a minimal overlap.  \n",
    "\n",
    "## Scikit-Learn\n",
    "Let's use sklearn to train a model and test for different machine learning algorithms.   \n",
    "The sklearn module works directly on NumPy arrays and **not on a Pandas DataFrame**, so our next step is to build explicit data and label NumPy arrays.  \n",
    "One caveat to this process is that the sklearn module expects two dimensional matrices (or arrays). Thus, if we have a vector (or one-dimensional array) for our data features, we must explicitly convert this to a two-dimensional matrix, which involves a call to the Numpy `np.reshape` method."
   ]
  },
  {
   "cell_type": "markdown",
   "id": "49afd2df-45f0-4bd5-a38f-df4081724110",
   "metadata": {},
   "source": [
    "We can grab the underlying Numpy two-dimensional array from a DF by using the `values` attribute to select all four features"
   ]
  },
  {
   "cell_type": "code",
   "execution_count": 7,
   "id": "93367e86-fe58-415a-bdbe-6a7e015426f7",
   "metadata": {},
   "outputs": [
    {
     "data": {
      "text/plain": [
       "array([[5.1, 3.5, 1.4, 0.2],\n",
       "       [4.9, 3. , 1.4, 0.2],\n",
       "       [4.7, 3.2, 1.3, 0.2],\n",
       "       [4.6, 3.1, 1.5, 0.2],\n",
       "       [5. , 3.6, 1.4, 0.2]])"
      ]
     },
     "execution_count": 7,
     "metadata": {},
     "output_type": "execute_result"
    }
   ],
   "source": [
    "# From DF to array:\n",
    "data = iris[['sepal_length', 'sepal_width', 'petal_length', 'petal_width']].values\n",
    "data[:5]"
   ]
  },
  {
   "cell_type": "code",
   "execution_count": 8,
   "id": "604eaaf8-381c-46ab-9beb-7b0a7140688d",
   "metadata": {},
   "outputs": [],
   "source": [
    "# transform iris labels to integer [0:3]\n",
    "labels = np.array([i//50 for i in range(iris.shape[0])])\n",
    "label_names = ['Setosa', 'Versicolor', 'Virginica']"
   ]
  },
  {
   "cell_type": "markdown",
   "id": "d88f71b9-29c4-4abc-aebd-286f1979121f",
   "metadata": {},
   "source": [
    "With these new data structures, we can begin to apply machine learning algorithms from the scikit-learn module. But let's first generate one scatter plot that displays a larger version of the sepal width versus petal width"
   ]
  },
  {
   "cell_type": "code",
   "execution_count": 9,
   "id": "a6ee7cd2-6e8e-46a4-8787-e6123a590547",
   "metadata": {},
   "outputs": [
    {
     "data": {
      "image/png": "[encoded data removed]",
      "text/plain": [
       "<Figure size 720x720 with 1 Axes>"
      ]
     },
     "metadata": {},
     "output_type": "display_data"
    }
   ],
   "source": [
    "from matplotlib import cm\n",
    "\n",
    "fig, aux = plt.subplots(figsize=(10, 10))\n",
    "\n",
    "x = data[:, 1]\n",
    "y = data[:, 3]\n",
    "        \n",
    "for idx in np.unique(labels):\n",
    "    # Convert index into an int\n",
    "    i = int(idx)\n",
    "    plt.scatter(x[labels == i], y[labels == i], label=f'{label_names[i]}',\n",
    "               s=200, alpha = .5, cmap=cm.coolwarm) \n",
    "\n",
    "# Decorate and clean plot\n",
    "aux.set_xlabel('Sepal Width', fontsize=16)\n",
    "aux.set_ylabel('Petal Width', fontsize=16)\n",
    "aux.legend(loc = 7, labelspacing=2)\n",
    "aux.set_title(\"Iris Classification Demonstration\", fontsize=18)\n",
    "sns.despine(offset=0, trim=True)"
   ]
  },
  {
   "cell_type": "markdown",
   "id": "b59b785f-33c3-41be-8212-e446d8f8e772",
   "metadata": {},
   "source": [
    "Broadly speaking, the application of a machine learning algorithm will be one of four different categories:\n",
    "\n",
    "1. Classification: generates a model that predicts discrete categories for new, unseen data.\n",
    "2. Regression: generates a model that predicts continuous values for new, unseen data.\n",
    "3. Dimensionality reduction: identifies (and optionally ranks) the most important (potentially new) features (or dimensions) for a data set.\n",
    "4. Clustering: identifies clusters of instances in an  $N$-dimensional feature space."
   ]
  },
  {
   "cell_type": "markdown",
   "id": "ed0e633e-7fbe-4b03-8e98-55985d8cfa0e",
   "metadata": {},
   "source": [
    "The general approach to using scikit-learn is to follow the following steps:\n",
    "1. Given the application type (classification, regression, dimensional reduction, or clustering) create the appropriate scikit-learn estimator.\n",
    "2. Determine the best [Hyperparameters][1]\n",
    "3. Extract the feature matrix, and if appropriate, the target vector (our labels array)\n",
    "4. Apply the `fit` method for the selected estimator to generate a best fit model.\n",
    "5. Apply the generated model to new data by calling the:\n",
    "    * `predict` method for classification and regression applications,\n",
    "    * `transform` method for dimensional reduction applications, and\n",
    "    * either predict or transform for clustering applications, depending on whether data are being assigned to clusters (predict) or the data are being converted so that the distances from each data point to each cluster center are computed (transform)\n",
    "6. Finally, as appropriate, the efficacy of the machine learning algorithm can be computed for test data by calling an appropriate `score` method (and other available performance metrics)\n",
    "\n",
    "[1]: In opposition to parameters, hyperparameters are values that cannot be estimated from the data being analyzed. They are external to a specific machine learning algorithm. A hyperparameter is generally specified by the programmer prior to the start of the learning process. As a result, the hyperparameter directly influences the performance of the algorithm and thus is a tunable parameter."
   ]
  },
  {
   "cell_type": "markdown",
   "id": "669577db-345f-4adf-a101-0580ad19d707",
   "metadata": {},
   "source": [
    "## Data Pre-Processing"
   ]
  },
  {
   "cell_type": "code",
   "execution_count": 15,
   "id": "c9fcc624-c647-4dbb-aadb-05053ba4ba3b",
   "metadata": {},
   "outputs": [
    {
     "name": "stdout",
     "output_type": "stream",
     "text": [
      "Training data length: 90\n",
      "Test data length: 60\n"
     ]
    }
   ],
   "source": [
    "from sklearn.model_selection import train_test_split\n",
    "\n",
    "# Split data into training and testing\n",
    "# Note that we ahve both 'data' and 'labels'\n",
    "d_train, d_test, l_train, l_test = train_test_split(data, labels, test_size=0.4, random_state=23)\n",
    "print(f'Training data length: {len(d_train)}\\n'\n",
    "     f'Test data length: {len(d_test)}')"
   ]
  },
  {
   "cell_type": "markdown",
   "id": "e8335629-c8ed-44a3-a6cf-c112499e37a6",
   "metadata": {},
   "source": [
    "### Data Scaling"
   ]
  },
  {
   "cell_type": "markdown",
   "id": "841cbc63-3c7c-414d-8228-9a04c2a8c84a",
   "metadata": {},
   "source": [
    "Scikit-learn library estimators are sensitive to variations in the spread of features within a data set. The algorithm might focus on the  one feature with a larger spread, even if this produces a sub-optimal result. To prevent this, we generally scale the features to improve the performance of a given scikit-learn estimastor.\n",
    "\n",
    "Data scaling in scikit-learn can take several forms:\n",
    "* **Standardization**: the data are scaled to have zero mean and unit (i.e. one) variance.\n",
    "* **Normalization**: the data are scaled to have unit mean and variance.\n",
    "* **Range**: the data are scaled to span a defined range, such as \\[0, 1\\]\n",
    "* **Binarization**: the data are thresholded such that values below the threshold are zero (or False), and above the threshold are one (or True)\n",
    "\n",
    "*Any scaling technique should be trained via the `fit` method on the training data. Once trained, the scaling technique can be applied equally to the training and testing data.*"
   ]
  },
  {
   "cell_type": "code",
   "execution_count": 13,
   "id": "62064bfa-0c63-49d4-897f-2b7b2ffaf3dc",
   "metadata": {},
   "outputs": [
    {
     "name": "stdout",
     "output_type": "stream",
     "text": [
      "[6.7 3.  5.  1.7] [ 1.14223232 -0.02334012  0.71995791  0.65054316]\n",
      "[4.7 3.2 1.6 0.2] [-1.40234464  0.44346228 -1.23485239 -1.34544153]\n",
      "[5.8 2.6 4.  1.2] [-0.00282731 -0.95694493  0.14501371 -0.01478507]\n",
      "[5.1 3.3 1.7 0.5] [-0.89342924  0.67686349 -1.17735797 -0.94624459]\n",
      "[6.4 2.8 5.6 2.1] [ 0.76054578 -0.49014253  1.06492443  1.18280574]\n",
      "[5.5 2.3 4.  1.3] [-0.38451385 -1.65714854  0.14501371  0.11828057]\n",
      "[6.8 2.8 4.8 1.4] [ 1.26946117 -0.49014253  0.60496907  0.25134622]\n",
      "[6.4 2.8 5.6 2.2] [ 0.76054578 -0.49014253  1.06492443  1.31587139]\n",
      "[5.8 2.8 5.1 2.4] [-0.00282731 -0.49014253  0.77745233  1.58200268]\n",
      "[6.3 2.5 4.9 1.5] [ 0.63331693 -1.19034613  0.66246349  0.38441187]\n"
     ]
    }
   ],
   "source": [
    "from sklearn.preprocessing import StandardScaler\n",
    "\n",
    "# Create and fit scaler\n",
    "sc = StandardScaler().fit(d_train)\n",
    "\n",
    "d_train_sc = sc.transform(d_train)\n",
    "d_test_sc = sc.transform(d_test)\n",
    "\n",
    "for val, val_sc in zip(d_train[:10], d_train_sc[:10]):\n",
    "    print(val, val_sc)"
   ]
  },
  {
   "cell_type": "code",
   "execution_count": 18,
   "id": "6c0ed5f1-3676-4bbd-9bc0-9648637f3cd3",
   "metadata": {},
   "outputs": [
    {
     "name": "stdout",
     "output_type": "stream",
     "text": [
      "[-1.91126003 -2.35735214 -1.57981891 -1.47850718]\n",
      "[2.4145208  3.24427671 1.8123519  1.71506833]\n"
     ]
    }
   ],
   "source": [
    "# Print out the min and max for each column in the array\n",
    "print(np.amin(d_train_sc, axis=0))\n",
    "print(np.amax(d_train_sc, axis=0))"
   ]
  },
  {
   "cell_type": "markdown",
   "id": "66daae20-3687-4c45-b74a-0e7e66efefb0",
   "metadata": {},
   "source": [
    "With our data properly divided into training and testing samples, and the features appropriately scaled, we now change to the application of machine learning algorithms by using the appropriate estimator from the scikit-learn library."
   ]
  },
  {
   "cell_type": "markdown",
   "id": "d7da767c-88db-4843-92ba-56fa9df84644",
   "metadata": {},
   "source": [
    "### Classification"
   ]
  },
  {
   "cell_type": "markdown",
   "id": "4168271d-0fb1-43c0-ad94-688a36ea3671",
   "metadata": {},
   "source": [
    "The first type of algorithm we will demonstrate is calssification, where we train an estimator to generate a model for the prediction of discrete labels.   \n",
    "The following code cell we perform k-Nearst Neighbors (KNN) classification by using scikit-learn. The standard classification process in scikit-learn is to: \n",
    "1. first fit a model to the training data and \n",
    "2. to subsequently apply this model to predict values for the testing data.\n",
    "3. Then we compute an accuracy measurement for our trained algotithm by using the `score` method"
   ]
  },
  {
   "cell_type": "code",
   "execution_count": 19,
   "id": "6bf78ab0-b0a4-4750-afde-6ff8a0d234e9",
   "metadata": {},
   "outputs": [
    {
     "name": "stdout",
     "output_type": "stream",
     "text": [
      "KNN (5 neighbors) prediction accuracy =  96.7%\n"
     ]
    }
   ],
   "source": [
    "# Let's try KNN\n",
    "from sklearn import neighbors\n",
    "\n",
    "# The number of neghbors affects performance\n",
    "nbrs = 5\n",
    "\n",
    "# First we construct our model\n",
    "knn = neighbors.KNeighborsClassifier(n_neighbors=nbrs)\n",
    "\n",
    "# Now train our model\n",
    "knn.fit(d_train_sc, l_train)\n",
    "\n",
    "# Compute and display accuracy score\n",
    "score = 100.0 * knn.score(d_test_sc, l_test)\n",
    "print(f\"KNN ({nbrs} neighbors) prediction accuracy = {score:5.1f}%\")"
   ]
  },
  {
   "cell_type": "markdown",
   "id": "87ebb485-0a62-409c-8181-cbc8c8a5f2ed",
   "metadata": {},
   "source": [
    "## Regression\n",
    "The second machine learning we are going to try is regression using decision tree.   \n",
    "Before generating a regression model, we must pre-process our data to identify our independent variables (or features) and our dependent variable (feature). Given a set of new independent variables, a regression model will predict the dependent variable."
   ]
  },
  {
   "cell_type": "code",
   "execution_count": 20,
   "id": "bd2e5162-50d3-4bfe-9afd-c9b2a35c64f7",
   "metadata": {},
   "outputs": [],
   "source": [
    "# Split out first three columns as our independent variables\n",
    "# Last colum becomes our dependent variable\n",
    "ind_data = data[:, 0:3]\n",
    "dep_data = data[:, -1]\n",
    "\n",
    "# This is the amount to hold out for 'blind' testing\n",
    "frac = 0.4\n",
    "\n",
    "d_train, d_test, r_train, r_test \\\n",
    "    = train_test_split(ind_data, dep_data, test_size=frac, random_state=23)"
   ]
  },
  {
   "cell_type": "code",
   "execution_count": 21,
   "id": "61c487f3-fe1a-451d-ab24-8987a5b930cf",
   "metadata": {},
   "outputs": [
    {
     "name": "stdout",
     "output_type": "stream",
     "text": [
      "DT regression accuracy =  91.1%\n"
     ]
    }
   ],
   "source": [
    "# Import the decision tree\n",
    "from sklearn import tree\n",
    "\n",
    "# Construct the tree regressor\n",
    "dtr = tree.DecisionTreeRegressor()\n",
    "\n",
    "# Fit the regressor to the training data\n",
    "dtr.fit(d_train, r_train)\n",
    "\n",
    "# Compute and display score from test data\n",
    "score = 100.0 * dtr.score(d_test, r_test)\n",
    "\n",
    "print(f'DT regression accuracy = {score:5.1f}%')"
   ]
  },
  {
   "cell_type": "markdown",
   "id": "7a4f5d69-f54f-4df9-b202-f0a911d8f52a",
   "metadata": {},
   "source": [
    "# Dimensionality Reduction\n",
    "\n",
    "When confronted with a large, multi-dimensional data set, one approach is to simplify any subsequent analysis to reduce the number of dimensions (or features) that must be processed.  In some cases, features can be removed from an analysis based on business logic, or the features that contain the most information can be quantified somehow. More generally, however, we can employ dimensional reduction, a machine learning technique that quantifies relationships between the original dimensions (or features, attributes, or columns of a DataFrame) to identify new dimensions that better capture the inherent relationships within the data.\n",
    "\n",
    "The standard technique to perform this is known as principal component analysis (PCA). This process effectively rotates the data into a new set of dimensions, and by ranking the importance of the new dimensions, we can optimally select fewer dimensions for use in other machine learning algorithms.\n",
    "\n",
    "We can easily implement PCA by using scikit-learn. The PCA estimator requires one tunable hyper-parameter that specifies the target number of dimensions. This value can be arbitrarily selected, perhaps based on prior information, or it can be iteratively determined. After the model is created, we fit the model to the data and next create our new, rotated data set. This is demonstrated in the next code cell."
   ]
  },
  {
   "cell_type": "code",
   "execution_count": 22,
   "id": "51a8d490-7be7-49c6-a09a-02a944f9b67f",
   "metadata": {},
   "outputs": [
    {
     "name": "stdout",
     "output_type": "stream",
     "text": [
      "Component 0 explains 92.46 of the original variance.\n",
      "Component 1 explains 5.31 of the original variance.\n"
     ]
    }
   ],
   "source": [
    "# Principal Component Analysis\n",
    "from sklearn.decomposition import PCA\n",
    "\n",
    "# First create our PCA model\n",
    "# Fo now we assume two components to make plotting easier:\n",
    "pca = PCA(n_components=2)\n",
    "\n",
    "# Fit model to the data\n",
    "pca.fit(data)\n",
    "\n",
    "# Compute the transformed data (rotation to PCA space)\n",
    "data_reduced = pca.transform(data)\n",
    "\n",
    "# Need to modify to match number of PCA components\n",
    "cols = ['PCA1', 'PCA2', 'Species']\n",
    "\n",
    "# Now create a new DataFrame to hold the results\n",
    "# First a temporary np.array\n",
    "tmp_d = np.concatenate((data_reduced,\n",
    "                        iris['species'].values.reshape((150, 1))), axis=1)\n",
    "iris_pca = pd.DataFrame(tmp_d, columns = cols)\n",
    "\n",
    "for idx, evr in enumerate(pca.explained_variance_ratio_):\n",
    "    print(f'Component {idx} explains {100.0* evr:4.2f} of the original variance.')"
   ]
  },
  {
   "cell_type": "markdown",
   "id": "a984d8b3-921b-48b1-9a8d-7bdba3fed541",
   "metadata": {},
   "source": [
    "At the end of the previous code cell, we measure the amount of the original variance (or spread) in the original data that is captured by each new dimension. As this example shows, these two new dimensions capture almost 98% of the variance in the original data. This means that any analysis that uses only these two new dimensions will closely represent the analysis if performed on the entire data.\n",
    "\n",
    "Given the two new dimensions, we can also display how they are related to the original four dimensions (note that this isn't just a rotation, since we have actually reduced the number of dimensions)."
   ]
  },
  {
   "cell_type": "code",
   "execution_count": 23,
   "id": "4c834ca4-a5ba-4ad6-955d-1519bb2d977e",
   "metadata": {},
   "outputs": [
    {
     "name": "stdout",
     "output_type": "stream",
     "text": [
      " 0.361 * SL + -0.085 * SW +  0.857 * PL +  0.358 * PW\n",
      " 0.657 * SL +  0.730 * SW + -0.173 * PL + -0.075 * PW\n"
     ]
    }
   ],
   "source": [
    "# We can print out transformation matrix\n",
    "\n",
    "# Original Attribute Names\n",
    "c_names = ['SL', 'SW', 'PL', 'PW']\n",
    "\n",
    "# For each principal component, print out the tranformation equation\n",
    "for row in pca.components_:\n",
    "    print(r\" + \".join(\"{0:6.3f} * {1:s}\".format(val, name) \n",
    "                      for val, name in zip(row, c_names)))"
   ]
  },
  {
   "cell_type": "code",
   "execution_count": null,
   "id": "f06a8d74-9b95-4b72-9c9b-da19c738a394",
   "metadata": {},
   "outputs": [],
   "source": []
  }
 ],
 "metadata": {
  "kernelspec": {
   "display_name": "Python 3",
   "language": "python",
   "name": "python3"
  },
  "language_info": {
   "codemirror_mode": {
    "name": "ipython",
    "version": 3
   },
   "file_extension": ".py",
   "mimetype": "text/x-python",
   "name": "python",
   "nbconvert_exporter": "python",
   "pygments_lexer": "ipython3",
   "version": "3.9.4"
  }
 },
 "nbformat": 4,
 "nbformat_minor": 5
}
