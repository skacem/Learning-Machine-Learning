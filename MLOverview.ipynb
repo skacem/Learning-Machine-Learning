{
 "cells": [
  {
   "cell_type": "markdown",
   "id": "679f5d70-e6e9-4152-a2c0-3b946f6ff760",
   "metadata": {},
   "source": [
    "# ML Models Overview"
   ]
  },
  {
   "cell_type": "code",
   "execution_count": 2,
   "id": "d5058ed7-6b83-48e9-8064-691b79a95cba",
   "metadata": {
    "tags": []
   },
   "outputs": [],
   "source": [
    "# Standard imports\n",
    "import pandas as pd\n",
    "import numpy as np\n",
    "import matplotlib.pyplot as plt\n",
    "import seaborn as sns\n",
    "import ipywidgets as widgets\n",
    "\n",
    "\n",
    "# We do this to ignore several specific warnings\n",
    "#import warnings\n",
    "#warnings.filterwarnings(\"ignore\")\n",
    "\n",
    "%matplotlib inline\n",
    "# Set up Notebook\n",
    "sns.set(style=\"white\")"
   ]
  },
  {
   "cell_type": "markdown",
   "id": "8a81aa0f-7a97-443c-b6ab-6d97c43974ef",
   "metadata": {},
   "source": [
    "## Data Exploration\n",
    "\n",
    "Cross Industry Standard Process for Data Mining (CRISP-DM) breaks the process of data mining into six major steps:\n",
    "1. Business understanding\n",
    "2. Data understanding\n",
    "3. Data preparation\n",
    "4. Modeling\n",
    "5. Evaluation\n",
    "6. Deployment  \n",
    "\n",
    "The sequence of the phases is not strict and moving back and forth between different phases as it is always required"
   ]
  },
  {
   "cell_type": "code",
   "execution_count": 21,
   "id": "808e1430-760a-4f39-ac46-ef197bfc0582",
   "metadata": {},
   "outputs": [],
   "source": [
    "# Load the iris dataset   \n",
    "iris = sns.load_dataset('iris', cache=True)   \n",
    "# Check if the data was loaded correctly\n",
    "iris.sample(5);"
   ]
  },
  {
   "cell_type": "code",
   "execution_count": 22,
   "id": "e1af10e0-50f8-4330-bb0e-b120dff69961",
   "metadata": {},
   "outputs": [
    {
     "name": "stdout",
     "output_type": "stream",
     "text": [
      "<class 'pandas.core.frame.DataFrame'>\n",
      "RangeIndex: 150 entries, 0 to 149\n",
      "Data columns (total 5 columns):\n",
      " #   Column        Non-Null Count  Dtype  \n",
      "---  ------        --------------  -----  \n",
      " 0   sepal_length  150 non-null    float64\n",
      " 1   sepal_width   150 non-null    float64\n",
      " 2   petal_length  150 non-null    float64\n",
      " 3   petal_width   150 non-null    float64\n",
      " 4   species       150 non-null    object \n",
      "dtypes: float64(4), object(1)\n",
      "memory usage: 6.0+ KB\n"
     ]
    }
   ],
   "source": [
    "# Get some info\n",
    "iris.info()"
   ]
  },
  {
   "cell_type": "code",
   "execution_count": 23,
   "id": "0a05d60d-9ed1-47c3-8162-7d622ee4925c",
   "metadata": {},
   "outputs": [
    {
     "data": {
      "text/html": [
       "<div>\n",
       "<style scoped>\n",
       "    .dataframe tbody tr th:only-of-type {\n",
       "        vertical-align: middle;\n",
       "    }\n",
       "\n",
       "    .dataframe tbody tr th {\n",
       "        vertical-align: top;\n",
       "    }\n",
       "\n",
       "    .dataframe thead th {\n",
       "        text-align: right;\n",
       "    }\n",
       "</style>\n",
       "<table border=\"1\" class=\"dataframe\">\n",
       "  <thead>\n",
       "    <tr style=\"text-align: right;\">\n",
       "      <th></th>\n",
       "      <th>sepal_length</th>\n",
       "      <th>sepal_width</th>\n",
       "      <th>petal_length</th>\n",
       "      <th>petal_width</th>\n",
       "    </tr>\n",
       "    <tr>\n",
       "      <th>species</th>\n",
       "      <th></th>\n",
       "      <th></th>\n",
       "      <th></th>\n",
       "      <th></th>\n",
       "    </tr>\n",
       "  </thead>\n",
       "  <tbody>\n",
       "    <tr>\n",
       "      <th>setosa</th>\n",
       "      <td>50</td>\n",
       "      <td>50</td>\n",
       "      <td>50</td>\n",
       "      <td>50</td>\n",
       "    </tr>\n",
       "    <tr>\n",
       "      <th>versicolor</th>\n",
       "      <td>50</td>\n",
       "      <td>50</td>\n",
       "      <td>50</td>\n",
       "      <td>50</td>\n",
       "    </tr>\n",
       "    <tr>\n",
       "      <th>virginica</th>\n",
       "      <td>50</td>\n",
       "      <td>50</td>\n",
       "      <td>50</td>\n",
       "      <td>50</td>\n",
       "    </tr>\n",
       "  </tbody>\n",
       "</table>\n",
       "</div>"
      ],
      "text/plain": [
       "            sepal_length  sepal_width  petal_length  petal_width\n",
       "species                                                         \n",
       "setosa                50           50            50           50\n",
       "versicolor            50           50            50           50\n",
       "virginica             50           50            50           50"
      ]
     },
     "execution_count": 23,
     "metadata": {},
     "output_type": "execute_result"
    }
   ],
   "source": [
    "# Examine grouped data\n",
    "iris.groupby('species').count()"
   ]
  },
  {
   "cell_type": "code",
   "execution_count": 24,
   "id": "b5f6dafb-df0c-4843-bbf5-837eaa088bb7",
   "metadata": {},
   "outputs": [
    {
     "data": {
      "text/html": [
       "<div>\n",
       "<style scoped>\n",
       "    .dataframe tbody tr th:only-of-type {\n",
       "        vertical-align: middle;\n",
       "    }\n",
       "\n",
       "    .dataframe tbody tr th {\n",
       "        vertical-align: top;\n",
       "    }\n",
       "\n",
       "    .dataframe thead th {\n",
       "        text-align: right;\n",
       "    }\n",
       "</style>\n",
       "<table border=\"1\" class=\"dataframe\">\n",
       "  <thead>\n",
       "    <tr style=\"text-align: right;\">\n",
       "      <th></th>\n",
       "      <th>sepal_length</th>\n",
       "      <th>sepal_width</th>\n",
       "      <th>petal_length</th>\n",
       "      <th>petal_width</th>\n",
       "    </tr>\n",
       "  </thead>\n",
       "  <tbody>\n",
       "    <tr>\n",
       "      <th>count</th>\n",
       "      <td>150.000000</td>\n",
       "      <td>150.000000</td>\n",
       "      <td>150.000000</td>\n",
       "      <td>150.000000</td>\n",
       "    </tr>\n",
       "    <tr>\n",
       "      <th>mean</th>\n",
       "      <td>5.843333</td>\n",
       "      <td>3.057333</td>\n",
       "      <td>3.758000</td>\n",
       "      <td>1.199333</td>\n",
       "    </tr>\n",
       "    <tr>\n",
       "      <th>std</th>\n",
       "      <td>0.828066</td>\n",
       "      <td>0.435866</td>\n",
       "      <td>1.765298</td>\n",
       "      <td>0.762238</td>\n",
       "    </tr>\n",
       "    <tr>\n",
       "      <th>min</th>\n",
       "      <td>4.300000</td>\n",
       "      <td>2.000000</td>\n",
       "      <td>1.000000</td>\n",
       "      <td>0.100000</td>\n",
       "    </tr>\n",
       "    <tr>\n",
       "      <th>25%</th>\n",
       "      <td>5.100000</td>\n",
       "      <td>2.800000</td>\n",
       "      <td>1.600000</td>\n",
       "      <td>0.300000</td>\n",
       "    </tr>\n",
       "    <tr>\n",
       "      <th>50%</th>\n",
       "      <td>5.800000</td>\n",
       "      <td>3.000000</td>\n",
       "      <td>4.350000</td>\n",
       "      <td>1.300000</td>\n",
       "    </tr>\n",
       "    <tr>\n",
       "      <th>75%</th>\n",
       "      <td>6.400000</td>\n",
       "      <td>3.300000</td>\n",
       "      <td>5.100000</td>\n",
       "      <td>1.800000</td>\n",
       "    </tr>\n",
       "    <tr>\n",
       "      <th>max</th>\n",
       "      <td>7.900000</td>\n",
       "      <td>4.400000</td>\n",
       "      <td>6.900000</td>\n",
       "      <td>2.500000</td>\n",
       "    </tr>\n",
       "  </tbody>\n",
       "</table>\n",
       "</div>"
      ],
      "text/plain": [
       "       sepal_length  sepal_width  petal_length  petal_width\n",
       "count    150.000000   150.000000    150.000000   150.000000\n",
       "mean       5.843333     3.057333      3.758000     1.199333\n",
       "std        0.828066     0.435866      1.765298     0.762238\n",
       "min        4.300000     2.000000      1.000000     0.100000\n",
       "25%        5.100000     2.800000      1.600000     0.300000\n",
       "50%        5.800000     3.000000      4.350000     1.300000\n",
       "75%        6.400000     3.300000      5.100000     1.800000\n",
       "max        7.900000     4.400000      6.900000     2.500000"
      ]
     },
     "execution_count": 24,
     "metadata": {},
     "output_type": "execute_result"
    }
   ],
   "source": [
    "# Get descriptive statistics\n",
    "iris.describe()"
   ]
  },
  {
   "cell_type": "code",
   "execution_count": 25,
   "id": "79902f32-42ec-434e-a6f9-055b73131514",
   "metadata": {},
   "outputs": [
    {
     "data": {
      "text/plain": [
       "<seaborn.axisgrid.PairGrid at 0x144f5e7f0>"
      ]
     },
     "execution_count": 25,
     "metadata": {},
     "output_type": "execute_result"
    },
    {
     "data": {
      "image/png": "[encoded data removed]",
      "text/plain": [
       "<Figure size 806.85x720 with 20 Axes>"
      ]
     },
     "metadata": {},
     "output_type": "display_data"
    }
   ],
   "source": [
    "# Pair plot\n",
    "g = sns.PairGrid(iris, hue='species')\n",
    "g.map_diag(plt.hist) # with histograms down the diagonal\n",
    "g.map_offdiag(plt.scatter) # and scatter plots of the diagonal\n",
    "g.add_legend()"
   ]
  },
  {
   "cell_type": "markdown",
   "id": "52ac1aa3-10c9-4dec-998c-b61ade5e22e9",
   "metadata": {
    "tags": []
   },
   "source": [
    "As we can see the three iris species cluster naturally in these dimensions, with a minimal overlap.  \n",
    "\n",
    "## Scikit-Learn\n",
    "Let's use sklearn to train a model and test for different machine learning algorithms.   \n",
    "The sklearn module works directly on NumPy arrays and **not on a Pandas DataFrame**, so our next step is to build explicit data and label NumPy arrays.  \n",
    "One caveat to this process is that the sklearn module expects two dimensional matrices (or arrays). Thus, if we have a vector (or one-dimensional array) for our data features, we must explicitly convert this to a two-dimensional matrix, which involves a call to the Numpy `np.reshape` method."
   ]
  },
  {
   "cell_type": "markdown",
   "id": "49afd2df-45f0-4bd5-a38f-df4081724110",
   "metadata": {},
   "source": [
    "We can grab the underlying Numpy two-dimensional array from a DF by using the `values` attribute to select all four features"
   ]
  },
  {
   "cell_type": "code",
   "execution_count": 26,
   "id": "93367e86-fe58-415a-bdbe-6a7e015426f7",
   "metadata": {},
   "outputs": [
    {
     "data": {
      "text/plain": [
       "array([[5.1, 3.5, 1.4, 0.2],\n",
       "       [4.9, 3. , 1.4, 0.2],\n",
       "       [4.7, 3.2, 1.3, 0.2],\n",
       "       [4.6, 3.1, 1.5, 0.2],\n",
       "       [5. , 3.6, 1.4, 0.2]])"
      ]
     },
     "execution_count": 26,
     "metadata": {},
     "output_type": "execute_result"
    }
   ],
   "source": [
    "# From DF to array:\n",
    "data = iris[['sepal_length', 'sepal_width', 'petal_length', 'petal_width']].values\n",
    "data[:5]"
   ]
  },
  {
   "cell_type": "code",
   "execution_count": 27,
   "id": "604eaaf8-381c-46ab-9beb-7b0a7140688d",
   "metadata": {},
   "outputs": [],
   "source": [
    "# transform iris labels to integer [0:3]\n",
    "labels = np.array([i//50 for i in range(iris.shape[0])])\n",
    "label_names = ['Setosa', 'Versicolor', 'Virginica']"
   ]
  },
  {
   "cell_type": "markdown",
   "id": "d88f71b9-29c4-4abc-aebd-286f1979121f",
   "metadata": {},
   "source": [
    "With these new data structures, we can begin to apply machine learning algorithms from the scikit-learn module. But let's first generate one scatter plot that displays a larger version of the sepal width versus petal width"
   ]
  },
  {
   "cell_type": "code",
   "execution_count": 28,
   "id": "a6ee7cd2-6e8e-46a4-8787-e6123a590547",
   "metadata": {},
   "outputs": [
    {
     "data": {
      "image/png": "[encoded data removed]",
      "text/plain": [
       "<Figure size 720x720 with 1 Axes>"
      ]
     },
     "metadata": {},
     "output_type": "display_data"
    }
   ],
   "source": [
    "from matplotlib import cm\n",
    "\n",
    "fig, aux = plt.subplots(figsize=(10, 10))\n",
    "\n",
    "x = data[:, 1]\n",
    "y = data[:, 3]\n",
    "        \n",
    "for idx in np.unique(labels):\n",
    "    # Convert index into an int\n",
    "    i = int(idx)\n",
    "    plt.scatter(x[labels == i], y[labels == i], label=f'{label_names[i]}',\n",
    "               s=200, alpha = .5, cmap=cm.coolwarm) \n",
    "\n",
    "# Decorate and clean plot\n",
    "aux.set_xlabel('Sepal Width', fontsize=16)\n",
    "aux.set_ylabel('Petal Width', fontsize=16)\n",
    "aux.legend(loc = 7, labelspacing=2)\n",
    "aux.set_title(\"Iris Classification Demonstration\", fontsize=18)\n",
    "sns.despine(offset=0, trim=True)"
   ]
  },
  {
   "cell_type": "markdown",
   "id": "7e3517f3-f56f-4856-ac36-45eda0b76a35",
   "metadata": {},
   "source": [
    "## Classification\n",
    "\n",
    "The first type of algorithm we will demonstrate is calssification, where we train an estimator to generate a model for the prediction of discrete labels.   \n",
    "The following code cell we perform k-Nearst Neighbors (KNN) classification by using scikit-learn. The standard classification process in scikit-learn is to: \n",
    "1. first devide the data into training and testing data sets \n",
    "2. we scale the data using a standard scaler to have zero mean and unit variance. Any scaling technique should be trained via the `fit` method on the training data used for the ml algorithm. \n",
    "3. We construct our KNN classification model with 5 neighbours as default.\n",
    "4. We train our model using the `fit` method on the training data and labels\n",
    "5. Then we compute an accuracy measurement for our trained algotithm by using the `score` method\n",
    "\n",
    "Two variable have an impact on our accuracy score:\n",
    "* the size of our testing sequence, and\n",
    "* the number of k-nearst neighbors\n",
    "\n",
    "We can play with following two scalers and see how they impact the classification's performance:"
   ]
  },
  {
   "cell_type": "code",
   "execution_count": 127,
   "id": "0248fba0-c611-401d-b2ca-27cb27458ecc",
   "metadata": {
    "jupyter": {
     "source_hidden": true
    },
    "tags": []
   },
   "outputs": [],
   "source": [
    "from sklearn.model_selection import train_test_split\n",
    "from ipywidgets import interact, fixed\n",
    "from sklearn import neighbors\n",
    "from sklearn.preprocessing import StandardScaler\n",
    "\n",
    "# Split data into training and testing\n",
    "# Note that we ahve both 'data' and 'labels'\n",
    "\n",
    "\n",
    "def nearst_neighbors(data, labels, test_size, random_state, nbrs=5):\n",
    "    \n",
    "    # I Data Pre-Processing\n",
    "    # I.1 Split data into training and testing\n",
    "    # Note that we have both 'data' and 'labels'\n",
    "    d_train, d_test, l_train, l_test = train_test_split(data, labels, test_size=test_size, random_state=random_state)\n",
    "    \n",
    "    # I.2 Data Scaling\n",
    "    # Create and fit scaler\n",
    "    sc = StandardScaler().fit(d_train)\n",
    "    d_train_sc = sc.transform(d_train)\n",
    "    d_test_sc = sc.transform(d_test)\n",
    "\n",
    "    # II Classification \n",
    "    # II.1 First we construct our model\n",
    "    knn = neighbors.KNeighborsClassifier(n_neighbors=nbrs)\n",
    "    \n",
    "    # II.2 Now train our model\n",
    "    knn.fit(d_train_sc, l_train)\n",
    "    \n",
    "    # II.3 Compute and display accuracy score\n",
    "    score = 100.0 * knn.score(d_test_sc, l_test)\n",
    "    \n",
    "    # III Print Prediction accuracy\n",
    "    print(f'Training data length: {len(d_train)}\\n'\n",
    "          f'Test data length: {len(d_test)}\\n\\n'\n",
    "          f\"KNN ({nbrs} neighbors) prediction accuracy = {score:5.1f}%\")"
   ]
  },
  {
   "cell_type": "code",
   "execution_count": 128,
   "id": "cd32651d-b6eb-4093-a741-1fe43dda10eb",
   "metadata": {
    "jupyter": {
     "source_hidden": true
    },
    "tags": []
   },
   "outputs": [
    {
     "data": {
      "application/vnd.jupyter.widget-view+json": {
       "model_id": "720c1f166d22449395ab7cb125cccdb9",
       "version_major": 2,
       "version_minor": 0
      },
      "text/plain": [
       "VBox(children=(HTML(value='<b>Move the sliders and see how it impacts the predictions accuracy!</b>'), interac…"
      ]
     },
     "metadata": {},
     "output_type": "display_data"
    }
   ],
   "source": [
    "a = widgets.interactive(nearst_neighbors, data=fixed(data), labels=fixed(labels), test_size=(0.25,0.61,0.01), \n",
    "                 random_state=fixed(23), nbrs=(2,10,1));\n",
    "\n",
    "html = widgets.HTML('<b>Move the sliders and see how it impacts the predictions accuracy!</b>')\n",
    "widgets.VBox([html, a])"
   ]
  },
  {
   "cell_type": "markdown",
   "id": "87ebb485-0a62-409c-8181-cbc8c8a5f2ed",
   "metadata": {},
   "source": [
    "## Regression\n",
    "The second machine learning we are going to try is regression using decision tree.   \n",
    "Before generating a regression model, we must pre-process our data to identify our independent variables (or features) and our dependent variable (feature). Given a set of new independent variables, a regression model will predict the dependent variable."
   ]
  },
  {
   "cell_type": "code",
   "execution_count": 136,
   "id": "bd2e5162-50d3-4bfe-9afd-c9b2a35c64f7",
   "metadata": {
    "jupyter": {
     "source_hidden": true
    },
    "tags": []
   },
   "outputs": [],
   "source": [
    "# Import the decision tree\n",
    "from sklearn import tree\n",
    "\n",
    "# Split out first three columns as our independent variables\n",
    "# Last colum becomes our dependent variable\n",
    "ind_data = data[:, 0:3]\n",
    "dep_data = data[:, -1]\n",
    "\n",
    "def decision_tree_regression(x, y, frac=0.4, criterion='mse'):\n",
    "    # frac is the amount to hold out for 'blind' testing\n",
    "\n",
    "    d_train, d_test, r_train, r_test \\\n",
    "        = train_test_split(x, y, test_size=frac, random_state=23)\n",
    "    \n",
    "    # Construct the tree regressor\n",
    "    dtr = tree.DecisionTreeRegressor(criterion=criterion)\n",
    "    # Fit the regressor to the training data\n",
    "    dtr.fit(d_train, r_train)\n",
    "    # Compute and display score from test data\n",
    "    score = 100.0 * dtr.score(d_test, r_test)\n",
    "\n",
    "    print(f'\\nDT regression accuracy = {score:5.1f}%')"
   ]
  },
  {
   "cell_type": "code",
   "execution_count": 137,
   "id": "61c487f3-fe1a-451d-ab24-8987a5b930cf",
   "metadata": {
    "tags": []
   },
   "outputs": [
    {
     "data": {
      "application/vnd.jupyter.widget-view+json": {
       "model_id": "84e8592284d947e1beb43428a386b558",
       "version_major": 2,
       "version_minor": 0
      },
      "text/plain": [
       "VBox(children=(HTML(value='<b>Move the slider or switch between regression algorithms  and see how it impacts …"
      ]
     },
     "metadata": {},
     "output_type": "display_data"
    }
   ],
   "source": [
    "a = widgets.interactive(decision_tree_regression, x=fixed(ind_data), \n",
    "                        y=fixed(dep_data), frac=(0.25,0.61,0.01), \n",
    "                        criterion=[\"mse\", \"friedman_mse\", \"mae\", \"poisson\"]);\n",
    "\n",
    "html = widgets.HTML('<b>Move the slider or switch between regression algorithms  and see how it impacts the predictions accuracy!</b>')\n",
    "widgets.VBox([html, a])"
   ]
  },
  {
   "cell_type": "markdown",
   "id": "e976624c-ecba-403a-9631-0fbadc41b7e1",
   "metadata": {},
   "source": [
    "-----\n",
    "The criterion is a parameter of the `DecisionTreeRegressor` and could be {\"mse\", \"friedman_mse\", \"mae\", \"poisson\"}. It defines the function to measure the quality of a split.    \n",
    "Supported criteria are:\n",
    "* \"mse\" for the mean squared error, which is equal to variance reduction as feature selection criterion and minimizes the L2 loss using the mean of each terminal node, \n",
    "* \"friedman_mse\", which uses mean squared error with Friedman's improvement score for potential splits,\n",
    "* \"mae\" for the mean absolute error, which minimizes the L1 loss using the median of each terminal node, and \n",
    "* \"poisson\" which uses reduction in Poisson deviance to find splits."
   ]
  },
  {
   "cell_type": "markdown",
   "id": "7a4f5d69-f54f-4df9-b202-f0a911d8f52a",
   "metadata": {},
   "source": [
    "## Dimensionality Reduction\n",
    "\n",
    "When confronted with a large, multi-dimensional data set, one approach is to simplify any subsequent analysis to reduce the number of dimensions (or features) that must be processed.  In some cases, features can be removed from an analysis based on business logic, or the features that contain the most information can be quantified somehow. More generally, however, we can employ dimensional reduction, a machine learning technique that quantifies relationships between the original dimensions (or features, attributes, or columns of a DataFrame) to identify new dimensions that better capture the inherent relationships within the data.\n",
    "\n",
    "The standard technique to perform this is known as principal component analysis (PCA). This process effectively rotates the data into a new set of dimensions, and by ranking the importance of the new dimensions, we can optimally select fewer dimensions for use in other machine learning algorithms.\n",
    "\n",
    "We can easily implement PCA by using scikit-learn. The PCA estimator requires one tunable hyper-parameter that specifies the target number of dimensions. This value can be arbitrarily selected, perhaps based on prior information, or it can be iteratively determined. After the model is created, we fit the model to the data and next create our new, rotated data set. This is demonstrated in the next code cell."
   ]
  },
  {
   "cell_type": "code",
   "execution_count": 172,
   "id": "51a8d490-7be7-49c6-a09a-02a944f9b67f",
   "metadata": {
    "jupyter": {
     "source_hidden": true
    },
    "tags": []
   },
   "outputs": [],
   "source": [
    "# Principal Component Analysis\n",
    "from sklearn.decomposition import PCA\n",
    "\n",
    "\n",
    "def principal_comp_analysis(data, n_components=2):\n",
    "# First create our PCA model\n",
    "\n",
    "    global pca;\n",
    "    # Fo now we assume two components to make plotting easier:\n",
    "    pca = PCA(n_components=n_components)\n",
    "\n",
    "    # Fit model to the data\n",
    "    pca.fit(data)\n",
    "\n",
    "    # Compute the transformed data (rotation to PCA space)\n",
    "    data_reduced = pca.transform(data)\n",
    "\n",
    "    # Need to modify to match number of PCA components\n",
    "    comp = ['PCA1', 'PCA2', 'PCA3', 'PCA4']\n",
    "    cols = comp[:n_components] + ['Species']\n",
    "\n",
    "    # Now create a new DataFrame to hold the results\n",
    "    # First a temporary np.array\n",
    "    tmp_d = np.concatenate((data_reduced,\n",
    "                            iris['species'].values.reshape((150, 1))), axis=1)\n",
    "    iris_pca = pd.DataFrame(tmp_d, columns = cols)\n",
    "\n",
    "    su = 0\n",
    "    for idx, evr in enumerate(pca.explained_variance_ratio_):\n",
    "        print(f'Component {idx + 1} explains {100.0* evr:4.2f} of the original variance.')\n",
    "        su+=evr\n",
    "    print(f'\\nThese {n_components} dimensions capture {100.0 * su:4.1f}% of the variance in the original data.')"
   ]
  },
  {
   "cell_type": "code",
   "execution_count": 218,
   "id": "db9cd606-3e09-4f8e-a103-09b41568331c",
   "metadata": {
    "tags": []
   },
   "outputs": [
    {
     "data": {
      "application/vnd.jupyter.widget-view+json": {
       "model_id": "34239c2a93ab49fbbc239b730fcc5545",
       "version_major": 2,
       "version_minor": 0
      },
      "text/plain": [
       "VBox(children=(HTML(value='<b>Change the hyper-parameter n_component!</b>'), interactive(children=(IntSlider(v…"
      ]
     },
     "metadata": {},
     "output_type": "display_data"
    }
   ],
   "source": [
    "i = widgets.IntSlider(min=1, max=4, step=1)\n",
    "a = widgets.interactive(principal_comp_analysis, data=fixed(data), \n",
    "                        n_components=i);\n",
    "\n",
    "html = widgets.HTML('<b>Change the hyper-parameter n_component!</b>')\n",
    "widgets.VBox([html, a])"
   ]
  },
  {
   "cell_type": "markdown",
   "id": "a984d8b3-921b-48b1-9a8d-7bdba3fed541",
   "metadata": {},
   "source": [
    "At the end of the previous code cell, we measure the amount of the original variance (or spread) in the original data that is captured by each new dimension. As this example shows, these two new dimensions capture almost 98% of the variance in the original data. This means that any analysis that uses only these two new dimensions will closely represent the analysis if performed on the entire data.\n",
    "\n",
    "Given the two new dimensions, we can also display how they are related to the original four dimensions (note that this isn't just a rotation, since we have actually reduced the number of dimensions)."
   ]
  },
  {
   "cell_type": "code",
   "execution_count": 208,
   "id": "4c834ca4-a5ba-4ad6-955d-1519bb2d977e",
   "metadata": {
    "tags": []
   },
   "outputs": [
    {
     "data": {
      "application/vnd.jupyter.widget-view+json": {
       "model_id": "29d8308858994c2bb001fc2cf71670ff",
       "version_major": 2,
       "version_minor": 0
      },
      "text/plain": [
       "VBox(children=(Output(),))"
      ]
     },
     "metadata": {},
     "output_type": "display_data"
    }
   ],
   "source": [
    "# We can print out transformation matrix\n",
    "\n",
    "out = widgets.Output()\n",
    "\n",
    "@out.capture()\n",
    "def pca_equation(change):\n",
    "    #print(change)\n",
    "    out.clear_output()\n",
    "    # Original Attribute Names\n",
    "    c_names = ['SL', 'SW', 'PL', 'PW']\n",
    "\n",
    "    # For each principal component, print out the tranformation equation\n",
    "    for row in pca.components_:\n",
    "        print(r\" + \".join(\"{0:6.3f} * {1:s}\".format(val, name) \n",
    "                          for val, name in zip(row, c_names)))\n",
    "        \n",
    "i.observe(pca_equation,  names='value')\n",
    "widgets.VBox([out])"
   ]
  },
  {
   "cell_type": "markdown",
   "id": "706ad488-5733-49d7-a39e-029f411ae493",
   "metadata": {},
   "source": [
    "## Clustering with K-means\n",
    "\n",
    "* We start with a guess for the number of clusters (again this can be based on prior information or iteratively quantified). \n",
    "* We randomly place cluster centers in the data and determine how well the data cluster to these cluster centers.\n",
    "* This information is used to pick new cluster centers, and the process continues until a solution converges (or we reach a predefined number of iterations).\n",
    "\n",
    "We can employ k-means clustering with scikit-learn by using the `KMeans` estimator within the `cluster` module: \n",
    "* It requires the numbe of clusters to find as a hyper-parameter\n",
    "* We also pass in the original, unscaled data since we will want the cluster centers in the original space spanned by our instances\n",
    "\n",
    "After the model is created, we `fit` the model to the data and obtain our model predictions.\n",
    "\n",
    "It is an unsupervised process, in that we do not use the label array in this process."
   ]
  },
  {
   "cell_type": "code",
   "execution_count": 214,
   "id": "68c5bb56-7798-43de-8ac1-91d6d6c9ce46",
   "metadata": {},
   "outputs": [],
   "source": [
    "from sklearn.cluster import KMeans\n",
    "\n",
    "def kmeans_clustering(data, n_clusters=3):\n",
    "    # We build our model assuming three clusters\n",
    "    k_means = KMeans(n_clusters, random_state=23)\n",
    "\n",
    "    # We fit our data to assign classes\n",
    "    k_means.fit(data)\n",
    "\n",
    "    #print(k_means.cluster_centers_)\n",
    "    # Define cluster centers (SW vs PW)\n",
    "    xcc = k_means.cluster_centers_[:,1]\n",
    "    ycc = k_means.cluster_centers_[:,3]\n",
    "    # Now we create ou figure and axes fo r the plot we will make\n",
    "    fig, ax = plt.subplots(figsize=(10, 10))\n",
    "\n",
    "    for idx in np.unique(labels):\n",
    "        # Convert index into an int\n",
    "        i = int(idx)\n",
    "        ax.scatter(x[labels == i], y[labels == i], label=f'{label_names[i]}', \n",
    "                   s=200, alpha=0.5, cmap=cm.coolwarm)\n",
    "\n",
    "    # Plot cluster centers\n",
    "    ax.scatter(xcc, ycc, marker='*', label='Cluster Centers', \n",
    "               s=500, alpha=0.75, cmap=cm.coolwarm)    \n",
    "\n",
    "    # Decorate and clean plot\n",
    "    ax.set_xlabel('Sepal Width', fontsize=16)\n",
    "    ax.set_ylabel('Petal Width', fontsize=16)\n",
    "    ax.legend(loc = 7, labelspacing=2)\n",
    "    ax.set_title(\"Iris Cluster Demonstration\", fontsize=18)\n",
    "    sns.despine(offset=0, trim=True)"
   ]
  },
  {
   "cell_type": "code",
   "execution_count": 217,
   "id": "328c831d-1f67-4435-9afd-0a07d2bc7300",
   "metadata": {},
   "outputs": [
    {
     "data": {
      "application/vnd.jupyter.widget-view+json": {
       "model_id": "92cea8f9f089408dabaa910b04b2634e",
       "version_major": 2,
       "version_minor": 0
      },
      "text/plain": [
       "VBox(children=(HTML(value='<b>Change the hyper-parameter n_component!</b>'), interactive(children=(IntSlider(v…"
      ]
     },
     "metadata": {},
     "output_type": "display_data"
    }
   ],
   "source": [
    "clusters = widgets.IntSlider(min=1, max=4, step=1)\n",
    "a = widgets.interactive(kmeans_clustering, data=fixed(data), \n",
    "                        n_clusters=clusters);\n",
    "\n",
    "html = widgets.HTML('<b>Change the hyper-parameter n_component!</b>')\n",
    "widgets.VBox([html, a])\n"
   ]
  },
  {
   "cell_type": "code",
   "execution_count": null,
   "id": "43cc75bf-5a2e-47c0-994a-b0f53e19cf47",
   "metadata": {},
   "outputs": [],
   "source": []
  }
 ],
 "metadata": {
  "kernelspec": {
   "name": "python392jvsc74a57bd09ad264e2267c47528a916e93996fe45d1aa5f4c90e4b5cbea172e649aa49f0d0",
   "display_name": "Python 3.9.2 64-bit ('100ddata': conda)"
  },
  "language_info": {
   "codemirror_mode": {
    "name": "ipython",
    "version": 3
   },
   "file_extension": ".py",
   "mimetype": "text/x-python",
   "name": "python",
   "nbconvert_exporter": "python",
   "pygments_lexer": "ipython3",
   "version": "3.9.2"
  }
 },
 "nbformat": 4,
 "nbformat_minor": 5
}