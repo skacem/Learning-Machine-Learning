{
 "cells": [
  {
   "cell_type": "markdown",
   "id": "ded8eef2-057f-457a-8f92-68d941e3cd54",
   "metadata": {},
   "source": [
    "# Advanced Python Constructs\n",
    "\n",
    "Advanced in the sense that not every language has them, and also that they are more useful in more complicated programs or libraries but not in the sense of being particularly specialized or particularly complicated.\n",
    "\n",
    "## Iterators, generator expressions and generators\n",
    "\n",
    "### Iterators\n",
    "\n",
    "Calling the `__iter__` method on a container to create an iterator object is the most straightforward way to get hold of an iterator. The `iter` function does that for us, saving a few keystrokes."
   ]
  },
  {
   "cell_type": "code",
   "execution_count": 1,
   "id": "1f41d672-6266-4bae-a602-e1cd0473f75e",
   "metadata": {},
   "outputs": [
    {
     "data": {
      "text/plain": [
       "<list_iterator at 0x10b2aaac0>"
      ]
     },
     "execution_count": 1,
     "metadata": {},
     "output_type": "execute_result"
    }
   ],
   "source": [
    "nums = [1, 2, 3]\n",
    "iter(nums)"
   ]
  },
  {
   "cell_type": "code",
   "execution_count": 2,
   "id": "4ca57b76-5eec-4709-81f4-6317ba6f977e",
   "metadata": {},
   "outputs": [
    {
     "data": {
      "text/plain": [
       "<list_iterator at 0x10b2aab80>"
      ]
     },
     "execution_count": 2,
     "metadata": {},
     "output_type": "execute_result"
    }
   ],
   "source": [
    "nums.__iter__()"
   ]
  },
  {
   "cell_type": "code",
   "execution_count": 3,
   "id": "cfda7b2b-1c94-405c-8c62-354fbb0b8b11",
   "metadata": {},
   "outputs": [
    {
     "data": {
      "text/plain": [
       "<list_reverseiterator at 0x10e0dbd60>"
      ]
     },
     "execution_count": 3,
     "metadata": {},
     "output_type": "execute_result"
    }
   ],
   "source": [
    "nums.__reversed__()"
   ]
  },
  {
   "cell_type": "code",
   "execution_count": 4,
   "id": "5c5ba45d-9af9-4a19-93dc-4c3b7dad53b9",
   "metadata": {},
   "outputs": [],
   "source": [
    "it = iter(nums)"
   ]
  },
  {
   "cell_type": "code",
   "execution_count": 6,
   "id": "4864c34b-c709-4e4c-ad1b-15a70a201e75",
   "metadata": {},
   "outputs": [
    {
     "data": {
      "text/plain": [
       "1"
      ]
     },
     "execution_count": 6,
     "metadata": {},
     "output_type": "execute_result"
    }
   ],
   "source": [
    "next(it)"
   ]
  },
  {
   "cell_type": "code",
   "execution_count": 7,
   "id": "5eb7dae3-ff7c-490c-8cba-4636ed65330e",
   "metadata": {},
   "outputs": [
    {
     "data": {
      "text/plain": [
       "2"
      ]
     },
     "execution_count": 7,
     "metadata": {},
     "output_type": "execute_result"
    }
   ],
   "source": [
    "next(it)"
   ]
  },
  {
   "cell_type": "code",
   "execution_count": 8,
   "id": "ee5f634d-7809-4bf1-b422-8665887bbcb1",
   "metadata": {},
   "outputs": [
    {
     "data": {
      "text/plain": [
       "3"
      ]
     },
     "execution_count": 8,
     "metadata": {},
     "output_type": "execute_result"
    }
   ],
   "source": [
    "next(it)"
   ]
  },
  {
   "cell_type": "code",
   "execution_count": 9,
   "id": "d6632b2f-368d-44d1-a7a2-aa32f921fc7e",
   "metadata": {},
   "outputs": [
    {
     "ename": "StopIteration",
     "evalue": "",
     "output_type": "error",
     "traceback": [
      "\u001b[0;31m---------------------------------------------------------------------------\u001b[0m",
      "\u001b[0;31mStopIteration\u001b[0m                             Traceback (most recent call last)",
      "\u001b[0;32m/var/folders/fh/lmbvbnks4gg_67rdq3s3lfvw0000gn/T/ipykernel_33287/600241529.py\u001b[0m in \u001b[0;36m<module>\u001b[0;34m\u001b[0m\n\u001b[0;32m----> 1\u001b[0;31m \u001b[0mnext\u001b[0m\u001b[0;34m(\u001b[0m\u001b[0mit\u001b[0m\u001b[0;34m)\u001b[0m\u001b[0;34m\u001b[0m\u001b[0;34m\u001b[0m\u001b[0m\n\u001b[0m",
      "\u001b[0;31mStopIteration\u001b[0m: "
     ]
    }
   ],
   "source": [
    "next(it)"
   ]
  },
  {
   "cell_type": "markdown",
   "id": "e92fcaef-2838-48ab-806d-b30af2f1b818",
   "metadata": {},
   "source": [
    "When used in a loop, `StopIteration` is swallowed and causes the loop to finish. But with explicit invocation, we can see that once the iterator is exhausted, accessing it raises an exception.  \n",
    "\n",
    "Using the `for..in` loop also uses the `__iter__` method. This allows us to transparently start the iteration over a sequence. But if we already have the iterator, we want to be able to use it in an for loop in the same way. In order to achieve this, iterators in addition to `next` are also required to have a method called `__iter__` which returns the iterator (`self`).\n",
    "\n",
    "Support for iteration is pervasive in Python: all sequences and unordered containers in the standard library allow this. The concept is also stretched to other things e.g. file objects support iteration over lines."
   ]
  },
  {
   "cell_type": "code",
   "execution_count": 10,
   "id": "15b0244c-bccd-412b-aa47-a685986f137f",
   "metadata": {},
   "outputs": [
    {
     "data": {
      "text/plain": [
       "True"
      ]
     },
     "execution_count": 10,
     "metadata": {},
     "output_type": "execute_result"
    }
   ],
   "source": [
    "f = open('README.md')\n",
    "f is f.__iter__()"
   ]
  },
  {
   "cell_type": "code",
   "execution_count": 11,
   "id": "7f23cc23-3720-4738-916a-6b971f89466b",
   "metadata": {},
   "outputs": [],
   "source": [
    "f.close()"
   ]
  },
  {
   "cell_type": "markdown",
   "id": "b8ec60fd-08a0-4879-8bba-af3f40701c36",
   "metadata": {},
   "source": [
    "The `file` is an iterator itself and it's `__iter__` method doesn't create a separate object: only a single thread of sequential access is allowed."
   ]
  },
  {
   "cell_type": "markdown",
   "id": "53876707-00fd-439d-a820-a18acf04a471",
   "metadata": {},
   "source": [
    "## Generator expressions\n",
    "\n",
    "A second way in which iterator objects are created is through generator expressions, the basis for list comprehensions. To increase clarity, a generator expression must always be enclosed in parentheses or an expression. If round parentheses are used, then a generator iterator is created. If rectangular parentheses are used, the process is short-circuited and we get a list."
   ]
  },
  {
   "cell_type": "code",
   "execution_count": 12,
   "id": "15c461e2-f157-43ac-adec-8779b871f0ce",
   "metadata": {},
   "outputs": [
    {
     "data": {
      "text/plain": [
       "<generator object <genexpr> at 0x10e188350>"
      ]
     },
     "execution_count": 12,
     "metadata": {},
     "output_type": "execute_result"
    }
   ],
   "source": [
    "(i for i in nums)"
   ]
  },
  {
   "cell_type": "code",
   "execution_count": 13,
   "id": "bdb7c96e-30cd-4fbd-8afa-29a5bcc1f019",
   "metadata": {},
   "outputs": [
    {
     "data": {
      "text/plain": [
       "[1, 2, 3]"
      ]
     },
     "execution_count": 13,
     "metadata": {},
     "output_type": "execute_result"
    }
   ],
   "source": [
    "[i for i in nums]"
   ]
  },
  {
   "cell_type": "code",
   "execution_count": 14,
   "id": "57df065d-c4c7-4b26-9116-4f3ca48f1e89",
   "metadata": {},
   "outputs": [
    {
     "data": {
      "text/plain": [
       "[1, 2, 3]"
      ]
     },
     "execution_count": 14,
     "metadata": {},
     "output_type": "execute_result"
    }
   ],
   "source": [
    "list(i for i in nums)"
   ]
  },
  {
   "cell_type": "markdown",
   "id": "a90064b7-d94e-4795-8f24-bd05323c4ff3",
   "metadata": {},
   "source": [
    "The list comprehension syntax also extends to dictionary and set comprehensions:"
   ]
  },
  {
   "cell_type": "code",
   "execution_count": 18,
   "id": "94565ef6-c8ee-4bc8-aacf-a76825aa7e8c",
   "metadata": {},
   "outputs": [
    {
     "name": "stdout",
     "output_type": "stream",
     "text": [
      "{0, 1, 2} <class 'set'>\n"
     ]
    }
   ],
   "source": [
    "# Set comprehension\n",
    "s = {i for i in range(3)}\n",
    "print(s, type(s))"
   ]
  },
  {
   "cell_type": "code",
   "execution_count": 19,
   "id": "fd7df699-7cc8-4afb-b905-21021fee33b4",
   "metadata": {},
   "outputs": [
    {
     "name": "stdout",
     "output_type": "stream",
     "text": [
      "{0: 0, 1: 1, 2: 4} <class 'dict'>\n"
     ]
    }
   ],
   "source": [
    "# dictionary comprehension\n",
    "d = {i:i**2 for i in range(3)}\n",
    "print(d, type(d))"
   ]
  },
  {
   "cell_type": "markdown",
   "id": "963168ea-5377-4d79-bba3-99c64d100816",
   "metadata": {},
   "source": [
    "### Generators\n",
    "\n",
    "A third way to create iterator objects is to call a generator function. A **generator** is a function containing the keyword yield. It must be noted that the mere presence of this keyword completely changes the nature of the function: this `yield` statement doesn't have to be invoked, or even reachable, but causes the function to be marked as a generator. \n",
    "\n",
    "When a normal function is called, the instructions contained in the body start to be executed. When a generator is called, the execution stops before the first instruction in the body. An invocation of a generator function creates a generator object, adhering to the iterator protocol.\n",
    "\n",
    "When next is called, the function is executed until the first yield. Each encountered `yield` statement gives a value becomes the return value of the `next`. After executing the `yield` statement, the execution of this function is suspended."
   ]
  },
  {
   "cell_type": "code",
   "execution_count": 47,
   "id": "10b161bd-2560-4602-9119-f6c5e5423bd0",
   "metadata": {},
   "outputs": [],
   "source": [
    "def f():\n",
    "    yield 1\n",
    "    yield 2"
   ]
  },
  {
   "cell_type": "code",
   "execution_count": 48,
   "id": "e959e7e0-b264-4fa8-a5ea-d57881563a5e",
   "metadata": {},
   "outputs": [
    {
     "data": {
      "text/plain": [
       "<generator object f at 0x10e1b9970>"
      ]
     },
     "execution_count": 48,
     "metadata": {},
     "output_type": "execute_result"
    }
   ],
   "source": [
    "f()"
   ]
  },
  {
   "cell_type": "code",
   "execution_count": 49,
   "id": "ab8b077c-b771-4b8f-b2cb-1455300e1b64",
   "metadata": {},
   "outputs": [],
   "source": [
    "gen = f()"
   ]
  },
  {
   "cell_type": "code",
   "execution_count": 50,
   "id": "33420775-9eb8-473f-9f78-70c1c391e12e",
   "metadata": {},
   "outputs": [
    {
     "data": {
      "text/plain": [
       "generator"
      ]
     },
     "execution_count": 50,
     "metadata": {},
     "output_type": "execute_result"
    }
   ],
   "source": [
    "type(gen)"
   ]
  },
  {
   "cell_type": "code",
   "execution_count": 51,
   "id": "634b10d0-96ee-430a-8ff9-08bda4636b97",
   "metadata": {},
   "outputs": [
    {
     "data": {
      "text/plain": [
       "1"
      ]
     },
     "execution_count": 51,
     "metadata": {},
     "output_type": "execute_result"
    }
   ],
   "source": [
    "next(gen)"
   ]
  },
  {
   "cell_type": "code",
   "execution_count": 52,
   "id": "72f095c3-ea97-46f2-9eda-4e0ff3ea0a79",
   "metadata": {},
   "outputs": [
    {
     "data": {
      "text/plain": [
       "2"
      ]
     },
     "execution_count": 52,
     "metadata": {},
     "output_type": "execute_result"
    }
   ],
   "source": [
    "next(gen)"
   ]
  },
  {
   "cell_type": "code",
   "execution_count": 53,
   "id": "b2dd11dc-f7fd-4d94-bc4c-4d8ff4c25df5",
   "metadata": {},
   "outputs": [
    {
     "name": "stdout",
     "output_type": "stream",
     "text": [
      "Warning! StopIteration\n"
     ]
    }
   ],
   "source": [
    "try:\n",
    "    next(gen)\n",
    "except StopIteration:\n",
    "    print('Warning! StopIteration')\n",
    "finally:\n",
    "    gen.close()"
   ]
  },
  {
   "cell_type": "markdown",
   "id": "aa013be6-d9c4-4703-a0fa-4b2762b30ede",
   "metadata": {},
   "source": [
    "Let's go over the life of the single invocation of the generator function:"
   ]
  },
  {
   "cell_type": "code",
   "execution_count": 41,
   "id": "3b1a2097-19b4-41bc-89f7-5cab58c9005c",
   "metadata": {},
   "outputs": [],
   "source": [
    "def f():\n",
    "  print(\"-- start --\")\n",
    "  yield 3\n",
    "  print(\"-- middle --\")\n",
    "  yield 4\n",
    "  print(\"-- finished --\")"
   ]
  },
  {
   "cell_type": "code",
   "execution_count": 42,
   "id": "229a7f45-9fd9-422a-b26e-cf154611037b",
   "metadata": {},
   "outputs": [],
   "source": [
    "gen = f()"
   ]
  },
  {
   "cell_type": "code",
   "execution_count": 43,
   "id": "f9c7e218-e116-45b7-ad4c-7991a45d0e9b",
   "metadata": {},
   "outputs": [
    {
     "name": "stdout",
     "output_type": "stream",
     "text": [
      "-- start --\n"
     ]
    },
    {
     "data": {
      "text/plain": [
       "3"
      ]
     },
     "execution_count": 43,
     "metadata": {},
     "output_type": "execute_result"
    }
   ],
   "source": [
    "next(gen)"
   ]
  },
  {
   "cell_type": "code",
   "execution_count": 44,
   "id": "86d0e255-b6c1-4b93-aa2c-f121f0561a04",
   "metadata": {},
   "outputs": [
    {
     "name": "stdout",
     "output_type": "stream",
     "text": [
      "-- middle --\n"
     ]
    },
    {
     "data": {
      "text/plain": [
       "4"
      ]
     },
     "execution_count": 44,
     "metadata": {},
     "output_type": "execute_result"
    }
   ],
   "source": [
    "next(gen)"
   ]
  },
  {
   "cell_type": "code",
   "execution_count": 45,
   "id": "ffb2e088-1582-4e5d-93db-70a97b646c42",
   "metadata": {},
   "outputs": [
    {
     "name": "stdout",
     "output_type": "stream",
     "text": [
      "-- finished --\n"
     ]
    },
    {
     "ename": "StopIteration",
     "evalue": "",
     "output_type": "error",
     "traceback": [
      "\u001b[0;31m---------------------------------------------------------------------------\u001b[0m",
      "\u001b[0;31mStopIteration\u001b[0m                             Traceback (most recent call last)",
      "\u001b[0;32m/var/folders/fh/lmbvbnks4gg_67rdq3s3lfvw0000gn/T/ipykernel_33287/4293081279.py\u001b[0m in \u001b[0;36m<module>\u001b[0;34m\u001b[0m\n\u001b[0;32m----> 1\u001b[0;31m \u001b[0mnext\u001b[0m\u001b[0;34m(\u001b[0m\u001b[0mgen\u001b[0m\u001b[0;34m)\u001b[0m\u001b[0;34m\u001b[0m\u001b[0;34m\u001b[0m\u001b[0m\n\u001b[0m",
      "\u001b[0;31mStopIteration\u001b[0m: "
     ]
    }
   ],
   "source": [
    "next(gen)"
   ]
  },
  {
   "cell_type": "markdown",
   "id": "622be7fd-96e2-49bf-aab3-3f286762ae29",
   "metadata": {},
   "source": [
    "Contrary to a normal function, where executing `f()` would immediately cause the first `print` to be executed, `gen` assigned without executing any statements in the function body. Only when `gen.next()` is invoked by `next`, the statements up to the first `yield` are executed... \n",
    "\n",
    "<div class=\"alert alert-block alert-warning\">\n",
    "    When no <em>yield</em> is reached, an exception is raised.\n",
    "</div>"
   ]
  },
  {
   "cell_type": "markdown",
   "id": "765dccf1-1663-4d8b-b0b1-18112bcd3c72",
   "metadata": {},
   "source": [
    "Why are generators useful? As noted in the parts about iterators, a generator function is just a different way to create an iterator object. Everything that can be done with `yield` statements, could also be done with `next` methods. Nevertheless, using a function and having the interpreter perform its magic to create an iterator has advantages. "
   ]
  },
  {
   "cell_type": "markdown",
   "id": "f67da204-ec02-4f03-b38d-e6495a06fa89",
   "metadata": {},
   "source": [
    "### Bidirectional communication\n",
    "\n",
    "Each `yield` statement causes a value to be passed to the caller. Communication in the reverse direction is also useful. It is a way to send some external state, either a global variable or a shared mutable object.\n",
    "\n",
    "The first of the new methods is `send(value)`, which is similar to `next()`, but passes `value` into the generator to be used for the value of the `yield` expression. In fact `g.next()` and `g.send(None)` are equivalent.\n",
    "\n",
    "The second of the new methods is `throw(type, value=None, traceback=None)` which is equivalent to:\n",
    "\n",
    "```python\n",
    "raise type, value, traceback\n",
    "```\n",
    "\n",
    "at the point of the `yield` statement.\n",
    "\n",
    "<div class=\"alert alert-block alert-info\">\n",
    "Unlike raise (which immediately raises an exception from the current execution point), throw() first resumes the generator, and only then raises the exception.</div>"
   ]
  },
  {
   "cell_type": "markdown",
   "id": "2589f8b5-0d55-42c9-9115-a307889c985f",
   "metadata": {},
   "source": [
    "An exception can be intercepted by an `except` or `finally` clause, or otherwise it causes the execution of the generator function to be aborted and propagates in the caller.  \n",
    "\n",
    "<div class=\"alert alert-block alert-info\">\n",
    "Generator iterators also have a close() method, which can be used to force a generator that would otherwise be able to provide more values to finish immediately. It allows the generator __del__ method to destroy objects holding the state of generator.</div>"
   ]
  },
  {
   "cell_type": "code",
   "execution_count": 54,
   "id": "9f564824-7f4a-4886-b64a-806843097c87",
   "metadata": {},
   "outputs": [],
   "source": [
    "import itertools\n",
    "def g():\n",
    "    print('--start--')\n",
    "    for i in itertools.count():\n",
    "        print('--yielding %i--' % i)\n",
    "        try:\n",
    "            ans = yield i\n",
    "        except GeneratorExit:\n",
    "            print('--closing--')\n",
    "            raise\n",
    "        except Exception as e:\n",
    "            print('--yield raised %r--' % e)\n",
    "        else:\n",
    "            print('--yield returned %s--' % ans)"
   ]
  },
  {
   "cell_type": "code",
   "execution_count": 55,
   "id": "2f628ffa-1e2a-4f1c-9c99-7ac64eea8bfd",
   "metadata": {},
   "outputs": [
    {
     "name": "stdout",
     "output_type": "stream",
     "text": [
      "--start--\n",
      "--yielding 0--\n"
     ]
    },
    {
     "data": {
      "text/plain": [
       "0"
      ]
     },
     "execution_count": 55,
     "metadata": {},
     "output_type": "execute_result"
    }
   ],
   "source": [
    "it = g()\n",
    "next(it)"
   ]
  },
  {
   "cell_type": "code",
   "execution_count": 59,
   "id": "3076c6dd-9fbe-4a6c-98c6-2f218ec36ed4",
   "metadata": {},
   "outputs": [
    {
     "name": "stdout",
     "output_type": "stream",
     "text": [
      "--yield returned 11--\n",
      "--yielding 1--\n"
     ]
    },
    {
     "data": {
      "text/plain": [
       "1"
      ]
     },
     "execution_count": 59,
     "metadata": {},
     "output_type": "execute_result"
    }
   ],
   "source": [
    "it.send(11)"
   ]
  },
  {
   "cell_type": "code",
   "execution_count": 60,
   "id": "566f8be4-8ddf-4edf-8624-2e8a2fdd5432",
   "metadata": {},
   "outputs": [
    {
     "name": "stdout",
     "output_type": "stream",
     "text": [
      "--yield returned None--\n",
      "--yielding 2--\n"
     ]
    },
    {
     "data": {
      "text/plain": [
       "2"
      ]
     },
     "execution_count": 60,
     "metadata": {},
     "output_type": "execute_result"
    }
   ],
   "source": [
    "next(it)"
   ]
  },
  {
   "cell_type": "code",
   "execution_count": 61,
   "id": "b3bf2b31-9f8f-4919-a385-8354d8770703",
   "metadata": {},
   "outputs": [
    {
     "name": "stdout",
     "output_type": "stream",
     "text": [
      "--yield returned 22--\n",
      "--yielding 3--\n"
     ]
    },
    {
     "data": {
      "text/plain": [
       "3"
      ]
     },
     "execution_count": 61,
     "metadata": {},
     "output_type": "execute_result"
    }
   ],
   "source": [
    "it.send(22)"
   ]
  },
  {
   "cell_type": "code",
   "execution_count": 62,
   "id": "7ba8e979-5f4a-426c-a811-c98c53d810a1",
   "metadata": {},
   "outputs": [
    {
     "name": "stdout",
     "output_type": "stream",
     "text": [
      "--closing--\n"
     ]
    }
   ],
   "source": [
    "it.close()"
   ]
  },
  {
   "cell_type": "markdown",
   "id": "60f6c34b-b4e9-4d96-b4b8-fefae5681fca",
   "metadata": {},
   "source": []
  }
 ],
 "metadata": {
  "kernelspec": {
   "display_name": "Python 3 (ipykernel)",
   "language": "python",
   "name": "python3"
  },
  "language_info": {
   "codemirror_mode": {
    "name": "ipython",
    "version": 3
   },
   "file_extension": ".py",
   "mimetype": "text/x-python",
   "name": "python",
   "nbconvert_exporter": "python",
   "pygments_lexer": "ipython3",
   "version": "3.9.7"
  }
 },
 "nbformat": 4,
 "nbformat_minor": 5
}
